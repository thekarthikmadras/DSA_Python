{
 "cells": [
  {
   "cell_type": "markdown",
   "metadata": {},
   "source": [
    "<h1>Recursion</h1>"
   ]
  },
  {
   "cell_type": "markdown",
   "metadata": {},
   "source": [
    "<h2>Get a strong hold</h2>"
   ]
  },
  {
   "cell_type": "markdown",
   "metadata": {},
   "source": [
    "<h3>1. Recursive Implementation of atoi()</h3>\n",
    "<a href=\"https://leetcode.com/problems/string-to-integer-atoi/\">Problem Link</a>\n",
    "<p>Strip leading/trailing whitespace: The first step is to remove any leading or trailing whitespace using Python’s strip() method.<br>\n",
    "Process the sign: We then check if the string begins with a sign (+ or -) and store it.<br>\n",
    "Extract numeric part: We iterate through the string and append numeric characters until a non-numeric character is encountered.<br>\n",
    "Convert and clamp the integer: Convert the string into an integer and clamp it within the range of a 32-bit signed integer [-2^31, 2^31 - 1].<br><br>\n",
    "Time complexity: O(n)<br>\n",
    "Space Complexity: O(1)</p>"
   ]
  },
  {
   "cell_type": "code",
   "execution_count": 1,
   "metadata": {},
   "outputs": [],
   "source": [
    "class Solution:\n",
    "    def myAtoi(self, s: str) -> int:\n",
    "            # Step 1: Remove leading/trailing whitespaces  \n",
    "            return self.solve(s.strip()) \n",
    "\n",
    "    def solve(self, s, ans=''):\n",
    "        # Step 2.1: Handle sign and extract numeric part\n",
    "        if len(s) > 0 and len(ans) == 0 and s[0] in '+-':\n",
    "            ans += s[0]\n",
    "            return self.solve(s[1:], ans)  # Recursive call \n",
    "\n",
    "        # Step 2.2: Append digits to ans\n",
    "        elif len(s) > 0 and s[0] in '1234567890':\n",
    "            ans += s[0] \n",
    "            return self.solve(s[1:], ans)  # Recursive call \n",
    "\n",
    "        # Step 2.3: Handle non-numeric characters (Stopping Criteria)\n",
    "        else:\n",
    "            ans = 0 if ans in ['+', '-', ''] else ans  # Handle edge cases\n",
    "            ans = int(ans) \n",
    "            return max(min(ans, 2**31-1), -2**31) "
   ]
  },
  {
   "cell_type": "markdown",
   "metadata": {},
   "source": [
    "<h3>2. Pow(x, n)</h3>\n",
    "<a href=\"https://leetcode.com/problems/powx-n/description/\">Problem Link</a>\n",
    "<p>Base Case: If n = 0, return 1. <br><br>\n",
    "Recursive Case: <br>If n > 0:<br>\n",
    "Even n: x^n = (x^2)^(n/2)<br>\n",
    "Odd n: x^n = x . (x^2)^((n-1)/2)<br><br>\n",
    "If n < 0: compute 1/(x^n) by inverting the result.\n",
    "<br><br>\n",
    "Time complexity: O(log n)<br>\n",
    "Space Complexity: O(log n)</p>"
   ]
  },
  {
   "cell_type": "code",
   "execution_count": 2,
   "metadata": {},
   "outputs": [],
   "source": [
    "class Solution:\n",
    "    def myPow(self, x: float, n: int) -> float:\n",
    "\n",
    "        def function(base=x, exponent=abs(n)):\n",
    "            if exponent == 0:\n",
    "                return 1\n",
    "            elif exponent % 2 == 0:\n",
    "                return function(base * base, exponent // 2)\n",
    "            else:\n",
    "                return base * function(base * base, (exponent - 1) // 2)\n",
    "\n",
    "        f = function()\n",
    "        \n",
    "        return float(f) if n >= 0 else 1/f"
   ]
  },
  {
   "cell_type": "markdown",
   "metadata": {},
   "source": [
    "<h3>3. Count Good numbers</h3>\n",
    "<a href=\"https://leetcode.com/problems/count-good-numbers/solutions/3768373/python-recursion-beats-81-running-time-44ms/\">Problem Link</a>\n",
    "<p>Spilt numbers of odd indexes and even indexes in separate variables.\n",
    "Using binary exponentiation to calculate the 5**even_indexes and 4**odd_indexes\n",
    "Using Modulo at every multiplication to not let it overflow\n",
    "<br><br>\n",
    "Time complexity: O(log n)<br>\n",
    "Space Complexity: O(log n)</p>"
   ]
  },
  {
   "cell_type": "code",
   "execution_count": 3,
   "metadata": {},
   "outputs": [],
   "source": [
    "class Solution:\n",
    "    def countGoodNumbers(self, n: int) -> int:\n",
    "        mod = 1000000007\n",
    "        odd = n//2\n",
    "        even = n//2 + n%2\n",
    "        return (self.binaryExp(5, even)%mod *self.binaryExp(4, odd)%mod)%mod\n",
    "    \n",
    "    def binaryExp(self, x, n):\n",
    "        mod = 1000000007\n",
    "        if n==0:\n",
    "            return 1\n",
    "        if n < 0:\n",
    "            return 1/self.binaryExp(x, -n)\n",
    "        \n",
    "        if n%2==0:\n",
    "            return self.binaryExp((x*x)%mod, n//2)\n",
    "        else:\n",
    "            return x * self.binaryExp((x*x)%mod, (n-1)//2)"
   ]
  },
  {
   "cell_type": "markdown",
   "metadata": {},
   "source": [
    "<h3>4. Sort a stack using recursion</h3>\n",
    "<a href=\"https://www.geeksforgeeks.org/problems/sort-a-stack/1?utm_source=youtube&utm_medium=collab_striver_ytdescription&utm_campaign=sort-a-stack\">Problem Link</a>\n",
    "<p>Recursive Base Case: Stops when the stack is empty (len(s) == 0).\n",
    "Recursive Decomposition: Pops the top element, recursively sorts the rest, and then inserts the popped element back in sorted order.\n",
    "Element Insertion: Moves larger elements from s to temp, inserts the current element, then restores temp to s.\n",
    "<br><br>\n",
    "Time complexity: O(n^2)<br>\n",
    "Space Complexity: O(n)</p>"
   ]
  },
  {
   "cell_type": "code",
   "execution_count": 4,
   "metadata": {},
   "outputs": [],
   "source": [
    "def Sorted(self, s):\n",
    "    # Code here\n",
    "    def helper(s, temp):\n",
    "        if len(s) == 0:\n",
    "            return\n",
    "    \n",
    "        char = s.pop()\n",
    "        helper(s,temp)\n",
    "        \n",
    "        while s and s[-1] > char:\n",
    "            temp.append(s.pop())\n",
    "    \n",
    "        s.append(char)\n",
    "    \n",
    "        while temp:\n",
    "            s.append(temp.pop())\n",
    "    \n",
    "\n",
    "    temp = []\n",
    "    helper(s, temp)"
   ]
  },
  {
   "cell_type": "markdown",
   "metadata": {},
   "source": [
    "<h3>5. Reverse a stack using recursion</h3>\n",
    "<a href=\"https://www.geeksforgeeks.org/problems/reverse-a-stack/1?utm_source=youtube&utm_medium=collab_striver_ytdescription&utm_campaign=reverse-a-stack\">Problem Link</a>\n",
    "<p>The code reverses a list St in place using two pointers (i and j), swapping elements from the ends inward until they meet.\n",
    "<br><br>\n",
    "Time complexity: O(n)<br>\n",
    "Space Complexity: O(1)</p>"
   ]
  },
  {
   "cell_type": "code",
   "execution_count": 5,
   "metadata": {},
   "outputs": [],
   "source": [
    "class Solution:\n",
    "    def reverse(self,St): \n",
    "        #code here\n",
    "        i,j=0,len(St)-1\n",
    "        while i<j:\n",
    "            St[i],St[j]=St[j],St[i]\n",
    "            i+=1\n",
    "            j-=1\n"
   ]
  },
  {
   "cell_type": "markdown",
   "metadata": {},
   "source": [
    "<h2>Subsequences pattern</h2>"
   ]
  },
  {
   "cell_type": "markdown",
   "metadata": {},
   "source": [
    "<h3>1. Generate all binary strings</h3>\n",
    "<a href=\"https://www.geeksforgeeks.org/generate-binary-strings-without-consecutive-1s/?utm_source=youtube&utm_medium=collab_striver_ytdescription&utm_campaign=generate-binary-strings-without-consecutive-1s\">Problem Link</a>\n",
    "<p>This program generates all binary strings of length K without consecutive 1s using recursion. It builds strings by:\n",
    "\n",
    "Starting with either 0 or 1.\n",
    "Adding:\n",
    "0 if the previous character is 1.\n",
    "Both 0 and 1 if the previous character is 0.\n",
    "Printing the string once it reaches length K.\n",
    "<br><br>\n",
    "Time complexity: O(K)<br>\n",
    "Space Complexity: O(K)</p>"
   ]
  },
  {
   "cell_type": "code",
   "execution_count": 6,
   "metadata": {},
   "outputs": [
    {
     "name": "stdout",
     "output_type": "stream",
     "text": [
      "000 001 010 100 101 "
     ]
    }
   ],
   "source": [
    "# Python3 program to Generate all binary string \n",
    "# without consecutive 1's of size K\n",
    "\n",
    "# A utility function generate all string without\n",
    "# consecutive 1'sof size K\n",
    "def generateAllStringsUtil(K, str, n):\n",
    "    \n",
    "    # print binary string without consecutive 1's\n",
    "    if (n == K):\n",
    "        \n",
    "        # terminate binary string\n",
    "        print(*str[:n], sep = \"\", end = \" \")\n",
    "        return\n",
    "    \n",
    "    # if previous character is '1' then we put\n",
    "    # only 0 at end of string\n",
    "    # example str = \"01\" then new string be \"000\"\n",
    "    if (str[n-1] == '1'):\n",
    "        str[n] = '0'\n",
    "        generateAllStringsUtil (K, str, n + 1)\n",
    "        \n",
    "    # if previous character is '0' than we put\n",
    "    # both '1' and '0' at end of string\n",
    "    # example str = \"00\" then new string \"001\" and \"000\"\n",
    "    if (str[n-1] == '0'):\n",
    "        str[n] = '0'\n",
    "        generateAllStringsUtil(K, str, n + 1)\n",
    "        str[n] = '1'\n",
    "        generateAllStringsUtil(K, str, n + 1) \n",
    "        \n",
    "# function generate all binary string without\n",
    "# consecutive 1's\n",
    "def generateAllStrings(K):\n",
    "    \n",
    "    # Base case\n",
    "    if (K <= 0):\n",
    "        return\n",
    "    \n",
    "    # One by one stores every \n",
    "    # binary string of length K\n",
    "    str = [0] * K\n",
    "    \n",
    "    # Generate all Binary string starts with '0'\n",
    "    str[0] = '0'\n",
    "    generateAllStringsUtil (K, str, 1) \n",
    "    \n",
    "    # Generate all Binary string starts with '1'\n",
    "    str[0] = '1'\n",
    "    generateAllStringsUtil (K, str, 1)\n",
    "\n",
    "# Driver code\n",
    "K = 3\n",
    "generateAllStrings (K)"
   ]
  },
  {
   "cell_type": "markdown",
   "metadata": {},
   "source": [
    "<h3>2. Generate Paranthesis</h3>\n",
    "<a href=\"https://leetcode.com/problems/generate-parentheses/description/\">Problem Link</a>\n",
    "<p>Base Case:\n",
    "When left == 0 and right == 0, the string is valid and added to the result.\n",
    "\n",
    "Recursive Steps:\n",
    "Add a ( if left > 0.\n",
    "Add a ) if right > 0 and left < right (to maintain validity).\n",
    "<br><br>\n",
    "\n",
    "Time complexity: O(4^n/n^(1/2))<br>\n",
    "Space Complexity: O(4^n/n^(1/2))</p>"
   ]
  },
  {
   "cell_type": "code",
   "execution_count": 7,
   "metadata": {},
   "outputs": [],
   "source": [
    "class Solution:\n",
    "    def generateParenthesis(self, n: int):\n",
    "        \n",
    "        def helper(ans, s, left, right):\n",
    "            if left==0 and right==0:\n",
    "                ans.append(s)\n",
    "                \n",
    "            if left>0:\n",
    "                helper(ans, s+'(', left-1, right)\n",
    "                \n",
    "            if right>0 and left<right:\n",
    "                helper(ans, s+')', left, right-1)\n",
    "        \n",
    "        ans = []\n",
    "        helper(ans, '', n, n)\n",
    "        \n",
    "        return ans"
   ]
  },
  {
   "cell_type": "markdown",
   "metadata": {},
   "source": [
    "<h3>3. Subsets/Print all subsequences/Power Set</h3>\n",
    "<a href=\"https://leetcode.com/problems/subsets/solutions/5172497/beginner-friendly-recursion-easiest-pythonic-approach/\">Problem Link</a>\n",
    "<p>This code generates all subsets of a list nums using recursion.\n",
    "\n",
    "subset: Holds the current subset being built.\n",
    "subsets: Stores all subsets.\n",
    "\n",
    "Recursive Function rec(arr, i, subset, subsets):\n",
    "Base Case: When i == len(arr), append a copy of subset to subsets.\n",
    "Recursive Cases:\n",
    "Include arr[i]: Add it to subset and recurse.\n",
    "Exclude arr[i]: Recurse without adding it.\n",
    "<br><br>\n",
    "\n",
    "Time complexity: O(2^n)<br>\n",
    "Space Complexity: O(n.2^n)</p>"
   ]
  },
  {
   "cell_type": "code",
   "execution_count": 8,
   "metadata": {},
   "outputs": [],
   "source": [
    "class Solution:\n",
    "    def subsets(self, nums):\n",
    "        subset=[]\n",
    "        subsets=[]\n",
    "        def rec(arr, i, subset, subsets):\n",
    "            if i == len(arr):\n",
    "                subsets.append(subset[:])  # Append a copy of subset using slicing\n",
    "                \n",
    "             \n",
    "            else:\n",
    "                rec(arr, i + 1, subset + [arr[i]], subsets)  # Create a new subset with appended element\n",
    "                rec(arr, i + 1, subset, subsets)  # Recursively explore without modification\n",
    "\n",
    "        rec(nums,0,subset,subsets)\n",
    "        return subsets\n",
    "       \n",
    "         # Return the sublists after recursion completes\n",
    "    "
   ]
  },
  {
   "cell_type": "markdown",
   "metadata": {},
   "source": [
    "<h3>4. Better string</h3>\n",
    "<a href=\"https://www.geeksforgeeks.org/problems/better-string/1?utm_source=youtube&utm_medium=collab_striver_ytdescription&utm_campaign=better-string\">Problem Link</a>\n",
    "<p> \n",
    "count_dist(s):\n",
    "\n",
    "Uses dynamic programming (dp) to compute the number of distinct subsequences of s.\n",
    "Avoids double-counting subsequences by using a dictionary last_occurence to track the last index of each character.\n",
    "\n",
    "betterString(str1, str2):\n",
    "\n",
    "Compares the number of distinct subsequences of str1 and str2 using count_dist.\n",
    "Returns the string with the higher count.\n",
    "<br><br>\n",
    "\n",
    "Time complexity: O(m+n)<br>\n",
    "Space Complexity: O(max(m,n))</p>"
   ]
  },
  {
   "cell_type": "code",
   "execution_count": 9,
   "metadata": {},
   "outputs": [],
   "source": [
    "class Solution:\n",
    "    def count_dist(self,s):\n",
    "        dp=[0]*(len(s)+1)\n",
    "        dp[0]=1\n",
    "        last_occurence={}\n",
    "        for i in range(1,len(s)+1):\n",
    "            dp[i]=2*dp[i-1]\n",
    "            if s[i-1] in last_occurence:\n",
    "                dp[i]-=dp[last_occurence[s[i-1]]-1]\n",
    "            \n",
    "            last_occurence[s[i-1]]=i\n",
    "        return dp[len(s)]\n",
    "        \n",
    "                \n",
    "\n",
    "\n",
    "    def betterString(self, str1, str2):\n",
    "        if self.count_dist(str1)>=self.count_dist(str2):\n",
    "            return str1\n",
    "        else:\n",
    "            return str2"
   ]
  },
  {
   "cell_type": "markdown",
   "metadata": {},
   "source": [
    "<h3>5. Perfect sum/Count all subsequences with sum K</h3>\n",
    "<a href=\"https://www.geeksforgeeks.org/problems/perfect-sum-problem5633/1?utm_source=youtube&utm_medium=collab_striver_ytdescription&utm_campaign=perfect-sum-problem\">Problem Link</a>\n",
    "<p> Using DP\n",
    "<br><br>\n",
    "The code calculates the number of subsets in an array arr of size n that sum up to a given value sum, using dynamic programming (DP) with memoization.\n",
    "\n",
    "DP Table: dp[i][sum] stores the result for the subproblem of finding subsets using the first i elements to achieve the sum sum. Initially, it's filled with -1.<br>\n",
    "\n",
    "Recursive Function solve:\n",
    "Base Case: If all elements are processed (i >= n), return 1 if sum == 0, else 0.\n",
    "Memoization: If dp[i][sum] is precomputed, return it.\n",
    "Recursive Calls:\n",
    "Include the current element: If sum - arr[i] >= 0, recursively calculate for sum - arr[i].\n",
    "Exclude the current element: Calculate for the same sum without including the element.\n",
    "Store the result (include + exclude) % mod in dp[i][sum].\n",
    "\n",
    "Final Call: Starts with the entire array and target \n",
    "Time complexity: O(n x sum)<br>\n",
    "Space Complexity: O(n x sum)</p>"
   ]
  },
  {
   "cell_type": "code",
   "execution_count": 10,
   "metadata": {},
   "outputs": [],
   "source": [
    "class Solution:\n",
    "    def perfectSum(self, arr, n, sum):\n",
    "        dp = [[-1] * (sum + 1) for _ in range(n + 1)]  \n",
    "        mod = int(1e9+7)\n",
    "        def solve(arr,i,n,sum):\n",
    "            if i>=n:\n",
    "                return sum==0\n",
    "            if dp[i][sum]!=-1:\n",
    "                return dp[i][sum]\n",
    "            a=0\n",
    "            if sum-arr[i]>=0:\n",
    "                a = solve(arr,i+1,n,sum-arr[i])%mod\n",
    "            b = solve(arr,i+1,n,sum)%mod\n",
    "            dp[i][sum]=(a+b)%mod\n",
    "            return dp[i][sum]\n",
    "        return solve(arr,0,n,sum)"
   ]
  },
  {
   "cell_type": "markdown",
   "metadata": {},
   "source": [
    "<h3>6. Check if there exists a subsequence with sum K</h3>\n",
    "<a href=\"https://www.naukri.com/code360/problems/subset-sum_630213?utm_source=striver&utm_medium=website&utm_campaign=a_zcoursetuf&leftPanelTabValue=PROBLEM\">Problem Link</a>\n",
    "<p> \n",
    "Logic:\n",
    "\n",
    "solve explores all subsets recursively:\n",
    "Includes or excludes the first element of a.\n",
    "If the sum equals k, it sets flag = True.\n",
    "Base case: stop when the list is empty or the sum reaches/exceeds k.\n",
    "<br><br>\n",
    "Time complexity: O(2^n)<br>\n",
    "Space Complexity: O(n^2)</p>"
   ]
  },
  {
   "cell_type": "code",
   "execution_count": 11,
   "metadata": {},
   "outputs": [],
   "source": [
    "def isSubsetPresent(n, k, a):\n",
    "\n",
    "    flag = False\n",
    "    def solve(a,k,summ):    \n",
    "        nonlocal flag            \n",
    "        if summ >= k or a == []:\n",
    "            if summ == k  :                \n",
    "                flag = True\n",
    "            return            \n",
    "        if not flag:\n",
    "            solve(a[1:],k,summ+a[0])\n",
    "            solve(a[1:],k,summ)\n",
    "    solve(a,k,0)\n",
    "    return flag\n",
    "\n",
    "\n"
   ]
  }
 ],
 "metadata": {
  "kernelspec": {
   "display_name": "Python 3",
   "language": "python",
   "name": "python3"
  },
  "language_info": {
   "codemirror_mode": {
    "name": "ipython",
    "version": 3
   },
   "file_extension": ".py",
   "mimetype": "text/x-python",
   "name": "python",
   "nbconvert_exporter": "python",
   "pygments_lexer": "ipython3",
   "version": "3.12.4"
  }
 },
 "nbformat": 4,
 "nbformat_minor": 2
}
