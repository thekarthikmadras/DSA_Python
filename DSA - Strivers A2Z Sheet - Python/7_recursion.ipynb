{
 "cells": [
  {
   "cell_type": "markdown",
   "metadata": {},
   "source": [
    "<h1>Recursion</h1>"
   ]
  },
  {
   "cell_type": "markdown",
   "metadata": {},
   "source": [
    "<h2>Get a strong hold</h2>"
   ]
  },
  {
   "cell_type": "markdown",
   "metadata": {},
   "source": [
    "<h3>1. Recursive Implementation of atoi()</h3>\n",
    "<a href=\"https://leetcode.com/problems/string-to-integer-atoi/\">Problem Link</a>\n",
    "<p>Strip leading/trailing whitespace: The first step is to remove any leading or trailing whitespace using Python’s strip() method.<br>\n",
    "Process the sign: We then check if the string begins with a sign (+ or -) and store it.<br>\n",
    "Extract numeric part: We iterate through the string and append numeric characters until a non-numeric character is encountered.<br>\n",
    "Convert and clamp the integer: Convert the string into an integer and clamp it within the range of a 32-bit signed integer [-2^31, 2^31 - 1].<br><br>\n",
    "Time complexity: O(n)<br>\n",
    "Space Complexity: O(1)</p>"
   ]
  },
  {
   "cell_type": "code",
   "execution_count": 1,
   "metadata": {},
   "outputs": [],
   "source": [
    "class Solution:\n",
    "    def myAtoi(self, s: str) -> int:\n",
    "            # Step 1: Remove leading/trailing whitespaces  \n",
    "            return self.solve(s.strip()) \n",
    "\n",
    "    def solve(self, s, ans=''):\n",
    "        # Step 2.1: Handle sign and extract numeric part\n",
    "        if len(s) > 0 and len(ans) == 0 and s[0] in '+-':\n",
    "            ans += s[0]\n",
    "            return self.solve(s[1:], ans)  # Recursive call \n",
    "\n",
    "        # Step 2.2: Append digits to ans\n",
    "        elif len(s) > 0 and s[0] in '1234567890':\n",
    "            ans += s[0] \n",
    "            return self.solve(s[1:], ans)  # Recursive call \n",
    "\n",
    "        # Step 2.3: Handle non-numeric characters (Stopping Criteria)\n",
    "        else:\n",
    "            ans = 0 if ans in ['+', '-', ''] else ans  # Handle edge cases\n",
    "            ans = int(ans) \n",
    "            return max(min(ans, 2**31-1), -2**31) "
   ]
  },
  {
   "cell_type": "markdown",
   "metadata": {},
   "source": [
    "<h3>2. Pow(x, n)</h3>\n",
    "<a href=\"https://leetcode.com/problems/powx-n/description/\">Problem Link</a>\n",
    "<p>Base Case: If n = 0, return 1. <br><br>\n",
    "Recursive Case: <br>If n > 0:<br>\n",
    "Even n: x^n = (x^2)^(n/2)<br>\n",
    "Odd n: x^n = x . (x^2)^((n-1)/2)<br><br>\n",
    "If n < 0: compute 1/(x^n) by inverting the result.\n",
    "<br><br>\n",
    "Time complexity: O(log n)<br>\n",
    "Space Complexity: O(log n)</p>"
   ]
  },
  {
   "cell_type": "code",
   "execution_count": 2,
   "metadata": {},
   "outputs": [],
   "source": [
    "class Solution:\n",
    "    def myPow(self, x: float, n: int) -> float:\n",
    "\n",
    "        def function(base=x, exponent=abs(n)):\n",
    "            if exponent == 0:\n",
    "                return 1\n",
    "            elif exponent % 2 == 0:\n",
    "                return function(base * base, exponent // 2)\n",
    "            else:\n",
    "                return base * function(base * base, (exponent - 1) // 2)\n",
    "\n",
    "        f = function()\n",
    "        \n",
    "        return float(f) if n >= 0 else 1/f"
   ]
  },
  {
   "cell_type": "markdown",
   "metadata": {},
   "source": [
    "<h3>3. Count Good numbers</h3>\n",
    "<a href=\"https://leetcode.com/problems/count-good-numbers/solutions/3768373/python-recursion-beats-81-running-time-44ms/\">Problem Link</a>\n",
    "<p>Spilt numbers of odd indexes and even indexes in separate variables.\n",
    "Using binary exponentiation to calculate the 5**even_indexes and 4**odd_indexes\n",
    "Using Modulo at every multiplication to not let it overflow\n",
    "<br><br>\n",
    "Time complexity: O(log n)<br>\n",
    "Space Complexity: O(log n)</p>"
   ]
  },
  {
   "cell_type": "code",
   "execution_count": 3,
   "metadata": {},
   "outputs": [],
   "source": [
    "class Solution:\n",
    "    def countGoodNumbers(self, n: int) -> int:\n",
    "        mod = 1000000007\n",
    "        odd = n//2\n",
    "        even = n//2 + n%2\n",
    "        return (self.binaryExp(5, even)%mod *self.binaryExp(4, odd)%mod)%mod\n",
    "    \n",
    "    def binaryExp(self, x, n):\n",
    "        mod = 1000000007\n",
    "        if n==0:\n",
    "            return 1\n",
    "        if n < 0:\n",
    "            return 1/self.binaryExp(x, -n)\n",
    "        \n",
    "        if n%2==0:\n",
    "            return self.binaryExp((x*x)%mod, n//2)\n",
    "        else:\n",
    "            return x * self.binaryExp((x*x)%mod, (n-1)//2)"
   ]
  },
  {
   "cell_type": "markdown",
   "metadata": {},
   "source": [
    "<h3>4. Sort a stack using recursion</h3>\n",
    "<a href=\"https://www.geeksforgeeks.org/problems/sort-a-stack/1?utm_source=youtube&utm_medium=collab_striver_ytdescription&utm_campaign=sort-a-stack\">Problem Link</a>\n",
    "<p>Recursive Base Case: Stops when the stack is empty (len(s) == 0).\n",
    "Recursive Decomposition: Pops the top element, recursively sorts the rest, and then inserts the popped element back in sorted order.\n",
    "Element Insertion: Moves larger elements from s to temp, inserts the current element, then restores temp to s.\n",
    "<br><br>\n",
    "Time complexity: O(n^2)<br>\n",
    "Space Complexity: O(n)</p>"
   ]
  },
  {
   "cell_type": "code",
   "execution_count": 4,
   "metadata": {},
   "outputs": [],
   "source": [
    "def Sorted(self, s):\n",
    "    # Code here\n",
    "    def helper(s, temp):\n",
    "        if len(s) == 0:\n",
    "            return\n",
    "    \n",
    "        char = s.pop()\n",
    "        helper(s,temp)\n",
    "        \n",
    "        while s and s[-1] > char:\n",
    "            temp.append(s.pop())\n",
    "    \n",
    "        s.append(char)\n",
    "    \n",
    "        while temp:\n",
    "            s.append(temp.pop())\n",
    "    \n",
    "\n",
    "    temp = []\n",
    "    helper(s, temp)"
   ]
  },
  {
   "cell_type": "markdown",
   "metadata": {},
   "source": [
    "<h3>5. Reverse a stack using recursion</h3>\n",
    "<a href=\"https://www.geeksforgeeks.org/problems/reverse-a-stack/1?utm_source=youtube&utm_medium=collab_striver_ytdescription&utm_campaign=reverse-a-stack\">Problem Link</a>\n",
    "<p>The code reverses a list St in place using two pointers (i and j), swapping elements from the ends inward until they meet.\n",
    "<br><br>\n",
    "Time complexity: O(n)<br>\n",
    "Space Complexity: O(1)</p>"
   ]
  },
  {
   "cell_type": "code",
   "execution_count": 5,
   "metadata": {},
   "outputs": [],
   "source": [
    "class Solution:\n",
    "    def reverse(self,St): \n",
    "        #code here\n",
    "        i,j=0,len(St)-1\n",
    "        while i<j:\n",
    "            St[i],St[j]=St[j],St[i]\n",
    "            i+=1\n",
    "            j-=1\n"
   ]
  }
 ],
 "metadata": {
  "kernelspec": {
   "display_name": "Python 3",
   "language": "python",
   "name": "python3"
  },
  "language_info": {
   "codemirror_mode": {
    "name": "ipython",
    "version": 3
   },
   "file_extension": ".py",
   "mimetype": "text/x-python",
   "name": "python",
   "nbconvert_exporter": "python",
   "pygments_lexer": "ipython3",
   "version": "3.12.4"
  }
 },
 "nbformat": 4,
 "nbformat_minor": 2
}
