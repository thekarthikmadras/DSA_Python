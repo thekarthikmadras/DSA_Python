{
 "cells": [
  {
   "cell_type": "markdown",
   "metadata": {},
   "source": [
    "<h1>Dynamic Programming<h1>"
   ]
  },
  {
   "cell_type": "markdown",
   "metadata": {},
   "source": [
    "<h2>Introduction to DP</h2>"
   ]
  },
  {
   "cell_type": "markdown",
   "metadata": {},
   "source": [
    "<h3>1. Introduction to DP</h3>\n",
    "<a href=\"https://www.geeksforgeeks.org/problems/introduction-to-dp/1?utm_source=youtube&utm_medium=collab_striver_ytdescription&utm_campaign=introduction-to-dp\">Problem Link</a>\n",
    "<p> \n",
    "Top-Down (Memoization):\n",
    "Uses recursion with memoization to avoid recalculating previously computed Fibonacci numbers.\n",
    "The base cases are when n=0 or n=1.\n",
    "For each number n, the result is stored in a dictionary self.memo to be reused.\n",
    "\n",
    "Bottom-Up (Tabulation):\n",
    "Starts from the base cases (dp[0]=0, dp[1]=1) and builds up the solution iteratively.\n",
    "Uses a list dp to store intermediate Fibonacci numbers up to n.\n",
    "<br><br>\n",
    "Time complexity: O(n)<br>\n",
    "Space Complexity: O(n)</p>"
   ]
  },
  {
   "cell_type": "code",
   "execution_count": 1,
   "metadata": {},
   "outputs": [],
   "source": [
    "class Solution:\n",
    "    def __init__(self):\n",
    "        self.mod = 10**9 + 7\n",
    "        self.memo = {}\n",
    "    \n",
    "    def topDown(self, n):\n",
    "        # Top-Down Approach (Memoization)\n",
    "        if n <= 1:\n",
    "            return n\n",
    "        if n not in self.memo:\n",
    "            self.memo[n] = (self.topDown(n - 1) + self.topDown(n - 2)) % self.mod\n",
    "        return self.memo[n]\n",
    "\n",
    "    def bottomUp(self, n):\n",
    "        # Bottom-Up Approach (Tabulation)\n",
    "        if n == 0:\n",
    "            return 0\n",
    "        if n == 1:\n",
    "            return 1\n",
    "        \n",
    "        dp = [0] * (n + 1)\n",
    "        dp[0], dp[1] = 0, 1\n",
    "        \n",
    "        for i in range(2, n + 1):\n",
    "            dp[i] = (dp[i - 1] + dp[i - 2]) % self.mod\n",
    "        \n",
    "        return dp[n]\n"
   ]
  },
  {
   "cell_type": "markdown",
   "metadata": {},
   "source": [
    "<h2>1D DP</h2>"
   ]
  },
  {
   "cell_type": "markdown",
   "metadata": {},
   "source": [
    "<h3>1. Climbing stars</h3>\n",
    "<a href=\"https://leetcode.com/problems/climbing-stairs/description/\">Problem Link</a>\n",
    "<p> \n",
    "Base Cases:\n",
    "first: Number of ways to climb 1 step.\n",
    "second: Number of ways to climb 2 steps.\n",
    "Iteration:\n",
    "For each step i, calculate the number of ways using the relation current=first+second.\n",
    "Update first and second for the next iteration.\n",
    "Final Result:\n",
    "When the loop ends, second contains the number of ways to climb n steps.\n",
    "<br><br>\n",
    "Time complexity: O(n)<br>\n",
    "Space Complexity: O(1)</p>"
   ]
  },
  {
   "cell_type": "code",
   "execution_count": 2,
   "metadata": {},
   "outputs": [],
   "source": [
    "class Solution:\n",
    "    def climbStairs(self, n: int) -> int:\n",
    "        if n == 1:\n",
    "            return 1\n",
    "        \n",
    "        # Initialize variables for the base cases\n",
    "        first = 1  # ways to climb 1 step\n",
    "        second = 2  # ways to climb 2 steps\n",
    "        \n",
    "        # Iterate from the 3rd step to the nth step\n",
    "        for i in range(3, n + 1):\n",
    "            # Calculate the number of ways to reach the current step\n",
    "            current = first + second\n",
    "            # Update for the next iteration\n",
    "            first, second = second, current\n",
    "        \n",
    "        # Return the result for the nth step\n",
    "        return second\n"
   ]
  },
  {
   "cell_type": "markdown",
   "metadata": {},
   "source": [
    "<h3>2. Frog Jump(DP-3)</h3>\n",
    "<a href=\"https://www.geeksforgeeks.org/problems/geek-jump/1?utm_source=youtube&utm_medium=collab_striver_ytdescription&utm_campaign=geek-jump\">Problem Link</a>\n",
    "<p> \n",
    "State Definition:\n",
    "Let dp[i] represent the minimum energy required to reach the i-th stair.\n",
    "\n",
    "Base Cases:\n",
    "dp[0]=0: No energy is required to be on the 0th stair.\n",
    "\n",
    "Recurrence Relation:\n",
    "To reach the i-th stair:\n",
    "You can jump from i−1 with energy ∣height[i]−height[i−1]∣.\n",
    "You can jump from i−2 with energy ∣height[i]−height[i−2]∣ (if i≥2).\n",
    "Hence,\n",
    "dp[i]=min(dp[i−1]+∣height[i]−height[i−1]∣,dp[i−2]+∣height[i]−height[i−2]∣)\n",
    "\n",
    "Optimization:\n",
    "Instead of using an array for dp, we can use two variables to track the last two states, reducing space complexity to O(1).\n",
    "<br><br>\n",
    "Time complexity: O(n)<br>\n",
    "Space Complexity: O(1)</p>"
   ]
  },
  {
   "cell_type": "code",
   "execution_count": 3,
   "metadata": {},
   "outputs": [],
   "source": [
    "class Solution:\n",
    "    def minimumEnergy(self, height, n):\n",
    "        # Base case\n",
    "        if n == 1:\n",
    "            return 0\n",
    "        \n",
    "        # Initialize variables for previous two states\n",
    "        prev2 = 0  # dp[0]\n",
    "        prev1 = abs(height[1] - height[0])  # dp[1]\n",
    "        \n",
    "        # Iterate through stairs\n",
    "        for i in range(2, n):\n",
    "            # Calculate the current energy cost\n",
    "            curr = min(prev1 + abs(height[i] - height[i-1]),\n",
    "                       prev2 + abs(height[i] - height[i-2]))\n",
    "            # Update the previous states\n",
    "            prev2, prev1 = prev1, curr\n",
    "        \n",
    "        # The last state contains the result\n",
    "        return prev1\n"
   ]
  },
  {
   "cell_type": "markdown",
   "metadata": {},
   "source": [
    "<h3>3. Frog Jump with k distances(DP-4)</h3>\n",
    "<a href=\"https://www.geeksforgeeks.org/problems/minimal-cost/1?utm_source=youtube&utm_medium=collab_striver_ytdescription&utm_campaign=minimal-cost\">Problem Link</a>\n",
    "<p> \n",
    "Initialization:\n",
    "dp[i]: Minimum cost to reach index i from index 0.\n",
    "Start with dp[0] = 0, as the cost to reach the first element is 0.\n",
    "\n",
    "Dynamic Programming Transition:\n",
    "\n",
    "For each index r (1 to ln-1):\n",
    "Consider all previous indices l within the range r-k to r-1 (ensuring l >= 0).\n",
    "Update dp[r] as the minimum cost to reach r via any valid l:\n",
    "dp[r]=min(dp[r],dp[l]+∣arr[r]−arr[l]∣).\n",
    "\n",
    "Result:\n",
    "After filling the dp array, the last element dp[ln-1] contains the minimum cost to reach the last index.\n",
    "<br><br>\n",
    "Time complexity: O(n . k)<br>\n",
    "Space Complexity: O(n)</p>"
   ]
  },
  {
   "cell_type": "code",
   "execution_count": 4,
   "metadata": {},
   "outputs": [],
   "source": [
    "class Solution:\n",
    "    def minimizeCost(self, k, arr):\n",
    "        # code here\n",
    "        ln = len(arr)\n",
    "        dp = [float(\"INF\")]*(ln)\n",
    "        dp[0] = 0\n",
    "        for r in range(1, ln):\n",
    "            for l in range(max(0,r-k), r):\n",
    "                dp[r] = min(dp[r], dp[l] + abs(arr[r]-arr[l]))\n",
    "        #print(dp)\n",
    "        return dp[ln-1]\n"
   ]
  },
  {
   "cell_type": "markdown",
   "metadata": {},
   "source": [
    "<h3>4. Maximum sum of non-adjacent elements (DP 5)</h3>\n",
    "<a href=\"https://leetcode.com/problems/house-robber/description/\">Problem Link</a>\n",
    "<p> \n",
    "Let:\n",
    "dp[i] represent the maximum money that can be robbed up to the i-th house.\n",
    "Transition Relation:\n",
    "For each house i, we have two choices:\n",
    "\n",
    "Skip house i: The maximum money remains the same as dp[i-1].\n",
    "Rob house i: The maximum money is dp[i-2] + nums[i] (since the previous house is skipped).\n",
    "Thus, the recurrence relation is:\n",
    "dp[i]=max(dp[i−1],dp[i−2]+nums[i])\n",
    "Base Cases:\n",
    "If there is only one house, rob it: \n",
    "dp[0]=nums[0].\n",
    "If there are two houses, rob the one with more money: \n",
    "dp[1]=max(nums[0],nums[1]).\n",
    "<br><br>\n",
    "Time complexity: O(n)<br>\n",
    "Space Complexity: O(1)</p>"
   ]
  },
  {
   "cell_type": "code",
   "execution_count": 5,
   "metadata": {},
   "outputs": [],
   "source": [
    "from typing import List\n",
    "\n",
    "class Solution:\n",
    "    def rob(self, nums: List[int]) -> int:\n",
    "        if not nums:\n",
    "            return 0\n",
    "        \n",
    "        # Handle base cases\n",
    "        n = len(nums)\n",
    "        if n == 1:\n",
    "            return nums[0]\n",
    "        if n == 2:\n",
    "            return max(nums[0], nums[1])\n",
    "        \n",
    "        # Variables to store the last two states\n",
    "        prev2 = nums[0]\n",
    "        prev1 = max(nums[0], nums[1])\n",
    "        \n",
    "        # Iterate through the houses\n",
    "        for i in range(2, n):\n",
    "            curr = max(prev1, prev2 + nums[i])\n",
    "            prev2 = prev1\n",
    "            prev1 = curr\n",
    "        \n",
    "        return prev1\n"
   ]
  },
  {
   "cell_type": "markdown",
   "metadata": {},
   "source": [
    "<h3>5. </h3>\n",
    "<a href=\"https://leetcode.com/problems/house-robber-ii/\">Problem Link</a>\n",
    "<p> \n",
    "Base Cases:\n",
    "If there's only one house, return its value: nums[0].\n",
    "If there are two houses, return the maximum of the two: max(nums[0], nums[1]).\n",
    "\n",
    "Helper Function (robLinear): This function solves the simple linear version of the house robber problem (excluding the circular constraint).\n",
    "\n",
    "Solve Two Cases:\n",
    "Case 1: Rob houses from nums[0] to nums[n-2].\n",
    "Case 2: Rob houses from nums[1] to nums[n-1].\n",
    "\n",
    "Return the maximum of the two cases.\n",
    "<br><br>\n",
    "Time complexity: O(n)<br>\n",
    "Space Complexity: O(1)</p>"
   ]
  },
  {
   "cell_type": "code",
   "execution_count": 6,
   "metadata": {},
   "outputs": [],
   "source": [
    "from typing import List\n",
    "\n",
    "class Solution:\n",
    "    def rob(self, nums: List[int]) -> int:\n",
    "        def robLinear(houses: List[int]) -> int:\n",
    "            n = len(houses)\n",
    "            if n == 0:\n",
    "                return 0\n",
    "            if n == 1:\n",
    "                return houses[0]\n",
    "            \n",
    "            prev2, prev1 = 0, houses[0]\n",
    "            for i in range(1, n):\n",
    "                curr = max(prev1, prev2 + houses[i])\n",
    "                prev2 = prev1\n",
    "                prev1 = curr\n",
    "            \n",
    "            return prev1\n",
    "        \n",
    "        n = len(nums)\n",
    "        if n == 1:\n",
    "            return nums[0]\n",
    "        \n",
    "        # Two cases: exclude first house or exclude last house\n",
    "        return max(robLinear(nums[:-1]), robLinear(nums[1:]))\n"
   ]
  }
 ],
 "metadata": {
  "kernelspec": {
   "display_name": "Python 3",
   "language": "python",
   "name": "python3"
  },
  "language_info": {
   "codemirror_mode": {
    "name": "ipython",
    "version": 3
   },
   "file_extension": ".py",
   "mimetype": "text/x-python",
   "name": "python",
   "nbconvert_exporter": "python",
   "pygments_lexer": "ipython3",
   "version": "3.12.4"
  }
 },
 "nbformat": 4,
 "nbformat_minor": 2
}
