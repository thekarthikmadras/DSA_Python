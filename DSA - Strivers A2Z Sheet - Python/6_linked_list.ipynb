{
 "cells": [
  {
   "cell_type": "markdown",
   "metadata": {},
   "source": [
    "<h1>Linked List</h1>"
   ]
  },
  {
   "cell_type": "markdown",
   "metadata": {},
   "source": [
    "<h2> Basics of 1D Linked List </h2>"
   ]
  },
  {
   "cell_type": "markdown",
   "metadata": {},
   "source": [
    "<h3>1. Array to Linked List</h3>\n",
    "<a href=\"https://www.geeksforgeeks.org/problems/introduction-to-linked-list/1?utm_source=youtube&utm_medium=collab_striv\">Problem Link</a>\n",
    "<p>Go through the arr and point the head of the previous arr to the new node. head.next is set to this new node, linking the previous node (head) to the new node. <br><br>\n",
    "Time complexity: O(n)<br>\n",
    "Space Complexity: O(n)</p>"
   ]
  },
  {
   "cell_type": "code",
   "execution_count": 1,
   "metadata": {},
   "outputs": [
    {
     "name": "stdout",
     "output_type": "stream",
     "text": [
      "<__main__.Node object at 0x1070a6630>\n"
     ]
    }
   ],
   "source": [
    "class Node:\n",
    "    def __init__(self, data):\n",
    "        self.data = data\n",
    "        self.next = None\n",
    "def constructLL(arr):\n",
    "    # code here\n",
    "    head = Node(arr[0])\n",
    "    original_head = head\n",
    "    for i in arr[1:]:\n",
    "        head.next = Node(i)\n",
    "        head = head.next\n",
    "    return original_head\n",
    "arr = [2, 4, 6, 7, 5, 1, 0]\n",
    "print(constructLL(arr))"
   ]
  },
  {
   "cell_type": "markdown",
   "metadata": {},
   "source": [
    "<h3>2. Linked List Insertion At End</h3>\n",
    "<a href=\"https://www.geeksforgeeks.org/problems/linked-list-insertion-1587115620/0?utm_source=youtube&utm_medium=collab_striver_ytdescription&utm_campaign=linked-list-insertion\">Problem Link</a>\n",
    "<p>Check if the head is None i.e. If it is an empty linked lis. If yes then just insert the node x and return head, else iterate to the last head which pointing to null and insert the node x there and return head.<br><br>\n",
    "Time complexity: O(n)<br>\n",
    "Space Complexity: O(1)</p>"
   ]
  },
  {
   "cell_type": "code",
   "execution_count": 2,
   "metadata": {},
   "outputs": [
    {
     "name": "stdout",
     "output_type": "stream",
     "text": [
      "<__main__.Node object at 0x1074909e0>\n"
     ]
    }
   ],
   "source": [
    "class Node:\n",
    "    def __init__(self, data):\n",
    "        self.data = data\n",
    "        self.next = None\n",
    "def insertAtEnd(head,x):\n",
    "        # code here \n",
    "        temp = Node(x)\n",
    "        if head is None:\n",
    "            head = temp\n",
    "            return head\n",
    "        else:\n",
    "            curr = head\n",
    "            while curr.next is not None:\n",
    "                curr = curr.next\n",
    "            curr.next = temp\n",
    "            return head\n",
    "arr = [2, 4, 6, 7, 5, 1, 0]\n",
    "x = 6\n",
    "head = Node(arr[0])\n",
    "print(insertAtEnd(head,x))"
   ]
  },
  {
   "cell_type": "markdown",
   "metadata": {},
   "source": [
    "<h3>3. Delete Node in a Linked List</h3>\n",
    "<a href=\"https://leetcode.com/problems/delete-node-in-a-linked-list/description/\">Problem Link</a>\n",
    "<p>Set the node's val to the next val and the node's next to the next next. lol.<br><br>\n",
    "Time complexity: O(1)<br>\n",
    "Space Complexity: O(1)</p>"
   ]
  },
  {
   "cell_type": "code",
   "execution_count": 3,
   "metadata": {},
   "outputs": [],
   "source": [
    "class ListNode:\n",
    "    def __init__(self, x):\n",
    "        self.val = x\n",
    "        self.next = None\n",
    "\n",
    "\n",
    "def deleteNode(node):\n",
    "    \"\"\"\n",
    "    :type node: ListNode\n",
    "    :rtype: void Do not return anything, modify node in-place instead.\n",
    "    \"\"\"\n",
    "    node.val = node.next.val\n",
    "    node.next = node.next.next\n",
    "head = [4,5,1,9]\n",
    "node = 1\n",
    "output = [4, 5, 9]\n"
   ]
  },
  {
   "cell_type": "markdown",
   "metadata": {},
   "source": [
    "<h3>4. Count Linked List Nodes</h3>\n",
    "<a href=\"https://www.geeksforgeeks.org/problems/count-nodes-of-linked-list/0?utm_source=youtube&utm_medium=collab_striver_ytdescription&utm_campaign=count-nodes-of-linked-list\">Problem Link</a>\n",
    "<p>Set the first head as curr and as long as curr is not None increase count by one.<br><br>\n",
    "Time complexity: O(n)<br>\n",
    "Space Complexity: O(1)</p>"
   ]
  },
  {
   "cell_type": "code",
   "execution_count": 4,
   "metadata": {},
   "outputs": [],
   "source": [
    "# class LinkedList:\n",
    "#     def __init__(self):\n",
    "#         self.head=None\n",
    "#         self.tail=None\n",
    "        \n",
    "def getCount(head):\n",
    "    curr = head\n",
    "    count = 0\n",
    "    while curr is not None:\n",
    "        count += 1\n",
    "        curr = curr.next\n",
    "    return count\n",
    "arr = [4,5,1,9]\n",
    "head = 4\n",
    "output = 4"
   ]
  },
  {
   "cell_type": "markdown",
   "metadata": {},
   "source": [
    "<h3>5. Search in Linked List</h3>\n",
    "<a href=\"https://www.geeksforgeeks.org/problems/search-in-linked-list-1664434326/1?utm_source=youtube&utm_medium=collab_striver_ytdescription&utm_campaign=search-in-linked-list-1664434326\">Problem Link</a>\n",
    "<p>Check if head.data == key. If yes return True, else set head to the next head and finally return false.<br><br>\n",
    "Time complexity: O(n)<br>\n",
    "Space Complexity: O(1)</p>"
   ]
  },
  {
   "cell_type": "code",
   "execution_count": 5,
   "metadata": {},
   "outputs": [],
   "source": [
    "class Node:\n",
    "    def __init__(self, data):\n",
    "        self.data = data\n",
    "        self.next = None\n",
    "def searchKey(n, head, key):\n",
    "        #Code here\n",
    "        while head is not None:\n",
    "            if head.data==key: return True\n",
    "            head=head.next\n",
    "        return False\n",
    "# Input:\n",
    "# n = 4\n",
    "# 1->2->3->4\n",
    "# Key = 3\n",
    "# Output:\n",
    "# True"
   ]
  },
  {
   "cell_type": "markdown",
   "metadata": {},
   "source": [
    "<h2>Basics of Doubly Linked List</h2>"
   ]
  },
  {
   "cell_type": "markdown",
   "metadata": {},
   "source": [
    "<h3>1. Introduction to Doubly Linked List</h3>\n",
    "<a href=\"https://www.geeksforgeeks.org/problems/introduction-to-doubly-linked-list/1?utm_source=youtube&utm_medium=collab_striver_ytdescription&utm_campaign=introduction-to-doubly-linked-list\">Problem Link</a>\n",
    "<p>Same as for singly linked list. Just set the head.next.prev to the current head <br><br>\n",
    "Time complexity: O(n)<br>\n",
    "Space Complexity: O(n)</p>"
   ]
  },
  {
   "cell_type": "code",
   "execution_count": 6,
   "metadata": {},
   "outputs": [],
   "source": [
    "class Solution:\n",
    "    def constructDLL(self, arr):\n",
    "        # Code here\n",
    "        head = Node(arr[0])\n",
    "        orgHead = head\n",
    "        for i in range(1,len(arr)):\n",
    "            head.next = Node(arr[i])\n",
    "            head.next.prev = head\n",
    "            head = head.next\n",
    "        return orgHead"
   ]
  },
  {
   "cell_type": "markdown",
   "metadata": {},
   "source": [
    "<h3>2. Doubly linked list Insertion at given position</h3>\n",
    "<a href=\"https://www.geeksforgeeks.org/problems/insert-a-node-in-doubly-linked-list/1?utm_source=youtube&utm_medium=collab_striver_ytdescription&utm_campaign=insert-a-node-in-doubly-linked-list\">Problem Link</a>\n",
    "<p>Get the position where it should be inserted and then link the rest accordingly.<br><br>\n",
    "Time complexity: O(p)<br>\n",
    "Space Complexity: O(1)</p>"
   ]
  },
  {
   "cell_type": "code",
   "execution_count": 7,
   "metadata": {},
   "outputs": [],
   "source": [
    "class Node:\n",
    "\tdef __init__(self, data):\n",
    "\t\tself.data = data\n",
    "\t\tself.next = None\n",
    "\t\tself.prev = None\n",
    "def addNode(head, p, x):\n",
    "    # Code here\n",
    "    count=0\n",
    "    tmp=head\n",
    "    while count<=p and tmp!=None:\n",
    "        count=count+1\n",
    "        tmp=tmp.next\n",
    "        if count == p:\n",
    "            ptr=Node(x)\n",
    "            ptr.next=tmp.next\n",
    "            ptr.prev=tmp\n",
    "            tmp.next=ptr\n",
    "    head=tmp\n",
    "    return head\n",
    "data = []\n",
    "# Input: LinkedList: 2<->4<->5, p = 2, x = 6 \n",
    "# Output: 2<->4<->5<->6\n",
    "# Explanation: p = 2, and x = 6. So, 6 is inserted after p, i.e, at position 3 (0-based indexing)."
   ]
  },
  {
   "cell_type": "markdown",
   "metadata": {},
   "source": [
    "<h3>3. Delete in a Doubly Linked List</h3>\n",
    "<a href=\"https://www.geeksforgeeks.org/problems/delete-node-in-doubly-linked-list/1?utm_source=youtube&utm_medium=collab_striver_ytdescription&utm_campaign=delete-node-in-doubly-linked-list\">Problem Link</a>\n",
    "<p>If head is none return mothing. Traverse through the xth index:  If x is 1 return head.next. Iterate from 1 to x. if temp is none return head else get the next node (This check ensures that temp is not None before proceeding. If temp is None, it means the list is shorter than x nodes, so we return the head without changes). If temp.next and temp.prev exists set it accordingly.<br><br>\n",
    "Time complexity: O(n)<br>\n",
    "Space Complexity: O(1)</p>"
   ]
  },
  {
   "cell_type": "code",
   "execution_count": 8,
   "metadata": {},
   "outputs": [],
   "source": [
    "class Solution:\n",
    "    def delete_node(self, head, x):\n",
    "        #code here\n",
    "        if head==None:\n",
    "            return\n",
    "        if x==1:\n",
    "            head.next.prev=None\n",
    "            return head.next\n",
    "        \n",
    "        temp=head\n",
    "        for i in range(1,x):\n",
    "            if temp is None:\n",
    "                return head\n",
    "            temp=temp.next\n",
    "        if temp is None:\n",
    "            return head\n",
    "        if temp.next:\n",
    "            temp.next.prev=temp.prev\n",
    "        if temp.prev:\n",
    "            temp.prev.next=temp.next\n",
    "        return head\n",
    "# Input: LinkedList = 1 <--> 3 <--> 4, x = 3\n",
    "# Output: 1 <--> 3"
   ]
  },
  {
   "cell_type": "markdown",
   "metadata": {},
   "source": [
    "<h3>4. Reverse a Doubly Linked List</h3>\n",
    "<a href=\"https://www.geeksforgeeks.org/problems/reverse-a-doubly-linked-list/1?utm_source=youtube&utm_medium=collab_striver_ytdescription&utm_campaign=reverse-a-doubly-linked-list\">Problem Link</a>\n",
    "<p>While head exists swap head.next and head.prev. If head.prev doesn't exists return head,else set head = head.prev.\n",
    "\n",
    "Check the other solution too. Easier to understand.<br><br>\n",
    "Time complexity: O(n)<br>\n",
    "Space Complexity: O(1)</p>"
   ]
  },
  {
   "cell_type": "code",
   "execution_count": 9,
   "metadata": {},
   "outputs": [],
   "source": [
    "def reverseDLL(head):\n",
    "    while head:\n",
    "        head.next, head.prev = head.prev, head.next\n",
    "        if not head.prev:\n",
    "            return head\n",
    "        head=head.prev # moves the head pointer to the previous node (which is now the next node in the original list) to continue the reversal.\n",
    "\n",
    "# Input: LinkedList: 3 <-> 4 <-> 5\n",
    "# Output: 5 <-> 4 <-> 3"
   ]
  },
  {
   "cell_type": "code",
   "execution_count": 10,
   "metadata": {},
   "outputs": [],
   "source": [
    "class Solution:\n",
    "    def reverseDLL(self, head):\n",
    "        # Check if the list is empty or has only one element\n",
    "        if not head or not head.next:\n",
    "            return head\n",
    "\n",
    "        # Initialize pointers for the reversal process\n",
    "        previous_node = head.prev\n",
    "        current_node = head\n",
    "        next_node = head.next\n",
    "\n",
    "        # Traverse the list and reverse the pointers\n",
    "        while next_node:\n",
    "            current_node.prev = next_node\n",
    "            current_node.next = previous_node\n",
    "            \n",
    "            previous_node = current_node\n",
    "            current_node = next_node\n",
    "            next_node = next_node.next\n",
    "\n",
    "        # Update the pointers for the last node\n",
    "        current_node.prev = next_node\n",
    "        current_node.next = previous_node\n",
    "\n",
    "        # Return the new head of the reversed doubly linked list\n",
    "        return current_node"
   ]
  }
 ],
 "metadata": {
  "kernelspec": {
   "display_name": "Python 3",
   "language": "python",
   "name": "python3"
  },
  "language_info": {
   "codemirror_mode": {
    "name": "ipython",
    "version": 3
   },
   "file_extension": ".py",
   "mimetype": "text/x-python",
   "name": "python",
   "nbconvert_exporter": "python",
   "pygments_lexer": "ipython3",
   "version": "3.12.4"
  }
 },
 "nbformat": 4,
 "nbformat_minor": 2
}
