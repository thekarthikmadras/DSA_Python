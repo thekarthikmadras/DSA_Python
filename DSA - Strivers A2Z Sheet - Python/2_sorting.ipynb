{
 "cells": [
  {
   "cell_type": "markdown",
   "metadata": {},
   "source": [
    "<h1>Important Sorting Techniques:</h1>"
   ]
  },
  {
   "cell_type": "markdown",
   "metadata": {},
   "source": [
    "<h3>Selection Sort:</h3>\n",
    "<a href=\"https://www.geeksforgeeks.org/problems/selection-sort/1?utm_source=youtube&utm_medium=collab_striver_ytdescription&utm_campaign=selection-sort\">Problem Link</a>\n",
    "<p>The algorithm repeatedly selects the smallest element from the unsorted portion of the list and swaps it with the first element of the unsorted part. This process is repeated for the remaining unsorted portion until the entire list is sorted.<br>\n",
    "Time Complexity: O(N^2)<br>\n",
    "Space Complexity: O(1)</p>"
   ]
  },
  {
   "cell_type": "code",
   "execution_count": 1,
   "metadata": {},
   "outputs": [
    {
     "name": "stdout",
     "output_type": "stream",
     "text": [
      "[1, 2, 3, 4, 5, 6, 7, 8]\n"
     ]
    }
   ],
   "source": [
    "nums = [5, 3, 8, 6, 2, 7, 4, 1]\n",
    "\n",
    "def selectionSort(nums):\n",
    "    N = len(nums)\n",
    "    for i in range(N-1):\n",
    "        min_index = i\n",
    "        for j in range(i+1,N):\n",
    "            if nums[j] < nums[min_index]:\n",
    "                min_index = j\n",
    "        nums[i],nums[min_index] = nums[min_index],nums[i]\n",
    "    return nums\n",
    "\n",
    "selectionSort(nums)\n",
    "print(nums)\n"
   ]
  },
  {
   "cell_type": "markdown",
   "metadata": {},
   "source": [
    "<h3>Bubble Sort:</h3>\n",
    "<a href=\"https://www.geeksforgeeks.org/problems/bubble-sort/1?utm_source=youtube&utm_medium=collab_striver_ytdescription&utm_campaign=bubble-sort\">Problem Link</a>\n",
    "<p>Take 2 indexes at a time and swap them if the first one is bigger than the second one. Ever iteration puts one element in the right place.<br>\n",
    "Time : O(N^2)<br>\n",
    "Space : O(1)</p>"
   ]
  },
  {
   "cell_type": "code",
   "execution_count": 2,
   "metadata": {},
   "outputs": [
    {
     "name": "stdout",
     "output_type": "stream",
     "text": [
      "[1, 2, 3, 4, 5, 6, 7, 8]\n"
     ]
    }
   ],
   "source": [
    "nums = [5, 3, 8, 6, 2, 7, 4, 1]\n",
    "\n",
    "def bubbleSort(nums):\n",
    "    n = len(nums)\n",
    "    for i in range(n-1):\n",
    "        swap = False\n",
    "        for j in range(0, n-i-1):\n",
    "            if nums[j] > nums[j+1]:\n",
    "                nums[j], nums[j+1] = nums[j+1],nums[j]\n",
    "                swap = True\n",
    "        if swap == False:\n",
    "            break\n",
    "    return nums\n",
    "\n",
    "bubbleSort(nums)\n",
    "print(nums)"
   ]
  },
  {
   "cell_type": "markdown",
   "metadata": {},
   "source": [
    "<h3>Insertion Sort:</h3>\n",
    "<a href=\"https://www.geeksforgeeks.org/problems/insertion-sort/0?category%5B%5D=Algorithms&page=1&query=category%5B%5DAlgorithmspage1&utm_source=youtube&utm_medium=collab_striver_ytdescription&utm_campaign=insertion-sort\">Problem Link</a>\n",
    "<p>\n",
    "Select an element in each iteration from the unsorted array(using a loop). \n",
    "\n",
    "Place it in its corresponding position in the sorted part and shift the remaining elements accordingly (using an inner loop and swapping).\n",
    "\n",
    "The “inner while loop” basically shifts the elements using swapping.\n",
    "</p>"
   ]
  },
  {
   "cell_type": "code",
   "execution_count": 11,
   "metadata": {},
   "outputs": [
    {
     "name": "stdout",
     "output_type": "stream",
     "text": [
      "[1, 2, 3, 4, 5, 6, 7, 8]\n"
     ]
    }
   ],
   "source": [
    "nums = [5, 3, 8, 6, 2, 7, 4, 1]\n",
    "\n",
    "def insertion_sort(nums):  \n",
    "  \n",
    "        # Outer loop to traverse through 1 to len(nums)  \n",
    "        for i in range(1, len(nums)):  \n",
    "  \n",
    "            value = nums[i]  \n",
    "  \n",
    "            # Move elements of nums[0..i-1], that are  \n",
    "            # greater than value, to one position ahead  \n",
    "            # of their current position  \n",
    "            j = i - 1  \n",
    "            while j >= 0 and value < nums[j]:  \n",
    "                nums[j + 1] = nums[j]  \n",
    "                j -= 1  \n",
    "            nums[j + 1] = value  \n",
    "        return nums  \n",
    "            \n",
    "insertion_sort(nums)\n",
    "print(nums)"
   ]
  },
  {
   "cell_type": "markdown",
   "metadata": {},
   "source": [
    "<h3>Merge Sort:</h3>\n",
    "<a href=\"https://www.geeksforgeeks.org/problems/merge-sort/1?utm_source=youtube&utm_medium=collab_striver_ytdescription&utm_campaign=merge-sort\">Problem Link</a>\n",
    "<p>Keep splitting in the middle and sort<br>\n",
    "Time : O(N Log N)<br>\n",
    "Space : O(N)</p>"
   ]
  },
  {
   "cell_type": "code",
   "execution_count": 4,
   "metadata": {},
   "outputs": [
    {
     "name": "stdout",
     "output_type": "stream",
     "text": [
      "[1, 2, 3, 4, 5, 6, 7, 8]\n"
     ]
    }
   ],
   "source": [
    "nums = [5, 3, 8, 6, 2, 7, 4, 1]\n",
    "\n",
    "def merge(nums, low, mid , high):\n",
    "\n",
    "    temp = [] # temporary numsay\n",
    "    left = low # starting index of the left half of nums\n",
    "    right = mid + 1 # starting index of right half of nums\n",
    "\n",
    "    # storing elements in the temp numsay in a sorted manner\n",
    "\n",
    "    while(left <= mid and right <= high):\n",
    "        if nums[left] <= nums[right]:\n",
    "            temp.append(nums[left])\n",
    "            left = left + 1\n",
    "        else:\n",
    "            temp.append(nums[right])\n",
    "            right = right + 1\n",
    "\n",
    "    # if elements on the left are still left\n",
    "\n",
    "    while(left <= mid):\n",
    "        temp.append(nums[left])\n",
    "        left = left + 1\n",
    "\n",
    "    # if elements on the right are still left\n",
    "\n",
    "    while(right <= high):\n",
    "        temp.append(nums[right])\n",
    "        right = right + 1\n",
    "\n",
    "    for i in range(low,high+1):\n",
    "        nums[i] = temp[i-low]\n",
    "        \n",
    "    \n",
    "    \n",
    "def mergeSort(nums, low, high):\n",
    " \n",
    "    if (low<high):\n",
    "        mid=(low+high)//2\n",
    "        mergeSort(nums, low, mid)\n",
    "        mergeSort(nums, mid+1, high)\n",
    "        merge(nums, low, mid, high)\n",
    "\n",
    "mergeSort(nums,0,len(nums)-1)\n",
    "print(nums)"
   ]
  },
  {
   "cell_type": "markdown",
   "metadata": {},
   "source": [
    "<h3>Quick Sort:</h3>\n",
    "<a href=\"https://www.geeksforgeeks.org/problems/quick-sort/1?utm_source=youtube&utm_medium=collab_striver_ytdescription&utm_campaign=quick-sort\">Problem Link</a>\n",
    "<p>\n",
    "Take the first number as pivot and place it in it’s correct place in the sorted array. Smaller on the left, bigger on the right\n",
    "\n",
    "The target of partitions is to place the pivot (any element can be chosen to be a pivot) at its correct position in the sorted array and put all smaller elements to the left of the pivot, and all greater elements to the right of the pivot.\n",
    "\n",
    "Partition is done recursively on each side of the pivot after the pivot is placed in its correct position and this finally sorts the array.\n",
    "\n",
    "Time : O(N Log N)<br>\n",
    "Space : O(1)\n",
    "\n",
    "</p>"
   ]
  },
  {
   "cell_type": "code",
   "execution_count": 5,
   "metadata": {},
   "outputs": [
    {
     "name": "stdout",
     "output_type": "stream",
     "text": [
      "[1, 2, 3, 4, 5, 6, 7, 8]\n"
     ]
    }
   ],
   "source": [
    "nums = [5, 3, 8, 6, 2, 7, 4, 1]\n",
    "\n",
    "def partition(nums, low, high):\n",
    "    pivot = nums[low]\n",
    "    i = low\n",
    "    j = high\n",
    "\n",
    "    while(i<j):\n",
    "\n",
    "        while(nums[i] <= pivot and i <= high-1):\n",
    "            i = i + 1\n",
    "\n",
    "        while(nums[j] > pivot and j >= low+1):\n",
    "            j = j - 1\n",
    "\n",
    "        if (i < j):\n",
    "            nums[i],nums[j] = nums[j],nums[i]\n",
    "\n",
    "\n",
    "    nums[low],nums[j] = nums[j],nums[low]\n",
    "    return j\n",
    "\n",
    "\n",
    "def quickSort(nums, low, high):\n",
    "    if(low<high):\n",
    "        pindex = partition(nums,low,high)\n",
    "        quickSort(nums,low,pindex-1)\n",
    "        quickSort(nums,pindex+1,high)\n",
    "    \n",
    "quickSort(nums,0,len(nums)-1)\n",
    "print(nums)"
   ]
  },
  {
   "cell_type": "markdown",
   "metadata": {},
   "source": [
    "<h3>Recursive Bubble Sort:</h3>\n",
    "<a href=\"https://www.geeksforgeeks.org/problems/bubble-sort/1?utm_source=youtube&utm_medium=collab_striver_ytdescription&utm_campaign=bubble-sort\">Problem Link</a>\n",
    "<p>Take 2 indexes at a time and swap them if the first one is bigger than the second one. Ever iteration puts one element in the right place.<br>\n",
    "Time : O(N^2)<br>\n",
    "Space : O(N)</p>"
   ]
  },
  {
   "cell_type": "code",
   "execution_count": 6,
   "metadata": {},
   "outputs": [
    {
     "name": "stdout",
     "output_type": "stream",
     "text": [
      "[1, 2, 3, 4, 5, 6, 7, 8]\n"
     ]
    }
   ],
   "source": [
    "arr = [5, 3, 8, 6, 2, 7, 4, 1]\n",
    "\n",
    "def bubbleSort(array):\n",
    "    count = 0\n",
    "    #print(\"array is currently\",array)\n",
    "    for idx in range(len(array)-1):\n",
    "        if array[idx] > array[idx + 1]:\n",
    "            array[idx],array[idx + 1] = array[idx + 1],array[idx]\n",
    "            count += 1\n",
    "            #print(\"swaped and count is currently\",count)\n",
    "            #print(\"array is currently\",array)\n",
    "    if count == 0:\n",
    "        #print(\"Count is zero\")\n",
    "        #print(\"array is currently\",array)\n",
    "        return array\n",
    "    else:\n",
    "        #print(\"Count is not zero\")\n",
    "        return bubbleSort(array)\n",
    "\n",
    "print(bubbleSort(arr))"
   ]
  },
  {
   "cell_type": "markdown",
   "metadata": {},
   "source": [
    "<h3>Recursive Insertion Sort:</h3>\n",
    "<a href=\"https://www.geeksforgeeks.org/problems/insertion-sort/0?category%5B%5D=Algorithms&page=1&query=category%5B%5DAlgorithmspage1&utm_source=youtube&utm_medium=collab_striver_ytdescription&utm_campaign=insertion-sort\">Problem Link</a>\n",
    "<p>\n",
    "Select an element in each iteration from the unsorted array(using a loop). \n",
    "\n",
    "Place it in its corresponding position in the sorted part and shift the remaining elements accordingly (using an inner loop and swapping).\n",
    "\n",
    "The “inner while loop” basically shifts the elements using swapping.\n",
    "</p>"
   ]
  },
  {
   "cell_type": "code",
   "execution_count": 7,
   "metadata": {},
   "outputs": [
    {
     "name": "stdout",
     "output_type": "stream",
     "text": [
      "[1, 2, 3, 4, 5, 6, 7, 8]\n"
     ]
    }
   ],
   "source": [
    "arr = [5, 3, 8, 6, 2, 7, 4, 1]\n",
    "\n",
    "\n",
    "def insertionSort(a, index):\n",
    "    if index == len(a):\n",
    "        return a\n",
    "    else:\n",
    "        if index > 0:\n",
    "            for i in range(index, len(a)):\n",
    "                temp = a[i]\n",
    "                j = i - 1\n",
    "                while j>=0 and a[j] > temp:\n",
    "                    a[j+1] = a[j]\n",
    "                    j -= 1\n",
    "                a[j+1] = temp\n",
    "        return insertionSort(a, index+1)\n",
    "\n",
    "print(insertionSort(arr,0))"
   ]
  },
  {
   "cell_type": "code",
   "execution_count": null,
   "metadata": {},
   "outputs": [],
   "source": []
  }
 ],
 "metadata": {
  "kernelspec": {
   "display_name": "Python 3",
   "language": "python",
   "name": "python3"
  },
  "language_info": {
   "codemirror_mode": {
    "name": "ipython",
    "version": 3
   },
   "file_extension": ".py",
   "mimetype": "text/x-python",
   "name": "python",
   "nbconvert_exporter": "python",
   "pygments_lexer": "ipython3",
   "version": "3.12.4"
  }
 },
 "nbformat": 4,
 "nbformat_minor": 2
}
