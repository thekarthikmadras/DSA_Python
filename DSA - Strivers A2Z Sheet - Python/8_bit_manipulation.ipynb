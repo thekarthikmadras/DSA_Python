{
 "cells": [
  {
   "cell_type": "markdown",
   "metadata": {},
   "source": [
    "<h1>Bit Manipulation</h1>"
   ]
  },
  {
   "cell_type": "markdown",
   "metadata": {},
   "source": [
    "<h2>Basics</h2>"
   ]
  },
  {
   "cell_type": "markdown",
   "metadata": {},
   "source": [
    "<h3>1. Introduction to Bit Manipulation </h3>\n",
    "<a href=\"https://www.geeksforgeeks.org/problems/bit-manipulation-1666686020/1?utm_source=youtube&utm_medium=collab_striver_ytdescription&utm_campaign=bit-manipulation\">Problem Link</a>\n",
    "<p> \n",
    "Check the ith bit:\n",
    "(num >> (i-1)) & 1\n",
    "\n",
    "Shifts num right by i-1 positions to bring the ith bit to the least significant position.\n",
    "Performs a bitwise AND with 1 to extract the ith bit.\n",
    "\n",
    "Set the ith bit to 1:\n",
    "num | (1 << (i-1))\n",
    "\n",
    "Left-shifts 1 by i-1 to create a mask where only the ith bit is 1.\n",
    "Performs a bitwise OR with num to set the ith bit to 1.\n",
    "\n",
    "Set the ith bit to 0:\n",
    "num & (~(1 << (i-1)))\n",
    "\n",
    "Left-shifts 1 by i-1 and negates it to create a mask where the ith bit is 0 and others are 1.\n",
    "Performs a bitwise AND with num to clear the ith bit.\n",
    "<br><br>\n",
    "Time complexity: O(1)<br>\n",
    "Space Complexity: O(1)</p>"
   ]
  },
  {
   "cell_type": "code",
   "execution_count": 1,
   "metadata": {},
   "outputs": [],
   "source": [
    "class Solution:\n",
    "    def bitManipulation(self, num, i):\n",
    "        print((num>>(i-1)) & 1, num|(1<<(i-1)), num&(~(1<<(i-1))))"
   ]
  },
  {
   "cell_type": "code",
   "execution_count": 2,
   "metadata": {},
   "outputs": [],
   "source": [
    "def bitManipulation(self, n, i):\n",
    "        getbit = 1 if n & (1<<(i-1)) else 0\n",
    "        setbit = n |(1<<(i-1))\n",
    "        clearbit = n & ~(1<<(i-1))\n",
    "        print(getbit,setbit,clearbit,end = \"\")"
   ]
  },
  {
   "cell_type": "markdown",
   "metadata": {},
   "source": [
    "<h3>2. Check if the i-th bit is set or not</h3>\n",
    "<a href=\"https://www.geeksforgeeks.org/problems/check-whether-k-th-bit-is-set-or-not-1587115620/1\">Problem Link</a>\n",
    "<p> \n",
    "n >> k: Right-shifts the integer n by k bits, effectively dividing n by 2^k and isolating the k-th bit.\n",
    "\n",
    "& 1: Performs a bitwise AND with 1 to check if the k-th bit is 1 or 0.\n",
    "\n",
    "Return: If the result is 1, the k-th bit is set (true); otherwise, it's unset (false).\n",
    "<br><br>\n",
    "Time complexity: O(1)<br>\n",
    "Space Complexity: O(1)</p>"
   ]
  },
  {
   "cell_type": "code",
   "execution_count": 3,
   "metadata": {},
   "outputs": [],
   "source": [
    "def checkKthBit(self, n,k):\n",
    "       return (n>>k)&1"
   ]
  },
  {
   "cell_type": "markdown",
   "metadata": {},
   "source": [
    "<h3>3. Odd or even</h3>\n",
    "<a href=\"https://www.geeksforgeeks.org/problems/odd-or-even3618/1\">Problem Link</a>\n",
    "<p> \n",
    "The condition n & 1 checks the least significant bit of n. If it's 1, n is odd; otherwise, it's even.\n",
    "<br><br>\n",
    "Time complexity: O(1)<br>\n",
    "Space Complexity: O(1)</p>"
   ]
  },
  {
   "cell_type": "code",
   "execution_count": 4,
   "metadata": {},
   "outputs": [],
   "source": [
    "class Solution:\n",
    "    def oddEven (ob,n):\n",
    "        # code here \n",
    "        if n & 1: return \"odd\"\n",
    "        else: return \"even\""
   ]
  },
  {
   "cell_type": "markdown",
   "metadata": {},
   "source": [
    "<h3>4. Check if a number is power of 2 or not</h3>\n",
    "<a href=\"https://leetcode.com/problems/power-of-two/description/\">Problem Link</a>\n",
    "<p> \n",
    "Condition n > 0: Ensures the number is positive because only positive integers can be powers of two.\n",
    "\n",
    "Bitwise condition (n & n - 1) == 0:\n",
    "A power of two has exactly one bit set in its binary representation (e.g., 2 = 10, 4 = 100).\n",
    "Subtracting 1 flips all bits after the set bit (e.g., 4 - 1 = 3 (011)).\n",
    "n & (n - 1) clears the set bit, resulting in 0 if n is a power of two.\n",
    "<br><br>\n",
    "Time complexity: O(1)<br>\n",
    "Space Complexity: O(1)</p>"
   ]
  },
  {
   "cell_type": "code",
   "execution_count": 5,
   "metadata": {},
   "outputs": [],
   "source": [
    "class Solution:\n",
    "    def isPowerOfTwo(self, n: int) -> bool:\n",
    "        return n > 0 and (n & n - 1) == 0"
   ]
  },
  {
   "cell_type": "markdown",
   "metadata": {},
   "source": [
    "<h3>5. Count the number of set bits</h3>\n",
    "<a href=\"https://www.geeksforgeeks.org/problems/count-total-set-bits-1587115620/1\">Problem Link</a>\n",
    "<p> \n",
    "i represents the current bit position (1, 2, 4, ...):\n",
    "For each bit position, it computes:\n",
    "How many full groups of size 2*i exist.\n",
    "How many leftover bits remain.\n",
    "Adds contributions of 1s from both full groups and leftover bits to total_setbit.\n",
    "\n",
    "Key Operations:\n",
    "((n+1)//(2*i))*i: Calculates total set bits contributed by full groups of i.\n",
    "((n+1)%(2*i))-i: Calculates set bits from leftover numbers.\n",
    "i <<= 1: Doubles i (move to the next bit position).\n",
    "<br><br>\n",
    "Time complexity: O(log n)<br>\n",
    "Space Complexity: O(1)</p>"
   ]
  },
  {
   "cell_type": "code",
   "execution_count": 6,
   "metadata": {},
   "outputs": [],
   "source": [
    "class Solution:\n",
    "    #Function to return sum of count of set bits in the integers from 1 to n.\n",
    "    def countSetBits(self,n):\n",
    "        total_setbit=0\n",
    "        i=1\n",
    "        while i<=n:\n",
    "            total_setbit+=((n+1)//(2*i))*i\n",
    "            if (n+1)%(2*i)>i:\n",
    "                total_setbit+=((n+1)%(2*i))-i\n",
    "            i<<=1\n",
    "        return total_setbit"
   ]
  },
  {
   "cell_type": "markdown",
   "metadata": {},
   "source": [
    "<h3>6. Set/Unset the rightmost unset bit</h3>\n",
    "<a href=\"https://www.geeksforgeeks.org/problems/set-the-rightmost-unset-bit4436/1\">Problem Link</a>\n",
    "<p> \n",
    "It computes n | (n + 1), where:\n",
    "n + 1 increments the number by 1.\n",
    "| (bitwise OR) ensures that the least significant 0 bit in n (if any) is set to 1.\n",
    "Effect: This operation changes the lowest unset bit (0) in n to 1.\n",
    "<br><br>\n",
    "Time complexity: O(1)<br>\n",
    "Space Complexity: O(1)</p>"
   ]
  },
  {
   "cell_type": "code",
   "execution_count": 7,
   "metadata": {},
   "outputs": [],
   "source": [
    "class Solution:\n",
    "\tdef setBit(self, n):\n",
    "\t    return n|(n+1)"
   ]
  },
  {
   "cell_type": "markdown",
   "metadata": {},
   "source": [
    "<h3>7. Swap two numbers</h3>\n",
    "<a href=\"https://www.geeksforgeeks.org/problems/swap-two-numbers3844/1\">Problem Link</a>\n",
    "<p> \n",
    "Use XOR\n",
    "<br><br>\n",
    "Time complexity: O(1)<br>\n",
    "Space Complexity: O(1)</p>"
   ]
  },
  {
   "cell_type": "code",
   "execution_count": 8,
   "metadata": {},
   "outputs": [],
   "source": [
    "class Solution:\n",
    "    def get(self, a, b):\n",
    "        #code here\n",
    "        a = a ^ b\n",
    "        b = a ^ b\n",
    "        a = a ^ b\n",
    "        return a, b"
   ]
  },
  {
   "cell_type": "markdown",
   "metadata": {},
   "source": [
    "<h3>8. Divide two integers without using multiplication, division and mod opera</h3>\n",
    "<a href=\"https://leetcode.com/problems/divide-two-integers/solutions/837822/python-clean-solution/\">Problem Link</a>\n",
    "<p> \n",
    "Sign Calculation: The sign variable is set based on whether the dividend and divisor have the same or opposite signs, determined by XOR (^).\n",
    "\n",
    "Absolute Values: Both dividend and divisor are converted to their absolute values to simplify the division.\n",
    "\n",
    "Division Using Bit Shifting: The loop checks for powers of 2 (divisor << power) to subtract the largest possible multiples of divisor from dividend, and adds the corresponding bit values to ans. \n",
    "This step in detail:\n",
    "Iterate over all possible powers of 2 (from 31 down to 0).\n",
    "Use bitwise left shift (divisor << power) to multiply the divisor by 2^power.\n",
    "Check if the shifted divisor fits into the current dividend. If so:\n",
    "Add the corresponding 2^power to the result (ans).\n",
    "Subtract the shifted divisor from the dividend.\n",
    "This simulates the division process by repeatedly subtracting multiples of the divisor.\n",
    "\n",
    "Sign Adjustment: The result is adjusted to reflect the correct sign.\n",
    "\n",
    "Overflow Handling: The result is checked for overflow (outside the 32-bit integer range) and capped if necessary.\n",
    "<br><br>\n",
    "Time complexity: O(1)<br>\n",
    "Space Complexity: O(1)</p>"
   ]
  },
  {
   "cell_type": "code",
   "execution_count": 9,
   "metadata": {},
   "outputs": [],
   "source": [
    "class Solution:\n",
    "    def divide(self, dividend: int, divisor: int) -> int:\n",
    "        \n",
    "        sign = +1 if dividend ^ divisor >= 0 else -1\n",
    "        \n",
    "        dividend, divisor = abs(dividend), abs(divisor)\n",
    "\n",
    "        ans = 0      \n",
    "        \n",
    "        for power in range(31, -1, -1) :\n",
    "            if (divisor << power) <= dividend:\n",
    "                ans += (1 << power)\n",
    "                dividend -= (divisor << power)\n",
    "           \n",
    "        ans = ans * sign\n",
    "        \n",
    "        if not (-2**31 <= ans <= 2**31-1):\n",
    "            return 2**31 - 1\n",
    "        else:\n",
    "            return ans"
   ]
  },
  {
   "cell_type": "markdown",
   "metadata": {},
   "source": [
    "<h2>Medium problem</h2>"
   ]
  },
  {
   "cell_type": "markdown",
   "metadata": {},
   "source": [
    "<h3>1. Count minimum number of bits to be flipped to convert A to B</h3>\n",
    "<a href=\"https://leetcode.com/problems/minimum-bit-flips-to-convert-number/solutions/5770286/one-liner-solution-as-fast-as-wind-shortest-fastest-easiest-full-explanation/\">Problem Link</a>\n",
    "<p> \n",
    "Iteratively counts 1s in the XOR result:\n",
    "\n",
    "Checks the least significant bit (xor_result & 1).\n",
    "Right shifts the result (xor_result >>= 1) to process the next bit.\n",
    "<br><br>\n",
    "Time complexity: O(n)<br>\n",
    "Space Complexity: O(1)</p>"
   ]
  },
  {
   "cell_type": "code",
   "execution_count": 10,
   "metadata": {},
   "outputs": [],
   "source": [
    "# Built-in approach\n",
    "class Solution:\n",
    "    def minBitFlips(self, start: int, goal: int) -> int:\n",
    "        return bin(start ^ goal).count('1')\n",
    "\n",
    "# Manual approach\n",
    "class Solution:\n",
    "    def minBitFlips(self, start: int, goal: int) -> int:\n",
    "        xor_result = start ^ goal\n",
    "        count = 0\n",
    "        while xor_result:\n",
    "            count += xor_result & 1\n",
    "            xor_result >>= 1\n",
    "        return count"
   ]
  },
  {
   "cell_type": "markdown",
   "metadata": {},
   "source": [
    "<h3>2. Find the number that appears odd number of times</h3>\n",
    "<a href=\"https://leetcode.com/problems/single-number/solutions/6026000/0-ms-runtime-beats-100-user-step-by-steps-solution-easy-to-understand/\">Problem Link</a>\n",
    "<p> \n",
    "Logic: The XOR (^) operation has these properties:\n",
    "x ^ x = 0 (an element XORed with itself is 0).\n",
    "x ^ 0 = x (an element XORed with 0 is itself).\n",
    "XOR is commutative and associative.\n",
    "<br><br>\n",
    "Time complexity: O(n)<br>\n",
    "Space Complexity: O(1)</p>"
   ]
  },
  {
   "cell_type": "code",
   "execution_count": 11,
   "metadata": {},
   "outputs": [],
   "source": [
    "from typing import List\n",
    "\n",
    "class Solution:\n",
    "    def singleNumber(self, nums: List[int]) -> int:\n",
    "        result = 0\n",
    "        for num in nums:\n",
    "            result ^= num\n",
    "        return result"
   ]
  },
  {
   "cell_type": "markdown",
   "metadata": {},
   "source": [
    "<h3>3. Power Set</h3>\n",
    "<a href=\"https://leetcode.com/problems/subsets/solutions/5584602/easy-simple-solution-python/\">Problem Link</a>\n",
    "<p> \n",
    "Outer loop: Iterates through all integers i from 0 to \n",
    "2^len(nums) − 1. Each i represents a subset.\n",
    "\n",
    "Inner loop: For each bit in i (from least significant to most), checks if the bit is set using (i >> j) & 1.\n",
    "If the bit is set, the corresponding element nums[j] is included in the subset.\n",
    "\n",
    "The subset b is built for each i and appended to the result list a.\n",
    "<br><br>\n",
    "Time complexity: O(n . 2^n)<br>\n",
    "Space Complexity: O(n . 2^n)</p>"
   ]
  },
  {
   "cell_type": "code",
   "execution_count": 12,
   "metadata": {},
   "outputs": [],
   "source": [
    "class Solution:\n",
    "    def subsets(self, nums: List[int]) -> List[List[int]]:\n",
    "        a = []\n",
    "        for i in range(2**len(nums)):\n",
    "            b = []\n",
    "            for j in range(len(nums)):\n",
    "                if (i >> j) & 1:\n",
    "                    b.append(nums[j])\n",
    "            a.append(b)\n",
    "        return a"
   ]
  },
  {
   "cell_type": "markdown",
   "metadata": {},
   "source": [
    "<h3>4. Find xor of numbers from L to R</h3>\n",
    "<a href=\"https://www.geeksforgeeks.org/problems/find-xor-of-numbers-from-l-to-r/1?utm_source=youtube&utm_medium=collab_striver_ytdescription&utm_campaign=find-xor-of-numbers-from-l-to-r\">Problem Link</a>\n",
    "<p> \n",
    "xor_upto(n) Function:\n",
    "\n",
    "Computes the XOR of all numbers from 0 to n based on the cyclic pattern:\n",
    "If n % 4 == 0, result is n.\n",
    "If n % 4 == 1, result is 1.\n",
    "If n % 4 == 2, result is n + 1.\n",
    "If n % 4 == 3, result is 0.\n",
    "XOR from l to r:\n",
    "\n",
    "Uses the property of XOR: XOR(a to b) = xor_upto(b) ^ xor_upto(a-1).\n",
    "Computes the XOR of all numbers between l and r.\n",
    "\n",
    "<br><br>\n",
    "Time complexity: O(1)<br>\n",
    "Space Complexity: O(1)</p>"
   ]
  },
  {
   "cell_type": "code",
   "execution_count": 13,
   "metadata": {},
   "outputs": [],
   "source": [
    "class Solution:\n",
    "    def findXOR(self, l, r):\n",
    "        # Code here\n",
    "        def xor_upto(n):\n",
    "            if n % 4 == 0:\n",
    "                return n\n",
    "            elif n % 4 == 1:\n",
    "                return 1\n",
    "            elif n % 4 == 2:\n",
    "                return n + 1\n",
    "            else:  # n % 4 == 3\n",
    "                return 0\n",
    "    \n",
    "    # XOR from l to r\n",
    "        return xor_upto(r) ^ xor_upto(l - 1)"
   ]
  },
  {
   "cell_type": "markdown",
   "metadata": {},
   "source": [
    "<h3>5. Find the two numbers appearing odd number of times</h3>\n",
    "<a href=\"https://www.geeksforgeeks.org/problems/two-numbers-with-odd-occurrences5846/1\">Problem Link</a>\n",
    "<p> \n",
    "XOR all elements: The first loop calculates the XOR of all elements (xor_all). Since XORing a number with itself cancels out, only the XOR of the two odd-occurring numbers remains.\n",
    "\n",
    "Find rightmost set bit: The second step isolates the rightmost set bit of xor_all, which helps distinguish the two odd numbers based on whether they have this bit set.\n",
    "\n",
    "Partition and XOR separately: The array is partitioned into two groups based on the rightmost set bit, and the XOR operation is performed separately for each group. This results in two numbers, one from each group, which are the odd-appearing numbers.\n",
    "\n",
    "<br><br>\n",
    "Time complexity: O(n)<br>\n",
    "Space Complexity: O(1)</p>"
   ]
  },
  {
   "cell_type": "code",
   "execution_count": 14,
   "metadata": {},
   "outputs": [],
   "source": [
    "def twoOddNum(Arr, N):\n",
    "    # Step 1: Find XOR of all elements\n",
    "    xor_all = 0\n",
    "    for num in Arr:\n",
    "        xor_all ^= num\n",
    "    \n",
    "    # Step 2: Find the rightmost set bit in xor_all\n",
    "    rightmost_set_bit = xor_all & -xor_all  # Isolates the lowest set bit\n",
    "    \n",
    "    # Step 3: Partition the numbers into two groups and XOR separately\n",
    "    num1 = 0\n",
    "    num2 = 0\n",
    "    for num in Arr:\n",
    "        if num & rightmost_set_bit:\n",
    "            num1 ^= num\n",
    "        else:\n",
    "            num2 ^= num\n",
    "    \n",
    "    # Step 4: Sort in decreasing order\n",
    "    return [max(num1, num2), min(num1, num2)]"
   ]
  },
  {
   "cell_type": "markdown",
   "metadata": {},
   "source": []
  }
 ],
 "metadata": {
  "kernelspec": {
   "display_name": "Python 3",
   "language": "python",
   "name": "python3"
  },
  "language_info": {
   "codemirror_mode": {
    "name": "ipython",
    "version": 3
   },
   "file_extension": ".py",
   "mimetype": "text/x-python",
   "name": "python",
   "nbconvert_exporter": "python",
   "pygments_lexer": "ipython3",
   "version": "3.12.4"
  }
 },
 "nbformat": 4,
 "nbformat_minor": 2
}
