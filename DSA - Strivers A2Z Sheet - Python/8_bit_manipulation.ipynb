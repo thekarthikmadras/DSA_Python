{
 "cells": [
  {
   "cell_type": "markdown",
   "metadata": {},
   "source": [
    "<h1>Bit Manipulation</h1>"
   ]
  },
  {
   "cell_type": "markdown",
   "metadata": {},
   "source": [
    "<h2>Basics</h2>"
   ]
  },
  {
   "cell_type": "markdown",
   "metadata": {},
   "source": [
    "<h3>1. Introduction to Bit Manipulation </h3>\n",
    "<a href=\"https://www.geeksforgeeks.org/problems/bit-manipulation-1666686020/1?utm_source=youtube&utm_medium=collab_striver_ytdescription&utm_campaign=bit-manipulation\">Problem Link</a>\n",
    "<p> \n",
    "Check the ith bit:\n",
    "(num >> (i-1)) & 1\n",
    "\n",
    "Shifts num right by i-1 positions to bring the ith bit to the least significant position.\n",
    "Performs a bitwise AND with 1 to extract the ith bit.\n",
    "\n",
    "Set the ith bit to 1:\n",
    "num | (1 << (i-1))\n",
    "\n",
    "Left-shifts 1 by i-1 to create a mask where only the ith bit is 1.\n",
    "Performs a bitwise OR with num to set the ith bit to 1.\n",
    "\n",
    "Set the ith bit to 0:\n",
    "num & (~(1 << (i-1)))\n",
    "\n",
    "Left-shifts 1 by i-1 and negates it to create a mask where the ith bit is 0 and others are 1.\n",
    "Performs a bitwise AND with num to clear the ith bit.\n",
    "<br><br>\n",
    "Time complexity: O(1)<br>\n",
    "Space Complexity: O(1)</p>"
   ]
  },
  {
   "cell_type": "code",
   "execution_count": 1,
   "metadata": {},
   "outputs": [],
   "source": [
    "class Solution:\n",
    "    def bitManipulation(self, num, i):\n",
    "        print((num>>(i-1)) & 1, num|(1<<(i-1)), num&(~(1<<(i-1))))"
   ]
  },
  {
   "cell_type": "code",
   "execution_count": 2,
   "metadata": {},
   "outputs": [],
   "source": [
    "def bitManipulation(self, n, i):\n",
    "        getbit = 1 if n & (1<<(i-1)) else 0\n",
    "        setbit = n |(1<<(i-1))\n",
    "        clearbit = n & ~(1<<(i-1))\n",
    "        print(getbit,setbit,clearbit,end = \"\")"
   ]
  },
  {
   "cell_type": "markdown",
   "metadata": {},
   "source": [
    "<h3>2. Check if the i-th bit is set or not</h3>\n",
    "<a href=\"https://www.geeksforgeeks.org/problems/check-whether-k-th-bit-is-set-or-not-1587115620/1\">Problem Link</a>\n",
    "<p> \n",
    "n >> k: Right-shifts the integer n by k bits, effectively dividing n by 2^k and isolating the k-th bit.\n",
    "\n",
    "& 1: Performs a bitwise AND with 1 to check if the k-th bit is 1 or 0.\n",
    "\n",
    "Return: If the result is 1, the k-th bit is set (true); otherwise, it's unset (false).\n",
    "<br><br>\n",
    "Time complexity: O(1)<br>\n",
    "Space Complexity: O(1)</p>"
   ]
  },
  {
   "cell_type": "code",
   "execution_count": 3,
   "metadata": {},
   "outputs": [],
   "source": [
    "def checkKthBit(self, n,k):\n",
    "       return (n>>k)&1"
   ]
  },
  {
   "cell_type": "markdown",
   "metadata": {},
   "source": [
    "<h3>3. Odd or even</h3>\n",
    "<a href=\"https://www.geeksforgeeks.org/problems/odd-or-even3618/1\">Problem Link</a>\n",
    "<p> \n",
    "The condition n & 1 checks the least significant bit of n. If it's 1, n is odd; otherwise, it's even.\n",
    "<br><br>\n",
    "Time complexity: O(1)<br>\n",
    "Space Complexity: O(1)</p>"
   ]
  },
  {
   "cell_type": "code",
   "execution_count": 4,
   "metadata": {},
   "outputs": [],
   "source": [
    "class Solution:\n",
    "    def oddEven (ob,n):\n",
    "        # code here \n",
    "        if n & 1: return \"odd\"\n",
    "        else: return \"even\""
   ]
  },
  {
   "cell_type": "markdown",
   "metadata": {},
   "source": [
    "<h3>4. Check if a number is power of 2 or not</h3>\n",
    "<a href=\"https://leetcode.com/problems/power-of-two/description/\">Problem Link</a>\n",
    "<p> \n",
    "Condition n > 0: Ensures the number is positive because only positive integers can be powers of two.\n",
    "\n",
    "Bitwise condition (n & n - 1) == 0:\n",
    "A power of two has exactly one bit set in its binary representation (e.g., 2 = 10, 4 = 100).\n",
    "Subtracting 1 flips all bits after the set bit (e.g., 4 - 1 = 3 (011)).\n",
    "n & (n - 1) clears the set bit, resulting in 0 if n is a power of two.\n",
    "<br><br>\n",
    "Time complexity: O(1)<br>\n",
    "Space Complexity: O(1)</p>"
   ]
  },
  {
   "cell_type": "code",
   "execution_count": 5,
   "metadata": {},
   "outputs": [],
   "source": [
    "class Solution:\n",
    "    def isPowerOfTwo(self, n: int) -> bool:\n",
    "        return n > 0 and (n & n - 1) == 0"
   ]
  },
  {
   "cell_type": "markdown",
   "metadata": {},
   "source": [
    "<h3>5. Count the number of set bits</h3>\n",
    "<a href=\"https://www.geeksforgeeks.org/problems/count-total-set-bits-1587115620/1\">Problem Link</a>\n",
    "<p> \n",
    "i represents the current bit position (1, 2, 4, ...):\n",
    "For each bit position, it computes:\n",
    "How many full groups of size 2*i exist.\n",
    "How many leftover bits remain.\n",
    "Adds contributions of 1s from both full groups and leftover bits to total_setbit.\n",
    "\n",
    "Key Operations:\n",
    "((n+1)//(2*i))*i: Calculates total set bits contributed by full groups of i.\n",
    "((n+1)%(2*i))-i: Calculates set bits from leftover numbers.\n",
    "i <<= 1: Doubles i (move to the next bit position).\n",
    "<br><br>\n",
    "Time complexity: O(log n)<br>\n",
    "Space Complexity: O(1)</p>"
   ]
  },
  {
   "cell_type": "code",
   "execution_count": 6,
   "metadata": {},
   "outputs": [],
   "source": [
    "class Solution:\n",
    "    #Function to return sum of count of set bits in the integers from 1 to n.\n",
    "    def countSetBits(self,n):\n",
    "        total_setbit=0\n",
    "        i=1\n",
    "        while i<=n:\n",
    "            total_setbit+=((n+1)//(2*i))*i\n",
    "            if (n+1)%(2*i)>i:\n",
    "                total_setbit+=((n+1)%(2*i))-i\n",
    "            i<<=1\n",
    "        return total_setbit"
   ]
  },
  {
   "cell_type": "markdown",
   "metadata": {},
   "source": [
    "<h3>6. Set/Unset the rightmost unset bit</h3>\n",
    "<a href=\"https://www.geeksforgeeks.org/problems/set-the-rightmost-unset-bit4436/1\">Problem Link</a>\n",
    "<p> \n",
    "It computes n | (n + 1), where:\n",
    "n + 1 increments the number by 1.\n",
    "| (bitwise OR) ensures that the least significant 0 bit in n (if any) is set to 1.\n",
    "Effect: This operation changes the lowest unset bit (0) in n to 1.\n",
    "<br><br>\n",
    "Time complexity: O(1)<br>\n",
    "Space Complexity: O(1)</p>"
   ]
  },
  {
   "cell_type": "code",
   "execution_count": 7,
   "metadata": {},
   "outputs": [],
   "source": [
    "class Solution:\n",
    "\tdef setBit(self, n):\n",
    "\t    return n|(n+1)"
   ]
  },
  {
   "cell_type": "markdown",
   "metadata": {},
   "source": [
    "<h3>7. Swap two numbers</h3>\n",
    "<a href=\"https://www.geeksforgeeks.org/problems/swap-two-numbers3844/1\">Problem Link</a>\n",
    "<p> \n",
    "Use XOR\n",
    "<br><br>\n",
    "Time complexity: O(1)<br>\n",
    "Space Complexity: O(1)</p>"
   ]
  },
  {
   "cell_type": "code",
   "execution_count": 8,
   "metadata": {},
   "outputs": [],
   "source": [
    "class Solution:\n",
    "    def get(self, a, b):\n",
    "        #code here\n",
    "        a = a ^ b\n",
    "        b = a ^ b\n",
    "        a = a ^ b\n",
    "        return a, b"
   ]
  },
  {
   "cell_type": "markdown",
   "metadata": {},
   "source": [
    "<h3>8. Divide two integers without using multiplication, division and mod opera</h3>\n",
    "<a href=\"https://leetcode.com/problems/divide-two-integers/solutions/837822/python-clean-solution/\">Problem Link</a>\n",
    "<p> \n",
    "Sign Calculation: The sign variable is set based on whether the dividend and divisor have the same or opposite signs, determined by XOR (^).\n",
    "\n",
    "Absolute Values: Both dividend and divisor are converted to their absolute values to simplify the division.\n",
    "\n",
    "Division Using Bit Shifting: The loop checks for powers of 2 (divisor << power) to subtract the largest possible multiples of divisor from dividend, and adds the corresponding bit values to ans. \n",
    "This step in detail:\n",
    "Iterate over all possible powers of 2 (from 31 down to 0).\n",
    "Use bitwise left shift (divisor << power) to multiply the divisor by 2^power.\n",
    "Check if the shifted divisor fits into the current dividend. If so:\n",
    "Add the corresponding 2^power to the result (ans).\n",
    "Subtract the shifted divisor from the dividend.\n",
    "This simulates the division process by repeatedly subtracting multiples of the divisor.\n",
    "\n",
    "Sign Adjustment: The result is adjusted to reflect the correct sign.\n",
    "\n",
    "Overflow Handling: The result is checked for overflow (outside the 32-bit integer range) and capped if necessary.\n",
    "<br><br>\n",
    "Time complexity: O(1)<br>\n",
    "Space Complexity: O(1)</p>"
   ]
  },
  {
   "cell_type": "code",
   "execution_count": 9,
   "metadata": {},
   "outputs": [],
   "source": [
    "class Solution:\n",
    "    def divide(self, dividend: int, divisor: int) -> int:\n",
    "        \n",
    "        sign = +1 if dividend ^ divisor >= 0 else -1\n",
    "        \n",
    "        dividend, divisor = abs(dividend), abs(divisor)\n",
    "\n",
    "        ans = 0      \n",
    "        \n",
    "        for power in range(31, -1, -1) :\n",
    "            if (divisor << power) <= dividend:\n",
    "                ans += (1 << power)\n",
    "                dividend -= (divisor << power)\n",
    "           \n",
    "        ans = ans * sign\n",
    "        \n",
    "        if not (-2**31 <= ans <= 2**31-1):\n",
    "            return 2**31 - 1\n",
    "        else:\n",
    "            return ans"
   ]
  },
  {
   "cell_type": "markdown",
   "metadata": {},
   "source": [
    "<h2>Medium problem</h2>"
   ]
  },
  {
   "cell_type": "markdown",
   "metadata": {},
   "source": [
    "<h3>1. Count minimum number of bits to be flipped to convert A to B</h3>\n",
    "<a href=\"https://leetcode.com/problems/minimum-bit-flips-to-convert-number/solutions/5770286/one-liner-solution-as-fast-as-wind-shortest-fastest-easiest-full-explanation/\">Problem Link</a>\n",
    "<p> \n",
    "Iteratively counts 1s in the XOR result:\n",
    "\n",
    "Checks the least significant bit (xor_result & 1).\n",
    "Right shifts the result (xor_result >>= 1) to process the next bit.\n",
    "<br><br>\n",
    "Time complexity: O(n)<br>\n",
    "Space Complexity: O(1)</p>"
   ]
  },
  {
   "cell_type": "code",
   "execution_count": 10,
   "metadata": {},
   "outputs": [],
   "source": [
    "# Built-in approach\n",
    "class Solution:\n",
    "    def minBitFlips(self, start: int, goal: int) -> int:\n",
    "        return bin(start ^ goal).count('1')\n",
    "\n",
    "# Manual approach\n",
    "class Solution:\n",
    "    def minBitFlips(self, start: int, goal: int) -> int:\n",
    "        xor_result = start ^ goal\n",
    "        count = 0\n",
    "        while xor_result:\n",
    "            count += xor_result & 1\n",
    "            xor_result >>= 1\n",
    "        return count"
   ]
  },
  {
   "cell_type": "markdown",
   "metadata": {},
   "source": [
    "<h3>2. Find the number that appears odd number of times</h3>\n",
    "<a href=\"https://leetcode.com/problems/single-number/solutions/6026000/0-ms-runtime-beats-100-user-step-by-steps-solution-easy-to-understand/\">Problem Link</a>\n",
    "<p> \n",
    "Logic: The XOR (^) operation has these properties:\n",
    "x ^ x = 0 (an element XORed with itself is 0).\n",
    "x ^ 0 = x (an element XORed with 0 is itself).\n",
    "XOR is commutative and associative.\n",
    "<br><br>\n",
    "Time complexity: O(n)<br>\n",
    "Space Complexity: O(1)</p>"
   ]
  },
  {
   "cell_type": "code",
   "execution_count": 11,
   "metadata": {},
   "outputs": [],
   "source": [
    "from typing import List\n",
    "\n",
    "class Solution:\n",
    "    def singleNumber(self, nums: List[int]) -> int:\n",
    "        result = 0\n",
    "        for num in nums:\n",
    "            result ^= num\n",
    "        return result"
   ]
  },
  {
   "cell_type": "markdown",
   "metadata": {},
   "source": [
    "<h3>3. Power Set</h3>\n",
    "<a href=\"https://leetcode.com/problems/subsets/solutions/5584602/easy-simple-solution-python/\">Problem Link</a>\n",
    "<p> \n",
    "Outer loop: Iterates through all integers i from 0 to \n",
    "2^len(nums) − 1. Each i represents a subset.\n",
    "\n",
    "Inner loop: For each bit in i (from least significant to most), checks if the bit is set using (i >> j) & 1.\n",
    "If the bit is set, the corresponding element nums[j] is included in the subset.\n",
    "\n",
    "The subset b is built for each i and appended to the result list a.\n",
    "<br><br>\n",
    "Time complexity: O(n . 2^n)<br>\n",
    "Space Complexity: O(n . 2^n)</p>"
   ]
  },
  {
   "cell_type": "code",
   "execution_count": 12,
   "metadata": {},
   "outputs": [],
   "source": [
    "class Solution:\n",
    "    def subsets(self, nums: List[int]) -> List[List[int]]:\n",
    "        a = []\n",
    "        for i in range(2**len(nums)):\n",
    "            b = []\n",
    "            for j in range(len(nums)):\n",
    "                if (i >> j) & 1:\n",
    "                    b.append(nums[j])\n",
    "            a.append(b)\n",
    "        return a"
   ]
  },
  {
   "cell_type": "markdown",
   "metadata": {},
   "source": [
    "<h3>4. Find xor of numbers from L to R</h3>\n",
    "<a href=\"https://www.geeksforgeeks.org/problems/find-xor-of-numbers-from-l-to-r/1?utm_source=youtube&utm_medium=collab_striver_ytdescription&utm_campaign=find-xor-of-numbers-from-l-to-r\">Problem Link</a>\n",
    "<p> \n",
    "xor_upto(n) Function:\n",
    "\n",
    "Computes the XOR of all numbers from 0 to n based on the cyclic pattern:\n",
    "If n % 4 == 0, result is n.\n",
    "If n % 4 == 1, result is 1.\n",
    "If n % 4 == 2, result is n + 1.\n",
    "If n % 4 == 3, result is 0.\n",
    "XOR from l to r:\n",
    "\n",
    "Uses the property of XOR: XOR(a to b) = xor_upto(b) ^ xor_upto(a-1).\n",
    "Computes the XOR of all numbers between l and r.\n",
    "\n",
    "<br><br>\n",
    "Time complexity: O(1)<br>\n",
    "Space Complexity: O(1)</p>"
   ]
  },
  {
   "cell_type": "code",
   "execution_count": 13,
   "metadata": {},
   "outputs": [],
   "source": [
    "class Solution:\n",
    "    def findXOR(self, l, r):\n",
    "        # Code here\n",
    "        def xor_upto(n):\n",
    "            if n % 4 == 0:\n",
    "                return n\n",
    "            elif n % 4 == 1:\n",
    "                return 1\n",
    "            elif n % 4 == 2:\n",
    "                return n + 1\n",
    "            else:  # n % 4 == 3\n",
    "                return 0\n",
    "    \n",
    "    # XOR from l to r\n",
    "        return xor_upto(r) ^ xor_upto(l - 1)"
   ]
  },
  {
   "cell_type": "markdown",
   "metadata": {},
   "source": [
    "<h3>5. Find the two numbers appearing odd number of times</h3>\n",
    "<a href=\"https://www.geeksforgeeks.org/problems/two-numbers-with-odd-occurrences5846/1\">Problem Link</a>\n",
    "<p> \n",
    "XOR all elements: The first loop calculates the XOR of all elements (xor_all). Since XORing a number with itself cancels out, only the XOR of the two odd-occurring numbers remains.\n",
    "\n",
    "Find rightmost set bit: The second step isolates the rightmost set bit of xor_all, which helps distinguish the two odd numbers based on whether they have this bit set.\n",
    "\n",
    "Partition and XOR separately: The array is partitioned into two groups based on the rightmost set bit, and the XOR operation is performed separately for each group. This results in two numbers, one from each group, which are the odd-appearing numbers.\n",
    "\n",
    "<br><br>\n",
    "Time complexity: O(n)<br>\n",
    "Space Complexity: O(1)</p>"
   ]
  },
  {
   "cell_type": "code",
   "execution_count": 14,
   "metadata": {},
   "outputs": [],
   "source": [
    "def twoOddNum(Arr, N):\n",
    "    # Step 1: Find XOR of all elements\n",
    "    xor_all = 0\n",
    "    for num in Arr:\n",
    "        xor_all ^= num\n",
    "    \n",
    "    # Step 2: Find the rightmost set bit in xor_all\n",
    "    rightmost_set_bit = xor_all & -xor_all  # Isolates the lowest set bit\n",
    "    \n",
    "    # Step 3: Partition the numbers into two groups and XOR separately\n",
    "    num1 = 0\n",
    "    num2 = 0\n",
    "    for num in Arr:\n",
    "        if num & rightmost_set_bit:\n",
    "            num1 ^= num\n",
    "        else:\n",
    "            num2 ^= num\n",
    "    \n",
    "    # Step 4: Sort in decreasing order\n",
    "    return [max(num1, num2), min(num1, num2)]"
   ]
  },
  {
   "cell_type": "markdown",
   "metadata": {},
   "source": [
    "<h2> Hard problems </h2>\n",
    "<h3>Advanced Math. Not bit manipulation.</h3>"
   ]
  },
  {
   "cell_type": "markdown",
   "metadata": {},
   "source": [
    "<h3>1. Print Prime Factors of a Number</h3>\n",
    "<a href=\"https://www.geeksforgeeks.org/problems/prime-factors5052/1?utm_source=youtube&utm_medium=collab_striver_ytdescription&utm_campaign=Prime-Factors\">Problem Link</a>\n",
    "<p> \n",
    "To solve the problem using Python, you can utilize the fact that finding prime factors doesn't directly involve bit manipulation but rather efficient factorization methods. Bit manipulation isn't naturally suited for prime factorization, but we can focus on optimizing the process with mathematical properties.\n",
    "\n",
    "Divisibility by 2:\n",
    "The number is checked for divisibility by 2. If divisible, 2 is added to the result, and the number is continuously divided by 2 until it’s no longer divisible.\n",
    "\n",
    "Divisibility by odd numbers:\n",
    "Start checking from 3 up to the square root of the number. Only odd numbers are checked since all even numbers (besides 2) cannot be prime.\n",
    "\n",
    "Prime number greater than the square root:\n",
    "If the reduced number N>2, it’s prime and added to the result.\n",
    "<br><br>\n",
    "Time complexity: O(n^(1/2))<br>\n",
    "Space Complexity: O(1)</p>"
   ]
  },
  {
   "cell_type": "code",
   "execution_count": 15,
   "metadata": {},
   "outputs": [],
   "source": [
    "class Solution:\n",
    "    def AllPrimeFactors(self, N):\n",
    "\t\t# Code here\n",
    "\t\t# List to store the unique prime factors\n",
    "        prime_factors = []\n",
    "\n",
    "        # Check for divisibility by 2 (the only even prime)\n",
    "        if N % 2 == 0:\n",
    "            prime_factors.append(2)\n",
    "            while N % 2 == 0:\n",
    "                N //= 2\n",
    "\n",
    "        # Check for odd factors from 3 up to sqrt(N)\n",
    "        factor = 3\n",
    "        while factor * factor <= N:\n",
    "            if N % factor == 0:\n",
    "                prime_factors.append(factor)\n",
    "                while N % factor == 0:\n",
    "                    N //= factor\n",
    "            factor += 2\n",
    "\n",
    "        # If N is still greater than 2, it must be a prime factor\n",
    "        if N > 2:\n",
    "            prime_factors.append(N)\n",
    "\n",
    "        return prime_factors"
   ]
  },
  {
   "cell_type": "markdown",
   "metadata": {},
   "source": [
    "<h3>2. All Divisors of a Number</h3>\n",
    "<a href=\"https://www.geeksforgeeks.org/problems/all-divisors-of-a-number/1?utm_source=youtube&amp%3Butm_medium=collab_striver_ytdescription&amp%3Butm_campaign=all-divisors-of-a-number\">Problem Link</a>\n",
    "<p> \n",
    "Divisors Come in Pairs: \n",
    "For a number N, divisors appear in pairs, e.g., (1,20),(2,10),(4,5) for N=20. By iterating only up to N, we find all divisors efficiently.\n",
    "\n",
    "Efficient Iteration:\n",
    "For each i from 1 to N:\n",
    "If N%i==0, both i and N/i are divisors.\n",
    "Avoid duplicates by checking if i==N/i.\n",
    "\n",
    "Sorting:\n",
    "After collecting divisors, sort them to ensure ascending order.\n",
    "<br><br>\n",
    "Time complexity: O(n^(1/2))<br>\n",
    "Space Complexity: O(n^(1/2))</p>"
   ]
  },
  {
   "cell_type": "code",
   "execution_count": 16,
   "metadata": {},
   "outputs": [],
   "source": [
    "class Solution:\n",
    "    def print_divisors(self, N):\n",
    "        # code here\n",
    "         # List to store divisors\n",
    "        divisors = []\n",
    "\n",
    "        # Iterate from 1 to sqrt(N)\n",
    "        for i in range(1, int(N**0.5) + 1):\n",
    "            if N % i == 0:\n",
    "                # Add both i and N // i to the list\n",
    "                divisors.append(i)\n",
    "                if i != N // i:\n",
    "                    divisors.append(N // i)\n",
    "\n",
    "        # Sort divisors in ascending order\n",
    "        divisors.sort()\n",
    "\n"
   ]
  },
  {
   "cell_type": "markdown",
   "metadata": {},
   "source": [
    "<h3>3. Sieve of Eratosthenes</h3>\n",
    "<a href=\"https://leetcode.com/problems/count-primes/solutions/5379921/understand-sieve-of-erasthonese-c-java-python/\">Problem Link</a>\n",
    "<p> \n",
    "The Sieve of Eratosthenes works by iteratively marking multiples of prime numbers as composite.\n",
    "\n",
    "By starting with 2 (the smallest prime), the algorithm ensures that all smaller multiples are already marked as composite.\n",
    "\n",
    "As the outer loop progresses, it considers each prime number and eliminates its multiples from the potential prime list.\n",
    "\n",
    "The prime array acts as a flag system, effectively keeping track of which numbers are still considered prime candidates.\n",
    "\n",
    "Finally, the code counts the remaining elements marked as 1 (prime) in the prime array to determine the total number of primes.\n",
    "<br><br>\n",
    "Time complexity: O(n * log log n)<br>\n",
    "Space Complexity: O(n)</p>"
   ]
  },
  {
   "cell_type": "code",
   "execution_count": 17,
   "metadata": {},
   "outputs": [],
   "source": [
    "class Solution(object):\n",
    "    def countPrimes(self, n):\n",
    "        \"\"\"\n",
    "        :type n: int\n",
    "        :rtype: int\n",
    "        \"\"\"\n",
    "        prime = [1] * n\n",
    "        for i in range(2, int(n**0.5) + 1):\n",
    "            if prime[i] == 1:\n",
    "                for j in range(i*i, n, i):\n",
    "                    prime[j] = 0\n",
    "        \n",
    "        ans = 0\n",
    "        for i in range(2, n):\n",
    "            if prime[i] == 1:\n",
    "                ans += 1\n",
    "        \n",
    "        return ans"
   ]
  },
  {
   "cell_type": "markdown",
   "metadata": {},
   "source": [
    "<h3>4. Find Prime Factorisation of a Number using Sieve</h3>\n",
    "<a href=\"https://www.geeksforgeeks.org/problems/prime-factorization-using-sieve/1?utm_source=youtube&utm_medium=collab_striver_ytdescription&utm_campaign=prime-factorization-using-sieve\">Problem Link</a>\n",
    "<p> \n",
    "Prime Checking Function (prime):\n",
    "Checks whether a number n is prime by trial division up to n.\n",
    "This is a straightforward check but can be optimized by using the sieve.\n",
    "\n",
    "Sieve of Eratosthenes (sieveN):\n",
    "Generates all primes up to a given limit using the sieve of Eratosthenes.\n",
    "This is efficient for finding all primes up to n, which are needed to factor n.\n",
    "\n",
    "Finding Prime Factors (findPrimeFactors):\n",
    "First, generates a list of primes up to n using sieveN.\n",
    "Then, checks for each prime divisor and repeatedly divides n by the prime to find all its occurrences.\n",
    "If n is greater than 1 after processing all primes up to n, it adds n as a prime factor.\n",
    "<br><br>\n",
    "Time complexity: O(n^(1/2)log log n)<br>\n",
    "Space Complexity: O(n^(1/2))</p>"
   ]
  },
  {
   "cell_type": "code",
   "execution_count": 18,
   "metadata": {},
   "outputs": [],
   "source": [
    "class Solution:\n",
    "    def prime(self, n):\n",
    "        if n <= 1:\n",
    "            return False\n",
    "        for i in range(2, int(n**0.5) + 1):\n",
    "            if n % i == 0:\n",
    "                return False\n",
    "        return True\n",
    "    def sieve(self):\n",
    "        pass\n",
    "    def sieveN(self, limit):\n",
    "        is_prime = [True] * (limit + 1)\n",
    "        is_prime[0] = is_prime[1] = False\n",
    "        for i in range(2, int(limit**0.5) + 1):\n",
    "            if is_prime[i]:\n",
    "                for j in range(i * i, limit + 1, i):\n",
    "                    is_prime[j] = False\n",
    "        return [i for i in range(2, limit + 1) if is_prime[i]]\n",
    "\n",
    "    def findPrimeFactors(self, n):\n",
    "        ans = []\n",
    "        limit = int(n**0.5) + 1\n",
    "        primes = self.sieveN(limit)\n",
    "        \n",
    "        for prime in primes:\n",
    "            while n % prime == 0:\n",
    "                n //= prime\n",
    "                ans.append(prime)\n",
    "                \n",
    "        if n > 1:\n",
    "            ans.append(n)\n",
    "            \n",
    "        return ans"
   ]
  },
  {
   "cell_type": "markdown",
   "metadata": {},
   "source": [
    "<h3>5. Power(n, x)</h3>\n",
    "<a href=\"https://leetcode.com/problems/powx-n/submissions/1461749975/\">Problem Link</a>\n",
    "<p> \n",
    "Special Cases:\n",
    "If n=0, return 1 (since x^0 = 1).\n",
    "If n<0, compute x − nby inverting x and making n positive.\n",
    "\n",
    "Binary Exponentiation:\n",
    "For n, iterate while n>0:\n",
    "If the current bit of n is 1, multiply the result by the current base.\n",
    "Square the base and halve n (shift right).\n",
    "<br><br>\n",
    "Time complexity: O(log n)<br>\n",
    "Space Complexity: O(1)</p>"
   ]
  },
  {
   "cell_type": "code",
   "execution_count": 19,
   "metadata": {},
   "outputs": [],
   "source": [
    "class Solution:\n",
    "    def myPow(self, x: float, n: int) -> float:\n",
    "        # Handle special cases\n",
    "        if n == 0:\n",
    "            return 1\n",
    "        if n < 0:\n",
    "            x = 1 / x\n",
    "            n = -n\n",
    "        \n",
    "        return self.binary_exponentiation(x, n)\n",
    "\n",
    "    def binary_exponentiation(self, x, n):\n",
    "        result = 1  # Initialize result\n",
    "        base = x  # Start with x^1\n",
    "\n",
    "        while n > 0:\n",
    "            # If the current bit in n's binary form is 1, multiply the result by base\n",
    "            if n % 2 == 1:\n",
    "                result *= base\n",
    "            \n",
    "            # Square the base for the next bit and shift n to the right\n",
    "            base *= base\n",
    "            n //= 2\n",
    "\n",
    "        return result\n"
   ]
  }
 ],
 "metadata": {
  "kernelspec": {
   "display_name": "Python 3",
   "language": "python",
   "name": "python3"
  },
  "language_info": {
   "codemirror_mode": {
    "name": "ipython",
    "version": 3
   },
   "file_extension": ".py",
   "mimetype": "text/x-python",
   "name": "python",
   "nbconvert_exporter": "python",
   "pygments_lexer": "ipython3",
   "version": "3.12.4"
  }
 },
 "nbformat": 4,
 "nbformat_minor": 2
}
