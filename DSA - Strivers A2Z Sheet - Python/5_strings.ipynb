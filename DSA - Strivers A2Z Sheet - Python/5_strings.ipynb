{
 "cells": [
  {
   "cell_type": "markdown",
   "metadata": {},
   "source": [
    "<h1>Strings</h1>"
   ]
  },
  {
   "cell_type": "markdown",
   "metadata": {},
   "source": [
    "<h2>Easy</h2>"
   ]
  },
  {
   "cell_type": "markdown",
   "metadata": {},
   "source": [
    "<h3>1. Matrix Median</h3>\n",
    "<a href=\"https://leetcode.com/problems/remove-outermost-parentheses/\">Problem Link</a>\n",
    "<p>Check the comments.<br><br>\n",
    "Time complexity: O(n)<br>\n",
    "Space Complexity: O(n)</p>"
   ]
  },
  {
   "cell_type": "code",
   "execution_count": 1,
   "metadata": {},
   "outputs": [
    {
     "name": "stdout",
     "output_type": "stream",
     "text": [
      "()()()\n"
     ]
    }
   ],
   "source": [
    "def removeOuterParentheses(s):\n",
    "    result = \"\"  # To store the final result\n",
    "    balance = 0  # To keep track of the balance of parentheses\n",
    "\n",
    "    # Iterate through each character in the string\n",
    "    for char in s:\n",
    "        if char == '(':\n",
    "            # If balance is greater than 0, it means this '(' is not an\n",
    "            # outermost parenthesis\n",
    "            if balance > 0:\n",
    "                result += char  # Add the character to the result\n",
    "            balance += 1  # Increase the balance for '('\n",
    "        else:\n",
    "            balance -= 1  # Decrease the balance for ')'\n",
    "            # If balance is greater than 0, it means this ')' is not an\n",
    "            # outermost parenthesis\n",
    "            if balance > 0:\n",
    "                result += char  # Add the character to the result\n",
    "\n",
    "    return result  # Return the final result after removing outermost parentheses\n",
    "s = \"(()())(())\"\n",
    "print(removeOuterParentheses(s))"
   ]
  },
  {
   "cell_type": "markdown",
   "metadata": {},
   "source": [
    "<h3>2. Reverse words in a given string </h3>\n",
    "<a href=\"https://leetcode.com/problems/reverse-words-in-a-string/\">Problem Link</a>\n",
    "<p>Two pointer concept. Left in first index, Right in last index. Swap till left < right.<br><br>\n",
    "Time complexity: O(n)<br>\n",
    "Space Complexity: O(n)</p>"
   ]
  },
  {
   "cell_type": "code",
   "execution_count": 2,
   "metadata": {},
   "outputs": [
    {
     "name": "stdout",
     "output_type": "stream",
     "text": [
      "blue is sky the\n"
     ]
    }
   ],
   "source": [
    "def reverseWords(s):\n",
    "    words = s.split()\n",
    "    left, right = 0, len(words) - 1\n",
    "\n",
    "    while left < right:\n",
    "        words[left], words[right] = words[right], words[left]\n",
    "        left += 1\n",
    "        right -= 1\n",
    "\n",
    "    return \" \".join(words)\n",
    "s = \"the sky is blue\"\n",
    "print(reverseWords(s))"
   ]
  },
  {
   "cell_type": "markdown",
   "metadata": {},
   "source": [
    "<h3>3. Largest Odd Number in String</h3>\n",
    "<a href=\"https://leetcode.com/problems/largest-odd-number-in-string/\">Problem Link</a>\n",
    "<p>Iterate from the left side and return the string till that point when you first come across an odd number.<br><br>\n",
    "Time complexity: O(n)<br>\n",
    "Space Complexity: O(1)</p>"
   ]
  },
  {
   "cell_type": "code",
   "execution_count": 3,
   "metadata": {},
   "outputs": [
    {
     "name": "stdout",
     "output_type": "stream",
     "text": [
      "35427\n"
     ]
    }
   ],
   "source": [
    "def largestOddNumber(num):\n",
    "    for i in range(len(num) - 1, -1, -1):\n",
    "        if int(num[i]) % 2 == 1:\n",
    "            return num[:i+1]\n",
    "    \n",
    "    return \"\"\n",
    "num = \"35427\"\n",
    "print(largestOddNumber(num))"
   ]
  },
  {
   "cell_type": "markdown",
   "metadata": {},
   "source": [
    "<h3>4. Longest Common Prefix</h3>\n",
    "<a href=\"https://leetcode.com/problems/longest-common-prefix/\">Problem Link</a>\n",
    "<p>Assume one string is the prefix and check the others. Shorten the prefix if the current string does not start with the assumed prefix. If the prefix becomes an empty string, we can return \"\" immediately since there is no common prefix.<br><br>\n",
    "Time complexity: (O(S)), where (S) is the sum of all characters in all strings<br>\n",
    "Space Complexity: O(1)</p>"
   ]
  },
  {
   "cell_type": "code",
   "execution_count": 4,
   "metadata": {},
   "outputs": [
    {
     "name": "stdout",
     "output_type": "stream",
     "text": [
      "fl\n"
     ]
    }
   ],
   "source": [
    "def longestCommonPrefix(strs):\n",
    "    if not strs:\n",
    "        return \"\"\n",
    "    prefix = strs[0]\n",
    "    for s in strs[1:]:\n",
    "        while not s.startswith(prefix):\n",
    "            prefix = prefix[:-1]\n",
    "            if not prefix:\n",
    "                return \"\"\n",
    "    return prefix\n",
    "strs = [\"flower\",\"flow\",\"flight\"]\n",
    "print(longestCommonPrefix(strs))"
   ]
  },
  {
   "cell_type": "markdown",
   "metadata": {},
   "source": [
    "<h3>5. Isomorphic Strings</h3>\n",
    "<a href=\"https://leetcode.com/problems/isomorphic-strings/description/\">Problem Link</a>\n",
    "<p>Use ditionary and store the index of each unique character and compare the two indexes in each iteration.<br><br>\n",
    "Time complexity: O(n)<br>\n",
    "Space Complexity: O(k) where k is the number of unique characters in the strings</p>"
   ]
  },
  {
   "cell_type": "code",
   "execution_count": 5,
   "metadata": {},
   "outputs": [
    {
     "name": "stdout",
     "output_type": "stream",
     "text": [
      "True\n"
     ]
    }
   ],
   "source": [
    "def isIsomorphic(s, t):\n",
    "    char_index_s = {}\n",
    "    char_index_t = {}\n",
    "\n",
    "    for i in range(len(s)):\n",
    "        if s[i] not in char_index_s:\n",
    "            char_index_s[s[i]] = i\n",
    "\n",
    "        if t[i] not in char_index_t:\n",
    "            char_index_t[t[i]] = i\n",
    "        \n",
    "        if char_index_s[s[i]] != char_index_t[t[i]]:\n",
    "            return False\n",
    "\n",
    "    return True\n",
    "s = \"egg\"\n",
    "t = \"add\"\n",
    "print(isIsomorphic(s,t))\n"
   ]
  },
  {
   "cell_type": "markdown",
   "metadata": {},
   "source": [
    "<h3>6. Rotate String</h3>\n",
    "<a href=\"https://leetcode.com/problems/rotate-string/description/\">Problem Link</a>\n",
    "<p>The intuition is if s = \"abcde\", then s + s = \"abcdeabcde\" contains all rotations: \"abcde\", \"bcdea\", \"cdeab\", \"deabc\", \"eabcd\".<br><br>\n",
    "Time complexity: O(n)<br>\n",
    "Space Complexity: O(n)</p>"
   ]
  },
  {
   "cell_type": "code",
   "execution_count": 6,
   "metadata": {},
   "outputs": [
    {
     "name": "stdout",
     "output_type": "stream",
     "text": [
      "True\n"
     ]
    }
   ],
   "source": [
    "def rotateString(s, goal):\n",
    "    if len(s) != len(goal):\n",
    "        return False\n",
    "    return goal in s + s\n",
    "s = \"abcde\"\n",
    "goal = \"cdeab\"\n",
    "print(rotateString(s,goal))"
   ]
  },
  {
   "cell_type": "markdown",
   "metadata": {},
   "source": [
    "<h3>7. Valid Anagram</h3>\n",
    "<a href=\"https://leetcode.com/problems/valid-anagram/description/\">Problem Link</a>\n",
    "<p>Use hash table. Increase the count by of each char in the hash table for one string and decrease the count for each char in the hash table for the other string. Go through the values of the hash table and return false if there are any non zero values, else return true. <br><br>\n",
    "Time complexity: O(n)<br>\n",
    "Space Complexity: O(n)</p>"
   ]
  },
  {
   "cell_type": "code",
   "execution_count": 7,
   "metadata": {},
   "outputs": [
    {
     "name": "stdout",
     "output_type": "stream",
     "text": [
      "True\n"
     ]
    }
   ],
   "source": [
    "from collections import defaultdict\n",
    "def isAnagram(s, t):\n",
    "    count = defaultdict(int)\n",
    "    \n",
    "    # Count the frequency of characters in string s\n",
    "    for x in s:\n",
    "        count[x] += 1\n",
    "    \n",
    "    # Decrement the frequency of characters in string t\n",
    "    for x in t:\n",
    "        count[x] -= 1\n",
    "    \n",
    "    # Check if any character has non-zero frequency\n",
    "    for val in count.values():\n",
    "        if val != 0:\n",
    "            return False\n",
    "    \n",
    "    return True\n",
    "s = \"anagram\"\n",
    "t = \"nagaram\"\n",
    "print(isAnagram(s,t))"
   ]
  },
  {
   "cell_type": "code",
   "execution_count": 8,
   "metadata": {},
   "outputs": [
    {
     "name": "stdout",
     "output_type": "stream",
     "text": [
      "True\n"
     ]
    }
   ],
   "source": [
    "def isAnagram(s, t):\n",
    "    count = [0] * 26\n",
    "    \n",
    "    # Count the frequency of characters in string s\n",
    "    for x in s:\n",
    "        count[ord(x) - ord('a')] += 1\n",
    "    \n",
    "    # Decrement the frequency of characters in string t\n",
    "    for x in t:\n",
    "        count[ord(x) - ord('a')] -= 1\n",
    "    \n",
    "    # Check if any character has non-zero frequency\n",
    "    for val in count:\n",
    "        if val != 0:\n",
    "            return False\n",
    "    \n",
    "    return True\n",
    "s = \"anagram\"\n",
    "t = \"nagaram\"\n",
    "print(isAnagram(s,t))"
   ]
  }
 ],
 "metadata": {
  "kernelspec": {
   "display_name": "Python 3",
   "language": "python",
   "name": "python3"
  },
  "language_info": {
   "codemirror_mode": {
    "name": "ipython",
    "version": 3
   },
   "file_extension": ".py",
   "mimetype": "text/x-python",
   "name": "python",
   "nbconvert_exporter": "python",
   "pygments_lexer": "ipython3",
   "version": "3.12.4"
  }
 },
 "nbformat": 4,
 "nbformat_minor": 2
}
