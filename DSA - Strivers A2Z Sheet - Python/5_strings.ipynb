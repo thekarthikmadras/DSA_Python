{
 "cells": [
  {
   "cell_type": "markdown",
   "metadata": {},
   "source": [
    "<h1>Strings</h1>"
   ]
  },
  {
   "cell_type": "markdown",
   "metadata": {},
   "source": [
    "<h2>Easy</h2>"
   ]
  },
  {
   "cell_type": "markdown",
   "metadata": {},
   "source": [
    "<h3>1. Matrix Median</h3>\n",
    "<a href=\"https://leetcode.com/problems/remove-outermost-parentheses/\">Problem Link</a>\n",
    "<p>Check the comments.<br><br>\n",
    "Time complexity: O(n)<br>\n",
    "Space Complexity: O(n)</p>"
   ]
  },
  {
   "cell_type": "code",
   "execution_count": 1,
   "metadata": {},
   "outputs": [
    {
     "name": "stdout",
     "output_type": "stream",
     "text": [
      "()()()\n"
     ]
    }
   ],
   "source": [
    "def removeOuterParentheses(s):\n",
    "    result = \"\"  # To store the final result\n",
    "    balance = 0  # To keep track of the balance of parentheses\n",
    "\n",
    "    # Iterate through each character in the string\n",
    "    for char in s:\n",
    "        if char == '(':\n",
    "            # If balance is greater than 0, it means this '(' is not an\n",
    "            # outermost parenthesis\n",
    "            if balance > 0:\n",
    "                result += char  # Add the character to the result\n",
    "            balance += 1  # Increase the balance for '('\n",
    "        else:\n",
    "            balance -= 1  # Decrease the balance for ')'\n",
    "            # If balance is greater than 0, it means this ')' is not an\n",
    "            # outermost parenthesis\n",
    "            if balance > 0:\n",
    "                result += char  # Add the character to the result\n",
    "\n",
    "    return result  # Return the final result after removing outermost parentheses\n",
    "s = \"(()())(())\"\n",
    "print(removeOuterParentheses(s))"
   ]
  },
  {
   "cell_type": "markdown",
   "metadata": {},
   "source": [
    "<h3>2. Reverse words in a given string </h3>\n",
    "<a href=\"https://leetcode.com/problems/reverse-words-in-a-string/\">Problem Link</a>\n",
    "<p>Two pointer concept. Left in first index, Right in last index. Swap till left < right.<br><br>\n",
    "Time complexity: O(n)<br>\n",
    "Space Complexity: O(n)</p>"
   ]
  },
  {
   "cell_type": "code",
   "execution_count": 2,
   "metadata": {},
   "outputs": [
    {
     "name": "stdout",
     "output_type": "stream",
     "text": [
      "blue is sky the\n"
     ]
    }
   ],
   "source": [
    "def reverseWords(s):\n",
    "    words = s.split()\n",
    "    left, right = 0, len(words) - 1\n",
    "\n",
    "    while left < right:\n",
    "        words[left], words[right] = words[right], words[left]\n",
    "        left += 1\n",
    "        right -= 1\n",
    "\n",
    "    return \" \".join(words)\n",
    "s = \"the sky is blue\"\n",
    "print(reverseWords(s))"
   ]
  },
  {
   "cell_type": "markdown",
   "metadata": {},
   "source": [
    "<h3>3. Largest Odd Number in String</h3>\n",
    "<a href=\"https://leetcode.com/problems/largest-odd-number-in-string/\">Problem Link</a>\n",
    "<p>Iterate from the left side and return the string till that point when you first come across an odd number.<br><br>\n",
    "Time complexity: O(n)<br>\n",
    "Space Complexity: O(1)</p>"
   ]
  },
  {
   "cell_type": "code",
   "execution_count": 3,
   "metadata": {},
   "outputs": [
    {
     "name": "stdout",
     "output_type": "stream",
     "text": [
      "35427\n"
     ]
    }
   ],
   "source": [
    "def largestOddNumber(num):\n",
    "    for i in range(len(num) - 1, -1, -1):\n",
    "        if int(num[i]) % 2 == 1:\n",
    "            return num[:i+1]\n",
    "    \n",
    "    return \"\"\n",
    "num = \"35427\"\n",
    "print(largestOddNumber(num))"
   ]
  },
  {
   "cell_type": "markdown",
   "metadata": {},
   "source": [
    "<h3>4. Longest Common Prefix</h3>\n",
    "<a href=\"https://leetcode.com/problems/longest-common-prefix/\">Problem Link</a>\n",
    "<p>Assume one string is the prefix and check the others. Shorten the prefix if the current string does not start with the assumed prefix. If the prefix becomes an empty string, we can return \"\" immediately since there is no common prefix.<br><br>\n",
    "Time complexity: (O(S)), where (S) is the sum of all characters in all strings<br>\n",
    "Space Complexity: O(1)</p>"
   ]
  },
  {
   "cell_type": "code",
   "execution_count": 4,
   "metadata": {},
   "outputs": [
    {
     "name": "stdout",
     "output_type": "stream",
     "text": [
      "fl\n"
     ]
    }
   ],
   "source": [
    "def longestCommonPrefix(strs):\n",
    "    if not strs:\n",
    "        return \"\"\n",
    "    prefix = strs[0]\n",
    "    for s in strs[1:]:\n",
    "        while not s.startswith(prefix):\n",
    "            prefix = prefix[:-1]\n",
    "            if not prefix:\n",
    "                return \"\"\n",
    "    return prefix\n",
    "strs = [\"flower\",\"flow\",\"flight\"]\n",
    "print(longestCommonPrefix(strs))"
   ]
  },
  {
   "cell_type": "markdown",
   "metadata": {},
   "source": [
    "<h3>5. Isomorphic Strings</h3>\n",
    "<a href=\"https://leetcode.com/problems/isomorphic-strings/description/\">Problem Link</a>\n",
    "<p>Use ditionary and store the index of each unique character and compare the two indexes in each iteration.<br><br>\n",
    "Time complexity: O(n)<br>\n",
    "Space Complexity: O(k) where k is the number of unique characters in the strings</p>"
   ]
  },
  {
   "cell_type": "code",
   "execution_count": 5,
   "metadata": {},
   "outputs": [
    {
     "name": "stdout",
     "output_type": "stream",
     "text": [
      "True\n"
     ]
    }
   ],
   "source": [
    "def isIsomorphic(s, t):\n",
    "    char_index_s = {}\n",
    "    char_index_t = {}\n",
    "\n",
    "    for i in range(len(s)):\n",
    "        if s[i] not in char_index_s:\n",
    "            char_index_s[s[i]] = i\n",
    "\n",
    "        if t[i] not in char_index_t:\n",
    "            char_index_t[t[i]] = i\n",
    "        \n",
    "        if char_index_s[s[i]] != char_index_t[t[i]]:\n",
    "            return False\n",
    "\n",
    "    return True\n",
    "s = \"egg\"\n",
    "t = \"add\"\n",
    "print(isIsomorphic(s,t))\n"
   ]
  },
  {
   "cell_type": "markdown",
   "metadata": {},
   "source": [
    "<h3>6. Rotate String</h3>\n",
    "<a href=\"https://leetcode.com/problems/rotate-string/description/\">Problem Link</a>\n",
    "<p>The intuition is if s = \"abcde\", then s + s = \"abcdeabcde\" contains all rotations: \"abcde\", \"bcdea\", \"cdeab\", \"deabc\", \"eabcd\".<br><br>\n",
    "Time complexity: O(n)<br>\n",
    "Space Complexity: O(n)</p>"
   ]
  },
  {
   "cell_type": "code",
   "execution_count": 6,
   "metadata": {},
   "outputs": [
    {
     "name": "stdout",
     "output_type": "stream",
     "text": [
      "True\n"
     ]
    }
   ],
   "source": [
    "def rotateString(s, goal):\n",
    "    if len(s) != len(goal):\n",
    "        return False\n",
    "    return goal in s + s\n",
    "s = \"abcde\"\n",
    "goal = \"cdeab\"\n",
    "print(rotateString(s,goal))"
   ]
  },
  {
   "cell_type": "markdown",
   "metadata": {},
   "source": [
    "<h3>7. Valid Anagram</h3>\n",
    "<a href=\"https://leetcode.com/problems/valid-anagram/description/\">Problem Link</a>\n",
    "<p>Use hash table. Increase the count by of each char in the hash table for one string and decrease the count for each char in the hash table for the other string. Go through the values of the hash table and return false if there are any non zero values, else return true. <br><br>\n",
    "Time complexity: O(n)<br>\n",
    "Space Complexity: O(n)</p>"
   ]
  },
  {
   "cell_type": "code",
   "execution_count": 7,
   "metadata": {},
   "outputs": [
    {
     "name": "stdout",
     "output_type": "stream",
     "text": [
      "True\n"
     ]
    }
   ],
   "source": [
    "from collections import defaultdict\n",
    "def isAnagram(s, t):\n",
    "    count = defaultdict(int)\n",
    "    \n",
    "    # Count the frequency of characters in string s\n",
    "    for x in s:\n",
    "        count[x] += 1\n",
    "    \n",
    "    # Decrement the frequency of characters in string t\n",
    "    for x in t:\n",
    "        count[x] -= 1\n",
    "    \n",
    "    # Check if any character has non-zero frequency\n",
    "    for val in count.values():\n",
    "        if val != 0:\n",
    "            return False\n",
    "    \n",
    "    return True\n",
    "s = \"anagram\"\n",
    "t = \"nagaram\"\n",
    "print(isAnagram(s,t))"
   ]
  },
  {
   "cell_type": "code",
   "execution_count": 8,
   "metadata": {},
   "outputs": [
    {
     "name": "stdout",
     "output_type": "stream",
     "text": [
      "True\n"
     ]
    }
   ],
   "source": [
    "def isAnagram(s, t):\n",
    "    count = [0] * 26\n",
    "    \n",
    "    # Count the frequency of characters in string s\n",
    "    for x in s:\n",
    "        count[ord(x) - ord('a')] += 1\n",
    "    \n",
    "    # Decrement the frequency of characters in string t\n",
    "    for x in t:\n",
    "        count[ord(x) - ord('a')] -= 1\n",
    "    \n",
    "    # Check if any character has non-zero frequency\n",
    "    for val in count:\n",
    "        if val != 0:\n",
    "            return False\n",
    "    \n",
    "    return True\n",
    "s = \"anagram\"\n",
    "t = \"nagaram\"\n",
    "print(isAnagram(s,t))"
   ]
  },
  {
   "cell_type": "markdown",
   "metadata": {},
   "source": [
    "<h2> Medium </h2>"
   ]
  },
  {
   "cell_type": "markdown",
   "metadata": {},
   "source": [
    "<h3>1. Sort Characters By Frequency</h3>\n",
    "<a href=\"https://leetcode.com/problems/sort-characters-by-frequency/\">Problem Link</a>\n",
    "<p>freq[c] = 1 + freq.get(c, 0) updates the frequency of character c in the dictionary. If c is already in the dictionary, it increments its count by 1. If c is not in the dictionary, freq.get(c, 0) returns 0, and the count is set to 1.<br><br>\n",
    "Time complexity: O(n+klogk)<br>\n",
    "Space Complexity: O(n)</p>"
   ]
  },
  {
   "cell_type": "code",
   "execution_count": 9,
   "metadata": {},
   "outputs": [
    {
     "name": "stdout",
     "output_type": "stream",
     "text": [
      "eetr\n"
     ]
    }
   ],
   "source": [
    "def frequencySort(s: str):\n",
    "    freq = {}\n",
    "\n",
    "    for c in s:\n",
    "        freq[c] = 1 + freq.get(c, 0)\n",
    "\n",
    "    freq = sorted(freq.items(), key=lambda x: -x[1])\n",
    "\n",
    "    return ''.join([key * val for key, val in freq])\n",
    "s = \"tree\"\n",
    "print(frequencySort(s))"
   ]
  },
  {
   "cell_type": "markdown",
   "metadata": {},
   "source": [
    "<h3>2. Maximum Nesting Depth of the Parentheses</h3>\n",
    "<a href=\"https://leetcode.com/problems/maximum-nesting-depth-of-the-parentheses/\">Problem Link</a>\n",
    "<p>Initialize a counter to keep track of the current depth (counter) and a variable to store the maximum depth encountered so far (maxContent).\n",
    "Iterate through each character in the input string.\n",
    "If the character is an opening parenthesis, increment the counter and update maxContent if the current depth is greater than maxContent.\n",
    "If the character is a closing parenthesis, decrement the counter and update maxContent if the current depth is greater than maxContent.\n",
    "Return maxContent as the result.<br><br>\n",
    "Time complexity: O(n)<br>\n",
    "Space Complexity: O(1)</p>"
   ]
  },
  {
   "cell_type": "code",
   "execution_count": 10,
   "metadata": {},
   "outputs": [
    {
     "name": "stdout",
     "output_type": "stream",
     "text": [
      "3\n"
     ]
    }
   ],
   "source": [
    "def maxDepth(s):\n",
    "    counter = 0\n",
    "    max_content = 0\n",
    "    for char in s:\n",
    "        if char == '(':\n",
    "            counter += 1\n",
    "            max_content = max(max_content, counter)\n",
    "        elif char == ')':\n",
    "            counter -= 1\n",
    "            max_content = max(max_content, counter)\n",
    "    return max_content\n",
    "s = \"(1+(2*3)+((8)/4))+1\"\n",
    "print(maxDepth(s))"
   ]
  },
  {
   "cell_type": "markdown",
   "metadata": {},
   "source": [
    "<h3>3. Roman to Integer</h3>\n",
    "<a href=\"https://leetcode.com/problems/roman-to-integer/\">Problem Link</a>\n",
    "<p>Define a mapping of Roman numerals to their integer values.\n",
    "Traverse each character in the string:\n",
    "If the current numeral is less than the next one, subtract its value from the total.\n",
    "Otherwise, add its value to the total.\n",
    "Return the accumulated total at the end.<br><br>\n",
    "Time complexity: O(n)<br>\n",
    "Space Complexity: O(1)</p>"
   ]
  },
  {
   "cell_type": "code",
   "execution_count": 11,
   "metadata": {},
   "outputs": [
    {
     "name": "stdout",
     "output_type": "stream",
     "text": [
      "58\n"
     ]
    }
   ],
   "source": [
    "def romanToInt(s):\n",
    "    roman_map={'I':1,'V':5,'X':10,'L':50,'C':100,'D':500,'M':1000}\n",
    "    total=0\n",
    "    length=len(s)\n",
    "    for i in range(length):\n",
    "        if i<length-1 and roman_map[s[i]]<roman_map[s[i+1]]:\n",
    "            total-=roman_map[s[i]]\n",
    "        else:\n",
    "            total+=roman_map[s[i]]\n",
    "    return total\n",
    "s = \"LVIII\"\n",
    "print(romanToInt(s))"
   ]
  },
  {
   "cell_type": "markdown",
   "metadata": {},
   "source": [
    "<h3>4. String to Integer (atoi)</h3>\n",
    "<a href=\"https://leetcode.com/problems/string-to-integer-atoi/description/\">Problem Link</a>\n",
    "<p>Ignore Leading Whitespace: Skip over any leading spaces in the string.\n",
    "Sign Detection: Check for a + or - sign immediately after the whitespace.\n",
    "Convert Digits to Integer: Start reading consecutive digits, stopping when a non-digit is encountered.\n",
    "Clamp to 32-bit Integer Range: If the integer exceeds 2^31 - 1 or goes below -2^31, clamp it to fit within these bounds.\n",
    "Return the Result.\n",
    "Check comments\n",
    "<br><br>\n",
    "Time complexity: O(n)<br>\n",
    "Space Complexity: O(1)</p>"
   ]
  },
  {
   "cell_type": "code",
   "execution_count": 12,
   "metadata": {},
   "outputs": [
    {
     "name": "stdout",
     "output_type": "stream",
     "text": [
      "1337\n"
     ]
    }
   ],
   "source": [
    "def myAtoi(s):\n",
    "    INT_MAX, INT_MIN = 2**31 - 1, -2**31\n",
    "    i, n = 0, len(s)\n",
    "    # Step 1: Skip leading whitespace\n",
    "    while i < n and s[i] == ' ':\n",
    "        i += 1\n",
    "\n",
    "    # Step 2: Check for optional sign\n",
    "    sign = 1\n",
    "    if i < n and s[i] == '-':\n",
    "        sign = -1\n",
    "        i += 1\n",
    "    elif i < n and s[i] == '+':\n",
    "        i += 1\n",
    "\n",
    "    # Step 3: Convert digits to integer\n",
    "    result = 0\n",
    "    while i < n and s[i].isdigit():\n",
    "        digit = int(s[i])\n",
    "        # Check for overflow\n",
    "        if result > (INT_MAX - digit) // 10:\n",
    "            return INT_MAX if sign == 1 else INT_MIN\n",
    "        result = result * 10 + digit\n",
    "        i += 1\n",
    "    \n",
    "    return sign * result\n",
    "s = \"1337c0d3\"\n",
    "print(myAtoi(s))"
   ]
  },
  {
   "cell_type": "markdown",
   "metadata": {},
   "source": [
    "<h3>5. Count number of substrings</h3>\n",
    "<a href=\"https://www.geeksforgeeks.org/problems/count-number-of-substrings4528/1?utm_source=youtube&utm_medium=collab_striver_ytdescription&utm_campaign=count-number-of-substrings\">Problem Link</a>\n",
    "<p>We'll use a sliding window approach and a dictionary to track character counts within the window. Here's the step-by-step approach:\n",
    "\n",
    "1. Initialize a counter for the substrings (count), an empty current substring (current_substring), a dictionary to track character counts (character_count), and the starting index of the current substring (start_index).\n",
    "\n",
    "2. Iterate through the input string, adding characters to current_substring and updating character_count accordingly.\n",
    "\n",
    "3. While the count of distinct characters in character_count exceeds k, remove characters from the start of the substring and update character_count. This step ensures that we maintain exactly k distinct characters within the current window.\n",
    "\n",
    "4. Increment count by the length of the current substring (end_index - start_index + 1) at each iteration. This accounts for all valid substrings with upto k distinct characters ending at the current index.\n",
    "\n",
    "5. Return the count as the final result.<br>\n",
    "\n",
    "Dry Run\n",
    "\n",
    "Example 1: S = \"aba\", K = 2\n",
    "\n",
    "\n",
    "1. S = \"aba\", K = 2 --- Initialize count = 0, current_substring = '', character_count = {}, and start_index = 0.\n",
    "2. Iterating through the string \"aba\":\n",
    "\n",
    "   - For \"a\", add it to the current substring: current_substring = 'a', update character_count = {'a': 1}, and count = 1.\n",
    "   - For \"b\", add it to the current substring: current_substring = 'ab', update character_count = {'a': 1, 'b': 1}, and count = 3.\n",
    "   - For \"a\", add it to the current substring: current_substring = 'aba', update character_count = {'a': 2, 'b': 1}, and count = 6.<br></p><p>\n",
    "\n",
    "1. S = \"aba\", K = 1 --- Initialize count = 0, current_substring = '', character_count = {}, and start_index = 0.\n",
    "2. Iterating through the string \"aba\":\n",
    "\n",
    "   - For \"a\", add it to the current substring: current_substring = 'a', update character_count = {'a': 1}, and count = 1.\n",
    "   - For \"b\", add it to the current substring: current_substring = 'ab', update character_count = {'a': 1, 'b': 1}.\n",
    "     here the count of characters is greater than 1, here we increment the start pointer to 1\n",
    "     resulting current_substring = 'b', update character_count = {'b': 1} and count += (1-1)+1, count = 2\n",
    "   - For \"a\", add it to the current substring: current_substring = 'ba', update character_count = {'a': 1, 'b': 1}.\n",
    "     here the count of characters is greater than 1, here we increment the start pointer to 2\n",
    "     resulting current_substring = 'a', update character_count = {'a': 1} and count += (2-2)+1, count = 3\n",
    "3. The final count is 6-3 = 3, which is the number of substrings in \"aba\" with exactly 2 distinct characters.\n",
    "<br><br>\n",
    "\n",
    "Time complexity: O(n)<br>\n",
    "Space Complexity: O(k)</p>"
   ]
  },
  {
   "cell_type": "code",
   "execution_count": 13,
   "metadata": {},
   "outputs": [
    {
     "name": "stdout",
     "output_type": "stream",
     "text": [
      "7\n"
     ]
    }
   ],
   "source": [
    "def count_substrings_with_k_distinct_characters(s, k):\n",
    "        count = 0  # Initialize a counter for the substrings\n",
    "        character_count = dict()  # Initialize a dictionary to track character counts\n",
    "        start_index = 0  # Initialize the starting index of the current substring\n",
    "\n",
    "\n",
    "        for end_index in range(len(s)):\n",
    "            character_count[s[end_index]] = character_count.get(s[end_index], 0) + 1\n",
    "\n",
    "\n",
    "            while len(character_count) > k:\n",
    "                # Remove characters from the start of the substring until we have 'k' distinct characters\n",
    "                first_char = s[start_index]\n",
    "                if character_count[first_char] == 1:\n",
    "                    del character_count[first_char]\n",
    "                else:\n",
    "                    character_count[first_char] -= 1\n",
    "                start_index += 1\n",
    "\n",
    "\n",
    "            count += (end_index - start_index + 1)  # Increment the count based on substring length\n",
    "\n",
    "\n",
    "        return count\n",
    "   \n",
    "def substrCount(s, k):\n",
    "    return count_substrings_with_k_distinct_characters(s, k) - count_substrings_with_k_distinct_characters(s, k - 1)\n",
    "s = \"abaaca\"\n",
    "k = 1\n",
    "print(substrCount(s,k))"
   ]
  },
  {
   "cell_type": "markdown",
   "metadata": {},
   "source": [
    "<h3>6. Longest Palindromic Substring</h3>\n",
    "<a href=\"https://leetcode.com/problems/longest-palindromic-substring/description/\">Problem Link</a>\n",
    "<p>Expand from center with BS<br><br>\n",
    "Time complexity: O(n^2)<br>\n",
    "Space Complexity: O(1)</p>"
   ]
  },
  {
   "cell_type": "code",
   "execution_count": 14,
   "metadata": {},
   "outputs": [
    {
     "name": "stdout",
     "output_type": "stream",
     "text": [
      "bab\n"
     ]
    }
   ],
   "source": [
    "def longestPalindrome(s):\n",
    "    if len(s) <= 1:\n",
    "        return s\n",
    "\n",
    "    def expand_from_center(left, right):\n",
    "        while left >= 0 and right < len(s) and s[left] == s[right]:\n",
    "            left -= 1\n",
    "            right += 1\n",
    "        return s[left + 1:right]\n",
    "\n",
    "    max_str = s[0]\n",
    "\n",
    "    for i in range(len(s) - 1):\n",
    "        odd = expand_from_center(i, i)\n",
    "        even = expand_from_center(i, i + 1)\n",
    "\n",
    "        if len(odd) > len(max_str):\n",
    "            max_str = odd\n",
    "        if len(even) > len(max_str):\n",
    "            max_str = even\n",
    "\n",
    "    return max_str\n",
    "s = \"babad\"\n",
    "print(longestPalindrome(s))"
   ]
  },
  {
   "cell_type": "markdown",
   "metadata": {},
   "source": [
    "<h3>7. Longest Palindromic Substring</h3>\n",
    "<a href=\"https://leetcode.com/problems/sum-of-beauty-of-all-substrings/description/\">Problem Link</a>\n",
    "<p>Code Explanation<br>\n",
    "\n",
    "Initialization:\n",
    "- ans = 0: This variable will accumulate the total beauty sum of all substrings.\n",
    "- freq = [0] * 26: A frequency list of length 26 to count occurrences of each character from 'a' to 'z'.\n",
    "\n",
    "Outer Loop:\n",
    "- for i in range(len(s)): The outer loop iterates over each starting index i of the substrings in s.\n",
    "- For each starting position i, a new freq array is initialized to count character frequencies from that starting position.\n",
    "\n",
    "Inner Loop:\n",
    "- for j in range(i, len(s)): The inner loop extends the substring from index i to j.\n",
    "- freq[ord(s[j]) - 97] += 1: For each character s[j] in the substring, it increments its count in the freq array.\n",
    "\n",
    "Calculating the Beauty of the Substring:\n",
    "- max(freq): Finds the maximum frequency of any character in the current substring.\n",
    "- min(x for x in freq if x): Finds the minimum non-zero frequency in the current substring.\n",
    "- ans += max(freq) - min(...): Adds the difference (beauty) of the maximum and minimum frequency to ans.\n",
    "\n",
    "Return Statement:\n",
    "- return ans: Returns the accumulated beauty sum of all substrings.\n",
    "\n",
    "\n",
    "This code calculates the \"beauty sum\" of a string by iterating over all possible substrings. For each starting position, it uses a frequency array to count character occurrences in the substring, then calculates the \"beauty\" as the difference between the maximum and minimum non-zero frequencies. The results are accumulated into a total sum.\n",
    "<br><br>\n",
    "Time complexity: O(n^2)<br>\n",
    "Space Complexity: O(1)</p>"
   ]
  },
  {
   "cell_type": "code",
   "execution_count": 15,
   "metadata": {},
   "outputs": [
    {
     "name": "stdout",
     "output_type": "stream",
     "text": [
      "5\n"
     ]
    }
   ],
   "source": [
    "def beautySum(s):\n",
    "    ans = 0 \n",
    "    for i in range(len(s)):\n",
    "        freq = [0]*26\n",
    "        for j in range(i, len(s)):\n",
    "            freq[ord(s[j])-97] += 1\n",
    "            ans += max(freq) - min(x for x in freq if x)\n",
    "    return ans \n",
    "s = \"aabcb\"\n",
    "print(beautySum(s))"
   ]
  },
  {
   "cell_type": "markdown",
   "metadata": {},
   "source": [
    "<h2>Hard Problems</h2>"
   ]
  },
  {
   "cell_type": "markdown",
   "metadata": {},
   "source": [
    "<h3>1. Minimum number of bracket reversals needed to make an expression balanced</h3>\n",
    "<a href=\"https://leetcode.com/problems/minimum-add-to-make-parentheses-valid/description/\">Problem Link</a>\n",
    "<p>\n",
    "Track Unmatched Parentheses:\n",
    "\n",
    "Use two counters:\n",
    "open_needed: Tracks the number of unmatched opening parentheses ( that need a closing parenthesis ).\n",
    "close_needed: Tracks the number of unmatched closing parentheses ) that need an opening parenthesis (.\n",
    "\n",
    "Traverse the String:\n",
    "\n",
    "For each character in the string:\n",
    "If it's an opening parenthesis (, increment open_needed.\n",
    "If it's a closing parenthesis ):\n",
    "If open_needed > 0, decrement open_needed because the closing parenthesis can balance an unmatched opening parenthesis.\n",
    "Otherwise, increment close_needed because this closing parenthesis is unmatched.\n",
    "\n",
    "Final Result:\n",
    "\n",
    "The total number of moves required is the sum of open_needed and close_needed.\n",
    "<br><br>\n",
    "Time complexity: O(n)<br>\n",
    "Space Complexity: O(1)</p>"
   ]
  },
  {
   "cell_type": "code",
   "execution_count": 16,
   "metadata": {},
   "outputs": [],
   "source": [
    "class Solution:\n",
    "    def minAddToMakeValid(self, s: str) -> int:\n",
    "        open_needed = 0\n",
    "        close_needed = 0\n",
    "        \n",
    "        for char in s:\n",
    "            if char == '(':\n",
    "                open_needed += 1\n",
    "            elif char == ')':\n",
    "                if open_needed > 0:\n",
    "                    open_needed -= 1\n",
    "                else:\n",
    "                    close_needed += 1\n",
    "        \n",
    "        return open_needed + close_needed\n"
   ]
  },
  {
   "cell_type": "markdown",
   "metadata": {},
   "source": [
    "<h3>2. Count and say</h3>\n",
    "<a href=\"https://leetcode.com/problems/count-and-say/description/\">Problem Link</a>\n",
    "<p>\n",
    "Base Case:\n",
    "If n=1, the sequence is \"1\".\n",
    "\n",
    "Iterative Generation:\n",
    "Start with the base string \"1\".\n",
    "For each subsequent i from 2 to n, generate the next string using the RLE of the current string.\n",
    "\n",
    "Run-Length Encoding:\n",
    "Traverse the current string, counting consecutive identical characters.\n",
    "For each group of consecutive characters, append the count followed by the character to form the next string.\n",
    "\n",
    "Stop at n:\n",
    "After n−1 transformations, return the final string.\n",
    "<br><br>\n",
    "Time complexity: O(2^n)<br>\n",
    "Space Complexity: O(2^n)</p>"
   ]
  },
  {
   "cell_type": "code",
   "execution_count": 17,
   "metadata": {},
   "outputs": [],
   "source": [
    "class Solution:\n",
    "    def countAndSay(self, n: int) -> str:\n",
    "        # Start with the base case\n",
    "        result = \"1\"\n",
    "        \n",
    "        for _ in range(1, n):\n",
    "            next_result = []\n",
    "            count = 1  # Count occurrences of the current character\n",
    "            \n",
    "            # Traverse the current string\n",
    "            for i in range(1, len(result)):\n",
    "                if result[i] == result[i - 1]:\n",
    "                    count += 1  # Increment count if the character is the same\n",
    "                else:\n",
    "                    # Append the count and the character\n",
    "                    next_result.append(str(count))\n",
    "                    next_result.append(result[i - 1])\n",
    "                    count = 1  # Reset count for the next character group\n",
    "            \n",
    "            # Append the last group\n",
    "            next_result.append(str(count))\n",
    "            next_result.append(result[-1])\n",
    "            \n",
    "            # Prepare the string for the next iteration\n",
    "            result = ''.join(next_result)\n",
    "        \n",
    "        return result\n"
   ]
  },
  {
   "cell_type": "markdown",
   "metadata": {},
   "source": [
    "<h3>3. Hashing In Strings | Theory</h3>\n",
    "<a href=\"https://www.geeksforgeeks.org/problems/index-of-the-first-occurrence-of-pattern-in-a-text/1?utm_source=youtube&utm_medium=collab_striver_ytdescription&utm_campaign=index-of-the-first-occurrence-of-pattern-in-a-text%2F\">Problem Link</a>\n",
    "<p>\n",
    "Iterate through text:\n",
    "Traverse each starting position in text where pattern could fit.\n",
    "The range of valid starting indices is 0 to ∣text∣−∣pattern∣.\n",
    "\n",
    "Check for Match:\n",
    "For each starting index, check if the substring of text starting from that index matches pattern.\n",
    "\n",
    "Return Result:\n",
    "If a match is found, return the starting index.\n",
    "If no match is found after the loop, return −1.\n",
    "<br><br>\n",
    "Time complexity: O(|text| x |pattern|)<br>\n",
    "Space Complexity: O(1)</p>"
   ]
  },
  {
   "cell_type": "code",
   "execution_count": 18,
   "metadata": {},
   "outputs": [],
   "source": [
    "class Solution:\n",
    "    def findMatching(self, text, pattern):\n",
    "        text_len = len(text)\n",
    "        pattern_len = len(pattern)\n",
    "        \n",
    "        # Traverse through each possible starting index in text\n",
    "        for i in range(text_len - pattern_len + 1):\n",
    "            # Check if the substring matches the pattern\n",
    "            if text[i:i + pattern_len] == pattern:\n",
    "                return i  # Return the starting index if a match is found\n",
    "        \n",
    "        return -1  # Return -1 if no match is found\n"
   ]
  },
  {
   "cell_type": "markdown",
   "metadata": {},
   "source": [
    "<h3>4. Rabin Karp</h3>\n",
    "<a href=\"https://leetcode.com/problems/repeated-string-match/solutions/416144/Rabin-Karp-algorithm-C++-implementation/\">Problem Link</a>\n",
    "<p>\n",
    "Understanding the Repetitions:\n",
    "\n",
    "For b to be a substring of repeated a, the repeated length of a should at least equal the length of b. Therefore, the minimum repetitions required can be calculated as:\n",
    "min_reps=⌈∣a∣/∣b∣⌉\n",
    "To ensure all cases are covered (e.g., when b partially overlaps the end of one repetition and the start of the next), we check up to min_reps + 2 repetitions of a.\n",
    "\n",
    "Use Rabin-Karp for Efficient Substring Search:\n",
    "\n",
    "Rabin-Karp uses a rolling hash to compute hash values for substrings efficiently. It avoids recomputing hashes for overlapping substrings, making it ideal for large strings.\n",
    "\n",
    "Steps:\n",
    "\n",
    "Compute the hash of b.\n",
    "Compute rolling hashes of substrings of the repeated a (up to min_reps + 2 repetitions).\n",
    "Check if any hash matches the hash of b, and validate the substring if a match is found.\n",
    "Return the minimum repetitions where b is found; otherwise, return -1.\n",
    "<br><br>\n",
    "Time complexity: O(|b|)<br>\n",
    "Space Complexity: O(|b|)</p>"
   ]
  },
  {
   "cell_type": "code",
   "execution_count": 19,
   "metadata": {},
   "outputs": [],
   "source": [
    "class Solution:\n",
    "    def repeatedStringMatch(self, a: str, b: str) -> int:\n",
    "        # Helper function to calculate hash\n",
    "        def compute_hash(s, base, mod):\n",
    "            h = 0\n",
    "            for char in s:\n",
    "                h = (h * base + ord(char)) % mod\n",
    "            return h\n",
    "\n",
    "        # Parameters for Rabin-Karp\n",
    "        base = 31\n",
    "        mod = 10**9 + 7\n",
    "\n",
    "        # Lengths of a and b\n",
    "        len_a = len(a)\n",
    "        len_b = len(b)\n",
    "\n",
    "        # Minimum repetitions needed\n",
    "        min_reps = (len_b + len_a - 1) // len_a  # Equivalent to ceil(len_b / len_a)\n",
    "\n",
    "        # Repeat string a enough times\n",
    "        repeated_a = a * (min_reps + 2)\n",
    "\n",
    "        # Compute hash of b\n",
    "        hash_b = compute_hash(b, base, mod)\n",
    "\n",
    "        # Compute rolling hash for substrings of length len_b in repeated_a\n",
    "        current_hash = compute_hash(repeated_a[:len_b], base, mod)\n",
    "        base_power = pow(base, len_b - 1, mod)  # Precompute base^(len_b-1) % mod\n",
    "\n",
    "        # Check hashes for all possible substrings\n",
    "        for i in range(len(repeated_a) - len_b + 1):\n",
    "            # If hash matches, validate the substring\n",
    "            if current_hash == hash_b and repeated_a[i:i + len_b] == b:\n",
    "                # Calculate how many repetitions of a are needed\n",
    "                return (i + len_b + len_a - 1) // len_a\n",
    "\n",
    "            # Update rolling hash for the next substring\n",
    "            if i + len_b < len(repeated_a):\n",
    "                current_hash = (current_hash - ord(repeated_a[i]) * base_power) % mod\n",
    "                current_hash = (current_hash * base + ord(repeated_a[i + len_b])) % mod\n",
    "                current_hash = (current_hash + mod) % mod  # Ensure non-negative\n",
    "\n",
    "        return -1\n"
   ]
  },
  {
   "cell_type": "markdown",
   "metadata": {},
   "source": [
    "<h3>5. Z-Function</h3>\n",
    "<a href=\"https://leetcode.com/problems/find-the-index-of-the-first-occurrence-in-a-string/description/\">Problem Link</a>\n",
    "<p>\n",
    "Z-function:\n",
    "The Z-function for a string s is an array z where z[i] represents the length of the longest substring starting from s[i] that is also a prefix of s. This is helpful in finding the occurrence of a pattern within a text efficiently.\n",
    "\n",
    "Approach:\n",
    "Concatenate the needle and haystack:\n",
    "Create a new string s = needle + \"$\" + haystack. The $ symbol is a separator that does not appear in either string, ensuring that the Z-function calculation only considers matching prefixes between needle and haystack.\n",
    "\n",
    "Calculate the Z-function for the concatenated string:\n",
    "The Z-function will give us information about the length of common prefixes between the needle and substrings in haystack.\n",
    "\n",
    "Look for matches:\n",
    "We are interested in the Z-function values that correspond to the part of the concatenated string that comes from the haystack. Specifically, when z[i] equals the length of needle, it indicates a match at position i - len(needle) - 1 in the haystack.\n",
    "\n",
    "Return the first match:\n",
    "If we find such a match, return the corresponding index in the haystack. If no match is found, return -1.\n",
    "<br><br>\n",
    "Time complexity: O(m + n)<br>\n",
    "Space Complexity: O(m + n)</p>"
   ]
  },
  {
   "cell_type": "code",
   "execution_count": 20,
   "metadata": {},
   "outputs": [],
   "source": [
    "class Solution:\n",
    "    def strStr(self, haystack: str, needle: str) -> int:\n",
    "        # Function to compute Z-function\n",
    "        def compute_z(s: str) -> list:\n",
    "            z = [0] * len(s)\n",
    "            l, r, n = 0, 0, len(s)\n",
    "            for i in range(1, n):\n",
    "                if i <= r:\n",
    "                    z[i] = min(r - i + 1, z[i - l])\n",
    "                while i + z[i] < n and s[z[i]] == s[i + z[i]]:\n",
    "                    z[i] += 1\n",
    "                if i + z[i] - 1 > r:\n",
    "                    l, r = i, i + z[i] - 1\n",
    "            return z\n",
    "        \n",
    "        # Step 1: Create the combined string\n",
    "        combined = needle + \"$\" + haystack\n",
    "        \n",
    "        # Step 2: Compute the Z-function for the combined string\n",
    "        z = compute_z(combined)\n",
    "        \n",
    "        # Step 3: Check for the first occurrence of needle in haystack\n",
    "        for i in range(len(needle) + 1, len(combined)):\n",
    "            if z[i] == len(needle):\n",
    "                return i - len(needle) - 1\n",
    "        \n",
    "        return -1\n"
   ]
  },
  {
   "cell_type": "markdown",
   "metadata": {},
   "source": [
    "<h3>6. KMP algo / LPS(pi) array</h3>\n",
    "<a href=\"https://leetcode.com/problems/find-the-index-of-the-first-occurrence-in-a-string/\">Problem Link</a>\n",
    "<p>\n",
    "To solve the problem using the KMP (Knuth-Morris-Pratt) algorithm, we need to efficiently search for the first occurrence of the string needle in the string haystack. The KMP algorithm uses a prefix-suffix array (also known as the LPS array, which stands for Longest Prefix Suffix) to avoid redundant comparisons, resulting in linear time complexity for string matching.\n",
    "\n",
    "Steps for the KMP algorithm: \n",
    "\n",
    "LPS Array Construction:\n",
    "The LPS (Longest Prefix Suffix) array helps determine how much we can skip in the needle string when we find a mismatch. It stores the length of the longest proper prefix of the needle string that is also a suffix for each prefix of the string.\n",
    "\n",
    "Search Using LPS Array:\n",
    "After constructing the LPS array, we use it during the actual search process in the haystack. The array allows us to skip over unnecessary comparisons when a mismatch occurs.\n",
    "\n",
    "Algorithm:\n",
    "Preprocess needle to build the LPS array.\n",
    "Traverse haystack and compare it with needle using the information from the LPS array to optimize the search.\n",
    "\n",
    "<br><br>\n",
    "Time complexity: O(n + m)<br>\n",
    "Space Complexity: O(m)</p>"
   ]
  },
  {
   "cell_type": "code",
   "execution_count": 21,
   "metadata": {},
   "outputs": [],
   "source": [
    "class Solution:\n",
    "    def strStr(self, haystack: str, needle: str) -> int:\n",
    "        # Step 1: Compute the LPS (Longest Prefix Suffix) array for the needle\n",
    "        def computeLPS(needle: str) -> list:\n",
    "            m = len(needle)\n",
    "            lps = [0] * m\n",
    "            length = 0  # length of the previous longest prefix suffix\n",
    "            i = 1\n",
    "            while i < m:\n",
    "                if needle[i] == needle[length]:\n",
    "                    length += 1\n",
    "                    lps[i] = length\n",
    "                    i += 1\n",
    "                else:\n",
    "                    if length != 0:\n",
    "                        length = lps[length - 1]  # try the previous potential prefix\n",
    "                    else:\n",
    "                        lps[i] = 0\n",
    "                        i += 1\n",
    "            return lps\n",
    "        \n",
    "        # Step 2: Apply KMP algorithm to search for `needle` in `haystack`\n",
    "        if not needle:\n",
    "            return 0\n",
    "        \n",
    "        n = len(haystack)\n",
    "        m = len(needle)\n",
    "        \n",
    "        lps = computeLPS(needle)\n",
    "        i = 0  # index for haystack\n",
    "        j = 0  # index for needle\n",
    "        \n",
    "        while i < n:\n",
    "            if haystack[i] == needle[j]:\n",
    "                i += 1\n",
    "                j += 1\n",
    "            \n",
    "            if j == m:  # match found\n",
    "                return i - j  # Return the index where the match starts\n",
    "            \n",
    "            elif i < n and haystack[i] != needle[j]:\n",
    "                if j != 0:\n",
    "                    j = lps[j - 1]  # use the LPS array to avoid unnecessary comparisons\n",
    "                else:\n",
    "                    i += 1\n",
    "        \n",
    "        return -1  # If no match found\n"
   ]
  },
  {
   "cell_type": "markdown",
   "metadata": {},
   "source": [
    "<h3>7. Shortest Palindrome</h3>\n",
    "<a href=\"https://leetcode.com/problems/shortest-palindrome/description/\">Problem Link</a>\n",
    "<p>\n",
    "Problem Insight:\n",
    "We need to add characters in front of the string s to make it a palindrome.\n",
    "If a string s is not a palindrome, the best way to make it a palindrome is to append the smallest possible prefix of s (in reverse) at the front of s.\n",
    "\n",
    "Key Idea:\n",
    "The smallest prefix to add is the longest palindromic prefix of s.\n",
    "To find the longest palindromic prefix, we need to identify the longest prefix of s which matches a suffix of s. This can be done efficiently using the KMP algorithm.\n",
    "\n",
    "KMP-Based Solution:\n",
    "First, we reverse the string s and concatenate it with the original string using a special separator (e.g., #) to avoid overlapping. We construct the string s + \"#\" + reversed(s).\n",
    "The LPS (Longest Prefix Suffix) array will give us the length of the longest prefix of the reversed string that matches the suffix of the original string.\n",
    "\n",
    "Using the LPS Array:\n",
    "The value of the last entry in the LPS array will give us the length of the longest palindromic prefix of s.\n",
    "Once we know this length, we can determine which characters in the reversed string need to be added in front of s to make it a palindrome.\n",
    "\n",
    "<br><br>\n",
    "Time complexity: O(n)<br>\n",
    "Space Complexity: O(n)</p>"
   ]
  },
  {
   "cell_type": "code",
   "execution_count": 22,
   "metadata": {},
   "outputs": [],
   "source": [
    "class Solution:\n",
    "    def shortestPalindrome(self, s: str) -> str:\n",
    "        if not s:\n",
    "            return s\n",
    "        \n",
    "        # Step 1: Reverse the string\n",
    "        reversed_s = s[::-1]\n",
    "        \n",
    "        # Step 2: Create a new string s + \"#\" + reversed_s\n",
    "        combined = s + \"#\" + reversed_s\n",
    "        \n",
    "        # Step 3: Compute the LPS (Longest Prefix Suffix) array\n",
    "        lps = self.computeLPS(combined)\n",
    "        \n",
    "        # Step 4: The length of the longest palindromic prefix\n",
    "        longest_palindromic_prefix_length = lps[-1]\n",
    "        \n",
    "        # Step 5: Add the necessary characters from the reversed string\n",
    "        # to the front of the original string to make it a palindrome\n",
    "        to_add = reversed_s[:len(s) - longest_palindromic_prefix_length]\n",
    "        \n",
    "        return to_add + s\n",
    "    \n",
    "    def computeLPS(self, pattern: str) -> list:\n",
    "        # Compute the LPS (Longest Prefix Suffix) array for the pattern\n",
    "        m = len(pattern)\n",
    "        lps = [0] * m\n",
    "        length = 0  # Length of the previous longest prefix suffix\n",
    "        i = 1\n",
    "        \n",
    "        while i < m:\n",
    "            if pattern[i] == pattern[length]:\n",
    "                length += 1\n",
    "                lps[i] = length\n",
    "                i += 1\n",
    "            else:\n",
    "                if length != 0:\n",
    "                    length = lps[length - 1]\n",
    "                else:\n",
    "                    lps[i] = 0\n",
    "                    i += 1\n",
    "        \n",
    "        return lps\n"
   ]
  },
  {
   "cell_type": "markdown",
   "metadata": {},
   "source": [
    "<h3>8. Longest happy prefix</h3>\n",
    "<a href=\"https://leetcode.com/problems/longest-happy-prefix/\">Problem Link</a>\n",
    "<p>\n",
    "Prefix Function (LPS Array):\n",
    "The LPS array computes for each position i in the string s, the length of the longest proper prefix of the substring s[0...i] that is also a suffix of this substring.\n",
    "By using the LPS array, we can determine the longest prefix that is also a suffix of the string s.\n",
    "\n",
    "Key Insight:\n",
    "The longest happy prefix corresponds to the value stored in the last position of the LPS array. The LPS array gives us the length of the longest proper prefix which is also a suffix.\n",
    "If the LPS value is 0, there is no non-empty prefix that is also a suffix.\n",
    "\n",
    "Steps:\n",
    "Compute the LPS array for the string s.\n",
    "The value at the last position of the LPS array will tell us the length of the longest prefix that is also a suffix.\n",
    "Extract and return the corresponding prefix of the string s.\n",
    "\n",
    "<br><br>\n",
    "Time complexity: O(n)<br>\n",
    "Space Complexity: O(n)</p>"
   ]
  },
  {
   "cell_type": "code",
   "execution_count": 23,
   "metadata": {},
   "outputs": [],
   "source": [
    "class Solution:\n",
    "    def longestPrefix(self, s: str) -> str:\n",
    "        # Step 1: Compute the LPS array for string s\n",
    "        n = len(s)\n",
    "        lps = [0] * n\n",
    "        j = 0  # Length of the previous longest prefix suffix\n",
    "        for i in range(1, n):\n",
    "            while j > 0 and s[i] != s[j]:\n",
    "                j = lps[j - 1]\n",
    "            if s[i] == s[j]:\n",
    "                j += 1\n",
    "            lps[i] = j\n",
    "        \n",
    "        # Step 2: The last value of LPS array is the length of the longest happy prefix\n",
    "        # If the LPS value is 0, return empty string\n",
    "        return s[:lps[-1]]\n"
   ]
  },
  {
   "cell_type": "markdown",
   "metadata": {},
   "source": [
    "<h3>9. Count palindromic subsequence in given string</h3>\n",
    "<a href=\"https://www.geeksforgeeks.org/problems/count-palindromic-subsequences/1\">Problem Link</a>\n",
    "<p>\n",
    "We need to count how many subsequences of the string s are palindromes. A subsequence is a sequence derived from the string by deleting some or no characters, without changing the order of the remaining characters.\n",
    "\n",
    "A palindrome is a sequence that reads the same forward and backward. For instance, \"a\", \"aa\", \"b\", \"aba\", etc., are all palindromic subsequences.\n",
    "\n",
    "Dynamic Programming Strategy:\n",
    "DP Table: We will use a DP table where dp[i][j] represents the number of palindromic subsequences in the substring s[i...j].\n",
    "\n",
    "Base Case: Every single character is a palindromic subsequence. Thus, for all i, dp[i][i] = 1.\n",
    "\n",
    "Recurrence Relation:\n",
    "If s[i] == s[j], then:\n",
    "The palindromic subsequences of s[i+1...j-1] can be extended by adding s[i] and s[j] to form new palindromic subsequences.\n",
    "This means:\n",
    "dp[i][j]=dp[i+1][j]+dp[i][j−1]+1\n",
    "The +1 accounts for the subsequence formed by s[i] and s[j] being a palindrome.\n",
    "If s[i] != s[j], then:\n",
    "We count the palindromic subsequences from s[i+1...j] and s[i...j-1], but we subtract the subsequences counted twice (those of s[i+1...j-1]), so:\n",
    "dp[i][j]=dp[i+1][j]+dp[i][j−1]−dp[i+1][j−1]\n",
    "\n",
    "Final Answer: The answer will be stored in dp[0][n-1] (where n is the length of the string), which represents the number of palindromic subsequences in the entire string.\n",
    "<br><br>\n",
    "Time complexity: O(n^2)<br>\n",
    "Space Complexity: O(n^2)</p>"
   ]
  },
  {
   "cell_type": "code",
   "execution_count": 24,
   "metadata": {},
   "outputs": [],
   "source": [
    "class Solution:\n",
    "    def countPS(self, s: str) -> int:\n",
    "        n = len(s)\n",
    "        \n",
    "        # Create a DP table initialized to 0\n",
    "        dp = [[0] * n for _ in range(n)]\n",
    "        \n",
    "        # Base case: each single character is a palindrome\n",
    "        for i in range(n):\n",
    "            dp[i][i] = 1\n",
    "        \n",
    "        # Fill the DP table for substrings of length 2 to n\n",
    "        for length in range(2, n + 1):\n",
    "            for i in range(n - length + 1):\n",
    "                j = i + length - 1\n",
    "                \n",
    "                if s[i] == s[j]:\n",
    "                    dp[i][j] = dp[i+1][j] + dp[i][j-1] + 1\n",
    "                else:\n",
    "                    dp[i][j] = dp[i+1][j] + dp[i][j-1] - dp[i+1][j-1]\n",
    "        \n",
    "        # The answer is in dp[0][n-1]\n",
    "        return dp[0][n-1]\n"
   ]
  }
 ],
 "metadata": {
  "kernelspec": {
   "display_name": "Python 3",
   "language": "python",
   "name": "python3"
  },
  "language_info": {
   "codemirror_mode": {
    "name": "ipython",
    "version": 3
   },
   "file_extension": ".py",
   "mimetype": "text/x-python",
   "name": "python",
   "nbconvert_exporter": "python",
   "pygments_lexer": "ipython3",
   "version": "3.12.4"
  }
 },
 "nbformat": 4,
 "nbformat_minor": 2
}
