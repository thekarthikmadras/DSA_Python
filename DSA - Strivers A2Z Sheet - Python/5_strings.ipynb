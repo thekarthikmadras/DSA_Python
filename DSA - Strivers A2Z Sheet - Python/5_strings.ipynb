{
 "cells": [
  {
   "cell_type": "markdown",
   "metadata": {},
   "source": [
    "<h1>Strings</h1>"
   ]
  },
  {
   "cell_type": "markdown",
   "metadata": {},
   "source": [
    "<h2>Easy</h2>"
   ]
  },
  {
   "cell_type": "markdown",
   "metadata": {},
   "source": [
    "<h3>1. Matrix Median</h3>\n",
    "<a href=\"https://leetcode.com/problems/remove-outermost-parentheses/\">Problem Link</a>\n",
    "<p>Check the comments.<br><br>\n",
    "Time complexity: O(n)<br>\n",
    "Space Complexity: O(n)</p>"
   ]
  },
  {
   "cell_type": "code",
   "execution_count": null,
   "metadata": {},
   "outputs": [],
   "source": [
    "def removeOuterParentheses(s):\n",
    "    result = \"\"  # To store the final result\n",
    "    balance = 0  # To keep track of the balance of parentheses\n",
    "\n",
    "    # Iterate through each character in the string\n",
    "    for char in s:\n",
    "        if char == '(':\n",
    "            # If balance is greater than 0, it means this '(' is not an\n",
    "            # outermost parenthesis\n",
    "            if balance > 0:\n",
    "                result += char  # Add the character to the result\n",
    "            balance += 1  # Increase the balance for '('\n",
    "        else:\n",
    "            balance -= 1  # Decrease the balance for ')'\n",
    "            # If balance is greater than 0, it means this ')' is not an\n",
    "            # outermost parenthesis\n",
    "            if balance > 0:\n",
    "                result += char  # Add the character to the result\n",
    "\n",
    "    return result  # Return the final result after removing outermost parentheses\n",
    "s = \"(()())(())\"\n",
    "print(removeOuterParentheses(s))"
   ]
  },
  {
   "cell_type": "markdown",
   "metadata": {},
   "source": [
    "<h3>2. Reverse words in a given string </h3>\n",
    "<a href=\"https://leetcode.com/problems/reverse-words-in-a-string/\">Problem Link</a>\n",
    "<p>Two pointer concept. Left in first index, Right in last index. Swap till left < right.<br><br>\n",
    "Time complexity: O(n)<br>\n",
    "Space Complexity: O(n)</p>"
   ]
  },
  {
   "cell_type": "code",
   "execution_count": null,
   "metadata": {},
   "outputs": [],
   "source": [
    "def reverseWords(s):\n",
    "    words = s.split()\n",
    "    left, right = 0, len(words) - 1\n",
    "\n",
    "    while left < right:\n",
    "        words[left], words[right] = words[right], words[left]\n",
    "        left += 1\n",
    "        right -= 1\n",
    "\n",
    "    return \" \".join(words)\n",
    "s = \"the sky is blue\"\n",
    "print(reverseWords(s))"
   ]
  },
  {
   "cell_type": "markdown",
   "metadata": {},
   "source": [
    "<h3>3. Largest Odd Number in String</h3>\n",
    "<a href=\"https://leetcode.com/problems/largest-odd-number-in-string/\">Problem Link</a>\n",
    "<p>Iterate from the left side and return the string till that point when you first come across an odd number.<br><br>\n",
    "Time complexity: O(n)<br>\n",
    "Space Complexity: O(1)</p>"
   ]
  },
  {
   "cell_type": "code",
   "execution_count": null,
   "metadata": {},
   "outputs": [],
   "source": [
    "def largestOddNumber(num):\n",
    "    for i in range(len(num) - 1, -1, -1):\n",
    "        if int(num[i]) % 2 == 1:\n",
    "            return num[:i+1]\n",
    "    \n",
    "    return \"\"\n",
    "num = \"35427\"\n",
    "print(largestOddNumber(num))"
   ]
  },
  {
   "cell_type": "markdown",
   "metadata": {},
   "source": [
    "<h3>4. Longest Common Prefix</h3>\n",
    "<a href=\"https://leetcode.com/problems/longest-common-prefix/\">Problem Link</a>\n",
    "<p>Assume one string is the prefix and check the others. Shorten the prefix if the current string does not start with the assumed prefix. If the prefix becomes an empty string, we can return \"\" immediately since there is no common prefix.<br><br>\n",
    "Time complexity: (O(S)), where (S) is the sum of all characters in all strings<br>\n",
    "Space Complexity: O(1)</p>"
   ]
  },
  {
   "cell_type": "code",
   "execution_count": null,
   "metadata": {},
   "outputs": [],
   "source": [
    "def longestCommonPrefix(strs):\n",
    "    if not strs:\n",
    "        return \"\"\n",
    "    prefix = strs[0]\n",
    "    for s in strs[1:]:\n",
    "        while not s.startswith(prefix):\n",
    "            prefix = prefix[:-1]\n",
    "            if not prefix:\n",
    "                return \"\"\n",
    "    return prefix\n",
    "strs = [\"flower\",\"flow\",\"flight\"]\n",
    "print(longestCommonPrefix(strs))"
   ]
  },
  {
   "cell_type": "markdown",
   "metadata": {},
   "source": [
    "<h3>5. Isomorphic Strings</h3>\n",
    "<a href=\"https://leetcode.com/problems/isomorphic-strings/description/\">Problem Link</a>\n",
    "<p>Use ditionary and store the index of each unique character and compare the two indexes in each iteration.<br><br>\n",
    "Time complexity: O(n)<br>\n",
    "Space Complexity: O(k) where k is the number of unique characters in the strings</p>"
   ]
  },
  {
   "cell_type": "code",
   "execution_count": null,
   "metadata": {},
   "outputs": [],
   "source": [
    "def isIsomorphic(s, t):\n",
    "    char_index_s = {}\n",
    "    char_index_t = {}\n",
    "\n",
    "    for i in range(len(s)):\n",
    "        if s[i] not in char_index_s:\n",
    "            char_index_s[s[i]] = i\n",
    "\n",
    "        if t[i] not in char_index_t:\n",
    "            char_index_t[t[i]] = i\n",
    "        \n",
    "        if char_index_s[s[i]] != char_index_t[t[i]]:\n",
    "            return False\n",
    "\n",
    "    return True\n",
    "s = \"egg\"\n",
    "t = \"add\"\n",
    "print(isIsomorphic(s,t))\n"
   ]
  },
  {
   "cell_type": "markdown",
   "metadata": {},
   "source": [
    "<h3>6. Rotate String</h3>\n",
    "<a href=\"https://leetcode.com/problems/rotate-string/description/\">Problem Link</a>\n",
    "<p>The intuition is if s = \"abcde\", then s + s = \"abcdeabcde\" contains all rotations: \"abcde\", \"bcdea\", \"cdeab\", \"deabc\", \"eabcd\".<br><br>\n",
    "Time complexity: O(n)<br>\n",
    "Space Complexity: O(n)</p>"
   ]
  },
  {
   "cell_type": "code",
   "execution_count": null,
   "metadata": {},
   "outputs": [],
   "source": [
    "def rotateString(s, goal):\n",
    "    if len(s) != len(goal):\n",
    "        return False\n",
    "    return goal in s + s\n",
    "s = \"abcde\"\n",
    "goal = \"cdeab\"\n",
    "print(rotateString(s,goal))"
   ]
  },
  {
   "cell_type": "markdown",
   "metadata": {},
   "source": [
    "<h3>7. Valid Anagram</h3>\n",
    "<a href=\"https://leetcode.com/problems/valid-anagram/description/\">Problem Link</a>\n",
    "<p>Use hash table. Increase the count by of each char in the hash table for one string and decrease the count for each char in the hash table for the other string. Go through the values of the hash table and return false if there are any non zero values, else return true. <br><br>\n",
    "Time complexity: O(n)<br>\n",
    "Space Complexity: O(n)</p>"
   ]
  },
  {
   "cell_type": "code",
   "execution_count": null,
   "metadata": {},
   "outputs": [],
   "source": [
    "from collections import defaultdict\n",
    "def isAnagram(s, t):\n",
    "    count = defaultdict(int)\n",
    "    \n",
    "    # Count the frequency of characters in string s\n",
    "    for x in s:\n",
    "        count[x] += 1\n",
    "    \n",
    "    # Decrement the frequency of characters in string t\n",
    "    for x in t:\n",
    "        count[x] -= 1\n",
    "    \n",
    "    # Check if any character has non-zero frequency\n",
    "    for val in count.values():\n",
    "        if val != 0:\n",
    "            return False\n",
    "    \n",
    "    return True\n",
    "s = \"anagram\"\n",
    "t = \"nagaram\"\n",
    "print(isAnagram(s,t))"
   ]
  },
  {
   "cell_type": "code",
   "execution_count": null,
   "metadata": {},
   "outputs": [],
   "source": [
    "def isAnagram(s, t):\n",
    "    count = [0] * 26\n",
    "    \n",
    "    # Count the frequency of characters in string s\n",
    "    for x in s:\n",
    "        count[ord(x) - ord('a')] += 1\n",
    "    \n",
    "    # Decrement the frequency of characters in string t\n",
    "    for x in t:\n",
    "        count[ord(x) - ord('a')] -= 1\n",
    "    \n",
    "    # Check if any character has non-zero frequency\n",
    "    for val in count:\n",
    "        if val != 0:\n",
    "            return False\n",
    "    \n",
    "    return True\n",
    "s = \"anagram\"\n",
    "t = \"nagaram\"\n",
    "print(isAnagram(s,t))"
   ]
  },
  {
   "cell_type": "markdown",
   "metadata": {},
   "source": [
    "<h2> Medium </h2>"
   ]
  },
  {
   "cell_type": "markdown",
   "metadata": {},
   "source": [
    "<h3>1. Sort Characters By Frequency</h3>\n",
    "<a href=\"https://leetcode.com/problems/sort-characters-by-frequency/\">Problem Link</a>\n",
    "<p>freq[c] = 1 + freq.get(c, 0) updates the frequency of character c in the dictionary. If c is already in the dictionary, it increments its count by 1. If c is not in the dictionary, freq.get(c, 0) returns 0, and the count is set to 1.<br><br>\n",
    "Time complexity: O(n+klogk)<br>\n",
    "Space Complexity: O(n)</p>"
   ]
  },
  {
   "cell_type": "code",
   "execution_count": null,
   "metadata": {},
   "outputs": [],
   "source": [
    "def frequencySort(s: str):\n",
    "    freq = {}\n",
    "\n",
    "    for c in s:\n",
    "        freq[c] = 1 + freq.get(c, 0)\n",
    "\n",
    "    freq = sorted(freq.items(), key=lambda x: -x[1])\n",
    "\n",
    "    return ''.join([key * val for key, val in freq])\n",
    "s = \"tree\"\n",
    "print(frequencySort(s))"
   ]
  },
  {
   "cell_type": "markdown",
   "metadata": {},
   "source": [
    "<h3>2. Maximum Nesting Depth of the Parentheses</h3>\n",
    "<a href=\"https://leetcode.com/problems/maximum-nesting-depth-of-the-parentheses/\">Problem Link</a>\n",
    "<p>Initialize a counter to keep track of the current depth (counter) and a variable to store the maximum depth encountered so far (maxContent).\n",
    "Iterate through each character in the input string.\n",
    "If the character is an opening parenthesis, increment the counter and update maxContent if the current depth is greater than maxContent.\n",
    "If the character is a closing parenthesis, decrement the counter and update maxContent if the current depth is greater than maxContent.\n",
    "Return maxContent as the result.<br><br>\n",
    "Time complexity: O(n)<br>\n",
    "Space Complexity: O(1)</p>"
   ]
  },
  {
   "cell_type": "code",
   "execution_count": null,
   "metadata": {},
   "outputs": [],
   "source": [
    "def maxDepth(s):\n",
    "    counter = 0\n",
    "    max_content = 0\n",
    "    for char in s:\n",
    "        if char == '(':\n",
    "            counter += 1\n",
    "            max_content = max(max_content, counter)\n",
    "        elif char == ')':\n",
    "            counter -= 1\n",
    "            max_content = max(max_content, counter)\n",
    "    return max_content\n",
    "s = \"(1+(2*3)+((8)/4))+1\"\n",
    "print(maxDepth(s))"
   ]
  },
  {
   "cell_type": "markdown",
   "metadata": {},
   "source": [
    "<h3>3. Roman to Integer</h3>\n",
    "<a href=\"https://leetcode.com/problems/roman-to-integer/\">Problem Link</a>\n",
    "<p>Define a mapping of Roman numerals to their integer values.\n",
    "Traverse each character in the string:\n",
    "If the current numeral is less than the next one, subtract its value from the total.\n",
    "Otherwise, add its value to the total.\n",
    "Return the accumulated total at the end.<br><br>\n",
    "Time complexity: O(n)<br>\n",
    "Space Complexity: O(1)</p>"
   ]
  },
  {
   "cell_type": "code",
   "execution_count": null,
   "metadata": {},
   "outputs": [],
   "source": [
    "def romanToInt(s):\n",
    "    roman_map={'I':1,'V':5,'X':10,'L':50,'C':100,'D':500,'M':1000}\n",
    "    total=0\n",
    "    length=len(s)\n",
    "    for i in range(length):\n",
    "        if i<length-1 and roman_map[s[i]]<roman_map[s[i+1]]:\n",
    "            total-=roman_map[s[i]]\n",
    "        else:\n",
    "            total+=roman_map[s[i]]\n",
    "    return total\n",
    "s = \"LVIII\"\n",
    "print(romanToInt(s))"
   ]
  },
  {
   "cell_type": "markdown",
   "metadata": {},
   "source": [
    "<h3>4. String to Integer (atoi)</h3>\n",
    "<a href=\"https://leetcode.com/problems/string-to-integer-atoi/description/\">Problem Link</a>\n",
    "<p>Ignore Leading Whitespace: Skip over any leading spaces in the string.\n",
    "Sign Detection: Check for a + or - sign immediately after the whitespace.\n",
    "Convert Digits to Integer: Start reading consecutive digits, stopping when a non-digit is encountered.\n",
    "Clamp to 32-bit Integer Range: If the integer exceeds 2^31 - 1 or goes below -2^31, clamp it to fit within these bounds.\n",
    "Return the Result.\n",
    "Check comments\n",
    "<br><br>\n",
    "Time complexity: O(n)<br>\n",
    "Space Complexity: O(1)</p>"
   ]
  },
  {
   "cell_type": "code",
   "execution_count": null,
   "metadata": {},
   "outputs": [],
   "source": [
    "def myAtoi(s):\n",
    "    INT_MAX, INT_MIN = 2**31 - 1, -2**31\n",
    "    i, n = 0, len(s)\n",
    "    # Step 1: Skip leading whitespace\n",
    "    while i < n and s[i] == ' ':\n",
    "        i += 1\n",
    "\n",
    "    # Step 2: Check for optional sign\n",
    "    sign = 1\n",
    "    if i < n and s[i] == '-':\n",
    "        sign = -1\n",
    "        i += 1\n",
    "    elif i < n and s[i] == '+':\n",
    "        i += 1\n",
    "\n",
    "    # Step 3: Convert digits to integer\n",
    "    result = 0\n",
    "    while i < n and s[i].isdigit():\n",
    "        digit = int(s[i])\n",
    "        # Check for overflow\n",
    "        if result > (INT_MAX - digit) // 10:\n",
    "            return INT_MAX if sign == 1 else INT_MIN\n",
    "        result = result * 10 + digit\n",
    "        i += 1\n",
    "    \n",
    "    return sign * result\n",
    "s = \"1337c0d3\"\n",
    "print(myAtoi(s))"
   ]
  },
  {
   "cell_type": "markdown",
   "metadata": {},
   "source": [
    "<h3>5. Count number of substrings</h3>\n",
    "<a href=\"https://www.geeksforgeeks.org/problems/count-number-of-substrings4528/1?utm_source=youtube&utm_medium=collab_striver_ytdescription&utm_campaign=count-number-of-substrings\">Problem Link</a>\n",
    "<p>We'll use a sliding window approach and a dictionary to track character counts within the window. Here's the step-by-step approach:\n",
    "\n",
    "1. Initialize a counter for the substrings (count), an empty current substring (current_substring), a dictionary to track character counts (character_count), and the starting index of the current substring (start_index).\n",
    "\n",
    "2. Iterate through the input string, adding characters to current_substring and updating character_count accordingly.\n",
    "\n",
    "3. While the count of distinct characters in character_count exceeds k, remove characters from the start of the substring and update character_count. This step ensures that we maintain exactly k distinct characters within the current window.\n",
    "\n",
    "4. Increment count by the length of the current substring (end_index - start_index + 1) at each iteration. This accounts for all valid substrings with upto k distinct characters ending at the current index.\n",
    "\n",
    "5. Return the count as the final result.<br>\n",
    "\n",
    "Dry Run\n",
    "\n",
    "Example 1: S = \"aba\", K = 2\n",
    "\n",
    "\n",
    "1. S = \"aba\", K = 2 --- Initialize count = 0, current_substring = '', character_count = {}, and start_index = 0.\n",
    "2. Iterating through the string \"aba\":\n",
    "\n",
    "   - For \"a\", add it to the current substring: current_substring = 'a', update character_count = {'a': 1}, and count = 1.\n",
    "   - For \"b\", add it to the current substring: current_substring = 'ab', update character_count = {'a': 1, 'b': 1}, and count = 3.\n",
    "   - For \"a\", add it to the current substring: current_substring = 'aba', update character_count = {'a': 2, 'b': 1}, and count = 6.<br></p><p>\n",
    "\n",
    "1. S = \"aba\", K = 1 --- Initialize count = 0, current_substring = '', character_count = {}, and start_index = 0.\n",
    "2. Iterating through the string \"aba\":\n",
    "\n",
    "   - For \"a\", add it to the current substring: current_substring = 'a', update character_count = {'a': 1}, and count = 1.\n",
    "   - For \"b\", add it to the current substring: current_substring = 'ab', update character_count = {'a': 1, 'b': 1}.\n",
    "     here the count of characters is greater than 1, here we increment the start pointer to 1\n",
    "     resulting current_substring = 'b', update character_count = {'b': 1} and count += (1-1)+1, count = 2\n",
    "   - For \"a\", add it to the current substring: current_substring = 'ba', update character_count = {'a': 1, 'b': 1}.\n",
    "     here the count of characters is greater than 1, here we increment the start pointer to 2\n",
    "     resulting current_substring = 'a', update character_count = {'a': 1} and count += (2-2)+1, count = 3\n",
    "3. The final count is 6-3 = 3, which is the number of substrings in \"aba\" with exactly 2 distinct characters.\n",
    "<br><br>\n",
    "\n",
    "Time complexity: O(n)<br>\n",
    "Space Complexity: O(k)</p>"
   ]
  },
  {
   "cell_type": "code",
   "execution_count": null,
   "metadata": {},
   "outputs": [],
   "source": [
    "def count_substrings_with_k_distinct_characters(s, k):\n",
    "        count = 0  # Initialize a counter for the substrings\n",
    "        character_count = dict()  # Initialize a dictionary to track character counts\n",
    "        start_index = 0  # Initialize the starting index of the current substring\n",
    "\n",
    "\n",
    "        for end_index in range(len(s)):\n",
    "            character_count[s[end_index]] = character_count.get(s[end_index], 0) + 1\n",
    "\n",
    "\n",
    "            while len(character_count) > k:\n",
    "                # Remove characters from the start of the substring until we have 'k' distinct characters\n",
    "                first_char = s[start_index]\n",
    "                if character_count[first_char] == 1:\n",
    "                    del character_count[first_char]\n",
    "                else:\n",
    "                    character_count[first_char] -= 1\n",
    "                start_index += 1\n",
    "\n",
    "\n",
    "            count += (end_index - start_index + 1)  # Increment the count based on substring length\n",
    "\n",
    "\n",
    "        return count\n",
    "   \n",
    "def substrCount(s, k):\n",
    "    return count_substrings_with_k_distinct_characters(s, k) - count_substrings_with_k_distinct_characters(s, k - 1)\n",
    "s = \"abaaca\"\n",
    "k = 1\n",
    "print(substrCount(s,k))"
   ]
  },
  {
   "cell_type": "markdown",
   "metadata": {},
   "source": [
    "<h3>6. Longest Palindromic Substring</h3>\n",
    "<a href=\"https://leetcode.com/problems/longest-palindromic-substring/description/\">Problem Link</a>\n",
    "<p>Expand from center with BS<br><br>\n",
    "Time complexity: O(n^2)<br>\n",
    "Space Complexity: O(1)</p>"
   ]
  },
  {
   "cell_type": "code",
   "execution_count": null,
   "metadata": {},
   "outputs": [],
   "source": [
    "def longestPalindrome(s):\n",
    "    if len(s) <= 1:\n",
    "        return s\n",
    "\n",
    "    def expand_from_center(left, right):\n",
    "        while left >= 0 and right < len(s) and s[left] == s[right]:\n",
    "            left -= 1\n",
    "            right += 1\n",
    "        return s[left + 1:right]\n",
    "\n",
    "    max_str = s[0]\n",
    "\n",
    "    for i in range(len(s) - 1):\n",
    "        odd = expand_from_center(i, i)\n",
    "        even = expand_from_center(i, i + 1)\n",
    "\n",
    "        if len(odd) > len(max_str):\n",
    "            max_str = odd\n",
    "        if len(even) > len(max_str):\n",
    "            max_str = even\n",
    "\n",
    "    return max_str\n",
    "s = \"babad\"\n",
    "print(longestPalindrome(s))"
   ]
  },
  {
   "cell_type": "markdown",
   "metadata": {},
   "source": [
    "<h3>7. Longest Palindromic Substring</h3>\n",
    "<a href=\"https://leetcode.com/problems/sum-of-beauty-of-all-substrings/description/\">Problem Link</a>\n",
    "<p>Code Explanation<br>\n",
    "\n",
    "Initialization:\n",
    "- ans = 0: This variable will accumulate the total beauty sum of all substrings.\n",
    "- freq = [0] * 26: A frequency list of length 26 to count occurrences of each character from 'a' to 'z'.\n",
    "\n",
    "Outer Loop:\n",
    "- for i in range(len(s)): The outer loop iterates over each starting index i of the substrings in s.\n",
    "- For each starting position i, a new freq array is initialized to count character frequencies from that starting position.\n",
    "\n",
    "Inner Loop:\n",
    "- for j in range(i, len(s)): The inner loop extends the substring from index i to j.\n",
    "- freq[ord(s[j]) - 97] += 1: For each character s[j] in the substring, it increments its count in the freq array.\n",
    "\n",
    "Calculating the Beauty of the Substring:\n",
    "- max(freq): Finds the maximum frequency of any character in the current substring.\n",
    "- min(x for x in freq if x): Finds the minimum non-zero frequency in the current substring.\n",
    "- ans += max(freq) - min(...): Adds the difference (beauty) of the maximum and minimum frequency to ans.\n",
    "\n",
    "Return Statement:\n",
    "- return ans: Returns the accumulated beauty sum of all substrings.\n",
    "\n",
    "\n",
    "This code calculates the \"beauty sum\" of a string by iterating over all possible substrings. For each starting position, it uses a frequency array to count character occurrences in the substring, then calculates the \"beauty\" as the difference between the maximum and minimum non-zero frequencies. The results are accumulated into a total sum.\n",
    "<br><br>\n",
    "Time complexity: O(n^2)<br>\n",
    "Space Complexity: O(1)</p>"
   ]
  },
  {
   "cell_type": "code",
   "execution_count": null,
   "metadata": {},
   "outputs": [],
   "source": [
    "def beautySum(s):\n",
    "    ans = 0 \n",
    "    for i in range(len(s)):\n",
    "        freq = [0]*26\n",
    "        for j in range(i, len(s)):\n",
    "            freq[ord(s[j])-97] += 1\n",
    "            ans += max(freq) - min(x for x in freq if x)\n",
    "    return ans \n",
    "s = \"aabcb\"\n",
    "print(beautySum(s))"
   ]
  },
  {
   "cell_type": "code",
   "execution_count": null,
   "metadata": {},
   "outputs": [],
   "source": []
  }
 ],
 "metadata": {
  "kernelspec": {
   "display_name": "Python 3",
   "language": "python",
   "name": "python3"
  },
  "language_info": {
   "codemirror_mode": {
    "name": "ipython",
    "version": 3
   },
   "file_extension": ".py",
   "mimetype": "text/x-python",
   "name": "python",
   "nbconvert_exporter": "python",
   "pygments_lexer": "ipython3",
   "version": "3.12.4"
  }
 },
 "nbformat": 4,
 "nbformat_minor": 2
}
