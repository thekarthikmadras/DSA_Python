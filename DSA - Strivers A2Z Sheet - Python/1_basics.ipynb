{
 "cells": [
  {
   "cell_type": "markdown",
   "metadata": {},
   "source": [
    "<h1>Basics</h1>\n"
   ]
  },
  {
   "cell_type": "markdown",
   "metadata": {},
   "source": [
    "<h2>Patterns</h2>"
   ]
  },
  {
   "cell_type": "markdown",
   "metadata": {},
   "source": [
    "![p1](imgs/P1.png)\n",
    "<br><br>\n",
    "<a href=\"https://www.naukri.com/code360/problems/n-forest_6570177?utm_source=youtube&utm_medium=affiliate&utm_campaign=striver_patternproblems\">Problem Link</a>"
   ]
  },
  {
   "cell_type": "code",
   "execution_count": 1,
   "metadata": {},
   "outputs": [
    {
     "name": "stdout",
     "output_type": "stream",
     "text": [
      "* * * * * \n",
      "* * * * * \n",
      "* * * * * \n",
      "* * * * * \n",
      "* * * * * \n"
     ]
    }
   ],
   "source": [
    "n = 5\n",
    "for i in range(1,n+1):\n",
    "    print(\"* \"*n, end=\"\\n\")"
   ]
  },
  {
   "cell_type": "markdown",
   "metadata": {},
   "source": [
    "![p1](imgs/P2.png)\n",
    "<br><br>\n",
    "<a href=\"https://www.naukri.com/code360/problems/n-2-forest_6570178?utm_source=youtube&utm_medium=affiliate&utm_campaign=striver_patternproblems\">Problem Link</a>"
   ]
  },
  {
   "cell_type": "code",
   "execution_count": 2,
   "metadata": {},
   "outputs": [
    {
     "name": "stdout",
     "output_type": "stream",
     "text": [
      "* \n",
      "* * \n",
      "* * * \n",
      "* * * * \n",
      "* * * * * \n"
     ]
    }
   ],
   "source": [
    "n = 5\n",
    "for i in range(0,n):\n",
    "    for j in range(0,i+1):\n",
    "        print(\"* \", end=\"\")\n",
    "    print(\"\",end=\"\\n\")"
   ]
  },
  {
   "cell_type": "markdown",
   "metadata": {},
   "source": [
    "![p1](imgs/P3.png)\n",
    "<br><br>\n",
    "<a href=\"https://www.naukri.com/code360/problems/n-triangles_6573689?utm_source=youtube&utm_medium=affiliate&utm_campaign=striver_patternproblems\">Problem Link</a>"
   ]
  },
  {
   "cell_type": "code",
   "execution_count": 3,
   "metadata": {},
   "outputs": [
    {
     "name": "stdout",
     "output_type": "stream",
     "text": [
      "1 \n",
      "1 2 \n",
      "1 2 3 \n",
      "1 2 3 4 \n",
      "1 2 3 4 5 \n"
     ]
    }
   ],
   "source": [
    "n = 5\n",
    "for i in range(0,n):\n",
    "    for j in range(0,i+1):\n",
    "        print(j+1, end=\" \")\n",
    "    print(\"\",end=\"\\n\")"
   ]
  },
  {
   "cell_type": "markdown",
   "metadata": {},
   "source": [
    "![p1](imgs/P4.png)\n",
    "<br><br>\n",
    "<a href=\"https://www.naukri.com/code360/problems/triangle_6573690?utm_source=youtube&utm_medium=affiliate&utm_campaign=striver_patternproblems\">Problem Link</a>"
   ]
  },
  {
   "cell_type": "code",
   "execution_count": 4,
   "metadata": {},
   "outputs": [
    {
     "name": "stdout",
     "output_type": "stream",
     "text": [
      "1 \n",
      "2 2 \n",
      "3 3 3 \n",
      "4 4 4 4 \n",
      "5 5 5 5 5 \n"
     ]
    }
   ],
   "source": [
    "n = 5\n",
    "for i in range(0,n):\n",
    "    for j in range(0,i+1):\n",
    "        print(i+1, end=\" \")\n",
    "    print(\"\",end=\"\\n\")"
   ]
  },
  {
   "cell_type": "markdown",
   "metadata": {},
   "source": [
    "![p1](imgs/P5.png)\n",
    "<br><br>\n",
    "<a href=\"https://www.naukri.com/code360/problems/seeding_6581892?utm_source=youtube&utm_medium=affiliate&utm_campaign=striver_patternproblems\">Problem Link</a>"
   ]
  },
  {
   "cell_type": "code",
   "execution_count": 5,
   "metadata": {},
   "outputs": [
    {
     "name": "stdout",
     "output_type": "stream",
     "text": [
      "* * * * * \n",
      "* * * * \n",
      "* * * \n",
      "* * \n",
      "* \n"
     ]
    }
   ],
   "source": [
    "n = 5\n",
    "while n > 0:\n",
    "    print(\"* \"*n, end=\"\\n\")\n",
    "    n -= 1"
   ]
  },
  {
   "cell_type": "markdown",
   "metadata": {},
   "source": [
    "![p1](imgs/P6.png)\n",
    "<br><br>\n",
    "<a href=\"https://www.naukri.com/code360/problems/reverse-number-triangle_6581889?utm_source=youtube&utm_medium=affiliate&utm_campaign=striver_patternproblems\">Problem Link</a>"
   ]
  },
  {
   "cell_type": "code",
   "execution_count": 6,
   "metadata": {},
   "outputs": [
    {
     "name": "stdout",
     "output_type": "stream",
     "text": [
      "1 2 3 4 5 \n",
      "1 2 3 4 \n",
      "1 2 3 \n",
      "1 2 \n",
      "1 \n"
     ]
    }
   ],
   "source": [
    "n = 5\n",
    "while n > 0:\n",
    "    for i in range(0,n):\n",
    "        print(i+1,end=\" \")\n",
    "    print(\"\\n\",end=\"\")\n",
    "    n -= 1"
   ]
  },
  {
   "cell_type": "markdown",
   "metadata": {},
   "source": [
    "![p1](imgs/P7.png)\n",
    "<br><br>\n",
    "<a href=\"https://www.naukri.com/code360/problems/star-triangle_6573671?utm_source=youtube&utm_medium=affiliate&utm_campaign=striver_patternproblems\">Problem Link</a>"
   ]
  },
  {
   "cell_type": "code",
   "execution_count": 7,
   "metadata": {},
   "outputs": [
    {
     "name": "stdout",
     "output_type": "stream",
     "text": [
      "    * \n",
      "   *** \n",
      "  ***** \n",
      " ******* \n",
      "********* \n"
     ]
    }
   ],
   "source": [
    "n = 5\n",
    "k = 0\n",
    "for i in range(1,n+1):\n",
    "    for j in range(1,(n-i)+1):\n",
    "        print(\" \",end=\"\")\n",
    "    while k!= (2*i-1):\n",
    "        print(\"*\",end=\"\")\n",
    "        k+=1\n",
    "    k = 0\n",
    "    print(\" \")\n"
   ]
  },
  {
   "cell_type": "markdown",
   "metadata": {},
   "source": [
    "![p1](imgs/P8.png)\n",
    "<br><br>\n",
    "<a href=\"https://www.naukri.com/code360/problems/reverse-star-triangle_6573685?utm_source=youtube&utm_medium=affiliate&utm_campaign=striver_patternproblems\">Problem Link</a>"
   ]
  },
  {
   "cell_type": "code",
   "execution_count": 8,
   "metadata": {},
   "outputs": [
    {
     "name": "stdout",
     "output_type": "stream",
     "text": [
      "*********\n",
      " *******\n",
      "  *****\n",
      "   ***\n",
      "    *\n"
     ]
    }
   ],
   "source": [
    "n = 5\n",
    "m = 1\n",
    "k = 1\n",
    "for i in range(1,n+1):\n",
    "    for j in range(1,m):\n",
    "        print(\" \",end=\"\")\n",
    "    m += 1\n",
    "    while k <= (2*(n-i)+1):\n",
    "        print(\"*\",end=\"\")\n",
    "        k += 1\n",
    "    k = 1\n",
    "    print()"
   ]
  },
  {
   "cell_type": "code",
   "execution_count": 9,
   "metadata": {},
   "outputs": [
    {
     "name": "stdout",
     "output_type": "stream",
     "text": [
      "*********\n",
      " *******\n",
      "  *****\n",
      "   ***\n",
      "    *\n"
     ]
    }
   ],
   "source": [
    "n = 5\n",
    "k = 0\n",
    "for i in reversed(range(1,n+1)):\n",
    "    for j in reversed(range (1, (n-i)+1)):\n",
    "        print(end=\" \")\n",
    "    while k != (2*i-1):\n",
    "        print(\"*\",end=\"\")\n",
    "        k += 1\n",
    "    k = 0\n",
    "    print(\"\",end=\"\\n\")"
   ]
  },
  {
   "cell_type": "markdown",
   "metadata": {},
   "source": [
    "![p1](imgs/P9.png)\n",
    "<br><br>\n",
    "<a href=\"https://www.naukri.com/code360/problems/star-diamond_6573686?utm_source=youtube&utm_medium=affiliate&utm_campaign=striver_patternproblems\">Problem Link</a>\n",
    "\n",
    "<p>\n",
    "Code breakdown\n",
    "<ul>\n",
    "<li> first for loop is for the rows of the first half of the triangle</li>\n",
    "<li> the inner j for loop is to print the spaces till the mid number </li>\n",
    "<li> the inner while loop is to print the “*” as the mid number and the formula to find the mid number of a particular row is (2*rowno -1) </li>\n",
    "<li> then reset k for the next row and print the remaining spaces </li>\n",
    "<li> initialize variable for reversing the above K and M </li>\n",
    "<li> the first for loop here is again for the rows </li>\n",
    "<li> the second inner for loop is to print the spaces. K acts as number of rows to print the spaces here </li>\n",
    "<li> the inner while loop is to print ”*” and the formula to print the number of stars for a particular row is (2*(N - rowno)-1) </li>\n",
    "<li> then reset m for the next row and print the remaining spaces </li>\n",
    "</ul>\n",
    "</p>\n"
   ]
  },
  {
   "cell_type": "code",
   "execution_count": 10,
   "metadata": {},
   "outputs": [
    {
     "name": "stdout",
     "output_type": "stream",
     "text": [
      "    *\n",
      "   ***\n",
      "  *****\n",
      " *******\n",
      "*********\n",
      " ******* \n",
      "  ***** \n",
      "   *** \n",
      "    * \n",
      "      \n"
     ]
    }
   ],
   "source": [
    "n = 5\n",
    "k = 0\n",
    "for i in range(1,n+1):\n",
    "    for j in range(1,n-i+1):\n",
    "        print(\" \",end=\"\")\n",
    "    while k != ((2*i)-1):\n",
    "        print(\"*\",end=\"\")\n",
    "        k += 1\n",
    "    k = 0\n",
    "    print()\n",
    "k = 1\n",
    "m = 1\n",
    "for i in range(1,n+1):\n",
    "    for j in range(0,k):\n",
    "        print(\" \",end=\"\")\n",
    "    k += 1\n",
    "    while m <= (2*(n-i)-1):\n",
    "        print(\"*\",end=\"\")\n",
    "        m += 1\n",
    "    m = 1\n",
    "    print(\" \")"
   ]
  },
  {
   "cell_type": "code",
   "execution_count": 11,
   "metadata": {},
   "outputs": [
    {
     "name": "stdout",
     "output_type": "stream",
     "text": [
      "    *\n",
      "   ***\n",
      "  *****\n",
      " *******\n",
      "*********\n",
      " *******\n",
      "  *****\n",
      "   ***\n",
      "    *\n"
     ]
    }
   ],
   "source": [
    "n = 5\n",
    "k = 0\n",
    "for i in range(1,n):\n",
    "    for j in range (1, (n-i)+1):\n",
    "        print(end=\" \")\n",
    "    while k != (2*i-1):\n",
    "        print(\"*\",end=\"\")\n",
    "        k += 1\n",
    "    k = 0\n",
    "    print(\"\",end=\"\\n\")\n",
    "\n",
    "for i in reversed(range(1,n+1)):\n",
    "    for j in reversed(range (1, (n-i)+1)):\n",
    "        print(end=\" \")\n",
    "    while k != (2*i-1):\n",
    "        print(\"*\",end=\"\")\n",
    "        k += 1\n",
    "    k = 0\n",
    "    print(\"\",end=\"\\n\")\n",
    "    "
   ]
  },
  {
   "cell_type": "markdown",
   "metadata": {},
   "source": [
    "![p1](imgs/P10.png)\n",
    "<br><br>\n",
    "<a href=\"https://www.naukri.com/code360/problems/rotated-triangle_6573688?utm_source=youtube&utm_medium=affiliate&utm_campaign=striver_patternproblems\">Problem Link</a>"
   ]
  },
  {
   "cell_type": "code",
   "execution_count": 12,
   "metadata": {},
   "outputs": [
    {
     "name": "stdout",
     "output_type": "stream",
     "text": [
      "*\n",
      "**\n",
      "***\n",
      "****\n",
      "*****\n",
      "****\n",
      "***\n",
      "**\n",
      "*\n"
     ]
    }
   ],
   "source": [
    "n = 5\n",
    "for i in range(1,n+1):\n",
    "    print(\"*\"*i,end=\"\\n\")\n",
    "for i in range(1,n):\n",
    "    print(\"*\"*(n-i), end=\"\\n\")"
   ]
  },
  {
   "cell_type": "markdown",
   "metadata": {},
   "source": [
    "![p1](imgs/P11.png)\n",
    "<br><br>\n",
    "<a href=\"https://www.naukri.com/code360/problems/binary-number-triangle_6581890?utm_source=youtube&utm_medium=affiliate&utm_campaign=striver_patternproblems\">Problem Link</a>"
   ]
  },
  {
   "cell_type": "code",
   "execution_count": 13,
   "metadata": {},
   "outputs": [
    {
     "name": "stdout",
     "output_type": "stream",
     "text": [
      "1 \n",
      "0 1 \n",
      "1 0 1 \n",
      "0 1 0 1 \n",
      "1 0 1 0 1 \n"
     ]
    }
   ],
   "source": [
    "n = 5\n",
    "pointer = 0\n",
    "for i in range(1,n+1):\n",
    "    if i%2!=0:\n",
    "        pointer = 1\n",
    "    for j in range(0,i):\n",
    "        print(pointer, end=\" \")\n",
    "        if pointer == 1:\n",
    "            pointer = 0\n",
    "        else:\n",
    "            pointer = 1\n",
    "    print(\"\\n\",end=\"\")"
   ]
  },
  {
   "cell_type": "markdown",
   "metadata": {},
   "source": [
    "![p1](imgs/P12.png)\n",
    "<br><br>\n",
    "<a href=\"https://www.naukri.com/code360/problems/number-crown_6581894?utm_source=youtube&utm_medium=affiliate&utm_campaign=striver_patternproblems\">Problem Link</a>"
   ]
  },
  {
   "cell_type": "code",
   "execution_count": 14,
   "metadata": {},
   "outputs": [
    {
     "name": "stdout",
     "output_type": "stream",
     "text": [
      "1        1\n",
      "12      21\n",
      "123    321\n",
      "1234  4321\n",
      "1234554321\n"
     ]
    }
   ],
   "source": [
    "n = 5\n",
    "for i in range(1,n+1):\n",
    "    for j in range(1,n+1):\n",
    "        if j <= i:\n",
    "            print(j,end=\"\")\n",
    "        else:\n",
    "            print(\" \",end=\"\")\n",
    "    k = n\n",
    "    for j in reversed(range(1,n+1)):\n",
    "        if j <= i:\n",
    "            print(j,end=\"\")\n",
    "        else:\n",
    "            print(\" \",end=\"\")\n",
    "\n",
    "    print(\"\\n\",end=\"\")"
   ]
  },
  {
   "cell_type": "markdown",
   "metadata": {},
   "source": [
    "![p1](imgs/P13.png)\n",
    "<br><br>\n",
    "<a href=\"https://www.naukri.com/code360/problems/increasing-number-triangle_6581893?utm_source=youtube&utm_medium=affiliate&utm_campaign=striver_patternproblems\">Problem Link</a>"
   ]
  },
  {
   "cell_type": "code",
   "execution_count": 15,
   "metadata": {},
   "outputs": [
    {
     "name": "stdout",
     "output_type": "stream",
     "text": [
      "1 \n",
      "2 3 \n",
      "4 5 6 \n",
      "7 8 9 10 \n",
      "11 12 13 14 15 \n"
     ]
    }
   ],
   "source": [
    "n = 5\n",
    "k = 1\n",
    "for i in range(1, n+1):\n",
    "    for j in range(0,i):\n",
    "        print(k,end=\" \")\n",
    "        k += 1\n",
    "    print(\"\\n\",end=\"\")"
   ]
  },
  {
   "cell_type": "markdown",
   "metadata": {},
   "source": [
    "![p1](imgs/P14.png)\n",
    "<br><br>\n",
    "<a href=\"https://www.naukri.com/code360/problems/increasing-letter-triangle_6581897?utm_source=youtube&utm_medium=affiliate&utm_campaign=striver_patternproblems\">Problem Link</a>"
   ]
  },
  {
   "cell_type": "code",
   "execution_count": 16,
   "metadata": {},
   "outputs": [
    {
     "name": "stdout",
     "output_type": "stream",
     "text": [
      "A\n",
      "AB\n",
      "ABC\n",
      "ABCD\n",
      "ABCDE\n"
     ]
    }
   ],
   "source": [
    "n = 5\n",
    "k = 65\n",
    "for i in range(1, n+1):\n",
    "    for j in range(0,i):\n",
    "        print(chr(k),end=\"\")\n",
    "        k += 1\n",
    "    k = 65\n",
    "    print(\"\\n\",end=\"\")"
   ]
  },
  {
   "cell_type": "markdown",
   "metadata": {},
   "source": [
    "![p1](imgs/P15.png)\n",
    "<br><br>\n",
    "<a href=\"https://www.naukri.com/code360/problems/reverse-letter-triangle_6581906?utm_source=youtube&utm_medium=affiliate&utm_campaign=striver_patternproblems&leftPanelTabValue=SUBMISSION\">Problem Link</a>"
   ]
  },
  {
   "cell_type": "code",
   "execution_count": 17,
   "metadata": {},
   "outputs": [
    {
     "name": "stdout",
     "output_type": "stream",
     "text": [
      "ABCDE\n",
      "ABCD\n",
      "ABC\n",
      "AB\n",
      "A\n"
     ]
    }
   ],
   "source": [
    "n = 5\n",
    "k = 65\n",
    "for i in reversed(range(1, n+1)):\n",
    "    for j in range(0,i):\n",
    "        print(chr(k),end=\"\")\n",
    "        k += 1\n",
    "    k = 65\n",
    "    print(\"\\n\",end=\"\")"
   ]
  },
  {
   "cell_type": "markdown",
   "metadata": {},
   "source": [
    "![p1](imgs/P16.png)\n",
    "<br><br>\n",
    "<a href=\"https://www.naukri.com/code360/problems/alpha-ramp_6581888?utm_source=youtube&utm_medium=affiliate&utm_campaign=striver_patternproblems\">Problem Link</a>"
   ]
  },
  {
   "cell_type": "code",
   "execution_count": 18,
   "metadata": {},
   "outputs": [
    {
     "name": "stdout",
     "output_type": "stream",
     "text": [
      "A\n",
      "BB\n",
      "CCC\n",
      "DDDD\n",
      "EEEEE\n"
     ]
    }
   ],
   "source": [
    "n = 5\n",
    "k = 65\n",
    "for i in range(1, n+1):\n",
    "    for j in range(0,i):\n",
    "        print(chr(k),end=\"\")\n",
    "    k += 1\n",
    "\n",
    "    print(\"\\n\",end=\"\")"
   ]
  },
  {
   "cell_type": "markdown",
   "metadata": {},
   "source": [
    "![p1](imgs/P17.png)\n",
    "<br><br>\n",
    "<a href=\"https://www.naukri.com/code360/problems/alpha-hill_6581921?utm_source=youtube&utm_medium=affiliate&utm_campaign=striver_patternproblems\">Problem Link</a>"
   ]
  },
  {
   "cell_type": "code",
   "execution_count": 19,
   "metadata": {},
   "outputs": [
    {
     "name": "stdout",
     "output_type": "stream",
     "text": [
      "    A\n",
      "   ABA\n",
      "  ABCBA\n",
      " ABCDCBA\n",
      "ABCDEDCBA\n"
     ]
    }
   ],
   "source": [
    "n = 5\n",
    "for i in range(n):\n",
    "    spaces = \" \" * (n-i-1)\n",
    "    print(spaces, end='')\n",
    "    num = 65\n",
    "    bp = (2*i+1) / 2\n",
    "    for j in range(1, 2*i+2):\n",
    "        print(chr(num), end='')\n",
    "        if j<= bp:\n",
    "            num += 1\n",
    "        else:\n",
    "            num -= 1\n",
    "    print()"
   ]
  },
  {
   "cell_type": "markdown",
   "metadata": {},
   "source": [
    "![p1](imgs/P18.png)\n",
    "<br><br>\n",
    "<a href=\"https://www.naukri.com/code360/problems/alpha-triangle_6581429?utm_source=youtube&utm_medium=affiliate&utm_campaign=striver_patternproblems\">Problem Link</a>"
   ]
  },
  {
   "cell_type": "code",
   "execution_count": 20,
   "metadata": {},
   "outputs": [
    {
     "name": "stdout",
     "output_type": "stream",
     "text": [
      "E \n",
      "D E \n",
      "C D E \n",
      "B C D E \n",
      "A B C D E \n"
     ]
    }
   ],
   "source": [
    "n = 5\n",
    "for i in range(1,n+1):\n",
    "    k = 65+n-i\n",
    "    for j in range (1,i+1):\n",
    "        print(chr(k),end=\" \")\n",
    "        k +=1\n",
    "    print()"
   ]
  },
  {
   "cell_type": "markdown",
   "metadata": {},
   "source": [
    "![p1](imgs/P19.png)\n",
    "<br><br>\n",
    "<a href=\"https://www.naukri.com/code360/problems/symmetric-void_6581919?utm_source=youtube&utm_medium=affiliate&utm_campaign=striver_patternproblems\">Problem Link</a>"
   ]
  },
  {
   "cell_type": "code",
   "execution_count": 21,
   "metadata": {},
   "outputs": [
    {
     "name": "stdout",
     "output_type": "stream",
     "text": [
      "* * * * * * * * * * \n",
      "* * * *     * * * * \n",
      "* * *         * * * \n",
      "* *             * * \n",
      "*                 * \n",
      "*                 * \n",
      "* *             * * \n",
      "* * *         * * * \n",
      "* * * *     * * * * \n",
      "* * * * * * * * * * \n"
     ]
    }
   ],
   "source": [
    "n = 5\n",
    "spaces = 0\n",
    "for i in range(0,n):\n",
    "    for j in range(1,n-i+1):\n",
    "        print(\"*\",end=\" \")\n",
    "\n",
    "    for j in range(spaces):\n",
    "        print(\" \",end=\" \")\n",
    "\n",
    "    for j in range(1,n-i+1):\n",
    "        print(\"*\",end=\" \")\n",
    "    \n",
    "    spaces += 2\n",
    "    print()\n",
    "spaces = 2*n-2\n",
    "for i in reversed(range(0,n)):\n",
    "    for j in range(1,n-i+1):\n",
    "        print(\"*\",end=\" \")\n",
    "\n",
    "    for j in range(spaces):\n",
    "        print(\" \",end=\" \")\n",
    "\n",
    "    for j in range(1,n-i+1):\n",
    "        print(\"*\",end=\" \")\n",
    "    \n",
    "    spaces -= 2\n",
    "    print()"
   ]
  },
  {
   "cell_type": "markdown",
   "metadata": {},
   "source": [
    "![p1](imgs/P20.png)\n",
    "<br><br>\n",
    "<a href=\"https://www.naukri.com/code360/problems/symmetry_6581914?utm_source=youtube&utm_medium=affiliate&utm_campaign=striver_patternproblems\">Problem Link</a>"
   ]
  },
  {
   "cell_type": "code",
   "execution_count": 22,
   "metadata": {},
   "outputs": [
    {
     "name": "stdout",
     "output_type": "stream",
     "text": [
      "*                 * \n",
      "* *             * * \n",
      "* * *         * * * \n",
      "* * * *     * * * * \n",
      "* * * * * * * * * * \n",
      "* * * *     * * * * \n",
      "* * *         * * * \n",
      "* *             * * \n",
      "*                 * \n"
     ]
    }
   ],
   "source": [
    "n = 5\n",
    "spaces = 2*n-2\n",
    "for i in reversed(range(0,n)):\n",
    "    for j in range(1,n-i+1):\n",
    "        print(\"*\",end=\" \")\n",
    "\n",
    "    for j in range(spaces):\n",
    "        print(\" \",end=\" \")\n",
    "\n",
    "    for j in range(1,n-i+1):\n",
    "        print(\"*\",end=\" \")\n",
    "    \n",
    "    spaces -= 2\n",
    "    print()\n",
    "spaces = 2\n",
    "for i in range(1,n):\n",
    "    for j in range(1,n-i+1):\n",
    "        print(\"*\",end=\" \")\n",
    "\n",
    "    for j in range(spaces):\n",
    "        print(\" \",end=\" \")\n",
    "\n",
    "    for j in range(1,n-i+1):\n",
    "        print(\"*\",end=\" \")\n",
    "    \n",
    "    spaces += 2\n",
    "    print()"
   ]
  },
  {
   "cell_type": "markdown",
   "metadata": {},
   "source": [
    "![p1](imgs/P21.jpg)\n",
    "<br><br>\n",
    "<a href=\"https://www.naukri.com/code360/problems/ninja-and-the-star-pattern-i_6581920?utm_source=youtube&utm_medium=affiliate&utm_campaign=striver_patternproblems\">Problem Link</a>"
   ]
  },
  {
   "cell_type": "code",
   "execution_count": 23,
   "metadata": {},
   "outputs": [
    {
     "name": "stdout",
     "output_type": "stream",
     "text": [
      "*****\n",
      "*   *\n",
      "*   *\n",
      "*   *\n",
      "*****\n"
     ]
    }
   ],
   "source": [
    "n = 5\n",
    "for i in range(1,n+1):\n",
    "    for j in range(1,n+1):\n",
    "        if i == 1 or j == 1 or i == n or j == n:\n",
    "            print(\"*\",end=\"\")\n",
    "        else:\n",
    "            print(\" \",end=\"\")\n",
    "    print()"
   ]
  },
  {
   "cell_type": "markdown",
   "metadata": {},
   "source": [
    "![p1](imgs/P22.png)\n",
    "<br><br>\n",
    "<a href=\"https://www.naukri.com/code360/problems/ninja-and-the-number-pattern-i_6581959?utm_source=youtube&utm_medium=affiliate&utm_campaign=striver_patternproblems\">Problem Link</a>"
   ]
  },
  {
   "cell_type": "code",
   "execution_count": 24,
   "metadata": {},
   "outputs": [
    {
     "name": "stdout",
     "output_type": "stream",
     "text": [
      "555555555\n",
      "544444445\n",
      "543333345\n",
      "543222345\n",
      "543212345\n",
      "543222345\n",
      "543333345\n",
      "544444445\n",
      "555555555\n"
     ]
    }
   ],
   "source": [
    "n = 5\n",
    "\n",
    "for i in range( n , 0, -1):\n",
    "    for j in range(n , i, -1):\n",
    "        print(j, end=\"\")\n",
    "    for j in range( i * 2 - 1):\n",
    "        print( i , end=\"\")\n",
    "    for j in range( i + 1 , n + 1):\n",
    "        print(j, end=\"\")\n",
    "\n",
    "    print()\n",
    "    \n",
    "for i in range( 2 , n + 1, 1):\n",
    "    for j in range(n , i, -1):\n",
    "        print(j, end=\"\")\n",
    "    for j in range( i * 2 - 1):\n",
    "        print( i , end=\"\")\n",
    "    for j in range( i + 1 , n + 1):\n",
    "        print(j, end=\"\")\n",
    "\n",
    "    print()"
   ]
  },
  {
   "cell_type": "code",
   "execution_count": 25,
   "metadata": {},
   "outputs": [
    {
     "name": "stdout",
     "output_type": "stream",
     "text": [
      "555555555\n",
      "544444445\n",
      "543333345\n",
      "543222345\n",
      "543212345\n",
      "543222345\n",
      "543333345\n",
      "544444445\n",
      "555555555\n"
     ]
    }
   ],
   "source": [
    "def lenPrint(n):\n",
    "    for i in range(0,2*n-1):\n",
    "        print(n,end=\"\")\n",
    "def frontBack(n,limit,front):\n",
    "    if front:\n",
    "        for i in range(0,limit+1):\n",
    "            print(n-i,end=\"\")\n",
    "    else:\n",
    "        for i in range(limit+1,0,-1):\n",
    "            print(n-i+1,end=\"\")\n",
    "n = 5\n",
    "start=0\n",
    "end=n*2-1\n",
    "for i in range(start,end):\n",
    "    if i>=n:\n",
    "        limiter=abs(n-2-i)\n",
    "    else:\n",
    "        limiter=n-i\n",
    "    frontBack(n,n-limiter-1,True)\n",
    "    lenPrint(limiter)\n",
    "    frontBack(n,n-limiter-1,False)\n",
    "    print()"
   ]
  },
  {
   "cell_type": "markdown",
   "metadata": {},
   "source": [
    "<h2>Basic Math</h2>"
   ]
  },
  {
   "cell_type": "markdown",
   "metadata": {},
   "source": [
    "<h3>1. Count Digits</h3>\n",
    "<a href=\"[Count Digits - Coding Ninjas](https://www.naukri.com/code360/problems/count-digits_8416387?utm_source=striver&utm_medium=website&utm_campaign=a_zcoursetuf)\"> Problem Link<a>"
   ]
  },
  {
   "cell_type": "code",
   "execution_count": 26,
   "metadata": {},
   "outputs": [],
   "source": [
    "def countDigits(n: int) -> int:\n",
    "    num = n\n",
    "    count = 0\n",
    "    while num > 0:\n",
    "        a = num%10\n",
    "        if a != 0:\n",
    "            count += (n%a)==0\n",
    "        num//=10\n",
    "    return count"
   ]
  },
  {
   "cell_type": "markdown",
   "metadata": {},
   "source": [
    "<h3>2. Reverse Integers</h3>\n",
    "<a href=\"https://leetcode.com/problems/reverse-integer/\"> Problem Link<a>"
   ]
  },
  {
   "cell_type": "code",
   "execution_count": 27,
   "metadata": {},
   "outputs": [],
   "source": [
    "def reverse(self, x: int) -> int:\n",
    "    if x > 0:\n",
    "        ans = int(str(x)[::-1])\n",
    "    else:\n",
    "        ans = int(str(x * -1)[::-1])*-1\n",
    "    \n",
    "    min = 2 ** 31 * (-1)\n",
    "    max = 2 ** 31 - 1\n",
    "\n",
    "    if ans > max or ans < min:\n",
    "        return 0\n",
    "    return ans"
   ]
  },
  {
   "cell_type": "markdown",
   "metadata": {},
   "source": [
    "<h3>3. Reverse Bits</h3>\n",
    "<a href=\"https://www.codingninjas.com/studio/problems/reverse-bits_2181102?utm_source=striver&utm_medium=website&utm_campaign=a_zcoursetuf\"> Problem Link<a>"
   ]
  },
  {
   "cell_type": "code",
   "execution_count": 28,
   "metadata": {},
   "outputs": [],
   "source": [
    "def reverseBits(n):\n",
    "    out = format(n,\"032b\")\n",
    "    reverse = str(out[::-1])\n",
    "    out1 = int(reverse,2)\n",
    "    return out1"
   ]
  },
  {
   "cell_type": "markdown",
   "metadata": {},
   "source": [
    "<h3>4. Palindrome</h3>\n",
    "<a href=\"https://www.codingninjas.com/studio/problems/palindrome-number_624662?utm_source=striver&utm_medium=website&utm_campaign=a_zcoursetuf&leftPanelTabValue=PROBLEM\"> Problem Link<a>"
   ]
  },
  {
   "cell_type": "code",
   "execution_count": 29,
   "metadata": {},
   "outputs": [
    {
     "name": "stdout",
     "output_type": "stream",
     "text": [
      "true\n"
     ]
    }
   ],
   "source": [
    "n= 12321\n",
    "rev = int(str(n)[::-1])\n",
    "if n == rev:\n",
    "    print(\"true\")\n",
    "else:\n",
    "    print(\"false\")"
   ]
  },
  {
   "cell_type": "markdown",
   "metadata": {},
   "source": [
    "<a href=\"https://leetcode.com/problems/palindrome-number/\"> Problem Link<a>"
   ]
  },
  {
   "cell_type": "code",
   "execution_count": 30,
   "metadata": {},
   "outputs": [],
   "source": [
    "def isPalindrome(self, x):\n",
    "    if x > 0:\n",
    "        reverse = int(str(x)[::-1])\n",
    "        if x == reverse:\n",
    "            return True\n",
    "        else:\n",
    "            return False\n",
    "    else:\n",
    "        False"
   ]
  },
  {
   "cell_type": "markdown",
   "metadata": {},
   "source": [
    "<h3>5. GCD & HCF</h3>\n",
    "<a href=\"https://www.geeksforgeeks.org/problems/lcm-and-gcd4516/1\"> Problem Link<a>"
   ]
  },
  {
   "cell_type": "code",
   "execution_count": 31,
   "metadata": {},
   "outputs": [
    {
     "name": "stdout",
     "output_type": "stream",
     "text": [
      "5\n"
     ]
    }
   ],
   "source": [
    "def calcGCD(n,m):\n",
    "    if m == 0:\n",
    "        return n\n",
    "    else:\n",
    "        return calcGCD(m,n%m)\n",
    "\n",
    "num1 = 5\n",
    "num2 = 125\n",
    "print(calcGCD(num1,num2))\n",
    "#Euclid's algorithm"
   ]
  },
  {
   "cell_type": "markdown",
   "metadata": {},
   "source": [
    "<h3>6. Armstrong Number</h3>\n",
    "<a href=\"https://leetcode.com/problems/armstrong-number/description/\"> Problem Link<a>"
   ]
  },
  {
   "cell_type": "code",
   "execution_count": 32,
   "metadata": {},
   "outputs": [
    {
     "name": "stdout",
     "output_type": "stream",
     "text": [
      "false\n"
     ]
    }
   ],
   "source": [
    "n = 5663\n",
    "num = n\n",
    "length = len(str(n))\n",
    "sum = 0\n",
    "while num!=0:\n",
    "    sum = sum + (num%10)**length\n",
    "    num= num//10\n",
    "if n == sum:\n",
    "    print(\"true\")\n",
    "else:\n",
    "    print(\"false\")"
   ]
  },
  {
   "cell_type": "markdown",
   "metadata": {},
   "source": [
    "<h3>7. Sum of all divisiors </h3>\n",
    "<a href=\"https://www.geeksforgeeks.org/problems/sum-of-all-divisors-from-1-to-n4738/1\"> Problem Link<a>"
   ]
  },
  {
   "cell_type": "code",
   "execution_count": 33,
   "metadata": {},
   "outputs": [],
   "source": [
    "def sumOfAllDivisors(n: int) -> int:\n",
    "    # Write your code here\n",
    "    summ = 0\n",
    "    for i in range(1,n+1):\n",
    "        for j in range(1,i+1):\n",
    "            if i%j == 0:\n",
    "                summ += j\n",
    "            \n",
    "\n",
    "    return summ"
   ]
  },
  {
   "cell_type": "markdown",
   "metadata": {},
   "source": [
    "<h3>8. Check for prime </h3>\n",
    "<a href=\"https://www.geeksforgeeks.org/problems/minimum-number-of-jumps-1587115620/1\"> Problem Link<a>"
   ]
  },
  {
   "cell_type": "code",
   "execution_count": 35,
   "metadata": {},
   "outputs": [
    {
     "name": "stdout",
     "output_type": "stream",
     "text": [
      "YES\n"
     ]
    }
   ],
   "source": [
    "n = 23\n",
    "def isprime(n):\n",
    "    for i in range(2,int(n**0.5)+1):\n",
    "        if n%i==0: return False\n",
    "    return True\n",
    "print('YES' if (isprime(n) and n!=1) else 'NO')"
   ]
  },
  {
   "cell_type": "markdown",
   "metadata": {},
   "source": [
    "<h2>Recursion</h2>"
   ]
  },
  {
   "cell_type": "markdown",
   "metadata": {},
   "source": [
    "<h3>1. 1 to N without loop</h3>\n",
    "<a href=\"https://www.geeksforgeeks.org/problems/print-1-to-n-without-using-loops-1587115620/1?utm_source=youtube&utm_medium=collab_striver_ytdescription&utm_campaign=print-1-to-n-without-using-loops\"> Problem Link<a>"
   ]
  },
  {
   "cell_type": "code",
   "execution_count": 36,
   "metadata": {},
   "outputs": [],
   "source": [
    "from typing import List\n",
    "l = []\n",
    "def printNos(x: int) -> List[int]: \n",
    "    # Write your code here\n",
    "    if x<1:\n",
    "        return\n",
    "    else:\n",
    "        printNos(x-1)\n",
    "        l.append(x)\n",
    "    return l"
   ]
  },
  {
   "cell_type": "markdown",
   "metadata": {},
   "source": [
    "<h3>2. Print n times </h3>\n",
    "<a href=\"https://www.geeksforgeeks.org/problems/print-gfg-n-times/1?utm_source=youtube&utm_medium=collab_striver_ytdescription&utm_campaign=print-gfg-n-times\"> Problem Link<a>"
   ]
  },
  {
   "cell_type": "code",
   "execution_count": 37,
   "metadata": {},
   "outputs": [],
   "source": [
    "from  typing import *\n",
    "\n",
    "def printNtimes(n: int) -> None:\n",
    "    if n <= 0 :\n",
    "        return\n",
    "    print(\"Coding Ninjas\", end = \" \")\n",
    "    printNtimes(n - 1)\n",
    "    pass"
   ]
  },
  {
   "cell_type": "markdown",
   "metadata": {},
   "source": [
    "<h3>3. N to 1 without loop </h3>\n",
    "<a href=\"https://www.geeksforgeeks.org/problems/print-n-to-1-without-loop/1?utm_source=youtube&utm_medium=collab_striver_ytdescription&utm_campaign=print-n-to-1-without-loop\"> Problem Link<a>"
   ]
  },
  {
   "cell_type": "code",
   "execution_count": 38,
   "metadata": {},
   "outputs": [],
   "source": [
    "from typing import List\n",
    "l = []\n",
    "def printNos(x: int) -> List[int]:\n",
    "    # Write your code here\n",
    "    if x < 1:\n",
    "        return \n",
    "    else:\n",
    "        l.append(x)\n",
    "        printNos(x-1)\n",
    "    return l\n",
    "    pass"
   ]
  },
  {
   "cell_type": "markdown",
   "metadata": {},
   "source": [
    "<h3>4. Sum of first n numbers </h3>\n",
    "<a href=\"https://www.geeksforgeeks.org/problems/sum-of-first-n-terms5843/1\"> Problem Link<a>"
   ]
  },
  {
   "cell_type": "code",
   "execution_count": 39,
   "metadata": {},
   "outputs": [],
   "source": [
    "from typing import List\n",
    "\n",
    "def sumFirstN(n: int) -> int:\n",
    "    if n == 0:\n",
    "        return 0\n",
    "    else:\n",
    "        n = n + sumFirstN(n-1)\n",
    "    return n"
   ]
  },
  {
   "cell_type": "code",
   "execution_count": 40,
   "metadata": {},
   "outputs": [],
   "source": [
    "from typing import List\n",
    "\n",
    "def sumFirstN(n: int) -> int:\n",
    "    return (n*(n+1)//2)"
   ]
  },
  {
   "cell_type": "markdown",
   "metadata": {},
   "source": [
    "<h3>5. Reverse an array </h3>\n",
    "<a href=\"https://www.geeksforgeeks.org/problems/reverse-an-array/0\"> Problem Link<a>"
   ]
  },
  {
   "cell_type": "code",
   "execution_count": 41,
   "metadata": {},
   "outputs": [],
   "source": [
    "from typing import *\n",
    "\n",
    "def recursion(p,q,nums):\n",
    "    if p < q:\n",
    "        nums[p],nums[q] = nums[q],nums[p]\n",
    "        recursion(p+1,q-1,nums)\n",
    "    return nums\n",
    "\n",
    "def reverseArray(n: int, nums: List[int]) -> List[int]:\n",
    "    # Write your code here\n",
    "    p=0\n",
    "    q=len(nums)-1\n",
    "    recursion(p,q,nums)\n",
    "    return nums\n",
    "    pass"
   ]
  },
  {
   "cell_type": "markdown",
   "metadata": {},
   "source": [
    "<h3>6. Check Palindrome</h3>\n",
    "<a href=\"https://leetcode.com/problems/valid-palindrome/description/\"> Problem Link<a>"
   ]
  },
  {
   "cell_type": "code",
   "execution_count": 42,
   "metadata": {},
   "outputs": [],
   "source": [
    "def recursion(string, p, q):\n",
    "    if p == q:\n",
    "        return True\n",
    "    if(string[p] != string[q]):\n",
    "        return False\n",
    "    if (p < q +1):\n",
    "        return recursion(string, p+1, q-1)\n",
    "    return True\n",
    "def isPalindrome(string: str) -> bool:\n",
    "    \n",
    "    length = len(string)\n",
    "    if (length == 0):\n",
    "         return True\n",
    "    output = recursion(string, 0, length-1)\n",
    "\n",
    "    if (output):\n",
    "        return True\n",
    "    else:\n",
    "        return False\n"
   ]
  },
  {
   "cell_type": "markdown",
   "metadata": {},
   "source": [
    "<h3>7. Print Fibonacci </h3>\n",
    "<a href=\"https://leetcode.com/problems/fibonacci-number/description/\"> Problem Link<a>"
   ]
  },
  {
   "cell_type": "code",
   "execution_count": 43,
   "metadata": {},
   "outputs": [],
   "source": [
    "from typing import List\n",
    "def recursion(ans,n):\n",
    "    if n > 0:\n",
    "        ans.append(ans[len(ans)-1]+ ans[len(ans)-2])\n",
    "        recursion(ans,n-1)\n",
    "    return ans\n",
    "def generateFibonacciNumbers(n: int) -> List[int]: \n",
    "    # Write your code here\n",
    "    ans = [0,1]\n",
    "    if n == 1:\n",
    "        return [0]\n",
    "    else: \n",
    "        output = recursion(ans,n-2)\n",
    "        return output\n",
    "    pass"
   ]
  },
  {
   "cell_type": "markdown",
   "metadata": {},
   "source": [
    "<h3>8. Factorial Numbers till N </h3>\n",
    "<a href=\"https://www.geeksforgeeks.org/problems/find-all-factorial-numbers-less-than-or-equal-to-n3548/0?problemType=functional&difficulty%255B%255D=-1&page=1&query=problemTypefunctionaldifficulty%255B%255D-1page1\"> Problem Link<a>"
   ]
  },
  {
   "cell_type": "code",
   "execution_count": 44,
   "metadata": {},
   "outputs": [],
   "source": [
    "from typing import *\n",
    "\n",
    "def fact(num):\n",
    "    if num == 0:\n",
    "        return 1\n",
    "    return fact(num-1) * num\n",
    "    \n",
    "\n",
    "def factorialNumbers(n: int) -> List[int]:\n",
    "    # Write your code here\n",
    "    ans = []\n",
    "    x = 1\n",
    "    while fact(x) <= n:\n",
    "        ans.append(fact(x))\n",
    "        x += 1\n",
    "    return ans"
   ]
  },
  {
   "cell_type": "markdown",
   "metadata": {},
   "source": [
    "<h2>Hash</h2>"
   ]
  },
  {
   "cell_type": "markdown",
   "metadata": {},
   "source": [
    "<h3>1. Count frequency </h3>\n",
    "<a href=\"\"> Problem Link<a>"
   ]
  },
  {
   "cell_type": "code",
   "execution_count": null,
   "metadata": {},
   "outputs": [],
   "source": [
    "from typing import *\n",
    "\n",
    "def countFrequency(n: int, m: int, edges: List[List[int]]):\n",
    "    hashh = [0] * (n+1)\n",
    "    for i in edges:\n",
    "        if i <= n:\n",
    "            hashh[i] += 1\n",
    "\n",
    "    return hashh[1:n+1]\n",
    "    pass"
   ]
  },
  {
   "cell_type": "code",
   "execution_count": 45,
   "metadata": {},
   "outputs": [],
   "source": [
    "from typing import *\n",
    "\n",
    "def countFrequency(n: int, m: int, edges: List[List[int]]):\n",
    "    frequency = [0] * n # Initialize a frequency array with size n\n",
    "    for num in edges:\n",
    "        if num <= n: # Update frequency only for numbers <= n\n",
    "            frequency[num - 1] += 1\n",
    "\n",
    "    return frequency\n",
    "pass"
   ]
  },
  {
   "cell_type": "markdown",
   "metadata": {},
   "source": [
    "<h3>2. Highest / Lowest frequency </h3>\n",
    "<a href=\"\"> Problem Link<a>"
   ]
  },
  {
   "cell_type": "code",
   "execution_count": 46,
   "metadata": {},
   "outputs": [],
   "source": [
    "from typing import List\n",
    "\n",
    "def getFrequencies(v: List[int]) -> List[int]: \n",
    "    # Write your code here\n",
    "    frequnecy = {}\n",
    "    for i in v:\n",
    "        if i in frequnecy:\n",
    "            frequnecy[i]+=1\n",
    "        else:\n",
    "            frequnecy[i]=1\n",
    "    mfelement=None\n",
    "    max=0\n",
    "    min=float('inf')\n",
    "    lfelement=None\n",
    "    for i,f in frequnecy.items():\n",
    "        if f>max or (f==max and i<mfelement):\n",
    "            mfelement=i\n",
    "            max=f\n",
    "        if f<min or (f==min and i<lfelement):\n",
    "            lfelement=i\n",
    "            min=f\n",
    "    return [mfelement,lfelement]"
   ]
  }
 ],
 "metadata": {
  "kernelspec": {
   "display_name": "Python 3",
   "language": "python",
   "name": "python3"
  },
  "language_info": {
   "codemirror_mode": {
    "name": "ipython",
    "version": 3
   },
   "file_extension": ".py",
   "mimetype": "text/x-python",
   "name": "python",
   "nbconvert_exporter": "python",
   "pygments_lexer": "ipython3",
   "version": "3.12.4"
  }
 },
 "nbformat": 4,
 "nbformat_minor": 2
}
