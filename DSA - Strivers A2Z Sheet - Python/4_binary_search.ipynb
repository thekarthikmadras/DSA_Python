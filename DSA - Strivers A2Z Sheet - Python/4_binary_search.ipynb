{
 "cells": [
  {
   "cell_type": "markdown",
   "metadata": {},
   "source": [
    "<h1>Binary Search</h1>"
   ]
  },
  {
   "cell_type": "markdown",
   "metadata": {},
   "source": [
    "<h2>Binary Search on 1D Array</h2>"
   ]
  },
  {
   "cell_type": "markdown",
   "metadata": {},
   "source": [
    "<h3>1. Binary Search</h3>\n",
    "<a href=\"https://leetcode.com/problems/binary-search/description/\">Problem Link</a>\n",
    "<p>Iterative method is faster<br><br>\n",
    "Time complexity: O(logN)</p>"
   ]
  },
  {
   "cell_type": "code",
   "execution_count": 1,
   "metadata": {},
   "outputs": [
    {
     "name": "stdout",
     "output_type": "stream",
     "text": [
      "4\n"
     ]
    }
   ],
   "source": [
    "def search(nums, target):\n",
    "    n = len(nums)\n",
    "    low = 0\n",
    "    high = n-1\n",
    "\n",
    "    while low <= high:\n",
    "        mid = (low + high) // 2\n",
    "        if nums[mid] == target:\n",
    "            return mid\n",
    "        elif target > nums[mid]:\n",
    "            low = mid + 1\n",
    "        else:\n",
    "            high = mid - 1\n",
    "    return -1\n",
    "nums = [-1,0,3,5,9,12]\n",
    "target = 9\n",
    "print(search(nums,target))"
   ]
  },
  {
   "cell_type": "markdown",
   "metadata": {},
   "source": [
    "<h3>2. Implement Lower Bound</h3>\n",
    "<a href=\"https://www.naukri.com/code360/problems/lower-bound_8165382\">Problem Link</a>\n",
    "<p>Smallest index of the element such that arr[index] ≥ x<br><br>\n",
    "Time Complexity: O(logN)<br>\n",
    "Space Complexity: O(1)</p>"
   ]
  },
  {
   "cell_type": "code",
   "execution_count": 2,
   "metadata": {},
   "outputs": [
    {
     "name": "stdout",
     "output_type": "stream",
     "text": [
      "3\n"
     ]
    }
   ],
   "source": [
    "def lowerBound(arr, n, x):\n",
    "    low = 0\n",
    "    high = n - 1\n",
    "    ans = n\n",
    "\n",
    "    while low <= high:\n",
    "        mid = (low + high) // 2\n",
    "        # maybe an answer\n",
    "        if arr[mid] >= x:\n",
    "            ans = mid\n",
    "            # look for smaller index on the left\n",
    "            high = mid - 1\n",
    "        else:\n",
    "            low = mid + 1  # look on the right\n",
    "\n",
    "    return ans\n",
    "arr = [3, 5, 8, 15, 19]\n",
    "n = 5\n",
    "x = 9\n",
    "print(lowerBound(arr,n,x))"
   ]
  },
  {
   "cell_type": "markdown",
   "metadata": {},
   "source": [
    "<h3>3. Implement Upper Bound</h3>\n",
    "<a href=\"https://www.naukri.com/code360/problems/implement-upper-bound_8165383\">Problem Link</a>\n",
    "<p>Smallest index of the element such that arr[index] > x<br><br>\n",
    "Time Complexity: O(logN)<br>\n",
    "Space Complexity: O(1)</p>"
   ]
  },
  {
   "cell_type": "code",
   "execution_count": 3,
   "metadata": {},
   "outputs": [
    {
     "name": "stdout",
     "output_type": "stream",
     "text": [
      "4\n"
     ]
    }
   ],
   "source": [
    "def upperBound(arr, x, n):\n",
    "    low = 0\n",
    "    high = n - 1\n",
    "    ans = n\n",
    "\n",
    "    while low <= high:\n",
    "        mid = (low + high) // 2\n",
    "        # maybe an answer\n",
    "        if arr[mid] > x:\n",
    "            ans = mid\n",
    "            # look for smaller index on the left\n",
    "            high = mid - 1\n",
    "        else:\n",
    "            low = mid + 1  # look on the right\n",
    "\n",
    "    return ans\n",
    "arr = [3, 5, 8, 9, 15, 19]\n",
    "n = 6\n",
    "x = 9\n",
    "print(upperBound(arr, x, n))"
   ]
  },
  {
   "cell_type": "markdown",
   "metadata": {},
   "source": [
    "<h3>4. Search insert position</h3>\n",
    "<a href=\"https://leetcode.com/problems/search-insert-position/description/\">Problem Link</a>\n",
    "<p>Return the index if the target is found. If not, return the index where it would be if it were inserted in order.<br><br>\n",
    "Time Complexity: O(logN)<br>\n",
    "Space Complexity: O(1)</p>"
   ]
  },
  {
   "cell_type": "code",
   "execution_count": 4,
   "metadata": {},
   "outputs": [
    {
     "name": "stdout",
     "output_type": "stream",
     "text": [
      "3\n"
     ]
    }
   ],
   "source": [
    "def searchInsert(nums, target):\n",
    "    n = len(nums)\n",
    "    low = 0 \n",
    "    high = n-1\n",
    "    while low <= high:\n",
    "        mid = (low + high)//2\n",
    "        if nums[mid] < target:\n",
    "            low = mid + 1\n",
    "        elif nums[mid] > target:\n",
    "            high = mid - 1\n",
    "        else:\n",
    "            return mid\n",
    "\n",
    "    return low\n",
    "arr = [1, 2, 4, 7]\n",
    "x = 6\n",
    "print(searchInsert(arr,x))"
   ]
  },
  {
   "cell_type": "markdown",
   "metadata": {},
   "source": [
    "<h3>5. \tFloor/Ceil in Sorted Array</h3>\n",
    "<a href=\"https://www.naukri.com/code360/problems/ceiling-in-a-sorted-array_1825401\">Problem Link</a>\n",
    "<p>Use upper bound and lower bound<br><br>\n",
    "Time Complexity: O(logN)<br>\n",
    "Space Complexity: O(1)</p>"
   ]
  },
  {
   "cell_type": "code",
   "execution_count": 5,
   "metadata": {},
   "outputs": [
    {
     "name": "stdout",
     "output_type": "stream",
     "text": [
      "(4, 7)\n"
     ]
    }
   ],
   "source": [
    "\n",
    "def findFloor(arr, n, x):\n",
    "    low = 0\n",
    "    high = n - 1\n",
    "    ans = -1\n",
    "\n",
    "    while low <= high:\n",
    "        mid = (low + high) // 2\n",
    "        # maybe an answer\n",
    "        if arr[mid] <= x:\n",
    "            ans = arr[mid]\n",
    "            # look for smaller index on the left\n",
    "            low = mid + 1\n",
    "        else:\n",
    "            high = mid - 1  # look on the right\n",
    "\n",
    "    return ans\n",
    "\n",
    "\n",
    "def findCeil(arr, n, x):\n",
    "    low = 0\n",
    "    high = n - 1\n",
    "    ans = -1\n",
    "\n",
    "    while low <= high:\n",
    "        mid = (low + high) // 2\n",
    "        # maybe an answer\n",
    "        if arr[mid] >= x:\n",
    "            ans = arr[mid]\n",
    "            # look for smaller index on the left\n",
    "            high = mid - 1\n",
    "        else:\n",
    "            low = mid + 1  # look on the right\n",
    "\n",
    "    return ans\n",
    "\n",
    "\n",
    "def getFloorAndCeil(arr, n, x):\n",
    "    f = findFloor(arr, n, x)\n",
    "    c = findCeil(arr, n, x)\n",
    "    return (f, c)\n",
    "\n",
    "arr = [3, 4, 4, 7, 8, 10]\n",
    "n = 6\n",
    "x = 5\n",
    "print(getFloorAndCeil(arr,n,x))"
   ]
  },
  {
   "cell_type": "markdown",
   "metadata": {},
   "source": [
    "<h3>6. \tFirst and last occurrence in a sorted array</h3>\n",
    "<a href=\"https://leetcode.com/problems/find-first-and-last-position-of-element-in-sorted-array/description/\">Problem Link</a>\n",
    "<p>Use UB and LB<br><br>\n",
    "Time Complexity: O(logN)<br>\n",
    "Space Complexity: O(1)</p>"
   ]
  },
  {
   "cell_type": "code",
   "execution_count": 6,
   "metadata": {},
   "outputs": [
    {
     "name": "stdout",
     "output_type": "stream",
     "text": [
      "[3, 4]\n"
     ]
    }
   ],
   "source": [
    "def upperBound(arr, n, x):\n",
    "    low = 0\n",
    "    high = n - 1\n",
    "    ans = n\n",
    "\n",
    "    while low <= high:\n",
    "        mid = (low + high) // 2\n",
    "        # maybe an answer\n",
    "        if arr[mid] > x:\n",
    "            ans = mid\n",
    "            # look for smaller index on the left\n",
    "            high = mid - 1\n",
    "        else:\n",
    "            low = mid + 1  # look on the right\n",
    "    return ans\n",
    "\n",
    "def lowerBound(arr, n, x):\n",
    "    low = 0\n",
    "    high = n - 1\n",
    "    ans = n\n",
    "\n",
    "    while low <= high:\n",
    "        mid = (low + high) // 2\n",
    "        # maybe an answer\n",
    "        if arr[mid] >= x:\n",
    "            ans = mid\n",
    "            # look for smaller index on the left\n",
    "            high = mid - 1\n",
    "        else:\n",
    "            low = mid + 1  # look on the right\n",
    "        \n",
    "    return ans\n",
    "\n",
    "def searchRange(nums, target):\n",
    "    n = len(nums)\n",
    "    lb = lowerBound(nums, n, target)\n",
    "    ub = upperBound(nums, n, target) -1\n",
    "    if lb == n or nums[lb] != target:\n",
    "        return [-1,-1]\n",
    "    else:\n",
    "        return [lb,ub]\n",
    "nums = [5,7,7,8,8,10]\n",
    "target = 8\n",
    "print(searchRange(nums,target))"
   ]
  },
  {
   "cell_type": "markdown",
   "metadata": {},
   "source": [
    "<h3>7. Count occurrences in a sorted array</h3>\n",
    "<a href=\"https://www.naukri.com/code360/problems/occurrence-of-x-in-a-sorted-array_630456\">Problem Link</a>\n",
    "<p>Use upper bound and lower bound<br><br>\n",
    "Time Complexity: O(2logN)<br>\n",
    "Space Complexity: O(1)</p>"
   ]
  },
  {
   "cell_type": "code",
   "execution_count": 7,
   "metadata": {},
   "outputs": [
    {
     "name": "stdout",
     "output_type": "stream",
     "text": [
      "4\n"
     ]
    }
   ],
   "source": [
    "def upperBound(arr, n, x):\n",
    "    low = 0\n",
    "    high = n - 1\n",
    "    ans = n\n",
    "\n",
    "    while low <= high:\n",
    "        mid = (low + high) // 2\n",
    "        # maybe an answer\n",
    "        if arr[mid] > x:\n",
    "            ans = mid\n",
    "            # look for smaller index on the left\n",
    "            high = mid - 1\n",
    "        else:\n",
    "            low = mid + 1  # look on the right\n",
    "    return ans\n",
    "\n",
    "def lowerBound(arr, n, x):\n",
    "    low = 0\n",
    "    high = n - 1\n",
    "    ans = n\n",
    "\n",
    "    while low <= high:\n",
    "        mid = (low + high) // 2\n",
    "        # maybe an answer\n",
    "        if arr[mid] >= x:\n",
    "            ans = mid\n",
    "            # look for smaller index on the left\n",
    "            high = mid - 1\n",
    "        else:\n",
    "            low = mid + 1  # look on the right\n",
    "        \n",
    "    return ans\n",
    "\n",
    "if __name__ == \"__main__\":\n",
    "    nums = [2, 2 , 3 , 3 , 3 , 3 , 4]\n",
    "    n = 7\n",
    "    target = 3\n",
    "\n",
    "    lb = lowerBound(nums, n, target)\n",
    "    ub = upperBound(nums, n, target) \n",
    "    if lb == n or nums[lb] != target:\n",
    "        print([-1,-1])\n",
    "    else:\n",
    "        print (ub - lb)"
   ]
  },
  {
   "cell_type": "markdown",
   "metadata": {},
   "source": [
    "<h3>8. Search in a rotated sorted array 1</h3>\n",
    "<a href=\"https://leetcode.com/problems/search-in-rotated-sorted-array/description/\">Problem Link</a>\n",
    "<p>Intuition is either left side or the right side would be sorted. Check comments.<br><br>\n",
    "Time Complexity: O(2logN)<br>\n",
    "Space Complexity: O(1)</p>"
   ]
  },
  {
   "cell_type": "code",
   "execution_count": 8,
   "metadata": {},
   "outputs": [
    {
     "name": "stdout",
     "output_type": "stream",
     "text": [
      "8\n"
     ]
    }
   ],
   "source": [
    "def search(nums, target: int) -> int:\n",
    "    n = len(nums)\n",
    "    low = 0\n",
    "    high = n - 1\n",
    "    while low <= high:\n",
    "        mid = (low + high) // 2\n",
    "\n",
    "        # if mid points the target\n",
    "        if nums[mid] == target:\n",
    "            return mid\n",
    "\n",
    "        # if left part is sorted\n",
    "        if nums[low] <= nums[mid]:\n",
    "            if nums[low] <= target and target <= nums[mid]:\n",
    "                # element exists\n",
    "                high = mid - 1\n",
    "            else:\n",
    "                # element does not exist\n",
    "                low = mid + 1\n",
    "        else:  # if right part is sorted\n",
    "            if nums[mid] <= target and target <= nums[high]:\n",
    "                # element exists\n",
    "                low = mid + 1\n",
    "            else:\n",
    "                # element does not exist\n",
    "                high = mid - 1\n",
    "    return -1\n",
    "arr = [7, 8, 1, 2, 3, 3, 3, 4, 5, 6]\n",
    "k = 3\n",
    "print(search(arr, x))"
   ]
  },
  {
   "cell_type": "markdown",
   "metadata": {},
   "source": [
    "<h3>9. Search in a sorted array with duplicate elements 2</h3>\n",
    "<a href=\"https://leetcode.com/problems/search-in-rotated-sorted-array-ii/description/\">Problem Link</a>\n",
    "<p> 3 1 2 3 3 3. See the edge case<br><br>\n",
    "Time Complexity: O(2logN)<br>\n",
    "Space Complexity: O(1)</p>"
   ]
  },
  {
   "cell_type": "code",
   "execution_count": 9,
   "metadata": {},
   "outputs": [
    {
     "name": "stdout",
     "output_type": "stream",
     "text": [
      "True\n"
     ]
    }
   ],
   "source": [
    "def search(nums, target):\n",
    "    n = len(nums)\n",
    "    low = 0\n",
    "    high = n - 1\n",
    "    while low <= high:\n",
    "        mid = (low + high) // 2\n",
    "\n",
    "        # if mid points the target\n",
    "        if nums[mid] == target:\n",
    "            return True\n",
    "        # Edge case:\n",
    "        if nums[low] == nums[mid] and nums[mid] == nums[high]:\n",
    "            low += 1\n",
    "            high -= 1\n",
    "            continue\n",
    "\n",
    "        # if left part is sorted\n",
    "        if nums[low] <= nums[mid]:\n",
    "            if nums[low] <= target and target <= nums[mid]:\n",
    "                # element exists\n",
    "                high = mid - 1\n",
    "            else:\n",
    "                # element does not exist\n",
    "                low = mid + 1\n",
    "        else:  # if right part is sorted\n",
    "            if nums[mid] <= target and target <= nums[high]:\n",
    "                # element exists\n",
    "                low = mid + 1\n",
    "            else:\n",
    "                # element does not exist\n",
    "                high = mid - 1\n",
    "    return False\n",
    "arr = [7, 8, 1, 2, 3, 3, 3, 4, 5, 6]\n",
    "k = 3\n",
    "print(search(arr, k))"
   ]
  },
  {
   "cell_type": "markdown",
   "metadata": {},
   "source": [
    "<h3>10. Minimum in rotated sorted array</h3>\n",
    "<a href=\"https://leetcode.com/problems/find-minimum-in-rotated-sorted-array/description/\">Problem Link</a>\n",
    "<p>Remember it can be rotated both left side and right side. Check comments.<br><br>\n",
    "Time Complexity: O(logN)<br>\n",
    "Space Complexity: O(1)</p>"
   ]
  },
  {
   "cell_type": "code",
   "execution_count": 10,
   "metadata": {},
   "outputs": [
    {
     "name": "stdout",
     "output_type": "stream",
     "text": [
      "0\n"
     ]
    }
   ],
   "source": [
    "import sys\n",
    "def findMin(arr):\n",
    "    low = 0\n",
    "    high = len(arr) - 1\n",
    "    ans = sys.maxsize\n",
    "\n",
    "    while low <= high:\n",
    "        mid = (low + high) // 2\n",
    "\n",
    "        # search space is already sorted\n",
    "        # then arr[low] will always be\n",
    "        # the minimum in that search space:\n",
    "        if arr[low] <= arr[high]:\n",
    "            ans = min(ans, arr[low])\n",
    "            break\n",
    "            \n",
    "        if arr[low] <= arr[mid]:  # if left part is sorted\n",
    "            ans = min(ans, arr[low])  # keep the minimum\n",
    "            low = mid + 1  # eliminate left half\n",
    "\n",
    "        else:  # if right part is sorted\n",
    "            ans = min(ans, arr[mid])  # keep the minimum\n",
    "            high = mid - 1  # eliminate right half\n",
    "\n",
    "    return ans\n",
    "\n",
    "arr = [4, 5, 6, 7, 0, 1, 2, 3]\n",
    "print(findMin(arr))"
   ]
  },
  {
   "cell_type": "markdown",
   "metadata": {},
   "source": [
    "<h3>11. How many times is the array rotated</h3>\n",
    "<a href=\"https://www.geeksforgeeks.org/find-rotation-count-rotated-sorted-array/\">Problem Link</a>\n",
    "<p>Similar to minimum in a rotated sorted array. Just return index. Check comments<br><br>\n",
    "Time Complexity: O(logN)<br>\n",
    "Space Complexity: O(1)</p>"
   ]
  },
  {
   "cell_type": "code",
   "execution_count": 11,
   "metadata": {},
   "outputs": [
    {
     "name": "stdout",
     "output_type": "stream",
     "text": [
      "The array is rotated 4 times.\n"
     ]
    }
   ],
   "source": [
    "import sys\n",
    "def findKRotation(arr):\n",
    "    low = 0\n",
    "    high = len(arr) - 1\n",
    "    ans = float('inf')\n",
    "    index = -1\n",
    "    while low <= high:\n",
    "        mid = (low + high) // 2\n",
    "\n",
    "        # If search space is already sorted,\n",
    "        # then arr[low] will always be\n",
    "        # the minimum in that search space\n",
    "        if arr[low] <= arr[high]:\n",
    "            if arr[low] < ans:\n",
    "                index = low\n",
    "                ans = arr[low]\n",
    "            break\n",
    "\n",
    "        # If left part is sorted\n",
    "        if arr[low] <= arr[mid]:\n",
    "            # Keep the minimum\n",
    "            if arr[low] < ans:\n",
    "                index = low\n",
    "                ans = arr[low]\n",
    "\n",
    "            # Eliminate left half\n",
    "            low = mid + 1\n",
    "        else:  # If right part is sorted\n",
    "            # Keep the minimum\n",
    "            if arr[mid] < ans:\n",
    "                index = mid\n",
    "                ans = arr[mid]\n",
    "\n",
    "            # Eliminate right half\n",
    "            high = mid - 1\n",
    "\n",
    "    return index\n",
    "\n",
    "if __name__ == \"__main__\":\n",
    "    arr = [4, 5, 6, 7, 0, 1, 2, 3]\n",
    "    ans = findKRotation(arr)\n",
    "    print(\"The array is rotated\", ans, \"times.\")"
   ]
  },
  {
   "cell_type": "markdown",
   "metadata": {},
   "source": [
    "<h3>12. Search Single Element in a sorted array</h3>\n",
    "<a href=\"https://leetcode.com/problems/single-element-in-a-sorted-array/description/\">Problem Link</a>\n",
    "<p>Check comments<br><br>\n",
    "Time Complexity: O(logN)<br>\n",
    "Space Complexity: O(1)</p>"
   ]
  },
  {
   "cell_type": "code",
   "execution_count": 12,
   "metadata": {},
   "outputs": [
    {
     "name": "stdout",
     "output_type": "stream",
     "text": [
      "The single element is: 4\n"
     ]
    }
   ],
   "source": [
    "def singleNonDuplicate(arr):\n",
    "    n = len(arr)  # Size of the array\n",
    "\n",
    "    # Edge cases:\n",
    "    if n == 1:\n",
    "        return arr[0]\n",
    "    if arr[0] != arr[1]:\n",
    "        return arr[0]\n",
    "    if arr[n - 1] != arr[n - 2]:\n",
    "        return arr[n - 1]\n",
    "\n",
    "    low = 1\n",
    "    high = n - 2\n",
    "    while low <= high:\n",
    "        mid = (low + high) // 2\n",
    "\n",
    "        # If arr[mid] is the single element:\n",
    "        if arr[mid] != arr[mid + 1] and arr[mid] != arr[mid - 1]:\n",
    "            return arr[mid]\n",
    "\n",
    "        # We are in the left:\n",
    "        if (mid % 2 == 1 and arr[mid] == arr[mid - 1]) or (mid % 2 == 0 and arr[mid] == arr[mid + 1]):\n",
    "            # Eliminate the left half:\n",
    "            low = mid + 1\n",
    "        # We are in the right:\n",
    "        else:\n",
    "            # Eliminate the right half:\n",
    "            high = mid - 1\n",
    "\n",
    "    # Dummy return statement:\n",
    "    return -1\n",
    "\n",
    "arr = [1, 1, 2, 2, 3, 3, 4, 5, 5, 6, 6]\n",
    "ans = singleNonDuplicate(arr)\n",
    "print(\"The single element is:\", ans)\n"
   ]
  },
  {
   "cell_type": "markdown",
   "metadata": {},
   "source": [
    "<h3>13. Find peak element</h3>\n",
    "<a href=\"https://leetcode.com/problems/find-peak-element/description/\">Problem Link</a>\n",
    "<p>Check comments<br><br>\n",
    "Time Complexity: O(logN)<br>\n",
    "Space Complexity: O(1)</p>"
   ]
  },
  {
   "cell_type": "code",
   "execution_count": 13,
   "metadata": {},
   "outputs": [
    {
     "name": "stdout",
     "output_type": "stream",
     "text": [
      "The peak is at index: 7\n"
     ]
    }
   ],
   "source": [
    "def findPeakElement(arr):\n",
    "    n = len(arr)  # Size of the array\n",
    "\n",
    "    # Edge cases:\n",
    "    if n == 1:\n",
    "        return 0\n",
    "    if arr[0] > arr[1]:\n",
    "        return 0\n",
    "    if arr[n - 1] > arr[n - 2]:\n",
    "        return n - 1\n",
    "\n",
    "    low = 1\n",
    "    high = n - 2\n",
    "    while low <= high:\n",
    "        mid = (low + high) // 2\n",
    "\n",
    "        # If arr[mid] is the peak:\n",
    "        if arr[mid - 1] < arr[mid] and arr[mid] > arr[mid + 1]:\n",
    "            return mid\n",
    "\n",
    "        # If we are in the left:\n",
    "        if arr[mid] > arr[mid - 1]:\n",
    "            low = mid + 1\n",
    "\n",
    "        # If we are in the right:\n",
    "        # Or, arr[mid] is a common point:\n",
    "        else:\n",
    "            high = mid - 1\n",
    "\n",
    "    # Dummy return statement\n",
    "    return -1\n",
    "\n",
    "\n",
    "arr = [1, 2, 3, 4, 5, 6, 7, 8, 5, 1]\n",
    "ans = findPeakElement(arr)\n",
    "print(\"The peak is at index:\", ans)"
   ]
  },
  {
   "cell_type": "markdown",
   "metadata": {},
   "source": [
    "<h2>Binary Search on Answers</h2>"
   ]
  },
  {
   "cell_type": "markdown",
   "metadata": {},
   "source": [
    "<h3>1. Find square root of a number in log n</h3>\n",
    "<a href=\"https://leetcode.com/problems/sqrtx/\">Problem Link</a>\n",
    "<p>BS from 1 to n, Check comments.<br><br>\n",
    "Time complexity: O(logN) <br>\n",
    "Space Complexity: O(1)</p>"
   ]
  },
  {
   "cell_type": "code",
   "execution_count": 14,
   "metadata": {},
   "outputs": [
    {
     "name": "stdout",
     "output_type": "stream",
     "text": [
      "The floor of square root of 28 is: 5\n"
     ]
    }
   ],
   "source": [
    "def floorSqrt(n):\n",
    "    low = 1\n",
    "    high = n\n",
    "    # Binary search on the answers:\n",
    "    while low <= high:\n",
    "        mid = (low + high) // 2\n",
    "        val = mid * mid\n",
    "        if val <= n:\n",
    "            # Eliminate the left half:\n",
    "            low = mid + 1\n",
    "        else:\n",
    "            # Eliminate the right half:\n",
    "            high = mid - 1\n",
    "    return high\n",
    "\n",
    "n = 28\n",
    "ans = floorSqrt(n)\n",
    "print(\"The floor of square root of\", n, \"is:\", ans)"
   ]
  },
  {
   "cell_type": "markdown",
   "metadata": {},
   "source": [
    "<h3>2. Find the Nth root of a number using binary search</h3>\n",
    "<a href=\"https://www.naukri.com/code360/problems/nth-root-of-m_1062679\">Problem Link</a>\n",
    "<p>BS from 1 to m, seperate function to multiply the ‘mid’ n times with ‘ans’. check if ans == m. <br><br>\n",
    "Time complexity: O(logN) <br>\n",
    "Space Complexity: O(1)</p>"
   ]
  },
  {
   "cell_type": "code",
   "execution_count": 15,
   "metadata": {},
   "outputs": [
    {
     "name": "stdout",
     "output_type": "stream",
     "text": [
      "The answer is: 3\n"
     ]
    }
   ],
   "source": [
    "def func(mid, n, m):\n",
    "    ans = 1\n",
    "    for i in range(1, n + 1):\n",
    "        ans *= mid\n",
    "        if ans > m:\n",
    "            return 2\n",
    "    if ans == m:\n",
    "        return 1\n",
    "    return 0\n",
    "\n",
    "def NthRoot(n: int, m: int) -> int:\n",
    "    low = 1\n",
    "    high = m\n",
    "    while low <= high:\n",
    "        mid = (low + high) // 2\n",
    "        midN = func(mid, n, m)\n",
    "        if midN == 1:\n",
    "            return mid\n",
    "        elif midN == 0:\n",
    "            low = mid + 1\n",
    "        else:\n",
    "            high = mid - 1\n",
    "    return -1\n",
    "\n",
    "n = 3\n",
    "m = 27\n",
    "ans = NthRoot(n, m)\n",
    "print(\"The answer is:\", ans)"
   ]
  },
  {
   "cell_type": "markdown",
   "metadata": {},
   "source": [
    "<h3>3. Koko Eating Bananas</h3>\n",
    "<a href=\"https://leetcode.com/problems/koko-eating-bananas/description/\">Problem Link</a>\n",
    "<p>BS from 1 to max element in array. Seperate function to calculate total hours, check if total hours equal to h and eleminate accordingly.<br><br>\n",
    "Time complexity: O(N * log(max(a[]))),<br>\n",
    "Space Complexity: O(1)</p>"
   ]
  },
  {
   "cell_type": "code",
   "execution_count": 16,
   "metadata": {},
   "outputs": [
    {
     "name": "stdout",
     "output_type": "stream",
     "text": [
      "Koko should eat at least 5 bananas/hr.\n"
     ]
    }
   ],
   "source": [
    "import math\n",
    "\n",
    "def findMax(v):\n",
    "    maxi = float('-inf')\n",
    "    n = len(v)\n",
    "    # Find the maximum\n",
    "    for i in range(n):\n",
    "        maxi = max(maxi, v[i])\n",
    "    return maxi\n",
    "\n",
    "def calculateTotalHours(v, hourly):\n",
    "    totalH = 0\n",
    "    n = len(v)\n",
    "    # Find total hours\n",
    "    for i in range(n):\n",
    "        totalH += math.ceil(v[i] / hourly)\n",
    "    return totalH\n",
    "\n",
    "def minimumRateToEatBananas(v, h):\n",
    "    low = 1\n",
    "    high = findMax(v)\n",
    "\n",
    "    # Apply binary search\n",
    "    while low <= high:\n",
    "        mid = (low + high) // 2\n",
    "        totalH = calculateTotalHours(v, mid)\n",
    "        if totalH <= h:\n",
    "            high = mid - 1\n",
    "        else:\n",
    "            low = mid + 1\n",
    "    return low\n",
    "\n",
    "v = [7, 15, 6, 3]\n",
    "h = 8\n",
    "ans = minimumRateToEatBananas(v, h)\n",
    "print(\"Koko should eat at least\", ans, \"bananas/hr.\")"
   ]
  },
  {
   "cell_type": "markdown",
   "metadata": {},
   "source": [
    "<h3>4. Minimum days to make M bouquets</h3>\n",
    "<a href=\"https://leetcode.com/problems/minimum-number-of-days-to-make-m-bouquets/description/\">Problem Link</a>\n",
    "<p>BS from min and max elements (day). Check for impossible case : val > n. After mid, Count number of bouquets with a counter -> which is to check if it is possible. If possible remove the right side, else remove the left side.<br><br>\n",
    "Time complexity: O(log(max(arr[])-min(arr[])+1) * N)<br>\n",
    "Space Complexity: O(1) </p>"
   ]
  },
  {
   "cell_type": "code",
   "execution_count": 17,
   "metadata": {},
   "outputs": [
    {
     "name": "stdout",
     "output_type": "stream",
     "text": [
      "We can make bouquets on day 12\n"
     ]
    }
   ],
   "source": [
    "def possible(arr, day, m, k):\n",
    "    n = len(arr)  # size of the array\n",
    "    cnt = 0\n",
    "    noOfB = 0\n",
    "    # count the number of bouquets\n",
    "    for i in range(n):\n",
    "        if arr[i] <= day:\n",
    "            cnt += 1\n",
    "        else:\n",
    "            noOfB += cnt // k\n",
    "            cnt = 0\n",
    "    noOfB += cnt // k\n",
    "    return noOfB >= m\n",
    "\n",
    "def roseGarden(arr, k, m):\n",
    "    val = m * k\n",
    "    n = len(arr)  # size of the array\n",
    "    if val > n:\n",
    "        return -1  # impossible case\n",
    "    # find maximum and minimum\n",
    "    mini = float('inf')\n",
    "    maxi = float('-inf')\n",
    "    for i in range(n):\n",
    "        mini = min(mini, arr[i])\n",
    "        maxi = max(maxi, arr[i])\n",
    "\n",
    "    # apply binary search\n",
    "    low = mini\n",
    "    high = maxi\n",
    "    while low <= high:\n",
    "        mid = (low + high) // 2\n",
    "        if possible(arr, mid, m, k):\n",
    "            high = mid - 1\n",
    "        else:\n",
    "            low = mid + 1\n",
    "    return low\n",
    "\n",
    "arr = [7, 7, 7, 7, 13, 11, 12, 7]\n",
    "k = 3\n",
    "m = 2\n",
    "ans = roseGarden(arr, k, m)\n",
    "if ans == -1:\n",
    "    print(\"We cannot make m bouquets.\")\n",
    "else:\n",
    "    print(\"We can make bouquets on day\", ans)"
   ]
  },
  {
   "cell_type": "markdown",
   "metadata": {},
   "source": [
    "<h3>5. Find the smallest Divisor</h3>\n",
    "<a href=\"https://leetcode.com/problems/find-the-smallest-divisor-given-a-threshold/description/\">Problem Link</a>\n",
    "<p> Seperate function to check sum of the array after every element is divided by chosen limit. If sumbyD is <= limit remove right side, else remove left side.<br><br>\n",
    "Time complexity: O(log(max(arr[]))*N), where max(arr[])<br>\n",
    "Space Complexity: O(1)</p>"
   ]
  },
  {
   "cell_type": "code",
   "execution_count": 18,
   "metadata": {},
   "outputs": [
    {
     "name": "stdout",
     "output_type": "stream",
     "text": [
      "The minimum divisor is: 3\n"
     ]
    }
   ],
   "source": [
    "import math\n",
    "\n",
    "def sumByD(arr, div):\n",
    "    n = len(arr)  # size of array\n",
    "    # Find the summation of division values\n",
    "    total_sum = 0\n",
    "    for i in range(n):\n",
    "        total_sum += math.ceil(arr[i] / div)\n",
    "    return total_sum\n",
    "\n",
    "def smallestDivisor(arr, limit):\n",
    "    n = len(arr)\n",
    "    if n > limit:\n",
    "        return -1\n",
    "    low = 1\n",
    "    high = max(arr)\n",
    "\n",
    "    # Apply binary search\n",
    "    while low <= high:\n",
    "        mid = (low + high) // 2\n",
    "        if sumByD(arr, mid) <= limit:\n",
    "            high = mid - 1\n",
    "        else:\n",
    "            low = mid + 1\n",
    "    return low\n",
    "\n",
    "arr = [1, 2, 3, 4, 5]\n",
    "limit = 8\n",
    "ans = smallestDivisor(arr, limit)\n",
    "print(\"The minimum divisor is:\", ans)"
   ]
  },
  {
   "cell_type": "markdown",
   "metadata": {},
   "source": [
    "<h3>6. Capacity to Ship Packages within D Days</h3>\n",
    "<a href=\"https://leetcode.com/problems/capacity-to-ship-packages-within-d-days/description/\">Problem Link</a>\n",
    "<p>BS from max(weights) to sum(weights). Seperate function to find number of days with chosen cap. If the number of days less than d eleminate right side, else eleminate left side.<br><br>\n",
    "Time complexity: O(N * log(sum(weights[]) - max(weights[]) + 1))<br>\n",
    "Space Complexity: O(1)</p>"
   ]
  },
  {
   "cell_type": "code",
   "execution_count": 19,
   "metadata": {},
   "outputs": [
    {
     "name": "stdout",
     "output_type": "stream",
     "text": [
      "The minimum capacity should be: 9\n"
     ]
    }
   ],
   "source": [
    "def findDays(weights, cap):\n",
    "    days = 1  # First day\n",
    "    load = 0\n",
    "    n = len(weights)  # Size of array\n",
    "    for i in range(n):\n",
    "        if load + weights[i] > cap:\n",
    "            days += 1  # Move to next day\n",
    "            load = weights[i]  # Load the weight\n",
    "        else:\n",
    "            # Load the weight on the same day\n",
    "            load += weights[i]\n",
    "    return days\n",
    "\n",
    "def leastWeightCapacity(weights, d):\n",
    "    # Find the maximum and the summation\n",
    "    low = max(weights)\n",
    "    high = sum(weights)\n",
    "    while low <= high:\n",
    "        mid = (low + high) // 2\n",
    "        numberOfDays = findDays(weights, mid)\n",
    "        if numberOfDays <= d:\n",
    "            # Eliminate right half\n",
    "            high = mid - 1\n",
    "        else:\n",
    "            # Eliminate left half\n",
    "            low = mid + 1\n",
    "    return low\n",
    "\n",
    "weights = [5, 4, 5, 2, 3, 4, 5, 6]\n",
    "d = 5\n",
    "ans = leastWeightCapacity(weights, d)\n",
    "print(\"The minimum capacity should be:\", ans)"
   ]
  },
  {
   "cell_type": "markdown",
   "metadata": {},
   "source": [
    "<h3>7. Kth Missing Positive Number</h3>\n",
    "<a href=\"https://leetcode.com/problems/kth-missing-positive-number/description/\">Problem Link</a>\n",
    "<p>BS from 0 to n-1. Eliminate the halves based on the number of missing numbers up to index ‘mid’: missing_numbers = vec[mid] - (mid+1). If missing number is < k, eleminate left half, else eliminate right half.<br><br>\n",
    "Time complexity: O(logN)<br>\n",
    "Space Complexity: O(1) </p>"
   ]
  },
  {
   "cell_type": "code",
   "execution_count": 20,
   "metadata": {},
   "outputs": [
    {
     "name": "stdout",
     "output_type": "stream",
     "text": [
      "The missing number is: 5\n"
     ]
    }
   ],
   "source": [
    "def missingK(vec, n, k):\n",
    "    low = 0\n",
    "    high = n - 1\n",
    "    while low <= high:\n",
    "        mid = (low + high) // 2\n",
    "        missing = vec[mid] - (mid + 1)\n",
    "        if missing < k:\n",
    "            low = mid + 1\n",
    "        else:\n",
    "            high = mid - 1\n",
    "    return k + high + 1 \n",
    "\n",
    "vec = [4, 7, 9, 10]\n",
    "n = 4\n",
    "k = 4\n",
    "ans = missingK(vec, n, k)\n",
    "print(\"The missing number is:\", ans)"
   ]
  },
  {
   "cell_type": "markdown",
   "metadata": {},
   "source": [
    "<h3>8. Aggressive cows</h3>\n",
    "<a href=\"https://www.spoj.com/problems/AGGRCOW/\">Problem Link</a>\n",
    "<p>Sort the array first, BS from 1 to max element in the array - min element in the array. Seperate function to check if it is possible, check by maintaining the previous iteration's min distance.<br><br>\n",
    "Time complexity: O(NlogN) + O(N * log(max(stalls[])-min(stalls[])))<br>\n",
    "Space Complexity: O(1) </p>"
   ]
  },
  {
   "cell_type": "code",
   "execution_count": 21,
   "metadata": {},
   "outputs": [
    {
     "name": "stdout",
     "output_type": "stream",
     "text": [
      "The maximum possible minimum distance is: 3\n"
     ]
    }
   ],
   "source": [
    "def canWePlace(stalls, dist, cows):\n",
    "    n = len(stalls)  # size of array\n",
    "    cntCows = 1  # no. of cows placed\n",
    "    last = stalls[0]  # position of last placed cow\n",
    "    for i in range(1, n):\n",
    "        if stalls[i] - last >= dist:\n",
    "            cntCows += 1  # place next cow\n",
    "            last = stalls[i]  # update the last location\n",
    "        if cntCows >= cows:\n",
    "            return True\n",
    "    return False\n",
    "\n",
    "def aggressiveCows(stalls, k):\n",
    "    n = len(stalls)  # size of array\n",
    "    stalls.sort()  # sort the stalls\n",
    "\n",
    "    low = 1\n",
    "    high = stalls[n - 1] - stalls[0]\n",
    "    # apply binary search\n",
    "    while low <= high:\n",
    "        mid = (low + high) // 2\n",
    "        if canWePlace(stalls, mid, k):\n",
    "            low = mid + 1\n",
    "        else:\n",
    "            high = mid - 1\n",
    "    return high\n",
    "\n",
    "stalls = [0, 3, 4, 7, 10, 9]\n",
    "k = 4\n",
    "ans = aggressiveCows(stalls, k)\n",
    "print(\"The maximum possible minimum distance is:\", ans)"
   ]
  },
  {
   "cell_type": "markdown",
   "metadata": {},
   "source": [
    "<h3>9. Allocate Minimum Number of Pages</h3>\n",
    "<a href=\"https://www.naukri.com/code360/problems/allocate-books_1090540?utm_source=youtube&utm_medium=affiliate&utm_campaign=codestudio_Striver_BinarySeries\">Problem Link</a>\n",
    "<p>Count student function will add pages to a student from the array and check if it exceeded the total pages for that iteration. BS from max element in the array to summation of the array.<br><br>\n",
    "Time complexity: O(N * log(sum(arr[])-max(arr[])+1))<br>\n",
    "Space Complexity: O(1) </p>"
   ]
  },
  {
   "cell_type": "code",
   "execution_count": 22,
   "metadata": {},
   "outputs": [
    {
     "name": "stdout",
     "output_type": "stream",
     "text": [
      "The answer is: 71\n"
     ]
    }
   ],
   "source": [
    "def countStudents(arr, pages):\n",
    "    n = len(arr)  # size of array\n",
    "    students = 1\n",
    "    pagesStudent = 0\n",
    "    for i in range(n):\n",
    "        if pagesStudent + arr[i] <= pages:\n",
    "            # add pages to current student\n",
    "            pagesStudent += arr[i]\n",
    "        else:\n",
    "            # add pages to next student\n",
    "            students += 1\n",
    "            pagesStudent = arr[i]\n",
    "    return students\n",
    "\n",
    "def findPages(arr, n, m):\n",
    "    # book allocation impossible\n",
    "    if m > n:\n",
    "        return -1\n",
    "\n",
    "    low = max(arr)\n",
    "    high = sum(arr)\n",
    "    while low <= high:\n",
    "        mid = (low + high) // 2\n",
    "        students = countStudents(arr, mid)\n",
    "        if students > m:\n",
    "            low = mid + 1\n",
    "        else:\n",
    "            high = mid - 1\n",
    "    return low\n",
    "\n",
    "arr = [25, 46, 28, 49, 24]\n",
    "n = 5\n",
    "m = 4\n",
    "ans = findPages(arr, n, m)\n",
    "print(\"The answer is:\", ans)\n"
   ]
  },
  {
   "cell_type": "markdown",
   "metadata": {},
   "source": [
    "<h3>10. Split Array - Largest Sum</h3>\n",
    "<a href=\"https://leetcode.com/problems/split-array-largest-sum/description/\">Problem Link</a>\n",
    "<p>Same as Allocate Minimum Number of Pages<br><br>\n",
    "Time complexity: O(N * log(sum(arr[])-max(arr[])+1))<br>\n",
    "Space Complexity: O(1) </p>"
   ]
  },
  {
   "cell_type": "code",
   "execution_count": 23,
   "metadata": {},
   "outputs": [
    {
     "name": "stdout",
     "output_type": "stream",
     "text": [
      "The answer is: 60\n"
     ]
    }
   ],
   "source": [
    "\n",
    "def countPartitions(a, maxSum):\n",
    "    n = len(a)  # size of array\n",
    "    partitions = 1\n",
    "    subarraySum = 0\n",
    "    for i in range(n):\n",
    "        if subarraySum + a[i] <= maxSum:\n",
    "            # insert element to current subarray\n",
    "            subarraySum += a[i]\n",
    "        else:\n",
    "            # insert element to next subarray\n",
    "            partitions += 1\n",
    "            subarraySum = a[i]\n",
    "    return partitions\n",
    "\n",
    "def largestSubarraySumMinimized(a, k):\n",
    "    low = max(a)\n",
    "    high = sum(a)\n",
    "    # Apply binary search\n",
    "    while low <= high:\n",
    "        mid = (low + high) // 2\n",
    "        partitions = countPartitions(a, mid)\n",
    "        if partitions > k:\n",
    "            low = mid + 1\n",
    "        else:\n",
    "            high = mid - 1\n",
    "    return low\n",
    "\n",
    "a = [10, 20, 30, 40]\n",
    "k = 2\n",
    "ans = largestSubarraySumMinimized(a, k)\n",
    "print(\"The answer is:\", ans)\n"
   ]
  },
  {
   "cell_type": "markdown",
   "metadata": {},
   "source": [
    "<h3>11. Painter's partition</h3>\n",
    "<a href=\"https://www.naukri.com/code360/problems/painter-s-partition-problem_1089557?utm_source=striver&utm_medium=website&utm_campaign=a_zcoursetuf\">Problem Link</a>\n",
    "<p>Same as Allocate Minimum Number of Pages<br><br>\n",
    "Time complexity: O(N * log(sum(arr[])-max(arr[])+1))<br>\n",
    "Space Complexity: O(1) </p>"
   ]
  },
  {
   "cell_type": "code",
   "execution_count": 24,
   "metadata": {},
   "outputs": [
    {
     "name": "stdout",
     "output_type": "stream",
     "text": [
      "The answer is: 60\n"
     ]
    }
   ],
   "source": [
    "def countPainters(boards, time):\n",
    "    n = len(boards)  # size of array\n",
    "    painters = 1\n",
    "    boardsPainter = 0\n",
    "    for i in range(n):\n",
    "        if boardsPainter + boards[i] <= time:\n",
    "            # allocate board to current painter\n",
    "            boardsPainter += boards[i]\n",
    "        else:\n",
    "            # allocate board to next painter\n",
    "            painters += 1\n",
    "            boardsPainter = boards[i]\n",
    "    return painters\n",
    "\n",
    "def findLargestMinDistance(boards, k):\n",
    "    low = max(boards)\n",
    "    high = sum(boards)\n",
    "    # Apply binary search\n",
    "    while low <= high:\n",
    "        mid = (low + high) // 2\n",
    "        painters = countPainters(boards, mid)\n",
    "        if painters > k:\n",
    "            low = mid + 1\n",
    "        else:\n",
    "            high = mid - 1\n",
    "    return low\n",
    "\n",
    "boards = [10, 20, 30, 40]\n",
    "k = 2\n",
    "ans = findLargestMinDistance(boards, k)\n",
    "print(\"The answer is:\", ans)"
   ]
  },
  {
   "cell_type": "markdown",
   "metadata": {},
   "source": [
    "<h3>12. Minimise Maximum Distance between Gas Stations</h3>\n",
    "<a href=\"https://leetcode.com/problems/minimize-max-distance-to-gas-station/description/\">Problem Link</a>\n",
    "<p>Same concept but considers decimal values. Seperate function to check the number of gas stations required for a perticular mid value and compares this mid value with k in the main function.<br><br>\n",
    "Time complexity: O(n*log(Len)) + O(n)<br>\n",
    "Space Complexity: O(1) </p>"
   ]
  },
  {
   "cell_type": "code",
   "execution_count": 25,
   "metadata": {},
   "outputs": [
    {
     "name": "stdout",
     "output_type": "stream",
     "text": [
      "The answer is: 0.5\n"
     ]
    }
   ],
   "source": [
    "def numberOfGasStationsRequired(dist, arr):\n",
    "    n = len(arr)  # size of the array\n",
    "    cnt = 0\n",
    "    for i in range(1, n):\n",
    "        numberInBetween = ((arr[i] - arr[i - 1]) / dist)\n",
    "        if (arr[i] - arr[i - 1]) == (dist * numberInBetween):\n",
    "            numberInBetween -= 1\n",
    "        cnt += numberInBetween\n",
    "    return cnt\n",
    "\n",
    "\n",
    "def minimiseMaxDistance(arr, k):\n",
    "    n = len(arr)  # size of the array\n",
    "    low = 0\n",
    "    high = 0\n",
    "\n",
    "    # Find the maximum distance:\n",
    "    for i in range(n - 1):\n",
    "        high = max(high, arr[i + 1] - arr[i])\n",
    "\n",
    "    # Apply Binary search:\n",
    "    diff = 1e-6\n",
    "    while high - low > diff:\n",
    "        mid = (low + high) / 2.0\n",
    "        cnt = numberOfGasStationsRequired(mid, arr)\n",
    "        if cnt > k:\n",
    "            low = mid\n",
    "        else:\n",
    "            high = mid\n",
    "\n",
    "    return high\n",
    "\n",
    "\n",
    "arr = [1, 2, 3, 4, 5]\n",
    "k = 4\n",
    "ans = minimiseMaxDistance(arr, k)\n",
    "print(\"The answer is:\", ans)"
   ]
  },
  {
   "cell_type": "markdown",
   "metadata": {},
   "source": [
    "<h3>13. Median of Two Sorted Arrays of different sizes</h3>\n",
    "<a href=\"https://leetcode.com/problems/median-of-two-sorted-arrays/description/\">Problem Link</a>\n",
    "<p>Think about it like symmetry between the two array -> Choosing how many elements from array 1 and 2 should be on the left and right respectively. Just tke the largest array and in BS set left1 .Check if the split is correct or not by comparing left2 with right1 and left1 with right2.<br><br>\n",
    "Time complexity: O(log(min(n1,n2)))<br>\n",
    "Space Complexity: O(1) </p>"
   ]
  },
  {
   "cell_type": "code",
   "execution_count": 26,
   "metadata": {},
   "outputs": [
    {
     "name": "stdout",
     "output_type": "stream",
     "text": [
      "The median of two sorted arrays is 6.0\n"
     ]
    }
   ],
   "source": [
    "def median(a, b):\n",
    "    n1, n2 = len(a), len(b)\n",
    "    # if n1 is bigger swap the arrays:\n",
    "    if n1 > n2:\n",
    "        return median(b, a)\n",
    "\n",
    "    n = n1 + n2  # total length\n",
    "    left = (n1 + n2 + 1) // 2  # length of left half (works for both odd and even)\n",
    "    # apply binary search:\n",
    "    low, high = 0, n1\n",
    "    while low <= high:\n",
    "        mid1 = (low + high) // 2\n",
    "        mid2 = left - mid1\n",
    "        # calculate l1, l2, r1, and r2;\n",
    "        l1, l2, r1, r2 = float('-inf'), float('-inf'), float('inf'), float('inf')\n",
    "        if mid1 < n1:\n",
    "            r1 = a[mid1]\n",
    "        if mid2 < n2:\n",
    "            r2 = b[mid2]\n",
    "        if mid1 - 1 >= 0:\n",
    "            l1 = a[mid1 - 1]\n",
    "        if mid2 - 1 >= 0:\n",
    "            l2 = b[mid2 - 1]\n",
    "\n",
    "        if l1 <= r2 and l2 <= r1:\n",
    "            if n % 2 == 1:\n",
    "                return max(l1, l2)\n",
    "            else:\n",
    "                return (float(max(l1, l2)) + float(min(r1, r2))) / 2.0\n",
    "\n",
    "        # eliminate the halves:\n",
    "        elif l1 > r2:\n",
    "            high = mid1 - 1\n",
    "        else:\n",
    "            low = mid1 + 1\n",
    "    return 0  # dummy statement\n",
    "\n",
    "\n",
    "a = [1, 4, 7, 10, 12]\n",
    "b = [2, 3, 6, 15]\n",
    "print(\"The median of two sorted arrays is {:.1f}\".format(median(a, b)))"
   ]
  },
  {
   "cell_type": "markdown",
   "metadata": {},
   "source": [
    "<h3>14. K-th Element of two sorted arrays</h3>\n",
    "<a href=\"\">Problem Link</a>\n",
    "<p>Same as Median of Two Sorted Arrays of different sizes. Just set left = k and return max of l1 and l2 when l1 <= r2 and l2 <= r1<br><br>\n",
    "Time complexity: O(log(min(n1,n2)))<br>\n",
    "Space Complexity: O(1) </p>"
   ]
  },
  {
   "cell_type": "code",
   "execution_count": 27,
   "metadata": {},
   "outputs": [
    {
     "name": "stdout",
     "output_type": "stream",
     "text": [
      "The k-th element of two sorted arrays is: 6\n"
     ]
    }
   ],
   "source": [
    "def kthElement(a, b, m, n, k):\n",
    "    if m > n:\n",
    "        return kthElement(b, a, n, m, k)\n",
    "\n",
    "    left = k  # length of left half\n",
    "\n",
    "    # apply binary search:\n",
    "    low = max(0, k - n)\n",
    "    high = min(k, m)\n",
    "    while low <= high:\n",
    "        mid1 = (low + high) // 2\n",
    "        mid2 = left - mid1\n",
    "        # calculate l1, l2, r1, and r2\n",
    "        l1 = float('-inf')\n",
    "        l2 = float('-inf')\n",
    "        r1 = float('inf')\n",
    "        r2 = float('inf')\n",
    "        if mid1 < m:\n",
    "            r1 = a[mid1]\n",
    "        if mid2 < n:\n",
    "            r2 = b[mid2]\n",
    "        if mid1 - 1 >= 0:\n",
    "            l1 = a[mid1 - 1]\n",
    "        if mid2 - 1 >= 0:\n",
    "            l2 = b[mid2 - 1]\n",
    "\n",
    "        if l1 <= r2 and l2 <= r1:\n",
    "            return max(l1, l2)\n",
    "\n",
    "        # eliminate the halves:\n",
    "        elif l1 > r2:\n",
    "            high = mid1 - 1\n",
    "        else:\n",
    "            low = mid1 + 1\n",
    "\n",
    "    return 0  # dummy statement\n",
    "            \n",
    "            \n",
    "a = [2, 3, 6, 7, 9]\n",
    "b = [1, 4, 8, 10]\n",
    "print(\"The k-th element of two sorted arrays is:\", kthElement(a, b, len(a), len(b), 5))"
   ]
  },
  {
   "cell_type": "markdown",
   "metadata": {},
   "source": [
    "<h2>Binary Search on 2D Arrays</h2>"
   ]
  },
  {
   "cell_type": "markdown",
   "metadata": {},
   "source": [
    "<h3>1. Find the row with maximum number of 1's</h3>\n",
    "<a href=\"https://www.geeksforgeeks.org/problems/row-with-max-1s0023/1?utm_source=youtube&utm_medium=collab_striver_ytdescription&utm_campaign=row-with-max-1s\">Problem Link</a>\n",
    "<p>Use Lower Bound to find the first occurance of 1 in each row. The minus that index from the lenth of that row.<br><br>\n",
    "Time complexity: O(n X logm) <br>\n",
    "Space Complexity: O(1)</p>"
   ]
  },
  {
   "cell_type": "code",
   "execution_count": 28,
   "metadata": {},
   "outputs": [
    {
     "name": "stdout",
     "output_type": "stream",
     "text": [
      "The row with maximum no. of 1's is: 0\n"
     ]
    }
   ],
   "source": [
    "def lowerBound(arr, n, x):\n",
    "    low = 0\n",
    "    high = n - 1\n",
    "    ans = n\n",
    "\n",
    "    while low <= high:\n",
    "        mid = (low + high) // 2\n",
    "        # maybe an answer\n",
    "        if arr[mid] >= x:\n",
    "            ans = mid\n",
    "            # look for smaller index on the left\n",
    "            high = mid - 1\n",
    "        else:\n",
    "            low = mid + 1  # look on the right\n",
    "    return ans\n",
    "\n",
    "def rowWithMax1s(matrix, n, m):\n",
    "    cnt_max = 0\n",
    "    index = -1\n",
    "\n",
    "    # traverse the rows:\n",
    "    for i in range(n):\n",
    "        # get the number of 1's:\n",
    "        cnt_ones = m - lowerBound(matrix[i], m, 1)\n",
    "        if cnt_ones > cnt_max:\n",
    "            cnt_max = cnt_ones\n",
    "            index = i\n",
    "    return index\n",
    "\n",
    "matrix = [[1, 1, 1], [0, 0, 1], [0, 0, 0]]\n",
    "n = 3\n",
    "m = 3\n",
    "print(\"The row with maximum no. of 1's is:\", rowWithMax1s(matrix, n, m))"
   ]
  },
  {
   "cell_type": "markdown",
   "metadata": {},
   "source": [
    "<h3>2. Search in a 2D Matrix</h3>\n",
    "<a href=\"https://leetcode.com/problems/search-a-2d-matrix/description/\">Problem Link</a>\n",
    "<p>Flatten the 2D matrix in to 1D without actually doing it. Get the coordinated (row,column) with formula -> row = mid/m and col = mid%m.<br><br>\n",
    "Time complexity: O(log(NxM))<br>\n",
    "Space Complexity: O(1)</p>"
   ]
  },
  {
   "cell_type": "code",
   "execution_count": 29,
   "metadata": {},
   "outputs": [
    {
     "name": "stdout",
     "output_type": "stream",
     "text": [
      "true\n"
     ]
    }
   ],
   "source": [
    "def searchMatrix(matrix, target):\n",
    "    n = len(matrix)\n",
    "    m = len(matrix[0])\n",
    "\n",
    "    # apply binary search:\n",
    "    low = 0\n",
    "    high = n * m - 1\n",
    "    while low <= high:\n",
    "        mid = (low + high) // 2\n",
    "        row = mid // m\n",
    "        col = mid % m\n",
    "        if matrix[row][col] == target:\n",
    "            return True\n",
    "        elif matrix[row][col] < target:\n",
    "            low = mid + 1\n",
    "        else:\n",
    "            high = mid - 1\n",
    "    return False\n",
    "\n",
    "matrix = [[1, 2, 3, 4], [5, 6, 7, 8], [9, 10, 11, 12]]\n",
    "result = searchMatrix(matrix, 8)\n",
    "print(\"true\" if result else \"false\")"
   ]
  },
  {
   "cell_type": "markdown",
   "metadata": {},
   "source": [
    "<h3>3. Search in a row and column-wise sorted matrix</h3>\n",
    "<a href=\"https://leetcode.com/problems/search-a-2d-matrix-ii/description/\">Problem Link</a>\n",
    "<p>Simple BS on a matrix<br><br>\n",
    "Time complexity: O(N+M)<br>\n",
    "Space Complexity: O(1)</p>"
   ]
  },
  {
   "cell_type": "code",
   "execution_count": 30,
   "metadata": {},
   "outputs": [
    {
     "name": "stdout",
     "output_type": "stream",
     "text": [
      "true\n"
     ]
    }
   ],
   "source": [
    "\n",
    "def searchElement(matrix, target):\n",
    "    n = len(matrix)\n",
    "    m = len(matrix[0])\n",
    "    row = 0\n",
    "    col = m - 1\n",
    "\n",
    "    # Traverse the matrix from (0, m-1):\n",
    "    while row < n and col >= 0:\n",
    "        if matrix[row][col] == target:\n",
    "            return True\n",
    "        elif matrix[row][col] < target:\n",
    "            row += 1\n",
    "        else:\n",
    "            col -= 1\n",
    "    return False\n",
    "\n",
    "matrix = [\n",
    "    [1, 4, 7, 11, 15],\n",
    "    [2, 5, 8, 12, 19],\n",
    "    [3, 6, 9, 16, 22],\n",
    "    [10, 13, 14, 17, 24],\n",
    "    [18, 21, 23, 26, 30]\n",
    "]\n",
    "\n",
    "result = searchElement(matrix, 8)\n",
    "print(\"true\" if result else \"false\")"
   ]
  },
  {
   "cell_type": "markdown",
   "metadata": {},
   "source": [
    "<h3>4. Find Peak Element-II </h3>\n",
    "<a href=\"https://leetcode.com/problems/find-a-peak-element-ii/solutions/5957648/fastest-o-m-n-time-complexity-solution-in-python3/\">Problem Link</a>\n",
    "<p>Refer comments. Peak element but even with top and bottom element.<br><br>\n",
    "Time complexity: O(m⋅logn)<br>\n",
    "Space Complexity: O(1)</p>"
   ]
  },
  {
   "cell_type": "code",
   "execution_count": 31,
   "metadata": {},
   "outputs": [
    {
     "name": "stdout",
     "output_type": "stream",
     "text": [
      "[1, 1]\n"
     ]
    }
   ],
   "source": [
    "from numpy import inf\n",
    "def findPeakGrid(mat):\n",
    "    L, H = 0, len(mat) - 1\n",
    "    #as long as we have at least one row left to consider, continue binary search!\n",
    "    while L <= H:\n",
    "        mid = (L + H) // 2\n",
    "        mid_row = mat[mid]\n",
    "        #initialize max_pos and store column pos later!\n",
    "        max_pos = None\n",
    "        max_val = float(-inf)\n",
    "        #iterate linearly through the row since it's \n",
    "        # not sorted and find the maximum element as well\n",
    "        # as its position!\n",
    "        for j in range(len(mid_row)):\n",
    "            if(mid_row[j] > max_val):\n",
    "                max_val = mid_row[j]\n",
    "                max_pos = j\n",
    "                continue\n",
    "        #once we have max_pos, then we have to \n",
    "        # compare relative to top and bottom neighbors!\n",
    "        top_val = -1 if mid - 1 < 0 else mat[mid-1][max_pos]\n",
    "        bottom_val = -1 if mid + 1 >= len(mat) else mat[mid+1][max_pos]\n",
    "        #then it's a peak!\n",
    "        if(top_val < max_val and bottom_val < max_val):\n",
    "            return [mid, max_pos]\n",
    "        #top neighboring element is bigger! -> it has better chance to be peak element!\n",
    "        if(top_val >= max_val):\n",
    "            H = mid - 1 \n",
    "            continue\n",
    "        if(bottom_val >= max_val):\n",
    "            L = mid + 1\n",
    "            continue\n",
    "        \n",
    "mat = [[10,20,15],[21,30,14],[7,16,32]]\n",
    "print(findPeakGrid(mat))"
   ]
  },
  {
   "cell_type": "markdown",
   "metadata": {},
   "source": [
    "<h3>5. Matrix Median</h3>\n",
    "<a href=\"https://www.geeksforgeeks.org/problems/median-in-a-row-wise-sorted-matrix1527/1?utm_source=youtube&utm_medium=collab_striver_ytdescription&utm_campaign=median-in-a-row-wise-sorted-matrix\">Problem Link</a>\n",
    "<p>Low is smallest from first column, High is the largest from the last column. req = (n * m) // 2 -> This is median. Seperate function to give all elements smaller than or equal to mid. The first occurance of something greater is the median.<br><br>\n",
    "Time complexity: O(mlogn⋅log(range))<br>\n",
    "Space Complexity: O(1)</p>"
   ]
  },
  {
   "cell_type": "code",
   "execution_count": 32,
   "metadata": {},
   "outputs": [
    {
     "name": "stdout",
     "output_type": "stream",
     "text": [
      "The median element is: 11\n"
     ]
    }
   ],
   "source": [
    "def upperBound(arr, x, n):\n",
    "    low = 0\n",
    "    high = n - 1\n",
    "    ans = n\n",
    "\n",
    "    while low <= high:\n",
    "        mid = (low + high) // 2\n",
    "        # maybe an answer\n",
    "        if arr[mid] > x:\n",
    "            ans = mid\n",
    "            # look for a smaller index on the left\n",
    "            high = mid - 1\n",
    "        else:\n",
    "            low = mid + 1  # look on the right\n",
    "\n",
    "    return ans\n",
    "\n",
    "def countSmallEqual(matrix, m, n, x):\n",
    "    cnt = 0\n",
    "    for i in range(m):\n",
    "        cnt += upperBound(matrix[i], x, n)\n",
    "    return cnt\n",
    "\n",
    "def median(matrix, m, n):\n",
    "    low = float('inf')\n",
    "    high = float('-inf')\n",
    "\n",
    "    # point low and high to the right elements\n",
    "    for i in range(m):\n",
    "        low = min(low, matrix[i][0])\n",
    "        high = max(high, matrix[i][n - 1])\n",
    "\n",
    "    req = (n * m) // 2\n",
    "    while low <= high:\n",
    "        mid = (low + high) // 2\n",
    "        smallEqual = countSmallEqual(matrix, m, n, mid)\n",
    "        if smallEqual <= req:\n",
    "            low = mid + 1\n",
    "        else:\n",
    "            high = mid - 1\n",
    "\n",
    "    return low\n",
    "\n",
    "if __name__ == \"__main__\":\n",
    "    matrix = [\n",
    "        [1, 2, 3, 4, 5],\n",
    "        [8, 9, 11, 12, 13],\n",
    "        [21, 23, 25, 27, 29]\n",
    "    ]\n",
    "    m = len(matrix)\n",
    "    n = len(matrix[0])\n",
    "    ans = median(matrix, m, n)\n",
    "    print(\"The median element is:\", ans)"
   ]
  }
 ],
 "metadata": {
  "kernelspec": {
   "display_name": "Python 3",
   "language": "python",
   "name": "python3"
  },
  "language_info": {
   "codemirror_mode": {
    "name": "ipython",
    "version": 3
   },
   "file_extension": ".py",
   "mimetype": "text/x-python",
   "name": "python",
   "nbconvert_exporter": "python",
   "pygments_lexer": "ipython3",
   "version": "3.12.4"
  }
 },
 "nbformat": 4,
 "nbformat_minor": 2
}
