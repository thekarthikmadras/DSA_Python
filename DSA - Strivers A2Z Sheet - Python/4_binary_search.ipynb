{
 "cells": [
  {
   "cell_type": "markdown",
   "metadata": {},
   "source": [
    "<h1>Binary Search</h1>"
   ]
  },
  {
   "cell_type": "markdown",
   "metadata": {},
   "source": [
    "<h2>Binary Search on 1D Array</h2>"
   ]
  },
  {
   "cell_type": "markdown",
   "metadata": {},
   "source": [
    "<h3>1. Binary Search</h3>\n",
    "<a href=\"https://leetcode.com/problems/binary-search/description/\">Problem Link</a>\n",
    "<p>Iterative method is faster<br><br>\n",
    "Time complexity: O(logN)</p>"
   ]
  },
  {
   "cell_type": "code",
   "execution_count": 1,
   "metadata": {},
   "outputs": [
    {
     "name": "stdout",
     "output_type": "stream",
     "text": [
      "4\n"
     ]
    }
   ],
   "source": [
    "def search(nums, target):\n",
    "    n = len(nums)\n",
    "    low = 0\n",
    "    high = n-1\n",
    "\n",
    "    while low <= high:\n",
    "        mid = (low + high) // 2\n",
    "        if nums[mid] == target:\n",
    "            return mid\n",
    "        elif target > nums[mid]:\n",
    "            low = mid + 1\n",
    "        else:\n",
    "            high = mid - 1\n",
    "    return -1\n",
    "nums = [-1,0,3,5,9,12]\n",
    "target = 9\n",
    "print(search(nums,target))"
   ]
  },
  {
   "cell_type": "markdown",
   "metadata": {},
   "source": [
    "<h3>2. Implement Lower Bound</h3>\n",
    "<a href=\"https://www.naukri.com/code360/problems/lower-bound_8165382\">Problem Link</a>\n",
    "<p>Smallest index of the element such that arr[index] ≥ x<br><br>\n",
    "Time Complexity: O(logN)<br>\n",
    "Space Complexity: O(1)</p>"
   ]
  },
  {
   "cell_type": "code",
   "execution_count": 2,
   "metadata": {},
   "outputs": [
    {
     "name": "stdout",
     "output_type": "stream",
     "text": [
      "3\n"
     ]
    }
   ],
   "source": [
    "def lowerBound(arr, n, x):\n",
    "    low = 0\n",
    "    high = n - 1\n",
    "    ans = n\n",
    "\n",
    "    while low <= high:\n",
    "        mid = (low + high) // 2\n",
    "        # maybe an answer\n",
    "        if arr[mid] >= x:\n",
    "            ans = mid\n",
    "            # look for smaller index on the left\n",
    "            high = mid - 1\n",
    "        else:\n",
    "            low = mid + 1  # look on the right\n",
    "\n",
    "    return ans\n",
    "arr = [3, 5, 8, 15, 19]\n",
    "n = 5\n",
    "x = 9\n",
    "print(lowerBound(arr,n,x))"
   ]
  },
  {
   "cell_type": "markdown",
   "metadata": {},
   "source": [
    "<h3>3. Implement Upper Bound</h3>\n",
    "<a href=\"https://www.naukri.com/code360/problems/implement-upper-bound_8165383\">Problem Link</a>\n",
    "<p>Smallest index of the element such that arr[index] > x<br><br>\n",
    "Time Complexity: O(logN)<br>\n",
    "Space Complexity: O(1)</p>"
   ]
  },
  {
   "cell_type": "code",
   "execution_count": 3,
   "metadata": {},
   "outputs": [
    {
     "name": "stdout",
     "output_type": "stream",
     "text": [
      "4\n"
     ]
    }
   ],
   "source": [
    "def upperBound(arr, x, n):\n",
    "    low = 0\n",
    "    high = n - 1\n",
    "    ans = n\n",
    "\n",
    "    while low <= high:\n",
    "        mid = (low + high) // 2\n",
    "        # maybe an answer\n",
    "        if arr[mid] > x:\n",
    "            ans = mid\n",
    "            # look for smaller index on the left\n",
    "            high = mid - 1\n",
    "        else:\n",
    "            low = mid + 1  # look on the right\n",
    "\n",
    "    return ans\n",
    "arr = [3, 5, 8, 9, 15, 19]\n",
    "n = 6\n",
    "x = 9\n",
    "print(upperBound(arr, x, n))"
   ]
  },
  {
   "cell_type": "markdown",
   "metadata": {},
   "source": [
    "<h3>4. Search insert position</h3>\n",
    "<a href=\"https://leetcode.com/problems/search-insert-position/description/\">Problem Link</a>\n",
    "<p>Return the index if the target is found. If not, return the index where it would be if it were inserted in order.<br><br>\n",
    "Time Complexity: O(logN)<br>\n",
    "Space Complexity: O(1)</p>"
   ]
  },
  {
   "cell_type": "code",
   "execution_count": 4,
   "metadata": {},
   "outputs": [
    {
     "name": "stdout",
     "output_type": "stream",
     "text": [
      "3\n"
     ]
    }
   ],
   "source": [
    "def searchInsert(nums, target):\n",
    "    n = len(nums)\n",
    "    low = 0 \n",
    "    high = n-1\n",
    "    while low <= high:\n",
    "        mid = (low + high)//2\n",
    "        if nums[mid] < target:\n",
    "            low = mid + 1\n",
    "        elif nums[mid] > target:\n",
    "            high = mid - 1\n",
    "        else:\n",
    "            return mid\n",
    "\n",
    "    return low\n",
    "arr = [1, 2, 4, 7]\n",
    "x = 6\n",
    "print(searchInsert(arr,x))"
   ]
  },
  {
   "cell_type": "markdown",
   "metadata": {},
   "source": [
    "<h3>5. \tFloor/Ceil in Sorted Array</h3>\n",
    "<a href=\"https://www.naukri.com/code360/problems/ceiling-in-a-sorted-array_1825401\">Problem Link</a>\n",
    "<p>Use upper bound and lower bound<br><br>\n",
    "Time Complexity: O(logN)<br>\n",
    "Space Complexity: O(1)</p>"
   ]
  },
  {
   "cell_type": "code",
   "execution_count": 5,
   "metadata": {},
   "outputs": [
    {
     "name": "stdout",
     "output_type": "stream",
     "text": [
      "(4, 7)\n"
     ]
    }
   ],
   "source": [
    "\n",
    "def findFloor(arr, n, x):\n",
    "    low = 0\n",
    "    high = n - 1\n",
    "    ans = -1\n",
    "\n",
    "    while low <= high:\n",
    "        mid = (low + high) // 2\n",
    "        # maybe an answer\n",
    "        if arr[mid] <= x:\n",
    "            ans = arr[mid]\n",
    "            # look for smaller index on the left\n",
    "            low = mid + 1\n",
    "        else:\n",
    "            high = mid - 1  # look on the right\n",
    "\n",
    "    return ans\n",
    "\n",
    "\n",
    "def findCeil(arr, n, x):\n",
    "    low = 0\n",
    "    high = n - 1\n",
    "    ans = -1\n",
    "\n",
    "    while low <= high:\n",
    "        mid = (low + high) // 2\n",
    "        # maybe an answer\n",
    "        if arr[mid] >= x:\n",
    "            ans = arr[mid]\n",
    "            # look for smaller index on the left\n",
    "            high = mid - 1\n",
    "        else:\n",
    "            low = mid + 1  # look on the right\n",
    "\n",
    "    return ans\n",
    "\n",
    "\n",
    "def getFloorAndCeil(arr, n, x):\n",
    "    f = findFloor(arr, n, x)\n",
    "    c = findCeil(arr, n, x)\n",
    "    return (f, c)\n",
    "\n",
    "arr = [3, 4, 4, 7, 8, 10]\n",
    "n = 6\n",
    "x = 5\n",
    "print(getFloorAndCeil(arr,n,x))"
   ]
  },
  {
   "cell_type": "markdown",
   "metadata": {},
   "source": [
    "<h3>6. \tFirst and last occurrence in a sorted array</h3>\n",
    "<a href=\"https://leetcode.com/problems/find-first-and-last-position-of-element-in-sorted-array/description/\">Problem Link</a>\n",
    "<p>Use UB and LB<br><br>\n",
    "Time Complexity: O(logN)<br>\n",
    "Space Complexity: O(1)</p>"
   ]
  },
  {
   "cell_type": "code",
   "execution_count": 6,
   "metadata": {},
   "outputs": [
    {
     "name": "stdout",
     "output_type": "stream",
     "text": [
      "[3, 4]\n"
     ]
    }
   ],
   "source": [
    "def upperBound(arr, n, x):\n",
    "    low = 0\n",
    "    high = n - 1\n",
    "    ans = n\n",
    "\n",
    "    while low <= high:\n",
    "        mid = (low + high) // 2\n",
    "        # maybe an answer\n",
    "        if arr[mid] > x:\n",
    "            ans = mid\n",
    "            # look for smaller index on the left\n",
    "            high = mid - 1\n",
    "        else:\n",
    "            low = mid + 1  # look on the right\n",
    "    return ans\n",
    "\n",
    "def lowerBound(arr, n, x):\n",
    "    low = 0\n",
    "    high = n - 1\n",
    "    ans = n\n",
    "\n",
    "    while low <= high:\n",
    "        mid = (low + high) // 2\n",
    "        # maybe an answer\n",
    "        if arr[mid] >= x:\n",
    "            ans = mid\n",
    "            # look for smaller index on the left\n",
    "            high = mid - 1\n",
    "        else:\n",
    "            low = mid + 1  # look on the right\n",
    "        \n",
    "    return ans\n",
    "\n",
    "def searchRange(nums, target):\n",
    "    n = len(nums)\n",
    "    lb = lowerBound(nums, n, target)\n",
    "    ub = upperBound(nums, n, target) -1\n",
    "    if lb == n or nums[lb] != target:\n",
    "        return [-1,-1]\n",
    "    else:\n",
    "        return [lb,ub]\n",
    "nums = [5,7,7,8,8,10]\n",
    "target = 8\n",
    "print(searchRange(nums,target))"
   ]
  },
  {
   "cell_type": "markdown",
   "metadata": {},
   "source": [
    "<h3>7. Count occurrences in a sorted array</h3>\n",
    "<a href=\"https://www.naukri.com/code360/problems/occurrence-of-x-in-a-sorted-array_630456\">Problem Link</a>\n",
    "<p>Use upper bound and lower bound<br><br>\n",
    "Time Complexity: O(2logN)<br>\n",
    "Space Complexity: O(1)</p>"
   ]
  },
  {
   "cell_type": "code",
   "execution_count": 7,
   "metadata": {},
   "outputs": [
    {
     "name": "stdout",
     "output_type": "stream",
     "text": [
      "4\n"
     ]
    }
   ],
   "source": [
    "def upperBound(arr, n, x):\n",
    "    low = 0\n",
    "    high = n - 1\n",
    "    ans = n\n",
    "\n",
    "    while low <= high:\n",
    "        mid = (low + high) // 2\n",
    "        # maybe an answer\n",
    "        if arr[mid] > x:\n",
    "            ans = mid\n",
    "            # look for smaller index on the left\n",
    "            high = mid - 1\n",
    "        else:\n",
    "            low = mid + 1  # look on the right\n",
    "    return ans\n",
    "\n",
    "def lowerBound(arr, n, x):\n",
    "    low = 0\n",
    "    high = n - 1\n",
    "    ans = n\n",
    "\n",
    "    while low <= high:\n",
    "        mid = (low + high) // 2\n",
    "        # maybe an answer\n",
    "        if arr[mid] >= x:\n",
    "            ans = mid\n",
    "            # look for smaller index on the left\n",
    "            high = mid - 1\n",
    "        else:\n",
    "            low = mid + 1  # look on the right\n",
    "        \n",
    "    return ans\n",
    "\n",
    "if __name__ == \"__main__\":\n",
    "    nums = [2, 2 , 3 , 3 , 3 , 3 , 4]\n",
    "    n = 7\n",
    "    target = 3\n",
    "\n",
    "    lb = lowerBound(nums, n, target)\n",
    "    ub = upperBound(nums, n, target) \n",
    "    if lb == n or nums[lb] != target:\n",
    "        print([-1,-1])\n",
    "    else:\n",
    "        print (ub - lb)"
   ]
  },
  {
   "cell_type": "markdown",
   "metadata": {},
   "source": [
    "<h3>8. Search in a rotated sorted array 1</h3>\n",
    "<a href=\"https://leetcode.com/problems/search-in-rotated-sorted-array/description/\">Problem Link</a>\n",
    "<p>Intuition is either left side or the right side would be sorted. Check comments.<br><br>\n",
    "Time Complexity: O(2logN)<br>\n",
    "Space Complexity: O(1)</p>"
   ]
  },
  {
   "cell_type": "code",
   "execution_count": 8,
   "metadata": {},
   "outputs": [
    {
     "name": "stdout",
     "output_type": "stream",
     "text": [
      "8\n"
     ]
    }
   ],
   "source": [
    "def search(nums, target: int) -> int:\n",
    "    n = len(nums)\n",
    "    low = 0\n",
    "    high = n - 1\n",
    "    while low <= high:\n",
    "        mid = (low + high) // 2\n",
    "\n",
    "        # if mid points the target\n",
    "        if nums[mid] == target:\n",
    "            return mid\n",
    "\n",
    "        # if left part is sorted\n",
    "        if nums[low] <= nums[mid]:\n",
    "            if nums[low] <= target and target <= nums[mid]:\n",
    "                # element exists\n",
    "                high = mid - 1\n",
    "            else:\n",
    "                # element does not exist\n",
    "                low = mid + 1\n",
    "        else:  # if right part is sorted\n",
    "            if nums[mid] <= target and target <= nums[high]:\n",
    "                # element exists\n",
    "                low = mid + 1\n",
    "            else:\n",
    "                # element does not exist\n",
    "                high = mid - 1\n",
    "    return -1\n",
    "arr = [7, 8, 1, 2, 3, 3, 3, 4, 5, 6]\n",
    "k = 3\n",
    "print(search(arr, x))"
   ]
  },
  {
   "cell_type": "markdown",
   "metadata": {},
   "source": [
    "<h3>9. Search in a sorted array with duplicate elements 2</h3>\n",
    "<a href=\"https://leetcode.com/problems/search-in-rotated-sorted-array-ii/description/\">Problem Link</a>\n",
    "<p> 3 1 2 3 3 3. See the edge case<br><br>\n",
    "Time Complexity: O(2logN)<br>\n",
    "Space Complexity: O(1)</p>"
   ]
  },
  {
   "cell_type": "code",
   "execution_count": 9,
   "metadata": {},
   "outputs": [
    {
     "name": "stdout",
     "output_type": "stream",
     "text": [
      "True\n"
     ]
    }
   ],
   "source": [
    "def search(nums, target):\n",
    "    n = len(nums)\n",
    "    low = 0\n",
    "    high = n - 1\n",
    "    while low <= high:\n",
    "        mid = (low + high) // 2\n",
    "\n",
    "        # if mid points the target\n",
    "        if nums[mid] == target:\n",
    "            return True\n",
    "        # Edge case:\n",
    "        if nums[low] == nums[mid] and nums[mid] == nums[high]:\n",
    "            low += 1\n",
    "            high -= 1\n",
    "            continue\n",
    "\n",
    "        # if left part is sorted\n",
    "        if nums[low] <= nums[mid]:\n",
    "            if nums[low] <= target and target <= nums[mid]:\n",
    "                # element exists\n",
    "                high = mid - 1\n",
    "            else:\n",
    "                # element does not exist\n",
    "                low = mid + 1\n",
    "        else:  # if right part is sorted\n",
    "            if nums[mid] <= target and target <= nums[high]:\n",
    "                # element exists\n",
    "                low = mid + 1\n",
    "            else:\n",
    "                # element does not exist\n",
    "                high = mid - 1\n",
    "    return False\n",
    "arr = [7, 8, 1, 2, 3, 3, 3, 4, 5, 6]\n",
    "k = 3\n",
    "print(search(arr, k))"
   ]
  },
  {
   "cell_type": "markdown",
   "metadata": {},
   "source": [
    "<h3>10. Minimum in rotated sorted array</h3>\n",
    "<a href=\"https://leetcode.com/problems/find-minimum-in-rotated-sorted-array/description/\">Problem Link</a>\n",
    "<p>Remember it can be rotated both left side and right side. Check comments.<br><br>\n",
    "Time Complexity: O(logN)<br>\n",
    "Space Complexity: O(1)</p>"
   ]
  },
  {
   "cell_type": "code",
   "execution_count": 10,
   "metadata": {},
   "outputs": [
    {
     "name": "stdout",
     "output_type": "stream",
     "text": [
      "0\n"
     ]
    }
   ],
   "source": [
    "import sys\n",
    "def findMin(arr):\n",
    "    low = 0\n",
    "    high = len(arr) - 1\n",
    "    ans = sys.maxsize\n",
    "\n",
    "    while low <= high:\n",
    "        mid = (low + high) // 2\n",
    "\n",
    "        # search space is already sorted\n",
    "        # then arr[low] will always be\n",
    "        # the minimum in that search space:\n",
    "        if arr[low] <= arr[high]:\n",
    "            ans = min(ans, arr[low])\n",
    "            break\n",
    "            \n",
    "        if arr[low] <= arr[mid]:  # if left part is sorted\n",
    "            ans = min(ans, arr[low])  # keep the minimum\n",
    "            low = mid + 1  # eliminate left half\n",
    "\n",
    "        else:  # if right part is sorted\n",
    "            ans = min(ans, arr[mid])  # keep the minimum\n",
    "            high = mid - 1  # eliminate right half\n",
    "\n",
    "    return ans\n",
    "\n",
    "arr = [4, 5, 6, 7, 0, 1, 2, 3]\n",
    "print(findMin(arr))"
   ]
  },
  {
   "cell_type": "markdown",
   "metadata": {},
   "source": [
    "<h3>11. How many times is the array rotated</h3>\n",
    "<a href=\"https://www.geeksforgeeks.org/find-rotation-count-rotated-sorted-array/\">Problem Link</a>\n",
    "<p>Similar to minimum in a rotated sorted array. Just return index. Check comments<br><br>\n",
    "Time Complexity: O(logN)<br>\n",
    "Space Complexity: O(1)</p>"
   ]
  },
  {
   "cell_type": "code",
   "execution_count": 11,
   "metadata": {},
   "outputs": [
    {
     "name": "stdout",
     "output_type": "stream",
     "text": [
      "The array is rotated 4 times.\n"
     ]
    }
   ],
   "source": [
    "import sys\n",
    "def findKRotation(arr):\n",
    "    low = 0\n",
    "    high = len(arr) - 1\n",
    "    ans = float('inf')\n",
    "    index = -1\n",
    "    while low <= high:\n",
    "        mid = (low + high) // 2\n",
    "\n",
    "        # If search space is already sorted,\n",
    "        # then arr[low] will always be\n",
    "        # the minimum in that search space\n",
    "        if arr[low] <= arr[high]:\n",
    "            if arr[low] < ans:\n",
    "                index = low\n",
    "                ans = arr[low]\n",
    "            break\n",
    "\n",
    "        # If left part is sorted\n",
    "        if arr[low] <= arr[mid]:\n",
    "            # Keep the minimum\n",
    "            if arr[low] < ans:\n",
    "                index = low\n",
    "                ans = arr[low]\n",
    "\n",
    "            # Eliminate left half\n",
    "            low = mid + 1\n",
    "        else:  # If right part is sorted\n",
    "            # Keep the minimum\n",
    "            if arr[mid] < ans:\n",
    "                index = mid\n",
    "                ans = arr[mid]\n",
    "\n",
    "            # Eliminate right half\n",
    "            high = mid - 1\n",
    "\n",
    "    return index\n",
    "\n",
    "if __name__ == \"__main__\":\n",
    "    arr = [4, 5, 6, 7, 0, 1, 2, 3]\n",
    "    ans = findKRotation(arr)\n",
    "    print(\"The array is rotated\", ans, \"times.\")"
   ]
  },
  {
   "cell_type": "markdown",
   "metadata": {},
   "source": [
    "<h3>12. Search Single Element in a sorted array</h3>\n",
    "<a href=\"https://leetcode.com/problems/single-element-in-a-sorted-array/description/\">Problem Link</a>\n",
    "<p>Check comments<br><br>\n",
    "Time Complexity: O(logN)<br>\n",
    "Space Complexity: O(1)</p>"
   ]
  },
  {
   "cell_type": "code",
   "execution_count": 12,
   "metadata": {},
   "outputs": [
    {
     "name": "stdout",
     "output_type": "stream",
     "text": [
      "The single element is: 4\n"
     ]
    }
   ],
   "source": [
    "def singleNonDuplicate(arr):\n",
    "    n = len(arr)  # Size of the array\n",
    "\n",
    "    # Edge cases:\n",
    "    if n == 1:\n",
    "        return arr[0]\n",
    "    if arr[0] != arr[1]:\n",
    "        return arr[0]\n",
    "    if arr[n - 1] != arr[n - 2]:\n",
    "        return arr[n - 1]\n",
    "\n",
    "    low = 1\n",
    "    high = n - 2\n",
    "    while low <= high:\n",
    "        mid = (low + high) // 2\n",
    "\n",
    "        # If arr[mid] is the single element:\n",
    "        if arr[mid] != arr[mid + 1] and arr[mid] != arr[mid - 1]:\n",
    "            return arr[mid]\n",
    "\n",
    "        # We are in the left:\n",
    "        if (mid % 2 == 1 and arr[mid] == arr[mid - 1]) or (mid % 2 == 0 and arr[mid] == arr[mid + 1]):\n",
    "            # Eliminate the left half:\n",
    "            low = mid + 1\n",
    "        # We are in the right:\n",
    "        else:\n",
    "            # Eliminate the right half:\n",
    "            high = mid - 1\n",
    "\n",
    "    # Dummy return statement:\n",
    "    return -1\n",
    "\n",
    "arr = [1, 1, 2, 2, 3, 3, 4, 5, 5, 6, 6]\n",
    "ans = singleNonDuplicate(arr)\n",
    "print(\"The single element is:\", ans)\n"
   ]
  },
  {
   "cell_type": "markdown",
   "metadata": {},
   "source": [
    "<h3>13. Find peak element</h3>\n",
    "<a href=\"https://leetcode.com/problems/find-peak-element/description/\">Problem Link</a>\n",
    "<p>Check comments<br><br>\n",
    "Time Complexity: O(logN)<br>\n",
    "Space Complexity: O(1)</p>"
   ]
  },
  {
   "cell_type": "code",
   "execution_count": 13,
   "metadata": {},
   "outputs": [
    {
     "name": "stdout",
     "output_type": "stream",
     "text": [
      "The peak is at index: 7\n"
     ]
    }
   ],
   "source": [
    "def findPeakElement(arr):\n",
    "    n = len(arr)  # Size of the array\n",
    "\n",
    "    # Edge cases:\n",
    "    if n == 1:\n",
    "        return 0\n",
    "    if arr[0] > arr[1]:\n",
    "        return 0\n",
    "    if arr[n - 1] > arr[n - 2]:\n",
    "        return n - 1\n",
    "\n",
    "    low = 1\n",
    "    high = n - 2\n",
    "    while low <= high:\n",
    "        mid = (low + high) // 2\n",
    "\n",
    "        # If arr[mid] is the peak:\n",
    "        if arr[mid - 1] < arr[mid] and arr[mid] > arr[mid + 1]:\n",
    "            return mid\n",
    "\n",
    "        # If we are in the left:\n",
    "        if arr[mid] > arr[mid - 1]:\n",
    "            low = mid + 1\n",
    "\n",
    "        # If we are in the right:\n",
    "        # Or, arr[mid] is a common point:\n",
    "        else:\n",
    "            high = mid - 1\n",
    "\n",
    "    # Dummy return statement\n",
    "    return -1\n",
    "\n",
    "\n",
    "arr = [1, 2, 3, 4, 5, 6, 7, 8, 5, 1]\n",
    "ans = findPeakElement(arr)\n",
    "print(\"The peak is at index:\", ans)"
   ]
  },
  {
   "cell_type": "markdown",
   "metadata": {},
   "source": [
    "<h2>Binary Search on Answers</h2>"
   ]
  },
  {
   "cell_type": "markdown",
   "metadata": {},
   "source": [
    "<h3>1. Find square root of a number in log n</h3>\n",
    "<a href=\"https://leetcode.com/problems/sqrtx/\">Problem Link</a>\n",
    "<p>BS from 1 to n, Check comments.<br><br>\n",
    "Time complexity: O(logN) <br>\n",
    "Space Complexity: O(1)</p>"
   ]
  },
  {
   "cell_type": "code",
   "execution_count": 14,
   "metadata": {},
   "outputs": [
    {
     "name": "stdout",
     "output_type": "stream",
     "text": [
      "The floor of square root of 28 is: 5\n"
     ]
    }
   ],
   "source": [
    "def floorSqrt(n):\n",
    "    low = 1\n",
    "    high = n\n",
    "    # Binary search on the answers:\n",
    "    while low <= high:\n",
    "        mid = (low + high) // 2\n",
    "        val = mid * mid\n",
    "        if val <= n:\n",
    "            # Eliminate the left half:\n",
    "            low = mid + 1\n",
    "        else:\n",
    "            # Eliminate the right half:\n",
    "            high = mid - 1\n",
    "    return high\n",
    "\n",
    "n = 28\n",
    "ans = floorSqrt(n)\n",
    "print(\"The floor of square root of\", n, \"is:\", ans)"
   ]
  },
  {
   "cell_type": "markdown",
   "metadata": {},
   "source": [
    "<h3>2. Find the Nth root of a number using binary search</h3>\n",
    "<a href=\"https://www.naukri.com/code360/problems/nth-root-of-m_1062679\">Problem Link</a>\n",
    "<p>BS from 1 to m, seperate function to multiply the ‘mid’ n times with ‘ans’. check if ans == m. <br><br>\n",
    "Time complexity: O(logN) <br>\n",
    "Space Complexity: O(1)</p>"
   ]
  },
  {
   "cell_type": "code",
   "execution_count": 15,
   "metadata": {},
   "outputs": [
    {
     "name": "stdout",
     "output_type": "stream",
     "text": [
      "The answer is: 3\n"
     ]
    }
   ],
   "source": [
    "def func(mid, n, m):\n",
    "    ans = 1\n",
    "    for i in range(1, n + 1):\n",
    "        ans *= mid\n",
    "        if ans > m:\n",
    "            return 2\n",
    "    if ans == m:\n",
    "        return 1\n",
    "    return 0\n",
    "\n",
    "def NthRoot(n: int, m: int) -> int:\n",
    "    low = 1\n",
    "    high = m\n",
    "    while low <= high:\n",
    "        mid = (low + high) // 2\n",
    "        midN = func(mid, n, m)\n",
    "        if midN == 1:\n",
    "            return mid\n",
    "        elif midN == 0:\n",
    "            low = mid + 1\n",
    "        else:\n",
    "            high = mid - 1\n",
    "    return -1\n",
    "\n",
    "n = 3\n",
    "m = 27\n",
    "ans = NthRoot(n, m)\n",
    "print(\"The answer is:\", ans)"
   ]
  },
  {
   "cell_type": "markdown",
   "metadata": {},
   "source": [
    "<h3>3. Koko Eating Bananas</h3>\n",
    "<a href=\"https://leetcode.com/problems/koko-eating-bananas/description/\">Problem Link</a>\n",
    "<p>BS from 1 to max element in array. Seperate function to calculate total hours, check if total hours equal to h and eleminate accordingly.<br><br>\n",
    "Time complexity: O(N * log(max(a[]))),<br>\n",
    "Space Complexity: O(1)</p>"
   ]
  },
  {
   "cell_type": "code",
   "execution_count": 16,
   "metadata": {},
   "outputs": [
    {
     "name": "stdout",
     "output_type": "stream",
     "text": [
      "Koko should eat at least 5 bananas/hr.\n"
     ]
    }
   ],
   "source": [
    "import math\n",
    "\n",
    "def findMax(v):\n",
    "    maxi = float('-inf')\n",
    "    n = len(v)\n",
    "    # Find the maximum\n",
    "    for i in range(n):\n",
    "        maxi = max(maxi, v[i])\n",
    "    return maxi\n",
    "\n",
    "def calculateTotalHours(v, hourly):\n",
    "    totalH = 0\n",
    "    n = len(v)\n",
    "    # Find total hours\n",
    "    for i in range(n):\n",
    "        totalH += math.ceil(v[i] / hourly)\n",
    "    return totalH\n",
    "\n",
    "def minimumRateToEatBananas(v, h):\n",
    "    low = 1\n",
    "    high = findMax(v)\n",
    "\n",
    "    # Apply binary search\n",
    "    while low <= high:\n",
    "        mid = (low + high) // 2\n",
    "        totalH = calculateTotalHours(v, mid)\n",
    "        if totalH <= h:\n",
    "            high = mid - 1\n",
    "        else:\n",
    "            low = mid + 1\n",
    "    return low\n",
    "\n",
    "v = [7, 15, 6, 3]\n",
    "h = 8\n",
    "ans = minimumRateToEatBananas(v, h)\n",
    "print(\"Koko should eat at least\", ans, \"bananas/hr.\")"
   ]
  },
  {
   "cell_type": "markdown",
   "metadata": {},
   "source": [
    "<h3>4. Minimum days to make M bouquets</h3>\n",
    "<a href=\"https://leetcode.com/problems/minimum-number-of-days-to-make-m-bouquets/description/\">Problem Link</a>\n",
    "<p>BS from min and max elements (day). Check for impossible case : val > n. After mid, Count number of bouquets with a counter -> which is to check if it is possible. If possible remove the right side, else remove the left side.<br><br>\n",
    "Time complexity: O(log(max(arr[])-min(arr[])+1) * N)<br>\n",
    "Space Complexity: O(1) </p>"
   ]
  },
  {
   "cell_type": "code",
   "execution_count": 17,
   "metadata": {},
   "outputs": [
    {
     "name": "stdout",
     "output_type": "stream",
     "text": [
      "We can make bouquets on day 12\n"
     ]
    }
   ],
   "source": [
    "def possible(arr, day, m, k):\n",
    "    n = len(arr)  # size of the array\n",
    "    cnt = 0\n",
    "    noOfB = 0\n",
    "    # count the number of bouquets\n",
    "    for i in range(n):\n",
    "        if arr[i] <= day:\n",
    "            cnt += 1\n",
    "        else:\n",
    "            noOfB += cnt // k\n",
    "            cnt = 0\n",
    "    noOfB += cnt // k\n",
    "    return noOfB >= m\n",
    "\n",
    "def roseGarden(arr, k, m):\n",
    "    val = m * k\n",
    "    n = len(arr)  # size of the array\n",
    "    if val > n:\n",
    "        return -1  # impossible case\n",
    "    # find maximum and minimum\n",
    "    mini = float('inf')\n",
    "    maxi = float('-inf')\n",
    "    for i in range(n):\n",
    "        mini = min(mini, arr[i])\n",
    "        maxi = max(maxi, arr[i])\n",
    "\n",
    "    # apply binary search\n",
    "    low = mini\n",
    "    high = maxi\n",
    "    while low <= high:\n",
    "        mid = (low + high) // 2\n",
    "        if possible(arr, mid, m, k):\n",
    "            high = mid - 1\n",
    "        else:\n",
    "            low = mid + 1\n",
    "    return low\n",
    "\n",
    "arr = [7, 7, 7, 7, 13, 11, 12, 7]\n",
    "k = 3\n",
    "m = 2\n",
    "ans = roseGarden(arr, k, m)\n",
    "if ans == -1:\n",
    "    print(\"We cannot make m bouquets.\")\n",
    "else:\n",
    "    print(\"We can make bouquets on day\", ans)"
   ]
  },
  {
   "cell_type": "markdown",
   "metadata": {},
   "source": [
    "<h3>5. Find the smallest Divisor</h3>\n",
    "<a href=\"https://leetcode.com/problems/find-the-smallest-divisor-given-a-threshold/description/\">Problem Link</a>\n",
    "<p> Seperate function to check sum of the array after every element is divided by chosen limit. If sumbyD is <= limit remove right side, else remove left side.<br><br>\n",
    "Time complexity: O(log(max(arr[]))*N), where max(arr[])<br>\n",
    "Space Complexity: O(1)</p>"
   ]
  },
  {
   "cell_type": "code",
   "execution_count": 18,
   "metadata": {},
   "outputs": [
    {
     "name": "stdout",
     "output_type": "stream",
     "text": [
      "The minimum divisor is: 3\n"
     ]
    }
   ],
   "source": [
    "import math\n",
    "\n",
    "def sumByD(arr, div):\n",
    "    n = len(arr)  # size of array\n",
    "    # Find the summation of division values\n",
    "    total_sum = 0\n",
    "    for i in range(n):\n",
    "        total_sum += math.ceil(arr[i] / div)\n",
    "    return total_sum\n",
    "\n",
    "def smallestDivisor(arr, limit):\n",
    "    n = len(arr)\n",
    "    if n > limit:\n",
    "        return -1\n",
    "    low = 1\n",
    "    high = max(arr)\n",
    "\n",
    "    # Apply binary search\n",
    "    while low <= high:\n",
    "        mid = (low + high) // 2\n",
    "        if sumByD(arr, mid) <= limit:\n",
    "            high = mid - 1\n",
    "        else:\n",
    "            low = mid + 1\n",
    "    return low\n",
    "\n",
    "arr = [1, 2, 3, 4, 5]\n",
    "limit = 8\n",
    "ans = smallestDivisor(arr, limit)\n",
    "print(\"The minimum divisor is:\", ans)"
   ]
  },
  {
   "cell_type": "markdown",
   "metadata": {},
   "source": [
    "<h3>6. Capacity to Ship Packages within D Days</h3>\n",
    "<a href=\"https://leetcode.com/problems/capacity-to-ship-packages-within-d-days/description/\">Problem Link</a>\n",
    "<p>BS from max(weights) to sum(weights). Seperate function to find number of days with chosen cap. If the number of days less than d eleminate right side, else eleminate left side.<br><br>\n",
    "Time complexity: O(N * log(sum(weights[]) - max(weights[]) + 1))<br>\n",
    "Space Complexity: O(1)</p>"
   ]
  },
  {
   "cell_type": "code",
   "execution_count": 19,
   "metadata": {},
   "outputs": [
    {
     "name": "stdout",
     "output_type": "stream",
     "text": [
      "The minimum capacity should be: 9\n"
     ]
    }
   ],
   "source": [
    "def findDays(weights, cap):\n",
    "    days = 1  # First day\n",
    "    load = 0\n",
    "    n = len(weights)  # Size of array\n",
    "    for i in range(n):\n",
    "        if load + weights[i] > cap:\n",
    "            days += 1  # Move to next day\n",
    "            load = weights[i]  # Load the weight\n",
    "        else:\n",
    "            # Load the weight on the same day\n",
    "            load += weights[i]\n",
    "    return days\n",
    "\n",
    "def leastWeightCapacity(weights, d):\n",
    "    # Find the maximum and the summation\n",
    "    low = max(weights)\n",
    "    high = sum(weights)\n",
    "    while low <= high:\n",
    "        mid = (low + high) // 2\n",
    "        numberOfDays = findDays(weights, mid)\n",
    "        if numberOfDays <= d:\n",
    "            # Eliminate right half\n",
    "            high = mid - 1\n",
    "        else:\n",
    "            # Eliminate left half\n",
    "            low = mid + 1\n",
    "    return low\n",
    "\n",
    "weights = [5, 4, 5, 2, 3, 4, 5, 6]\n",
    "d = 5\n",
    "ans = leastWeightCapacity(weights, d)\n",
    "print(\"The minimum capacity should be:\", ans)"
   ]
  },
  {
   "cell_type": "markdown",
   "metadata": {},
   "source": [
    "<h3>7. Kth Missing Positive Number</h3>\n",
    "<a href=\"https://leetcode.com/problems/kth-missing-positive-number/description/\">Problem Link</a>\n",
    "<p>BS from 0 to n-1. Eliminate the halves based on the number of missing numbers up to index ‘mid’: missing_numbers = vec[mid] - (mid+1). If missing number is < k, eleminate left half, else eliminate right half.<br><br>\n",
    "Time complexity: O(logN)<br>\n",
    "Space Complexity: O(1) </p>"
   ]
  },
  {
   "cell_type": "code",
   "execution_count": 20,
   "metadata": {},
   "outputs": [
    {
     "name": "stdout",
     "output_type": "stream",
     "text": [
      "The missing number is: 5\n"
     ]
    }
   ],
   "source": [
    "def missingK(vec, n, k):\n",
    "    low = 0\n",
    "    high = n - 1\n",
    "    while low <= high:\n",
    "        mid = (low + high) // 2\n",
    "        missing = vec[mid] - (mid + 1)\n",
    "        if missing < k:\n",
    "            low = mid + 1\n",
    "        else:\n",
    "            high = mid - 1\n",
    "    return k + high + 1 \n",
    "\n",
    "vec = [4, 7, 9, 10]\n",
    "n = 4\n",
    "k = 4\n",
    "ans = missingK(vec, n, k)\n",
    "print(\"The missing number is:\", ans)"
   ]
  }
 ],
 "metadata": {
  "kernelspec": {
   "display_name": "Python 3",
   "language": "python",
   "name": "python3"
  },
  "language_info": {
   "codemirror_mode": {
    "name": "ipython",
    "version": 3
   },
   "file_extension": ".py",
   "mimetype": "text/x-python",
   "name": "python",
   "nbconvert_exporter": "python",
   "pygments_lexer": "ipython3",
   "version": "3.12.4"
  }
 },
 "nbformat": 4,
 "nbformat_minor": 2
}
