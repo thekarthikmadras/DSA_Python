{
 "cells": [
  {
   "cell_type": "markdown",
   "metadata": {},
   "source": [
    "<h1>Binary Search</h1>"
   ]
  },
  {
   "cell_type": "markdown",
   "metadata": {},
   "source": [
    "<h2>Binary Search on 1D Array</h2>"
   ]
  },
  {
   "cell_type": "markdown",
   "metadata": {},
   "source": [
    "<h3>1. Binary Search</h3>\n",
    "<a href=\"https://leetcode.com/problems/binary-search/description/\">Problem Link</a>\n",
    "<p>Iterative method is faster<br><br>\n",
    "Time complexity: O(logN)</p>"
   ]
  },
  {
   "cell_type": "code",
   "execution_count": 1,
   "metadata": {},
   "outputs": [
    {
     "name": "stdout",
     "output_type": "stream",
     "text": [
      "4\n"
     ]
    }
   ],
   "source": [
    "def search(nums, target):\n",
    "    n = len(nums)\n",
    "    low = 0\n",
    "    high = n-1\n",
    "\n",
    "    while low <= high:\n",
    "        mid = (low + high) // 2\n",
    "        if nums[mid] == target:\n",
    "            return mid\n",
    "        elif target > nums[mid]:\n",
    "            low = mid + 1\n",
    "        else:\n",
    "            high = mid - 1\n",
    "    return -1\n",
    "nums = [-1,0,3,5,9,12]\n",
    "target = 9\n",
    "print(search(nums,target))"
   ]
  },
  {
   "cell_type": "markdown",
   "metadata": {},
   "source": [
    "<h3>2. Implement Lower Bound</h3>\n",
    "<a href=\"https://www.naukri.com/code360/problems/lower-bound_8165382\">Problem Link</a>\n",
    "<p>Smallest index of the element such that arr[index] ≥ x<br><br>\n",
    "Time Complexity: O(logN)<br>\n",
    "Space Complexity: O(1)</p>"
   ]
  },
  {
   "cell_type": "code",
   "execution_count": 2,
   "metadata": {},
   "outputs": [
    {
     "name": "stdout",
     "output_type": "stream",
     "text": [
      "3\n"
     ]
    }
   ],
   "source": [
    "def lowerBound(arr, n, x):\n",
    "    low = 0\n",
    "    high = n - 1\n",
    "    ans = n\n",
    "\n",
    "    while low <= high:\n",
    "        mid = (low + high) // 2\n",
    "        # maybe an answer\n",
    "        if arr[mid] >= x:\n",
    "            ans = mid\n",
    "            # look for smaller index on the left\n",
    "            high = mid - 1\n",
    "        else:\n",
    "            low = mid + 1  # look on the right\n",
    "\n",
    "    return ans\n",
    "arr = [3, 5, 8, 15, 19]\n",
    "n = 5\n",
    "x = 9\n",
    "print(lowerBound(arr,n,x))"
   ]
  },
  {
   "cell_type": "markdown",
   "metadata": {},
   "source": [
    "<h3>3. Implement Upper Bound</h3>\n",
    "<a href=\"https://www.naukri.com/code360/problems/implement-upper-bound_8165383\">Problem Link</a>\n",
    "<p>Smallest index of the element such that arr[index] > x<br><br>\n",
    "Time Complexity: O(logN)<br>\n",
    "Space Complexity: O(1)</p>"
   ]
  },
  {
   "cell_type": "code",
   "execution_count": 3,
   "metadata": {},
   "outputs": [
    {
     "name": "stdout",
     "output_type": "stream",
     "text": [
      "4\n"
     ]
    }
   ],
   "source": [
    "def upperBound(arr, x, n):\n",
    "    low = 0\n",
    "    high = n - 1\n",
    "    ans = n\n",
    "\n",
    "    while low <= high:\n",
    "        mid = (low + high) // 2\n",
    "        # maybe an answer\n",
    "        if arr[mid] > x:\n",
    "            ans = mid\n",
    "            # look for smaller index on the left\n",
    "            high = mid - 1\n",
    "        else:\n",
    "            low = mid + 1  # look on the right\n",
    "\n",
    "    return ans\n",
    "arr = [3, 5, 8, 9, 15, 19]\n",
    "n = 6\n",
    "x = 9\n",
    "print(upperBound(arr, x, n))"
   ]
  },
  {
   "cell_type": "markdown",
   "metadata": {},
   "source": [
    "<h3>4. Search insert position</h3>\n",
    "<a href=\"https://leetcode.com/problems/search-insert-position/description/\">Problem Link</a>\n",
    "<p>Return the index if the target is found. If not, return the index where it would be if it were inserted in order.<br><br>\n",
    "Time Complexity: O(logN)<br>\n",
    "Space Complexity: O(1)</p>"
   ]
  },
  {
   "cell_type": "code",
   "execution_count": 4,
   "metadata": {},
   "outputs": [
    {
     "name": "stdout",
     "output_type": "stream",
     "text": [
      "3\n"
     ]
    }
   ],
   "source": [
    "def searchInsert(nums, target):\n",
    "    n = len(nums)\n",
    "    low = 0 \n",
    "    high = n-1\n",
    "    while low <= high:\n",
    "        mid = (low + high)//2\n",
    "        if nums[mid] < target:\n",
    "            low = mid + 1\n",
    "        elif nums[mid] > target:\n",
    "            high = mid - 1\n",
    "        else:\n",
    "            return mid\n",
    "\n",
    "    return low\n",
    "arr = [1, 2, 4, 7]\n",
    "x = 6\n",
    "print(searchInsert(arr,x))"
   ]
  },
  {
   "cell_type": "markdown",
   "metadata": {},
   "source": [
    "<h3>5. \tFloor/Ceil in Sorted Array</h3>\n",
    "<a href=\"https://www.naukri.com/code360/problems/ceiling-in-a-sorted-array_1825401\">Problem Link</a>\n",
    "<p>Use upper bound and lower bound<br><br>\n",
    "Time Complexity: O(logN)<br>\n",
    "Space Complexity: O(1)</p>"
   ]
  },
  {
   "cell_type": "code",
   "execution_count": 5,
   "metadata": {},
   "outputs": [
    {
     "name": "stdout",
     "output_type": "stream",
     "text": [
      "(4, 7)\n"
     ]
    }
   ],
   "source": [
    "\n",
    "def findFloor(arr, n, x):\n",
    "    low = 0\n",
    "    high = n - 1\n",
    "    ans = -1\n",
    "\n",
    "    while low <= high:\n",
    "        mid = (low + high) // 2\n",
    "        # maybe an answer\n",
    "        if arr[mid] <= x:\n",
    "            ans = arr[mid]\n",
    "            # look for smaller index on the left\n",
    "            low = mid + 1\n",
    "        else:\n",
    "            high = mid - 1  # look on the right\n",
    "\n",
    "    return ans\n",
    "\n",
    "\n",
    "def findCeil(arr, n, x):\n",
    "    low = 0\n",
    "    high = n - 1\n",
    "    ans = -1\n",
    "\n",
    "    while low <= high:\n",
    "        mid = (low + high) // 2\n",
    "        # maybe an answer\n",
    "        if arr[mid] >= x:\n",
    "            ans = arr[mid]\n",
    "            # look for smaller index on the left\n",
    "            high = mid - 1\n",
    "        else:\n",
    "            low = mid + 1  # look on the right\n",
    "\n",
    "    return ans\n",
    "\n",
    "\n",
    "def getFloorAndCeil(arr, n, x):\n",
    "    f = findFloor(arr, n, x)\n",
    "    c = findCeil(arr, n, x)\n",
    "    return (f, c)\n",
    "\n",
    "arr = [3, 4, 4, 7, 8, 10]\n",
    "n = 6\n",
    "x = 5\n",
    "print(getFloorAndCeil(arr,n,x))"
   ]
  },
  {
   "cell_type": "markdown",
   "metadata": {},
   "source": [
    "<h3>6. \tFirst and last occurrence in a sorted array</h3>\n",
    "<a href=\"https://leetcode.com/problems/find-first-and-last-position-of-element-in-sorted-array/description/\">Problem Link</a>\n",
    "<p>Use UB and LB<br><br>\n",
    "Time Complexity: O(logN)<br>\n",
    "Space Complexity: O(1)</p>"
   ]
  },
  {
   "cell_type": "code",
   "execution_count": 6,
   "metadata": {},
   "outputs": [
    {
     "name": "stdout",
     "output_type": "stream",
     "text": [
      "[3, 4]\n"
     ]
    }
   ],
   "source": [
    "def upperBound(arr, n, x):\n",
    "    low = 0\n",
    "    high = n - 1\n",
    "    ans = n\n",
    "\n",
    "    while low <= high:\n",
    "        mid = (low + high) // 2\n",
    "        # maybe an answer\n",
    "        if arr[mid] > x:\n",
    "            ans = mid\n",
    "            # look for smaller index on the left\n",
    "            high = mid - 1\n",
    "        else:\n",
    "            low = mid + 1  # look on the right\n",
    "    return ans\n",
    "\n",
    "def lowerBound(arr, n, x):\n",
    "    low = 0\n",
    "    high = n - 1\n",
    "    ans = n\n",
    "\n",
    "    while low <= high:\n",
    "        mid = (low + high) // 2\n",
    "        # maybe an answer\n",
    "        if arr[mid] >= x:\n",
    "            ans = mid\n",
    "            # look for smaller index on the left\n",
    "            high = mid - 1\n",
    "        else:\n",
    "            low = mid + 1  # look on the right\n",
    "        \n",
    "    return ans\n",
    "\n",
    "def searchRange(nums, target):\n",
    "    n = len(nums)\n",
    "    lb = lowerBound(nums, n, target)\n",
    "    ub = upperBound(nums, n, target) -1\n",
    "    if lb == n or nums[lb] != target:\n",
    "        return [-1,-1]\n",
    "    else:\n",
    "        return [lb,ub]\n",
    "nums = [5,7,7,8,8,10]\n",
    "target = 8\n",
    "print(searchRange(nums,target))"
   ]
  },
  {
   "cell_type": "markdown",
   "metadata": {},
   "source": [
    "<h3>7. Count occurrences in a sorted array</h3>\n",
    "<a href=\"https://www.naukri.com/code360/problems/occurrence-of-x-in-a-sorted-array_630456\">Problem Link</a>\n",
    "<p>Use upper bound and lower bound<br><br>\n",
    "Time Complexity: O(2logN)<br>\n",
    "Space Complexity: O(1)</p>"
   ]
  },
  {
   "cell_type": "code",
   "execution_count": 7,
   "metadata": {},
   "outputs": [
    {
     "name": "stdout",
     "output_type": "stream",
     "text": [
      "4\n"
     ]
    }
   ],
   "source": [
    "def upperBound(arr, n, x):\n",
    "    low = 0\n",
    "    high = n - 1\n",
    "    ans = n\n",
    "\n",
    "    while low <= high:\n",
    "        mid = (low + high) // 2\n",
    "        # maybe an answer\n",
    "        if arr[mid] > x:\n",
    "            ans = mid\n",
    "            # look for smaller index on the left\n",
    "            high = mid - 1\n",
    "        else:\n",
    "            low = mid + 1  # look on the right\n",
    "    return ans\n",
    "\n",
    "def lowerBound(arr, n, x):\n",
    "    low = 0\n",
    "    high = n - 1\n",
    "    ans = n\n",
    "\n",
    "    while low <= high:\n",
    "        mid = (low + high) // 2\n",
    "        # maybe an answer\n",
    "        if arr[mid] >= x:\n",
    "            ans = mid\n",
    "            # look for smaller index on the left\n",
    "            high = mid - 1\n",
    "        else:\n",
    "            low = mid + 1  # look on the right\n",
    "        \n",
    "    return ans\n",
    "\n",
    "if __name__ == \"__main__\":\n",
    "    nums = [2, 2 , 3 , 3 , 3 , 3 , 4]\n",
    "    n = 7\n",
    "    target = 3\n",
    "\n",
    "    lb = lowerBound(nums, n, target)\n",
    "    ub = upperBound(nums, n, target) \n",
    "    if lb == n or nums[lb] != target:\n",
    "        print([-1,-1])\n",
    "    else:\n",
    "        print (ub - lb)"
   ]
  },
  {
   "cell_type": "markdown",
   "metadata": {},
   "source": [
    "<h3>8. Search in a rotated sorted array 1</h3>\n",
    "<a href=\"https://leetcode.com/problems/search-in-rotated-sorted-array/description/\">Problem Link</a>\n",
    "<p>Intuition is either left side or the right side would be sorted. Check comments.<br><br>\n",
    "Time Complexity: O(2logN)<br>\n",
    "Space Complexity: O(1)</p>"
   ]
  },
  {
   "cell_type": "code",
   "execution_count": 8,
   "metadata": {},
   "outputs": [
    {
     "name": "stdout",
     "output_type": "stream",
     "text": [
      "8\n"
     ]
    }
   ],
   "source": [
    "def search(nums, target: int) -> int:\n",
    "    n = len(nums)\n",
    "    low = 0\n",
    "    high = n - 1\n",
    "    while low <= high:\n",
    "        mid = (low + high) // 2\n",
    "\n",
    "        # if mid points the target\n",
    "        if nums[mid] == target:\n",
    "            return mid\n",
    "\n",
    "        # if left part is sorted\n",
    "        if nums[low] <= nums[mid]:\n",
    "            if nums[low] <= target and target <= nums[mid]:\n",
    "                # element exists\n",
    "                high = mid - 1\n",
    "            else:\n",
    "                # element does not exist\n",
    "                low = mid + 1\n",
    "        else:  # if right part is sorted\n",
    "            if nums[mid] <= target and target <= nums[high]:\n",
    "                # element exists\n",
    "                low = mid + 1\n",
    "            else:\n",
    "                # element does not exist\n",
    "                high = mid - 1\n",
    "    return -1\n",
    "arr = [7, 8, 1, 2, 3, 3, 3, 4, 5, 6]\n",
    "k = 3\n",
    "print(search(arr, x))"
   ]
  },
  {
   "cell_type": "markdown",
   "metadata": {},
   "source": [
    "<h3>9. Search in a sorted array with duplicate elements 2</h3>\n",
    "<a href=\"https://leetcode.com/problems/search-in-rotated-sorted-array-ii/description/\">Problem Link</a>\n",
    "<p> 3 1 2 3 3 3. See the edge case<br><br>\n",
    "Time Complexity: O(2logN)<br>\n",
    "Space Complexity: O(1)</p>"
   ]
  },
  {
   "cell_type": "code",
   "execution_count": 9,
   "metadata": {},
   "outputs": [
    {
     "name": "stdout",
     "output_type": "stream",
     "text": [
      "True\n"
     ]
    }
   ],
   "source": [
    "def search(nums, target):\n",
    "    n = len(nums)\n",
    "    low = 0\n",
    "    high = n - 1\n",
    "    while low <= high:\n",
    "        mid = (low + high) // 2\n",
    "\n",
    "        # if mid points the target\n",
    "        if nums[mid] == target:\n",
    "            return True\n",
    "        # Edge case:\n",
    "        if nums[low] == nums[mid] and nums[mid] == nums[high]:\n",
    "            low += 1\n",
    "            high -= 1\n",
    "            continue\n",
    "\n",
    "        # if left part is sorted\n",
    "        if nums[low] <= nums[mid]:\n",
    "            if nums[low] <= target and target <= nums[mid]:\n",
    "                # element exists\n",
    "                high = mid - 1\n",
    "            else:\n",
    "                # element does not exist\n",
    "                low = mid + 1\n",
    "        else:  # if right part is sorted\n",
    "            if nums[mid] <= target and target <= nums[high]:\n",
    "                # element exists\n",
    "                low = mid + 1\n",
    "            else:\n",
    "                # element does not exist\n",
    "                high = mid - 1\n",
    "    return False\n",
    "arr = [7, 8, 1, 2, 3, 3, 3, 4, 5, 6]\n",
    "k = 3\n",
    "print(search(arr, k))"
   ]
  },
  {
   "cell_type": "markdown",
   "metadata": {},
   "source": [
    "<h3>10. Minimum in rotated sorted array</h3>\n",
    "<a href=\"https://leetcode.com/problems/find-minimum-in-rotated-sorted-array/description/\">Problem Link</a>\n",
    "<p>Remember it can be rotated both left side and right side. Check comments.<br><br>\n",
    "Time Complexity: O(logN)<br>\n",
    "Space Complexity: O(1)</p>"
   ]
  },
  {
   "cell_type": "code",
   "execution_count": 10,
   "metadata": {},
   "outputs": [
    {
     "name": "stdout",
     "output_type": "stream",
     "text": [
      "0\n"
     ]
    }
   ],
   "source": [
    "import sys\n",
    "def findMin(arr):\n",
    "    low = 0\n",
    "    high = len(arr) - 1\n",
    "    ans = sys.maxsize\n",
    "\n",
    "    while low <= high:\n",
    "        mid = (low + high) // 2\n",
    "\n",
    "        # search space is already sorted\n",
    "        # then arr[low] will always be\n",
    "        # the minimum in that search space:\n",
    "        if arr[low] <= arr[high]:\n",
    "            ans = min(ans, arr[low])\n",
    "            break\n",
    "            \n",
    "        if arr[low] <= arr[mid]:  # if left part is sorted\n",
    "            ans = min(ans, arr[low])  # keep the minimum\n",
    "            low = mid + 1  # eliminate left half\n",
    "\n",
    "        else:  # if right part is sorted\n",
    "            ans = min(ans, arr[mid])  # keep the minimum\n",
    "            high = mid - 1  # eliminate right half\n",
    "\n",
    "    return ans\n",
    "\n",
    "arr = [4, 5, 6, 7, 0, 1, 2, 3]\n",
    "print(findMin(arr))"
   ]
  },
  {
   "cell_type": "markdown",
   "metadata": {},
   "source": [
    "<h3>11. How many times is the array rotated</h3>\n",
    "<a href=\"https://www.geeksforgeeks.org/find-rotation-count-rotated-sorted-array/\">Problem Link</a>\n",
    "<p>Similar to minimum in a rotated sorted array. Just return index. Check comments<br><br>\n",
    "Time Complexity: O(logN)<br>\n",
    "Space Complexity: O(1)</p>"
   ]
  },
  {
   "cell_type": "code",
   "execution_count": 11,
   "metadata": {},
   "outputs": [
    {
     "name": "stdout",
     "output_type": "stream",
     "text": [
      "The array is rotated 4 times.\n"
     ]
    }
   ],
   "source": [
    "import sys\n",
    "def findKRotation(arr):\n",
    "    low = 0\n",
    "    high = len(arr) - 1\n",
    "    ans = float('inf')\n",
    "    index = -1\n",
    "    while low <= high:\n",
    "        mid = (low + high) // 2\n",
    "\n",
    "        # If search space is already sorted,\n",
    "        # then arr[low] will always be\n",
    "        # the minimum in that search space\n",
    "        if arr[low] <= arr[high]:\n",
    "            if arr[low] < ans:\n",
    "                index = low\n",
    "                ans = arr[low]\n",
    "            break\n",
    "\n",
    "        # If left part is sorted\n",
    "        if arr[low] <= arr[mid]:\n",
    "            # Keep the minimum\n",
    "            if arr[low] < ans:\n",
    "                index = low\n",
    "                ans = arr[low]\n",
    "\n",
    "            # Eliminate left half\n",
    "            low = mid + 1\n",
    "        else:  # If right part is sorted\n",
    "            # Keep the minimum\n",
    "            if arr[mid] < ans:\n",
    "                index = mid\n",
    "                ans = arr[mid]\n",
    "\n",
    "            # Eliminate right half\n",
    "            high = mid - 1\n",
    "\n",
    "    return index\n",
    "\n",
    "if __name__ == \"__main__\":\n",
    "    arr = [4, 5, 6, 7, 0, 1, 2, 3]\n",
    "    ans = findKRotation(arr)\n",
    "    print(\"The array is rotated\", ans, \"times.\")"
   ]
  },
  {
   "cell_type": "markdown",
   "metadata": {},
   "source": [
    "<h3>12. Search Single Element in a sorted array</h3>\n",
    "<a href=\"https://leetcode.com/problems/single-element-in-a-sorted-array/description/\">Problem Link</a>\n",
    "<p>Check comments<br><br>\n",
    "Time Complexity: O(logN)<br>\n",
    "Space Complexity: O(1)</p>"
   ]
  },
  {
   "cell_type": "code",
   "execution_count": 12,
   "metadata": {},
   "outputs": [
    {
     "name": "stdout",
     "output_type": "stream",
     "text": [
      "The single element is: 4\n"
     ]
    }
   ],
   "source": [
    "def singleNonDuplicate(arr):\n",
    "    n = len(arr)  # Size of the array\n",
    "\n",
    "    # Edge cases:\n",
    "    if n == 1:\n",
    "        return arr[0]\n",
    "    if arr[0] != arr[1]:\n",
    "        return arr[0]\n",
    "    if arr[n - 1] != arr[n - 2]:\n",
    "        return arr[n - 1]\n",
    "\n",
    "    low = 1\n",
    "    high = n - 2\n",
    "    while low <= high:\n",
    "        mid = (low + high) // 2\n",
    "\n",
    "        # If arr[mid] is the single element:\n",
    "        if arr[mid] != arr[mid + 1] and arr[mid] != arr[mid - 1]:\n",
    "            return arr[mid]\n",
    "\n",
    "        # We are in the left:\n",
    "        if (mid % 2 == 1 and arr[mid] == arr[mid - 1]) or (mid % 2 == 0 and arr[mid] == arr[mid + 1]):\n",
    "            # Eliminate the left half:\n",
    "            low = mid + 1\n",
    "        # We are in the right:\n",
    "        else:\n",
    "            # Eliminate the right half:\n",
    "            high = mid - 1\n",
    "\n",
    "    # Dummy return statement:\n",
    "    return -1\n",
    "\n",
    "arr = [1, 1, 2, 2, 3, 3, 4, 5, 5, 6, 6]\n",
    "ans = singleNonDuplicate(arr)\n",
    "print(\"The single element is:\", ans)\n"
   ]
  },
  {
   "cell_type": "markdown",
   "metadata": {},
   "source": [
    "<h3>13. Find peak element</h3>\n",
    "<a href=\"https://leetcode.com/problems/find-peak-element/description/\">Problem Link</a>\n",
    "<p>Check comments<br><br>\n",
    "Time Complexity: O(logN)<br>\n",
    "Space Complexity: O(1)</p>"
   ]
  },
  {
   "cell_type": "code",
   "execution_count": 13,
   "metadata": {},
   "outputs": [
    {
     "name": "stdout",
     "output_type": "stream",
     "text": [
      "The peak is at index: 7\n"
     ]
    }
   ],
   "source": [
    "def findPeakElement(arr):\n",
    "    n = len(arr)  # Size of the array\n",
    "\n",
    "    # Edge cases:\n",
    "    if n == 1:\n",
    "        return 0\n",
    "    if arr[0] > arr[1]:\n",
    "        return 0\n",
    "    if arr[n - 1] > arr[n - 2]:\n",
    "        return n - 1\n",
    "\n",
    "    low = 1\n",
    "    high = n - 2\n",
    "    while low <= high:\n",
    "        mid = (low + high) // 2\n",
    "\n",
    "        # If arr[mid] is the peak:\n",
    "        if arr[mid - 1] < arr[mid] and arr[mid] > arr[mid + 1]:\n",
    "            return mid\n",
    "\n",
    "        # If we are in the left:\n",
    "        if arr[mid] > arr[mid - 1]:\n",
    "            low = mid + 1\n",
    "\n",
    "        # If we are in the right:\n",
    "        # Or, arr[mid] is a common point:\n",
    "        else:\n",
    "            high = mid - 1\n",
    "\n",
    "    # Dummy return statement\n",
    "    return -1\n",
    "\n",
    "\n",
    "arr = [1, 2, 3, 4, 5, 6, 7, 8, 5, 1]\n",
    "ans = findPeakElement(arr)\n",
    "print(\"The peak is at index:\", ans)"
   ]
  }
 ],
 "metadata": {
  "kernelspec": {
   "display_name": "Python 3",
   "language": "python",
   "name": "python3"
  },
  "language_info": {
   "codemirror_mode": {
    "name": "ipython",
    "version": 3
   },
   "file_extension": ".py",
   "mimetype": "text/x-python",
   "name": "python",
   "nbconvert_exporter": "python",
   "pygments_lexer": "ipython3",
   "version": "3.12.4"
  }
 },
 "nbformat": 4,
 "nbformat_minor": 2
}
