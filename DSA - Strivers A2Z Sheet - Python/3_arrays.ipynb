{
 "cells": [
  {
   "cell_type": "markdown",
   "metadata": {},
   "source": [
    "<h1>Arrays</h1>"
   ]
  },
  {
   "cell_type": "markdown",
   "metadata": {},
   "source": [
    "<h2>Easy</h2>"
   ]
  },
  {
   "cell_type": "markdown",
   "metadata": {},
   "source": [
    "<h3>1. Largest element in an array</h3>\n",
    "<a href=\"https://www.geeksforgeeks.org/problems/largest-element-in-array4009/0\">Problem link </a>\n",
    "<p>Time complexity: O(N) <br>\n",
    "Space complexity: O(1)</p>"
   ]
  },
  {
   "cell_type": "code",
   "execution_count": 1,
   "metadata": {},
   "outputs": [
    {
     "name": "stdout",
     "output_type": "stream",
     "text": [
      "67\n"
     ]
    }
   ],
   "source": [
    "def largestElement(arr: []) -> int:\n",
    "    # Write your code from here.\n",
    "    largest = arr[0]\n",
    "    for i in range(1,len(arr)):\n",
    "        if arr[i] > largest:\n",
    "            largest = arr[i]\n",
    "    return largest\n",
    "print(largestElement([2, 4, 7, 34, 67, 4, 9]))"
   ]
  },
  {
   "cell_type": "markdown",
   "metadata": {},
   "source": [
    "<h3>2. Second largest element in an array without sorting</h3>\n",
    "<a href=\"https://www.naukri.com/code360/problems/second-largest-element-in-the-array_873375\">Problem link </a>\n",
    "<p>If element is larger than largest, note down new largest. If element is not larger than largest but larger than second largest, not it down. Similarly for smallest and second smallest.<br><br>\n",
    "Time complexity: O(N) <br>\n",
    "Space complexity: O(1)</p>"
   ]
  },
  {
   "cell_type": "code",
   "execution_count": 2,
   "metadata": {},
   "outputs": [
    {
     "name": "stdout",
     "output_type": "stream",
     "text": [
      "[34, 4]\n"
     ]
    }
   ],
   "source": [
    "def getSecondOrderElements(n: int,  a: [int]) -> [int]:\n",
    "    # Write your code here.\n",
    "    if n < 2:\n",
    "        return None\n",
    "    \n",
    "    largest = a[0]\n",
    "    slargest = -1\n",
    "    for i in range(1,n):\n",
    "        if a[i] > largest:\n",
    "            slargest = largest\n",
    "            largest = a[i]\n",
    "        elif a[i] < largest and a[i] > slargest:\n",
    "            slargest = a[i]\n",
    "\n",
    "    smallest = a[0]\n",
    "    ssmallest = float('inf')\n",
    "    for i in range(1,n):\n",
    "        if a[i] < smallest:\n",
    "            ssmallest = smallest\n",
    "            smallest = a[i]\n",
    "        elif a[i] > smallest and a[i] < ssmallest:\n",
    "            ssmallest = a[i]\n",
    "    \n",
    "    return [slargest, ssmallest]\n",
    "\n",
    "print(getSecondOrderElements(n=7,a=[2, 4, 7, 34, 67, 4, 9]))"
   ]
  },
  {
   "cell_type": "markdown",
   "metadata": {},
   "source": [
    "<h3>3. Check if the array is sorted</h3>\n",
    "<a href=\"https://leetcode.com/problems/check-if-array-is-sorted-and-rotated/description/\">Problem link </a>\n",
    "<p>Check if element before the current element is ≥ the current element<br><br>Time complexity: O(N) <br>\n",
    "Space complexity: O(1)</p>"
   ]
  },
  {
   "cell_type": "code",
   "execution_count": 3,
   "metadata": {},
   "outputs": [
    {
     "name": "stdout",
     "output_type": "stream",
     "text": [
      "0\n"
     ]
    }
   ],
   "source": [
    "def isSorted(n: int,  a: [int]) -> int:\n",
    "    # Write your code here.\n",
    "    for i in range(1,n):\n",
    "        if a[i] >= a[i-1]:\n",
    "            continue\n",
    "        else:\n",
    "            return 0\n",
    "    return 1\n",
    "print(isSorted(n=7,a=[2, 4, 7, 34, 67, 4, 9]))"
   ]
  },
  {
   "cell_type": "code",
   "execution_count": 4,
   "metadata": {},
   "outputs": [
    {
     "name": "stdout",
     "output_type": "stream",
     "text": [
      "False\n"
     ]
    }
   ],
   "source": [
    "#leetcode\n",
    "class Solution:\n",
    "    def check(nums) -> bool:\n",
    "        op = 0\n",
    "        l = len(nums)\n",
    "        for i in range(l):\n",
    "            if nums[(i+1)%l] >= nums[i]: \n",
    "                pass\n",
    "            else:\n",
    "                op += 1\n",
    "                if op > 1:\n",
    "                    return False\n",
    "        else:\n",
    "            return True\n",
    "nums = [2, 4, 7, 34, 67, 4, 9]\n",
    "print(Solution.check(nums))"
   ]
  },
  {
   "cell_type": "markdown",
   "metadata": {},
   "source": [
    "<h3>4. Remove duplicates from sorted array</h3>\n",
    "<a href=\"https://leetcode.com/problems/remove-duplicates-from-sorted-array/description/\">Problem link </a>\n",
    "<p>As we find unique element, we update nums[j] to i+1 index and then increment i<br><br>Time complexity: O(N) <br>\n",
    "Space complexity: O(1)</p>"
   ]
  },
  {
   "cell_type": "code",
   "execution_count": 5,
   "metadata": {},
   "outputs": [
    {
     "name": "stdout",
     "output_type": "stream",
     "text": [
      "7\n"
     ]
    }
   ],
   "source": [
    "#leetcode\n",
    "class Solution:\n",
    "    def removeDuplicates(nums) -> int:\n",
    "        i = 0 \n",
    "        for j in range(1,len(nums)):\n",
    "            if nums[i] != nums[j]:\n",
    "                nums[i+1] = nums[j]\n",
    "                i = i + 1\n",
    "        return i+1\n",
    "nums = [2, 4, 7, 34, 67, 4, 9, 9]\n",
    "print(Solution.removeDuplicates(nums))        "
   ]
  },
  {
   "cell_type": "markdown",
   "metadata": {},
   "source": [
    "<h3>5. Left rotate an array by one place</h3>\n",
    "<a href=\"https://leetcode.com/problems/rotate-array/description/\">Problem link </a>\n",
    "<p>Take first element and store it in temp, shift remaining elements by one index and add the temp in the last index position<br><br>Time complexity: O(N) <br>\n",
    "Space complexity: O(1)</p>"
   ]
  },
  {
   "cell_type": "code",
   "execution_count": 6,
   "metadata": {},
   "outputs": [
    {
     "name": "stdout",
     "output_type": "stream",
     "text": [
      "[4, 7, 34, 67, 4, 9, 2]\n"
     ]
    }
   ],
   "source": [
    "def rotateArray(arr: [], n: int) -> []:\n",
    "    # Write your code from here.\n",
    "    temp = arr[0]\n",
    "    for i in range(1,n):\n",
    "        arr[i-1] = arr[i]\n",
    "    arr[-1] = temp\n",
    "    return arr\n",
    "arr = [2, 4, 7, 34, 67, 4, 9]\n",
    "n = 7\n",
    "print(rotateArray(arr, n))"
   ]
  },
  {
   "cell_type": "code",
   "execution_count": 7,
   "metadata": {},
   "outputs": [
    {
     "name": "stdout",
     "output_type": "stream",
     "text": [
      "None\n",
      "[67, 4, 9, 2, 4, 7, 34]\n"
     ]
    }
   ],
   "source": [
    "#leetcode\n",
    "def rotate(nums, k) -> None:\n",
    "    \"\"\"\n",
    "    Do not return anything, modify nums in-place instead.\n",
    "    \"\"\"\n",
    "    n=len(nums)\n",
    "    k=k%n\n",
    "    k=n-k\n",
    "    nums[:]=nums[k:]+nums[:k]\n",
    "arr = [2, 4, 7, 34, 67, 4, 9]\n",
    "k = 3\n",
    "print(rotate(arr, k))\n",
    "print(arr)"
   ]
  },
  {
   "cell_type": "markdown",
   "metadata": {},
   "source": [
    "<h3>6. Left rotate an array by D places</h3>\n",
    "<a href=\"https://leetcode.com/problems/rotate-array/description/\">Problem link </a>\n",
    "<p>We first update k to k%(size of the array) in order to get the actual number of positions to shift the array if k is greater than the size of the array. Then simple python string comprehension.<br><br>Time complexity: O(N) <br>\n",
    "Space complexity: O(1)</p>"
   ]
  },
  {
   "cell_type": "code",
   "execution_count": 8,
   "metadata": {},
   "outputs": [
    {
     "name": "stdout",
     "output_type": "stream",
     "text": [
      "[34, 67, 4, 9, 2, 4, 7]\n"
     ]
    }
   ],
   "source": [
    "def rotateArray(arr: list, k: int) -> list:\n",
    "    # Write your code here.\n",
    "    n=len(arr)\n",
    "    k=k%n\n",
    "    arr=arr[k:]+arr[:k]\n",
    "    return arr\n",
    "arr = [2, 4, 7, 34, 67, 4, 9]\n",
    "k = 3\n",
    "print(rotateArray(arr, k))"
   ]
  },
  {
   "cell_type": "markdown",
   "metadata": {},
   "source": [
    "<h3>7. Move zeros to end</h3>\n",
    "<a href=\"https://leetcode.com/problems/move-zeroes/description/\">Problem link </a>\n",
    "<p>Find the first index with 0 with pointer j, if j is not the last index find the first index without zero and swap. Then increment j to find the next index that has 0<br> <br>\n",
    "Time complexity: O(N) - with these 2 loops we are traversing the list only once\n",
    "Space complexity: O(1)</p>"
   ]
  },
  {
   "cell_type": "code",
   "execution_count": 9,
   "metadata": {},
   "outputs": [
    {
     "name": "stdout",
     "output_type": "stream",
     "text": [
      "[3, 6, 4, 8, 6, 4, 0, 0, 0]\n"
     ]
    }
   ],
   "source": [
    "#leetcode\n",
    "def moveZeroes(nums) -> None:\n",
    "        \"\"\"\n",
    "        Do not return anything, modify nums in-place instead.\n",
    "        \"\"\"\n",
    "        j=-1\n",
    "        for i in range(len(nums)):\n",
    "            if nums[i] == 0:\n",
    "                j = i\n",
    "                break\n",
    "        if j != -1:\n",
    "            for i in range(j+1,len(nums)):\n",
    "                if nums[i] != 0:\n",
    "                    nums[i],nums[j] = nums[j],nums[i]\n",
    "                    j+=1\n",
    "        return nums\n",
    "print(moveZeroes([3,6,0,4,8,0,6,4,0]))"
   ]
  },
  {
   "cell_type": "markdown",
   "metadata": {},
   "source": [
    "<h3>8. Linear search</h3>\n",
    "<a href=\"https://www.naukri.com/code360/problems/linear-search_624470\">Problem link </a>\n",
    "<p>Time complexity: O(N) <br>\n",
    "Space complexity: O(1)</p>"
   ]
  },
  {
   "cell_type": "code",
   "execution_count": 10,
   "metadata": {},
   "outputs": [
    {
     "name": "stdout",
     "output_type": "stream",
     "text": [
      "2\n"
     ]
    }
   ],
   "source": [
    "def linearSearch(n: int, num: int, arr) -> int:\n",
    "    # Write your code here.\n",
    "    for i in range(n):\n",
    "        if arr[i] == num:\n",
    "            return i\n",
    "    return -1\n",
    "arr = [2, 4, 7, 34, 67, 4, 9]\n",
    "n = 7\n",
    "k = 7\n",
    "print(linearSearch(n, k, arr))"
   ]
  },
  {
   "cell_type": "markdown",
   "metadata": {},
   "source": [
    "<h3>9. Find the union</h3>\n",
    "<a href=\"https://www.geeksforgeeks.org/problems/union-of-two-arrays3538/1\">Problem link </a>\n",
    "<p>Iterate through two arrays and place the elements in order in a new array. Then remove duplicates<br><br>\n",
    "Time complexity: O(N+M) <br>\n",
    "Space complexity: O(1) if space of union array is not considered</p>"
   ]
  },
  {
   "cell_type": "code",
   "execution_count": 11,
   "metadata": {},
   "outputs": [
    {
     "name": "stdout",
     "output_type": "stream",
     "text": [
      "[1, 2, 3, 4, 5, 6, 7, 8, 9]\n"
     ]
    }
   ],
   "source": [
    "def sortedArray(a: [int], b: [int]) -> [int]:\n",
    "    # Write your code here\n",
    "    n1 = len(a)\n",
    "    n2 = len(b)\n",
    "    i = 0\n",
    "    j = 0\n",
    "    union = []\n",
    "    while(i<n1 and j<n2):\n",
    "        if a[i] <= b[j]:\n",
    "            union.append(a[i])\n",
    "            i+=1\n",
    "        else:\n",
    "            union.append(b[j])\n",
    "            j+=1\n",
    "    while(i<n1):\n",
    "        union.append(a[i])\n",
    "        i+=1\n",
    "    while(j<n2):\n",
    "        union.append(b[j])\n",
    "        j+=1\n",
    "    \n",
    "    #remove the duplicates \n",
    "    i=0\n",
    "    j=1\n",
    "    while j<len(union) and i<len(union):  \n",
    "        if union[i]==union[j]:\n",
    "            j+=1\n",
    "        else:\n",
    "            union[i+1]=union[j]\n",
    "            i+=1\n",
    "    union[:]=union[:i+1]\n",
    "        \n",
    "    return union\n",
    "a = [1, 2, 3, 4, 5, 6]\n",
    "b = [4, 5, 6, 7, 8, 9]\n",
    "print(sortedArray(a,b))"
   ]
  },
  {
   "cell_type": "markdown",
   "metadata": {},
   "source": [
    "<h3>10. Find the missing number in an array</h3>\n",
    "<a href=\"https://leetcode.com/problems/missing-number/description/\">Problem link </a>\n",
    "<p>a ^ a = 0 <br>\n",
    "(1 ^ 2 ^ 3) ^ (1 ^ 3) = 2<br><br>Time complexity: O(N) <br>\n",
    "Space complexity: O(1)</p>"
   ]
  },
  {
   "cell_type": "code",
   "execution_count": 12,
   "metadata": {},
   "outputs": [
    {
     "name": "stdout",
     "output_type": "stream",
     "text": [
      "3\n"
     ]
    }
   ],
   "source": [
    "#leetcode\n",
    "def missingNumber(nums) -> int:\n",
    "    xor = 0\n",
    "    for i in range(len(nums)):\n",
    "        xor = xor ^ nums[i]\n",
    "        xor = xor ^ (i+1)\n",
    "    return xor\n",
    "a = [0, 1, 2, 4, 5, 6]\n",
    "print(missingNumber(a))"
   ]
  },
  {
   "cell_type": "markdown",
   "metadata": {},
   "source": [
    "<h3>11. Maximum consecutive ones</h3>\n",
    "<a href=\"https://leetcode.com/problems/max-consecutive-ones/description/\">Problem link </a>\n",
    "<p>use maxx and counter variables<br><br>Time complexity: O(N) <br>\n",
    "Space complexity: O(1)</p>"
   ]
  },
  {
   "cell_type": "code",
   "execution_count": 13,
   "metadata": {},
   "outputs": [
    {
     "name": "stdout",
     "output_type": "stream",
     "text": [
      "3\n"
     ]
    }
   ],
   "source": [
    "#leetcode\n",
    "def findMaxConsecutiveOnes( nums) -> int:\n",
    "    maxx = 0\n",
    "    counter = 0\n",
    "    n = len(nums)\n",
    "    for i in range(n):\n",
    "        if nums[i] == 1:\n",
    "            counter += 1\n",
    "            if counter >= maxx:\n",
    "                maxx = counter\n",
    "        else:\n",
    "            counter = 0\n",
    "    return maxx\n",
    "print(findMaxConsecutiveOnes([2,1,1,5,1,6,1,1,1,15,6,9,1]))"
   ]
  },
  {
   "cell_type": "markdown",
   "metadata": {},
   "source": [
    "<h3>12. Find the number that appears once</h3>\n",
    "<a href=\"https://leetcode.com/problems/single-number/description/\">Problem link </a>\n",
    "<p>Use XOR<br><br>Time complexity: O(N) <br>\n",
    "Space complexity: O(1)</p>"
   ]
  },
  {
   "cell_type": "code",
   "execution_count": 14,
   "metadata": {},
   "outputs": [
    {
     "name": "stdout",
     "output_type": "stream",
     "text": [
      "2\n"
     ]
    }
   ],
   "source": [
    "#leetcode\n",
    "def singleNumber(nums) -> int:\n",
    "    xor = 0\n",
    "    for i in range(len(nums)):\n",
    "        xor = xor ^ nums[i]\n",
    "    return xor\n",
    "print(singleNumber([1,4,6,6,4,2,1,1,1]))"
   ]
  },
  {
   "cell_type": "markdown",
   "metadata": {},
   "source": [
    "<h3>13. Longest subarray with given sum K(positives)</h3>\n",
    "<a href=\"https://www.geeksforgeeks.org/problems/longest-sub-array-with-sum-k0809/1?utm_source=youtube&utm_medium=collab_striver_ytdescription&utm_campaign=longest-sub-array-with-sum-k\">Problem link </a>\n",
    "<p>use 2 pointers left and right, if the summ is greater than k subtract element left from the summ and increament left. If summ == k then get maxlen , else increment right and add its element in summ<br><br>\n",
    "Time complexity: O(N)<br>\n",
    "Space complexity: O(1)  - The outer while loop i.e. the right pointer can move up to index n-1(the last index). Now, the inner while loop i.e. the left pointer can move up to the right pointer at most. So, every time the inner loop does not run for n times rather it can run for n times in total. So, the time complexity will be O(2*N) instead of O(N2).</p>"
   ]
  },
  {
   "cell_type": "code",
   "execution_count": 15,
   "metadata": {},
   "outputs": [
    {
     "name": "stdout",
     "output_type": "stream",
     "text": [
      "3\n"
     ]
    }
   ],
   "source": [
    "def longestSubarrayWithSumK(a: [int], k: int) -> int:\n",
    "    # Write your code here\n",
    "    left = 0\n",
    "    right = 0\n",
    "    summ = a[0]\n",
    "    maxLen = 0\n",
    "    n = len(a)\n",
    "    while(right<n):\n",
    "        while(summ > k):\n",
    "            summ = summ - a[left]\n",
    "            left += 1\n",
    "        if summ == k:\n",
    "                if maxLen < right-left+1:\n",
    "                    maxLen = right-left+1\n",
    "        right = right + 1\n",
    "        if right < n:\n",
    "            summ = summ + a[right]\n",
    "    return maxLen\n",
    "print(longestSubarrayWithSumK([1,4,6,6,4,2,1,1,1],7))"
   ]
  },
  {
   "cell_type": "markdown",
   "metadata": {},
   "source": [
    "<h3>14. Longest subarray with given sum K(positives + negatives)</h3>\n",
    "<a href=\"https://www.geeksforgeeks.org/problems/longest-sub-array-with-sum-k0809/1?utm_source=youtube&utm_medium=collab_striver_ytdescription&utm_campaign=longest-sub-array-with-sum-k\">Problem link </a>\n",
    "<p>Time complexity: O(N) <br>\n",
    "Space complexity: O(N)</p>"
   ]
  },
  {
   "cell_type": "code",
   "execution_count": 16,
   "metadata": {},
   "outputs": [
    {
     "name": "stdout",
     "output_type": "stream",
     "text": [
      "5\n"
     ]
    }
   ],
   "source": [
    "def getLongestSubarray(a: [int], k: int) -> int:\n",
    "    n = len(a) # size of the array.\n",
    "\n",
    "    preSumMap = {}\n",
    "    Sum = 0\n",
    "    maxLen = 0\n",
    "    for i in range(n):\n",
    "        # calculate the prefix sum till index i:         [3, 2, 7, 9, 5, 7, 9, -3, -5]\n",
    "        Sum += a[i]\n",
    "\n",
    "        # if the sum = k, update the maxLen:\n",
    "        if Sum == k:\n",
    "            maxLen = max(maxLen, i + 1)\n",
    "\n",
    "        # calculate the sum of remaining part i.e. x-k:\n",
    "        rem = Sum - k\n",
    "\n",
    "        # Calculate the length and update maxLen:\n",
    "        if rem in preSumMap:\n",
    "            length = i - preSumMap[rem]\n",
    "            maxLen = max(maxLen, length)\n",
    "\n",
    "        # Finally, update the map checking the conditions:\n",
    "        if Sum not in preSumMap:\n",
    "            preSumMap[Sum] = i\n",
    "\n",
    "    return maxLen\n",
    "print(getLongestSubarray([1,8,-5,4,6,-1,6,-4,4,2,1,1,1],7))"
   ]
  },
  {
   "cell_type": "markdown",
   "metadata": {},
   "source": [
    "<h2>Medium</h2>"
   ]
  },
  {
   "cell_type": "markdown",
   "metadata": {},
   "source": [
    "<h3>1. 2 sum problem</h3>\n",
    "<a href=\"https://leetcode.com/problems/two-sum/description/\">Problem Link</a>\n",
    "<p>Time complexity: O(N)<br>\n",
    "Space complexity: O(N)\n",
    "<p>"
   ]
  },
  {
   "cell_type": "code",
   "execution_count": 17,
   "metadata": {},
   "outputs": [
    {
     "name": "stdout",
     "output_type": "stream",
     "text": [
      "YES\n"
     ]
    }
   ],
   "source": [
    "def read(n: int, book: [int], target: int) -> str:\n",
    "    # Write your code here.\n",
    "    left = 0\n",
    "    right = n-1\n",
    "    book.sort()\n",
    "    while left<right:\n",
    "        summ = book[left] + book[right]\n",
    "        if summ == target:\n",
    "            return 'YES'\n",
    "        elif summ > target:\n",
    "            right -= 1\n",
    "        else:\n",
    "            left += 1\n",
    "    return 'NO'\n",
    "print(read(5,[1,2,4,5,2], 3))"
   ]
  },
  {
   "cell_type": "code",
   "execution_count": 18,
   "metadata": {},
   "outputs": [
    {
     "name": "stdout",
     "output_type": "stream",
     "text": [
      "[0, 1]\n"
     ]
    }
   ],
   "source": [
    "#leetcode\n",
    "def twoSum( nums, target: int):\n",
    "    numMap = {}\n",
    "    n = len(nums)\n",
    "    for i in range(n):\n",
    "        complement = target - nums[i]\n",
    "        if complement in numMap:\n",
    "            return [numMap[complement], i]\n",
    "        numMap[nums[i]] = i\n",
    "    return []\n",
    "print(twoSum([1,2,4,5,2], 3))"
   ]
  },
  {
   "cell_type": "markdown",
   "metadata": {},
   "source": [
    "<h3>2. Sort an array of 0’s 1’s and 2’s</h3>\n",
    "<a href=\"https://leetcode.com/problems/sort-colors/description/\">Problem Link</a>\n",
    "<p>3 pointer concept, low - mid - high. if mid is 0 swap with low and increment both, if mid is 1 increment mid, if mid is 2 swap with high and decrement high<br><br>Time complexity: O(N)<br>\n",
    "Space complexity: O(1)\n",
    "<p>"
   ]
  },
  {
   "cell_type": "code",
   "execution_count": 19,
   "metadata": {},
   "outputs": [
    {
     "name": "stdout",
     "output_type": "stream",
     "text": [
      "[0, 0, 1, 1, 1, 2, 2, 2]\n"
     ]
    }
   ],
   "source": [
    "#leetcode\n",
    "def sortColors(nums):\n",
    "    \"\"\"\n",
    "    Do not return anything, modify nums in-place instead.\n",
    "    \"\"\"\n",
    "    n = len(nums)\n",
    "    low = 0\n",
    "    mid = 0\n",
    "    high = n-1\n",
    "    while mid<=high:\n",
    "        if nums[mid] == 0:\n",
    "            nums[mid],nums[low] = nums[low],nums[mid]\n",
    "            mid += 1\n",
    "            low += 1\n",
    "        elif nums[mid] == 1:\n",
    "            mid += 1\n",
    "        else:\n",
    "            nums[mid],nums[high] = nums[high],nums[mid]\n",
    "            high -= 1\n",
    "    return nums\n",
    "print(sortColors([0,2,2,1,0,1,2,1]))"
   ]
  },
  {
   "cell_type": "markdown",
   "metadata": {},
   "source": [
    "<h3>3. Majority elements (>n/2 times)</h3>\n",
    "<a href=\"https://leetcode.com/problems/majority-element/description/\">Problem Link</a>\n",
    "<p>Counter and element,  find the maximum repeated element. Find how many times it appears and check if it is >n/2<br><br>Time complexity: O(N)<br>\n",
    "Space complexity: O(1)\n",
    "<p>"
   ]
  },
  {
   "cell_type": "code",
   "execution_count": 20,
   "metadata": {},
   "outputs": [
    {
     "name": "stdout",
     "output_type": "stream",
     "text": [
      "2\n"
     ]
    }
   ],
   "source": [
    "#leetcode\n",
    "def majorityElement(nums) -> int:\n",
    "    n = len(nums)\n",
    "    cnt = 0\n",
    "    el = None\n",
    "    for i in range(n):\n",
    "        if cnt == 0:\n",
    "            cnt = 1\n",
    "            el = nums[i]\n",
    "        elif nums[i] == el:\n",
    "            cnt += 1\n",
    "        else:\n",
    "            cnt -= 1\n",
    "    cnt1 = 0\n",
    "    for i in range(n):\n",
    "        if nums[i] == el:\n",
    "            cnt1 += 1\n",
    "    if cnt1 > n/2:\n",
    "        return el\n",
    "    return -1\n",
    "print(majorityElement([0,2,2,1,0,1,2,2,1,2,2,2]))"
   ]
  },
  {
   "cell_type": "markdown",
   "metadata": {},
   "source": [
    "<h3>4. Kadane’s algorithm, maximum subarray sum</h3>\n",
    "<a href=\"https://leetcode.com/problems/maximum-subarray/description/\">Problem Link</a>\n",
    "<p>Iterate through the loop while collecting summation, if at any point summation is less than 0 assign sum as 0 as we are looking for maximum sub array sum. This is kadane’s algorithm<br><br>Time complexity: O(N)<br>\n",
    "Space complexity: O(1)\n",
    "<p>"
   ]
  },
  {
   "cell_type": "code",
   "execution_count": 21,
   "metadata": {},
   "outputs": [
    {
     "name": "stdout",
     "output_type": "stream",
     "text": [
      "50\n"
     ]
    }
   ],
   "source": [
    "def maxSubarraySum(arr, n) :\n",
    "\n",
    "\t# Your code here\n",
    "    # return the answer\n",
    "    summ = 0\n",
    "    maxi = arr[0]\n",
    "    for i in range(n):\n",
    "        summ += arr[i]\n",
    "        if summ > maxi :\n",
    "            maxi = summ\n",
    "        if summ < 0:\n",
    "            summ = 0\n",
    "    if maxi < 0:\n",
    "        return 0\n",
    "    else:\n",
    "        return maxi\n",
    "print(maxSubarraySum([2,1,1,5,1,6,1,1,1,15,6,9,1], 13))"
   ]
  },
  {
   "cell_type": "code",
   "execution_count": 22,
   "metadata": {},
   "outputs": [
    {
     "name": "stdout",
     "output_type": "stream",
     "text": [
      "50\n"
     ]
    }
   ],
   "source": [
    "#leetcode\n",
    "def maxSubArray(nums) -> int:\n",
    "    n =len(nums)\n",
    "    summ = 0\n",
    "    maxi = nums[0]\n",
    "    for i in range(n):\n",
    "        summ += nums[i]\n",
    "        if summ > maxi:\n",
    "            maxi = summ\n",
    "        if summ < 0:\n",
    "            summ = 0\n",
    "    return maxi\n",
    "print(maxSubArray([2,1,1,5,1,6,1,1,1,15,6,9,1]))"
   ]
  },
  {
   "cell_type": "markdown",
   "metadata": {},
   "source": [
    "<h3>5. Print subarray with maximum sub array sum</h3>\n",
    "<a href=\"https://leetcode.com/problems/maximum-subarray/description/\">Problem Link</a>\n",
    "<p>Use kadane’s algorithm with start and end pointers.<br><br>Time complexity: O(N)<br>\n",
    "Space complexity: O(1)\n",
    "<p>"
   ]
  },
  {
   "cell_type": "code",
   "execution_count": 23,
   "metadata": {},
   "outputs": [
    {
     "name": "stdout",
     "output_type": "stream",
     "text": [
      "None\n"
     ]
    }
   ],
   "source": [
    "import sys\n",
    "def maxSubarraySum(arr, n):\n",
    "    maxi = -sys.maxsize - 1  # maximum sum\n",
    "    sum = 0\n",
    "\n",
    "    start = 0\n",
    "    ansStart, ansEnd = -1, -1\n",
    "    for i in range(n):\n",
    "\n",
    "        if sum == 0:\n",
    "            start = i  # starting index\n",
    "\n",
    "        sum += arr[i]\n",
    "\n",
    "        if sum > maxi:\n",
    "            maxi = sum\n",
    "\n",
    "            ansStart = start\n",
    "            ansEnd = i\n",
    "\n",
    "        # If sum < 0: discard the sum calculated\n",
    "        if sum < 0:\n",
    "            sum = 0\n",
    "#You get the starting and ending indexes\n",
    "print(maxSubarraySum([2,1,1,5,1,2,6,9,1],8))"
   ]
  },
  {
   "cell_type": "markdown",
   "metadata": {},
   "source": [
    "<h3>6. Stock buy and sell</h3>\n",
    "<a href=\"https://leetcode.com/problems/best-time-to-buy-and-sell-stock/description/\">Problem Link</a>\n",
    "<p>et mini = first element, set maxprofit = 0. Run loop, cost will be current element - mini. maxprofit will be max of maxprofit and cost. mini will be min of mini and current price.<br><br>Time complexity: O(N)<br>\n",
    "Space complexity: O(1)\n",
    "<p>"
   ]
  },
  {
   "cell_type": "code",
   "execution_count": 24,
   "metadata": {},
   "outputs": [
    {
     "name": "stdout",
     "output_type": "stream",
     "text": [
      "8\n"
     ]
    }
   ],
   "source": [
    "#leetcode\n",
    "def maxProfit(prices) -> int:\n",
    "    n = len(prices)\n",
    "    mini = prices[0]\n",
    "    maxprofit = 0\n",
    "    for i in range(1,n):\n",
    "        cost = prices[i] - mini\n",
    "        maxprofit = max(maxprofit,cost)\n",
    "        mini = min(prices[i],mini)\n",
    "    return maxprofit\n",
    "print(maxProfit([2,1,1,5,1,2,6,9,1]))"
   ]
  },
  {
   "cell_type": "markdown",
   "metadata": {},
   "source": [
    "<h3>7. Rearrange the array with alternating positives and negatives</h3>\n",
    "<a href=\"https://leetcode.com/problems/rearrange-array-elements-by-sign/description/\">Problem Link</a>\n",
    "<p>Time complexity: O(N)<br>\n",
    "Space complexity: O(1)\n",
    "<p>"
   ]
  },
  {
   "cell_type": "code",
   "execution_count": 25,
   "metadata": {},
   "outputs": [
    {
     "name": "stdout",
     "output_type": "stream",
     "text": [
      "[3, -2, 1, -5, 2, -4]\n"
     ]
    }
   ],
   "source": [
    "def alternateNumbers(a):\n",
    "    # Write your code here.\n",
    "    n = len(a)\n",
    "    pos = []\n",
    "    neg = []\n",
    "    for i in range(n):\n",
    "        if a[i] < 0:\n",
    "            neg.append(a[i])\n",
    "        else:\n",
    "            pos.append(a[i])\n",
    "    \n",
    "    if len(pos) > len(neg):\n",
    "        for i in range(len(neg)):\n",
    "            a[2*i] = pos[i]\n",
    "            a[2*i+1] = neg[i]\n",
    "\n",
    "        index = len(neg) * 2\n",
    "        for i in range(len(neg), len(pos)):\n",
    "            a[index] = pos[i]\n",
    "            index += 1\n",
    "    \n",
    "    else:\n",
    "        for i in range(len(pos)):\n",
    "            a[2*i] = pos[i]\n",
    "            a[2*i+1] = neg[i]\n",
    "\n",
    "        index = len(pos) * 2\n",
    "        for i in range(len(pos), len(neg)):\n",
    "            a[index] = neg[i]\n",
    "            index += 1        \n",
    "    return a\n",
    "nums = [3,1,-2,-5,2,-4]\n",
    "print(alternateNumbers(nums))"
   ]
  },
  {
   "cell_type": "code",
   "execution_count": 26,
   "metadata": {},
   "outputs": [
    {
     "name": "stdout",
     "output_type": "stream",
     "text": [
      "[3, -2, 1, -5, 2, -4]\n"
     ]
    }
   ],
   "source": [
    "#leetcode\n",
    "def rearrangeArray(nums):\n",
    "    n = len(nums)\n",
    "    posIndex = 0\n",
    "    negIndex = 1\n",
    "    ans = [0] * n\n",
    "    for i in range(n):\n",
    "        if nums[i] < 0:\n",
    "            ans[negIndex] = nums[i]\n",
    "            negIndex += 2\n",
    "        else:\n",
    "            ans[posIndex] = nums[i]\n",
    "            posIndex += 2\n",
    "    return ans\n",
    "nums = [3,1,-2,-5,2,-4]\n",
    "print(rearrangeArray(nums))"
   ]
  },
  {
   "cell_type": "markdown",
   "metadata": {},
   "source": [
    "<h3>8. Next greatest permutation</h3>\n",
    "<a href=\"https://leetcode.com/problems/next-permutation/description/\">Problem Link</a>\n",
    "<p>Find the first index lesser than the elements to the right. and break. Find the next immediately largest element in the right side of the array and swap with first index. Now reverse the right side of the array to get the answer.<br><br>Time complexity: O(N)<br>\n",
    "Space complexity: O(1)\n",
    "<p>"
   ]
  },
  {
   "cell_type": "code",
   "execution_count": 27,
   "metadata": {},
   "outputs": [
    {
     "name": "stdout",
     "output_type": "stream",
     "text": [
      "[1, 3, 2]\n"
     ]
    }
   ],
   "source": [
    "def nextGreaterPermutation(A):\n",
    "    # Write your code here.\n",
    "    n = len(A)\n",
    "    index = -1\n",
    "\n",
    "    for i in range(n-2,-1,-1):\n",
    "        if A[i] < A[i+1]:\n",
    "            index = i\n",
    "            break\n",
    "    \n",
    "    if index == -1:\n",
    "        A.reverse()\n",
    "        return A\n",
    "\n",
    "    for i in range(n-1,index,-1):\n",
    "        if A[i] > A[index]:\n",
    "            A[i],A[index] = A[index],A[i]\n",
    "            break\n",
    "\n",
    "    A[index+1:] = reversed(A[index+1:])\n",
    "    return A\n",
    "nums = [1,2,3]\n",
    "print(nextGreaterPermutation(nums))\n"
   ]
  },
  {
   "cell_type": "code",
   "execution_count": 28,
   "metadata": {},
   "outputs": [
    {
     "name": "stdout",
     "output_type": "stream",
     "text": [
      "[1, 3, 2]\n"
     ]
    }
   ],
   "source": [
    "#leetcode\n",
    "def nextPermutation(nums):\n",
    "    \"\"\"\n",
    "    Do not return anything, modify nums in-place instead.\n",
    "    \"\"\"\n",
    "    n = len(nums)\n",
    "    index = -1\n",
    "\n",
    "    for i in range(n-2,-1,-1):\n",
    "        if nums[i] < nums[i+1]:\n",
    "            index = i\n",
    "            break\n",
    "\n",
    "    if index == -1:\n",
    "        nums[:] = nums[::-1]\n",
    "        \n",
    "    else:\n",
    "        for i in range(n-1,index,-1):\n",
    "            if nums[i] > nums[index]:\n",
    "                nums[i],nums[index] = nums[index],nums[i]\n",
    "                break\n",
    "    \n",
    "        nums[:] = nums[:index+1] + nums[index+1:][::-1]\n",
    "    return nums\n",
    "nums = [1,2,3]\n",
    "print(nextPermutation(nums))"
   ]
  },
  {
   "cell_type": "markdown",
   "metadata": {},
   "source": [
    "<h3>9. Leaders in an array problem</h3>\n",
    "<a href=\"https://www.geeksforgeeks.org/problems/leaders-in-an-array-1587115620/1\">Problem Link</a>\n",
    "<p>Set maxi to 0 and reverse run a loop and if element is greater than maxi append to ans<br><br>Time complexity: O(N)<br>\n",
    "Space complexity: O(N)\n",
    "<p>"
   ]
  },
  {
   "cell_type": "code",
   "execution_count": 29,
   "metadata": {},
   "outputs": [
    {
     "name": "stdout",
     "output_type": "stream",
     "text": [
      "[2, 5, 17]\n"
     ]
    }
   ],
   "source": [
    "def superiorElements(a):\n",
    "    # Write your code here.\n",
    "    n = len(a)\n",
    "    maxi = 0\n",
    "    ans = []\n",
    "    for i in range(n-1,-1,-1):\n",
    "        if a[i] > maxi:\n",
    "            ans.append(a[i])\n",
    "        maxi = max(maxi,a[i])\n",
    "\n",
    "    ans.sort()\n",
    "    return ans\n",
    "arr = [16, 17, 4, 3, 5, 2]\n",
    "print(superiorElements(arr))"
   ]
  },
  {
   "cell_type": "markdown",
   "metadata": {},
   "source": [
    "<h3>10. Longest consecutive sequence in an array</h3>\n",
    "<a href=\"https://leetcode.com/problems/longest-consecutive-sequence/editorial/\">Problem Link</a>\n",
    "<p>“Don’t start counting from middle.” So add all the numbers in a set data structure, if element -1 does not exist in the set then start counting by assigning cnt to 1. Then find if element +1 exists in the set, if yes increament cnt and the temp variable x. find the max cnt<br><br>Time complexity: O(N)<br>\n",
    "Space complexity: O(N)\n",
    "<p>"
   ]
  },
  {
   "cell_type": "code",
   "execution_count": 30,
   "metadata": {},
   "outputs": [
    {
     "name": "stdout",
     "output_type": "stream",
     "text": [
      "4\n"
     ]
    }
   ],
   "source": [
    "#leetcode\n",
    "def longestConsecutive(nums) -> int:\n",
    "    n = len(nums)\n",
    "    if n == 0:\n",
    "        return 0\n",
    "\n",
    "    longest = 0\n",
    "    st = set()\n",
    "\n",
    "    for i in range(n):\n",
    "        st.add(nums[i])\n",
    "    \n",
    "    for it in st:\n",
    "        if it-1 not in st:\n",
    "            cnt = 1\n",
    "            x = it\n",
    "            while x+1 in st:\n",
    "                cnt += 1\n",
    "                x += 1\n",
    "            longest = max(longest,cnt)\n",
    "    return longest\n",
    "nums = [100,4,200,1,3,2]\n",
    "print(longestConsecutive(nums))"
   ]
  },
  {
   "cell_type": "markdown",
   "metadata": {},
   "source": [
    "<h3>11. Set matrix zeros</h3>\n",
    "<a href=\"https://leetcode.com/problems/set-matrix-zeroes/description/\">Problem Link</a>\n",
    "<p>First, we will traverse the matrix and mark the proper cells of 1st row and 1st column with 0 accordingly. The marking will be like this: if cell(i, j) contains 0, we will mark the i-th row i.e. matrix[i][0] with 0 and we will mark j-th column i.e. matrix[0][j] with 0.If i is 0, we will mark matrix[0][0] with 0 but if j is 0, we will mark the col0 variable with 0 instead of marking matrix[0][0] again.\n",
    "After step 1 is completed, we will modify the cells from (1,1) to (n-1, m-1) using the values from the 1st row, 1st column, and col0 variable.*We will not modify the 1st row and 1st column of the matrix here as the modification of the rest of the matrix(i.e. From (1,1) to (n-1, m-1)) is dependent on that row and column.\n",
    "Finally, we will change the 1st row and column using the values from matrix[0][0] and col0 variable. Here also we will change the row first and then the column.If matrix[0][0] = 0, we will change all the elements from the cell (0,1) to (0, m-1), to 0.If col0 = 0, we will change all the elements from the cell (0,0) to (n-1, 0), to 0.<br><br>Time complexity: O(NM)<br>\n",
    "Space complexity: O(1)\n",
    "<p>"
   ]
  },
  {
   "cell_type": "code",
   "execution_count": 31,
   "metadata": {},
   "outputs": [
    {
     "name": "stdout",
     "output_type": "stream",
     "text": [
      "[[0, 0, 0, 0], [0, 4, 5, 0], [0, 3, 1, 0]]\n"
     ]
    }
   ],
   "source": [
    "def zeroMatrix(matrix, n, m):\n",
    "    # Write your code here.\n",
    "    col0 = 1\n",
    "\n",
    "    for i in range(n):\n",
    "        for j in range(m):\n",
    "            if matrix[i][j] == 0:\n",
    "                matrix[i][0] = 0\n",
    "                if j != 0:\n",
    "                    matrix[0][j] = 0\n",
    "                else:\n",
    "                    col0 = 0\n",
    "\n",
    "    for i in range(1,n):\n",
    "        for j in range(1,m):\n",
    "            if matrix[i][j] != 0:\n",
    "                if matrix[i][0] == 0 or matrix[0][j] == 0:\n",
    "                    matrix[i][j] = 0\n",
    "    \n",
    "    if matrix[0][0] == 0:\n",
    "        for j in range(m):\n",
    "            matrix[0][j] = 0\n",
    "    if col0 == 0:\n",
    "        for i in range(n):\n",
    "            matrix[i][0] = 0\n",
    "    return matrix\n",
    "matrix = [[0,1,2,0],[3,4,5,2],[1,3,1,5]]\n",
    "n = 3\n",
    "m = 4\n",
    "print(zeroMatrix(matrix,n,m))"
   ]
  },
  {
   "cell_type": "code",
   "execution_count": 32,
   "metadata": {},
   "outputs": [
    {
     "name": "stdout",
     "output_type": "stream",
     "text": [
      "[[0, 0, 0, 0], [0, 4, 5, 0], [0, 3, 1, 0]]\n"
     ]
    }
   ],
   "source": [
    "#leetcode\n",
    "def setZeroes(matrix) -> None:\n",
    "    \"\"\"\n",
    "    Do not return anything, modify matrix in-place instead.\n",
    "    \"\"\"\n",
    "    n, m = len(matrix), len(matrix[0])\n",
    "    row = [0] * n\n",
    "    col = [0] * m\n",
    "    for i in range(n):\n",
    "        for j in range(m):\n",
    "            if matrix[i][j] == 0:\n",
    "                row[i] = 1\n",
    "                col[j] = 1\n",
    "\n",
    "    for i in range(n):\n",
    "        for j in range(m):\n",
    "            if row[i] or col[j]:\n",
    "                matrix[i][j] = 0\n",
    "    return matrix\n",
    "matrix = [[0,1,2,0],[3,4,5,2],[1,3,1,5]]\n",
    "print(setZeroes(matrix))"
   ]
  },
  {
   "cell_type": "code",
   "execution_count": 33,
   "metadata": {},
   "outputs": [
    {
     "name": "stdout",
     "output_type": "stream",
     "text": [
      "[[0, 0, 0, 0], [0, 4, 5, 0], [0, 3, 1, 0]]\n"
     ]
    }
   ],
   "source": [
    "class Solution:\n",
    "    def setZeroes(matrix) -> None:\n",
    "        \"\"\"\n",
    "        Do not return anything, modify matrix in-place instead.\n",
    "        \"\"\"\n",
    "        n, m = len(matrix), len(matrix[0])\n",
    "        col0 = 1\n",
    "\n",
    "        for i in range(n):\n",
    "            for j in range(m):\n",
    "                if matrix[i][j] == 0:\n",
    "                    matrix[i][0] = 0\n",
    "                    if j != 0:\n",
    "                        matrix[0][j] = 0\n",
    "                    else:\n",
    "                        col0 = 0\n",
    "\n",
    "        for i in range(1,n):\n",
    "            for j in range(1,m):\n",
    "                if matrix[i][j] != 0:\n",
    "                    if matrix[i][0] == 0 or matrix[0][j] == 0:\n",
    "                        matrix[i][j] = 0\n",
    "        \n",
    "        if matrix[0][0] == 0:\n",
    "            for j in range(m):\n",
    "                matrix[0][j] = 0\n",
    "        if col0 == 0:\n",
    "            for i in range(n):\n",
    "                matrix[i][0] = 0\n",
    "        return matrix\n",
    "matrix = [[0,1,2,0],[3,4,5,2],[1,3,1,5]]\n",
    "print(Solution.setZeroes(matrix))"
   ]
  },
  {
   "cell_type": "markdown",
   "metadata": {},
   "source": [
    "<h3>12. Rotate matrix by 90 degrees</h3>\n",
    "<a href=\"https://leetcode.com/problems/rotate-image/description/\">Problem Link</a>\n",
    "<p>Transpose the matrix by swapping the upper right triangle with the lower left triangle. Then reverse each row.<br><br>Time complexity: O(N)<br>\n",
    "Space complexity: O(1)\n",
    "<p>"
   ]
  },
  {
   "cell_type": "code",
   "execution_count": 34,
   "metadata": {},
   "outputs": [
    {
     "name": "stdout",
     "output_type": "stream",
     "text": [
      "[[1, 3, 0], [3, 4, 1], [1, 5, 2]]\n"
     ]
    }
   ],
   "source": [
    "#leetcode\n",
    "def rotate(matrix) -> None:\n",
    "    \"\"\"\n",
    "    Do not return anything, modify matrix in-place instead.\n",
    "    \"\"\"\n",
    "    n = len(matrix)\n",
    "\n",
    "    for i in range(n):\n",
    "        for j in range(i,n):\n",
    "            matrix[i][j],matrix[j][i] = matrix[j][i],matrix[i][j]\n",
    "\n",
    "    for i in range(n):\n",
    "        matrix[i] = matrix[i][::-1]\n",
    "\n",
    "    return matrix\n",
    "matrix = [[0,1,2],[3,4,5],[1,3,1]]\n",
    "print(rotate(matrix))\n"
   ]
  },
  {
   "cell_type": "markdown",
   "metadata": {},
   "source": [
    "<h3>13. Print the matrix in spiral manner</h3>\n",
    "<a href=\"https://leetcode.com/problems/spiral-matrix/description/\">Problem Link</a>\n",
    "<p>Set top and left to 0 and bottom and right to n-1 and m-1 respectively.  First loop - top row from left to right and increment top, second loop - right row from top to bottom and decrement right, third loop - bottom row from right to left and decrement bottom, forth loop - left row from bottom to top and increment left.<br><br>Time complexity: O(MN)<br>\n",
    "Space complexity: O(N)\n",
    "<p>"
   ]
  },
  {
   "cell_type": "code",
   "execution_count": 35,
   "metadata": {},
   "outputs": [
    {
     "name": "stdout",
     "output_type": "stream",
     "text": [
      "[0, 1, 2, 5, 1, 3, 1, 3, 4]\n"
     ]
    }
   ],
   "source": [
    "def spiralMatrix(matrix):\n",
    "    # Write your code here.\n",
    "    n = len(matrix)\n",
    "    m = len(matrix[0])\n",
    "\n",
    "    ans = []\n",
    "\n",
    "    top = 0\n",
    "    left = 0\n",
    "    bottom = n-1\n",
    "    right = m-1\n",
    "\n",
    "    while top<=bottom and left<=right:\n",
    "        for i in range(left,right+1):\n",
    "            ans.append(matrix[top][i])\n",
    "        top += 1\n",
    "\n",
    "        for i in range(top,bottom+1):\n",
    "            ans.append(matrix[i][right])\n",
    "        right -= 1\n",
    "\n",
    "        if top<=bottom:\n",
    "            for i in range(right,left-1,-1):\n",
    "                ans.append(matrix[bottom][i])\n",
    "            bottom -= 1\n",
    "\n",
    "        if left<=right:\n",
    "            for i in range(bottom,top-1,-1):\n",
    "                ans.append(matrix[i][left])\n",
    "            left += 1\n",
    "\n",
    "    return ans\n",
    "matrix = [[0,1,2],[3,4,5],[1,3,1]]\n",
    "print(spiralMatrix(matrix))"
   ]
  },
  {
   "cell_type": "code",
   "execution_count": 36,
   "metadata": {},
   "outputs": [
    {
     "name": "stdout",
     "output_type": "stream",
     "text": [
      "[0, 1, 2, 5, 1, 3, 1, 3, 4]\n"
     ]
    }
   ],
   "source": [
    "#leetcode\n",
    "def spiralOrder(self, matrix):\n",
    "    n = len(matrix)\n",
    "    m = len(matrix[0])\n",
    "    \n",
    "    top = 0\n",
    "    left = 0\n",
    "    bottom = n-1\n",
    "    right = m-1\n",
    "\n",
    "    ans = []\n",
    "\n",
    "    while left<=right and top<=bottom:\n",
    "        for i in range(left,right+1):\n",
    "            ans.append(matrix[top][i])\n",
    "        top += 1\n",
    "\n",
    "        for i in range(top,bottom+1):\n",
    "            ans.append(matrix[i][right])\n",
    "        right -= 1\n",
    "\n",
    "        if top <= bottom: #for single row check\n",
    "            for i in range(right,left-1,-1):\n",
    "                ans.append(matrix[bottom][i])\n",
    "            bottom -= 1\n",
    "\n",
    "        if left<=right: #for single column check\n",
    "            for i in range(bottom,top-1,-1):\n",
    "                ans.append(matrix[i][left])\n",
    "            left += 1\n",
    "\n",
    "    return ans\n",
    "matrix = [[0,1,2],[3,4,5],[1,3,1]]\n",
    "print(spiralMatrix(matrix))"
   ]
  },
  {
   "cell_type": "markdown",
   "metadata": {},
   "source": [
    "<h3>14. Count subarrays with given sum</h3>\n",
    "<a href=\"https://leetcode.com/problems/subarray-sum-equals-k/description/\">Problem Link</a>\n",
    "<p>Initialize map d = {0:1} Get the prefix sum, find remove is in d, if it is in d then result += d[remove]. If current prefixsum is not in d then d[prefixsum] = 1 else increament cnt of prefixsum<br><br>Time complexity: O(N)<br>\n",
    "Space complexity: O(N)\n",
    "<p>"
   ]
  },
  {
   "cell_type": "code",
   "execution_count": 37,
   "metadata": {},
   "outputs": [
    {
     "name": "stdout",
     "output_type": "stream",
     "text": [
      "2\n"
     ]
    }
   ],
   "source": [
    "def findAllSubarraysWithGivenSum(arr, s):\n",
    "    # Write your code here.\n",
    "    result = 0\n",
    "    prefixSum = 0\n",
    "    d = {0:1}\n",
    "\n",
    "    for num in arr:\n",
    "        prefixSum = prefixSum + num\n",
    "\n",
    "        if prefixSum - s in d:\n",
    "            result = result + d[prefixSum - s]\n",
    "        if prefixSum not in d:\n",
    "            d[prefixSum] = 1\n",
    "        else:\n",
    "            d[prefixSum] = d[prefixSum] + 1\n",
    "\n",
    "    return result\n",
    "nums = [1,1,1]\n",
    "k = 2\n",
    "print(findAllSubarraysWithGivenSum(nums,k))\n"
   ]
  },
  {
   "cell_type": "code",
   "execution_count": 38,
   "metadata": {},
   "outputs": [
    {
     "name": "stdout",
     "output_type": "stream",
     "text": [
      "2\n"
     ]
    }
   ],
   "source": [
    "#leetcode\n",
    "def subarraySum(nums, k):\n",
    "    cnt = 0\n",
    "    prefixSum = 0\n",
    "    d = {0 : 1}\n",
    "\n",
    "    for num in nums:\n",
    "        prefixSum = prefixSum + num\n",
    "        remove = prefixSum - k\n",
    "        \n",
    "        if remove in d:\n",
    "            cnt += d[remove]\n",
    "\n",
    "        if prefixSum not in d:\n",
    "            d[prefixSum] = 1\n",
    "        else:\n",
    "            d[prefixSum] = d[prefixSum] + 1\n",
    "            \n",
    "    return cnt\n",
    "nums = [1,1,1]\n",
    "k = 2\n",
    "print(subarraySum(nums,k))"
   ]
  },
  {
   "cell_type": "markdown",
   "metadata": {},
   "source": [
    "<h2>Hard</h2>"
   ]
  },
  {
   "cell_type": "markdown",
   "metadata": {},
   "source": [
    "<h3>1. Pascal's triangle</h3>\n",
    "<a href=\"https://leetcode.com/problems/pascals-triangle/\">Problem Link</a>\n",
    "<p>Manually store the first element in the first row. Then we run a loop from 1 to row number. Then we use the formula of nCr (n=5, r=2 : nCr = 5x4/1x2) by this we get the row for each row number.<br><br>\n",
    "Time complexity: O(N^2)<br>\n",
    "Space complexity: O(1)</p>"
   ]
  },
  {
   "cell_type": "code",
   "execution_count": 39,
   "metadata": {},
   "outputs": [
    {
     "name": "stdout",
     "output_type": "stream",
     "text": [
      "[[1], [1, 1], [1, 2, 1], [1, 3, 3, 1], [1, 4, 6, 4, 1]]\n"
     ]
    }
   ],
   "source": [
    "numRows = 5\n",
    "anss = []\n",
    "for row in range(1,numRows+1):\n",
    "    ans = 1\n",
    "    ansRow = [1]\n",
    "    for col in range(1,row):\n",
    "        ans *= (row-col)\n",
    "        ans //= col\n",
    "        ansRow.append(ans)\n",
    "    anss.append(ansRow)\n",
    "print(anss)"
   ]
  },
  {
   "cell_type": "code",
   "execution_count": 40,
   "metadata": {},
   "outputs": [
    {
     "name": "stdout",
     "output_type": "stream",
     "text": [
      "[[1], [1, 1], [1, 2, 1], [1, 3, 3, 1], [1, 4, 6, 4, 1]]\n"
     ]
    }
   ],
   "source": [
    "#neetcode\n",
    "numRows = 5\n",
    "ans = [[1]]\n",
    "for i in range(numRows-1):\n",
    "    temp = [0] + ans[-1] + [0] \n",
    "    row = []\n",
    "    for j in range(len(ans[-1]) + 1):\n",
    "        row.append(temp[j]+temp[j+1])\n",
    "    ans.append(row)\n",
    "print(ans)"
   ]
  },
  {
   "cell_type": "markdown",
   "metadata": {},
   "source": [
    "<h3>2. Majority element (>n/3)</h3>\n",
    "<a href=\"https://leetcode.com/problems/majority-element-ii/\">Problem Link</a>\n",
    "<p>Use Moore’s voting algorithm. Refer majority element >n/2. Replicate the same for 3 with that small change<br><br>\n",
    "Time complexity: O(N)<br>\n",
    "Space complexity: O(1)</p>"
   ]
  },
  {
   "cell_type": "code",
   "execution_count": 41,
   "metadata": {},
   "outputs": [
    {
     "name": "stdout",
     "output_type": "stream",
     "text": [
      "[3]\n"
     ]
    }
   ],
   "source": [
    "def majorityElement(nums):\n",
    "    n = len(nums)\n",
    "    cnt1, cnt2 = 0, 0 # counts\n",
    "    el1, el2 = float('-inf'), float('-inf')\n",
    "    for i in range(n):\n",
    "        if cnt1 == 0 and nums[i] != el2:\n",
    "            cnt1 = 1\n",
    "            el1 = nums[i]\n",
    "        elif cnt2 == 0 and nums[i] != el1:\n",
    "            cnt2 = 1\n",
    "            el2 = nums[i]\n",
    "        elif nums[i] == el1:\n",
    "            cnt1 += 1\n",
    "        elif nums[i] == el2:\n",
    "            cnt2 += 1\n",
    "        else:\n",
    "            cnt1 -= 1\n",
    "            cnt2 -= 1\n",
    "    ls = []\n",
    "    cnt1, cnt2 = 0, 0\n",
    "    for i in range(n):\n",
    "        if nums[i] == el1:\n",
    "            cnt1 += 1\n",
    "        if nums[i] == el2:\n",
    "            cnt2 += 1\n",
    "    mini = int(n/3)+1\n",
    "    if cnt1 >= mini:\n",
    "        ls.append(el1)\n",
    "    if cnt2 >= mini:\n",
    "        ls.append(el2)\n",
    "    return ls \n",
    "nums = [3,2,3]\n",
    "print(majorityElement(nums))\n",
    "    "
   ]
  },
  {
   "cell_type": "markdown",
   "metadata": {},
   "source": [
    "<h3>3. 3 Sum</h3>\n",
    "<a href=\"https://leetcode.com/problems/3sum/description/\">Problem Link</a>\n",
    "<p>First sort the array, 2 pointer concept. i = 0, j = i+1 and k = n-1. i+j+k = 0 without repeating. <br><br>\n",
    "Time complexity: O(N^2)<br>\n",
    "Space complexity: O(1)</p>"
   ]
  },
  {
   "cell_type": "code",
   "execution_count": 42,
   "metadata": {},
   "outputs": [
    {
     "name": "stdout",
     "output_type": "stream",
     "text": [
      "[[-1, -1, 2], [-1, 0, 1]]\n"
     ]
    }
   ],
   "source": [
    "def threeSum(nums):\n",
    "    ans = []\n",
    "    nums.sort()\n",
    "    n = len(nums)\n",
    "    for i in range(n):\n",
    "         # remove duplicates:\n",
    "        if i != 0 and nums[i] == nums[i-1]:\n",
    "            continue\n",
    "        # moving 2 pointers:\n",
    "        j = i + 1\n",
    "        k = n - 1\n",
    "        while j<k:\n",
    "            total_sum = nums[i] + nums[j] + nums[k]\n",
    "            if total_sum < 0:\n",
    "                j += 1\n",
    "            elif total_sum > 0:\n",
    "                k -= 1\n",
    "            else:\n",
    "                temp = [nums[i], nums[j], nums[k]]\n",
    "                ans.append(temp)\n",
    "                j += 1\n",
    "                k -= 1\n",
    "                # skip the duplicates:\n",
    "                while j < k and nums[j] == nums[j-1]:\n",
    "                    j += 1\n",
    "                while j < k and nums[k] == nums[k+1]:\n",
    "                    k -= 1\n",
    "    return ans\n",
    "nums = [-1,0,1,2,-1,-4]\n",
    "print(threeSum(nums))"
   ]
  },
  {
   "cell_type": "markdown",
   "metadata": {},
   "source": [
    "<h3>4. 4 Sum</h3>\n",
    "<a href=\"https://leetcode.com/problems/4sum/description/\">Problem Link</a>\n",
    "<p>Same as 3 sum\n",
    " <br><br>\n",
    "Time complexity: O(N^2)<br>\n",
    "Space complexity: O(1)</p>"
   ]
  },
  {
   "cell_type": "code",
   "execution_count": 43,
   "metadata": {},
   "outputs": [
    {
     "name": "stdout",
     "output_type": "stream",
     "text": [
      "[[-2, -1, 1, 2], [-2, 0, 0, 2], [-1, 0, 0, 1]]\n"
     ]
    }
   ],
   "source": [
    "def fourSum(nums, target):\n",
    "    n = len(nums) # size of the array\n",
    "    ans = []\n",
    "\n",
    "    # sort the given array:\n",
    "    nums.sort()\n",
    "\n",
    "    # calculating the quadruplets:\n",
    "    for i in range(n):\n",
    "        # avoid the duplicates while moving i:\n",
    "        if i > 0 and nums[i] == nums[i - 1]:\n",
    "            continue\n",
    "        for j in range(i + 1, n):\n",
    "            # avoid the duplicates while moving j:\n",
    "            if j > i + 1 and nums[j] == nums[j - 1]:\n",
    "                continue\n",
    "\n",
    "            # 2 pointers:\n",
    "            k = j + 1\n",
    "            l = n - 1\n",
    "            while k < l:\n",
    "                _sum = nums[i] + nums[j] + nums[k] + nums[l]\n",
    "                if _sum == target:\n",
    "                    temp = [nums[i], nums[j], nums[k], nums[l]]\n",
    "                    ans.append(temp)\n",
    "                    k += 1\n",
    "                    l -= 1\n",
    "\n",
    "                    # skip the duplicates:\n",
    "                    while k < l and nums[k] == nums[k - 1]:\n",
    "                        k += 1\n",
    "                    while k < l and nums[l] == nums[l + 1]:\n",
    "                        l -= 1\n",
    "                elif _sum < target:\n",
    "                    k += 1\n",
    "                else:\n",
    "                    l -= 1\n",
    "\n",
    "    return ans\n",
    "nums = [1,0,-1,0,-2,2]\n",
    "target = 0\n",
    "print(fourSum(nums,target))"
   ]
  },
  {
   "cell_type": "markdown",
   "metadata": {},
   "source": [
    "<h3>5. Largest subarray with 0 sum</h3>\n",
    "<a href=\"https://www.geeksforgeeks.org/problems/largest-subarray-with-0-sum/1?category%5B%5D=Hash&company%5B%5D=Amazon&page=1&query=category%5B%5DHashcompany%5B%5DAmazonpage1company%5B%5DAmazoncategory%5B%5DHash&utm_source=youtube&utm_medium=collab_striver_ytdescription&utm_campaign=largest-subarray-with-0-sum\">Problem Link</a>\n",
    "<p>Take prefix sum and store it in a hashmap with index. If there exists a same prefix sum in the hashmap, len = i - index of that prefix sum.\n",
    " <br><br>\n",
    "Time complexity: O(N)<br>\n",
    "Space complexity: O(N)</p>"
   ]
  },
  {
   "cell_type": "code",
   "execution_count": 44,
   "metadata": {},
   "outputs": [
    {
     "name": "stdout",
     "output_type": "stream",
     "text": [
      "3\n"
     ]
    }
   ],
   "source": [
    "def maxLen(A, n) -> int:\n",
    "    mpp = {}\n",
    "    maxi = 0\n",
    "    sum = 0\n",
    "    for i in range(n):\n",
    "        sum += A[i]\n",
    "        if sum == 0:\n",
    "            maxi = i + 1\n",
    "        else:\n",
    "            if sum in mpp:\n",
    "                maxi = max(maxi, i - mpp[sum])\n",
    "            else:\n",
    "                mpp[sum] = i\n",
    "    return maxi\n",
    "nums = [-1,0,1,2,-1,-4]\n",
    "n = 6\n",
    "print(maxLen(nums, n))"
   ]
  },
  {
   "cell_type": "markdown",
   "metadata": {},
   "source": [
    "<h3>6. Count number of subarrays with given xor k</h3>\n",
    "<a href=\"https://www.interviewbit.com/problems/subarray-with-given-xor/\">Problem Link</a>\n",
    "<p>Store prefix xor, find something before that has the xor’s with k to give the current prefix xor. Check comments<br><br>\n",
    "Time complexity: O(N)<br>\n",
    "Space complexity: O(1)</p>"
   ]
  },
  {
   "cell_type": "code",
   "execution_count": 45,
   "metadata": {},
   "outputs": [
    {
     "name": "stdout",
     "output_type": "stream",
     "text": [
      "4\n"
     ]
    }
   ],
   "source": [
    "def solve(A, B):\n",
    "    h={}\n",
    "    count=0\n",
    "    xor=0\n",
    "    for i in range(len(A)):\n",
    "        xor^=A[i]\n",
    "        if xor==B:\n",
    "            count+=1\n",
    "        if xor^B in h:\n",
    "            count+=h[xor^B]\n",
    "        if xor in h:\n",
    "            h[xor]+=1\n",
    "        else:\n",
    "            h[xor]=1\n",
    "\n",
    "    return count \n",
    "A = [4, 2, 2, 6, 4]\n",
    "B = 6\n",
    "print(solve(A,B))\n",
    "\n",
    "# Example Walkthrough (For A = [4, 2, 2, 6, 4] and B = 6):\n",
    "# Initial state: h = {}, count = 0, xor = 0\n",
    "# For i = 0 (A[0] = 4):\n",
    "# xor = 0 ^ 4 = 4\n",
    "# xor != B (6), no matches found in h, so update h = {4: 1}\n",
    "# For i = 1 (A[1] = 2):\n",
    "# xor = 4 ^ 2 = 6\n",
    "# xor == B, so increment count → count = 1\n",
    "# No xor^B in h, so update h = {4: 1, 6: 1}\n",
    "# For i = 2 (A[2] = 2):\n",
    "# xor = 6 ^ 2 = 4\n",
    "# xor != B, but xor^B = 4^6 = 2 exists in h, so increment count by h[2] → count = 2\n",
    "# Update h = {4: 2, 6: 1}\n",
    "# For i = 3 (A[3] = 6):\n",
    "# xor = 4 ^ 6 = 0\n",
    "# xor != B, no xor^B in h, so update h = {4: 2, 6: 1, 0: 1}\n",
    "# For i = 4 (A[4] = 4):\n",
    "# xor = 0 ^ 4 = 4\n",
    "# xor != B, but xor^B = 4^6 = 2 exists in h, so increment count by h[2] → count = 4\n",
    "# Update h = {4: 3, 6: 1, 0: 1}\n",
    "# Finally, the function returns 4, meaning there are 4 subarrays whose XOR equals 6."
   ]
  },
  {
   "cell_type": "markdown",
   "metadata": {},
   "source": [
    "<h3>7. Merge intervals</h3>\n",
    "<a href=\"https://leetcode.com/problems/merge-intervals/description/\">Problem Link</a>\n",
    "<p>Take an ans array. Check if the current interval isn’t in ans and check if the start of the current interval is greater than the end of the last interval in the answer. If yes then append the interval. If not the ending interval will be the max of the ending interval of the current element and the max of the ending interval in the ans<br><br>\n",
    "Time complexity: O(N)<br>\n",
    "Space complexity: O(N)</p>"
   ]
  },
  {
   "cell_type": "code",
   "execution_count": 46,
   "metadata": {},
   "outputs": [
    {
     "name": "stdout",
     "output_type": "stream",
     "text": [
      "[[1, 6], [8, 10], [15, 18]]\n"
     ]
    }
   ],
   "source": [
    "def merge(intervals):\n",
    "    n = len(intervals)\n",
    "    intervals.sort()\n",
    "    ans = []\n",
    "\n",
    "    for i in range(n):\n",
    "        if not ans or intervals[i][0] > ans[-1][1]:\n",
    "            ans.append(intervals[i])\n",
    "\n",
    "        else:\n",
    "            ans[-1][1] = max(intervals[i][1], ans[-1][1])\n",
    "    return ans\n",
    "\n",
    "intervals = [[1,3],[2,6],[8,10],[15,18]]\n",
    "print(merge(intervals))"
   ]
  },
  {
   "cell_type": "markdown",
   "metadata": {},
   "source": [
    "<h3>8. Merge sorted arrays without extra space</h3>\n",
    "<a href=\"https://leetcode.com/problems/merge-sorted-array/\">Problem Link</a>\n",
    "<p>Compare the 2 arrays in opposite directions and swap the smaller element to the first array<br><br>\n",
    "Time complexity: O(min(M,N))<br>\n",
    "Space complexity: O(1)</p>"
   ]
  },
  {
   "cell_type": "code",
   "execution_count": 47,
   "metadata": {},
   "outputs": [
    {
     "name": "stdout",
     "output_type": "stream",
     "text": [
      "[1, 2, 2, 3, 5, 6]\n"
     ]
    }
   ],
   "source": [
    "def merge(nums1, m, nums2, n):\n",
    "    \"\"\"\n",
    "    Do not return anything, modify nums1 in-place instead.\n",
    "    \"\"\"\n",
    "    left = m-1\n",
    "    right = 0\n",
    "    \n",
    "    #remove 0s\n",
    "    for num in nums1:\n",
    "        if num == 0:\n",
    "            nums1.remove(num)\n",
    "\n",
    "\n",
    "    while left >= 0 and right < n:\n",
    "        if nums1[left] > nums2[right]:\n",
    "            nums1[left],nums2[right] = nums2[right],nums1[left]\n",
    "            left -= 1\n",
    "            right += 1\n",
    "        else:\n",
    "            break\n",
    "    \n",
    "    nums1.sort()\n",
    "    nums2.sort()\n",
    "\n",
    "    for j in range(n):\n",
    "        nums1.append(nums2[j])\n",
    "        \n",
    "        \n",
    "    #remove 0s\n",
    "    for num in nums1:\n",
    "        if num == 0:\n",
    "            nums1.remove(num)\n",
    "    return nums1\n",
    "nums1 = [1,2,3,0,0,0]\n",
    "m = 3\n",
    "nums2 = [2,5,6]\n",
    "n = 3\n",
    "print(merge(nums1,m,nums2,n))"
   ]
  },
  {
   "cell_type": "code",
   "execution_count": 48,
   "metadata": {},
   "outputs": [
    {
     "name": "stdout",
     "output_type": "stream",
     "text": [
      "[1, 2, 2, 3, 5, 6]\n"
     ]
    }
   ],
   "source": [
    "def merge(nums1, m, nums2, n):\n",
    "    \"\"\"\n",
    "    Do not return anything, modify nums1 in-place instead.\n",
    "    \"\"\"\n",
    "    nums1[m:] = nums2\n",
    "    nums1.sort()\n",
    "    return nums1\n",
    "nums1 = [1,2,3,0,0,0]\n",
    "m = 3\n",
    "nums2 = [2,5,6]\n",
    "n = 3\n",
    "print(merge(nums1,m,nums2,n))"
   ]
  },
  {
   "cell_type": "markdown",
   "metadata": {},
   "source": [
    "<h3>9. Find the repeating and missing number</h3>\n",
    "<a href=\"https://www.geeksforgeeks.org/problems/find-missing-and-repeating2512/1?utm_source=youtube&utm_medium=collab_striver_ytdescription&utm_campaign=find-missing-and-repeating\">Problem Link</a>\n",
    "<p>Basically algebra. Get sum of the array and sum of squares of array. Get the sum to n and sum of squares till n. \n",
    "x will be the repeating number and y will be the missing number.<br><br>\n",
    "Time complexity: O(N)<br>\n",
    "Space complexity: O(1)</p>"
   ]
  },
  {
   "cell_type": "markdown",
   "metadata": {},
   "source": [
    "![p1](imgs/alg.webp)"
   ]
  },
  {
   "cell_type": "code",
   "execution_count": 49,
   "metadata": {},
   "outputs": [
    {
     "name": "stdout",
     "output_type": "stream",
     "text": [
      "[1, 5]\n"
     ]
    }
   ],
   "source": [
    "\n",
    "def findMissingRepeatingNumbers(a):\n",
    "    n = len(a)  # size of the array\n",
    "\n",
    "    # Find Sn and S2n:\n",
    "    SN = (n * (n + 1)) // 2\n",
    "    S2N = (n * (n + 1) * (2 * n + 1)) // 6\n",
    "\n",
    "    # Calculate S and S2:\n",
    "    S, S2 = 0, 0\n",
    "    for i in range(n):\n",
    "        S += a[i]\n",
    "        S2 += a[i] * a[i]\n",
    "\n",
    "    # S-Sn = X-Y:\n",
    "    val1 = S - SN\n",
    "\n",
    "    # S2-S2n = X^2-Y^2:\n",
    "    val2 = S2 - S2N\n",
    "\n",
    "    # Find X+Y = (X^2-Y^2)/(X-Y):\n",
    "    val2 = val2 // val1\n",
    "\n",
    "    # Find X and Y: X = ((X+Y)+(X-Y))/2 and Y = X-(X-Y),\n",
    "    # Here, X-Y = val1 and X+Y = val2:\n",
    "    A = (val1 + val2) // 2\n",
    "    B = A - val1\n",
    "\n",
    "    return [A, B]\n",
    "arr = [4, 3, 6, 2, 1, 1]\n",
    "print(findMissingRepeatingNumbers(arr))\n"
   ]
  },
  {
   "cell_type": "markdown",
   "metadata": {},
   "source": [
    "<h3>10. Count inversions</h3>\n",
    "<a href=\"https://www.geeksforgeeks.org/problems/inversion-of-array-1587115620/1?utm_source=youtube&utm_medium=collab_striver_ytdescription&utm_campaign=inversion-of-array\">Problem Link</a>\n",
    "<p>Make modifications in the merge sort where you get the count of the inversions. count = mid-left+1. and then you add count for every time you merge. Refer comments.<br><br>\n",
    "Time complexity: O(N)<br>\n",
    "Space complexity: O(1)</p>"
   ]
  },
  {
   "cell_type": "code",
   "execution_count": 50,
   "metadata": {},
   "outputs": [
    {
     "name": "stdout",
     "output_type": "stream",
     "text": [
      "3\n"
     ]
    }
   ],
   "source": [
    "import math\n",
    "def merge(arr, low, mid, high):\n",
    "    temp = []   # temporary array\n",
    "    left = low  # starting index of left half of arr\n",
    "    right = mid + 1 # starting index of right half of arr\n",
    "\n",
    "    cnt = 0     # Modification 1: cnt variable to count the pairs\n",
    "\n",
    "    # storing elements in the temporary array in a sorted manner\n",
    "    while (left <= mid and right <= high):\n",
    "        if (arr[left] <= arr[right]):\n",
    "            temp.append(arr[left])\n",
    "            left += 1\n",
    "        else:\n",
    "            temp.append(arr[right])\n",
    "            cnt += (mid - left + 1)  # Modification 2\n",
    "            right += 1\n",
    "\n",
    "    # if elements on the left half are still left\n",
    "    while (left <= mid):\n",
    "        temp.append(arr[left])\n",
    "        left += 1\n",
    "\n",
    "    # if elements on the right half are still left\n",
    "    while (right <= high):\n",
    "        temp.append(arr[right])\n",
    "        right += 1\n",
    "\n",
    "    # transfering all elements from temporary to arr\n",
    "    for i in range(low, high + 1):\n",
    "        arr[i] = temp[i - low]\n",
    "\n",
    "    return cnt   # Modification 3\n",
    "\n",
    "def mergeSort(arr, low, high):\n",
    "    cnt = 0\n",
    "    if low >= high:\n",
    "        return cnt\n",
    "    mid = math.floor((low + high) / 2)\n",
    "    cnt += mergeSort(arr, low, mid)    # left half\n",
    "    cnt += mergeSort(arr, mid + 1, high)  # right half\n",
    "    cnt += merge(arr, low, mid, high)  # merging sorted halves\n",
    "    return cnt\n",
    "\n",
    "def numberOfInversions(a):\n",
    "    # Count the number of pairs:\n",
    "    n = len(a)\n",
    "    # Count the number of pairs:\n",
    "    return mergeSort(a, 0, n - 1)\n",
    "\n",
    "arr = [2, 4, 1, 3, 5]\n",
    "print(numberOfInversions(arr))"
   ]
  },
  {
   "cell_type": "markdown",
   "metadata": {},
   "source": [
    "<h3>11. Reverse pairs</h3>\n",
    "<a href=\"https://leetcode.com/problems/reverse-pairs/\">Problem Link</a>\n",
    "<p>Same like count inversions, only logic change is that we check if arr[i] > arr[right] * 2.<br><br>\n",
    "Time complexity: O(2N*logN)<br>\n",
    "Space complexity: O(N)</p>"
   ]
  },
  {
   "cell_type": "code",
   "execution_count": 51,
   "metadata": {},
   "outputs": [
    {
     "name": "stdout",
     "output_type": "stream",
     "text": [
      "2\n"
     ]
    }
   ],
   "source": [
    "def merge(arr, low, mid, high):\n",
    "    \n",
    "        temp = []  # temporary array\n",
    "        left = low  # starting index of left half of arr\n",
    "        right = mid + 1  # starting index of right half of arr\n",
    "\n",
    "        # storing elements in the temporary array in a sorted manner\n",
    "        while left <= mid and right <= high:\n",
    "            if arr[left] <= arr[right]:\n",
    "                temp.append(arr[left])\n",
    "                left += 1\n",
    "            else:\n",
    "                temp.append(arr[right])\n",
    "                right += 1\n",
    "\n",
    "        # if elements on the left half are still left\n",
    "        while left <= mid:\n",
    "            temp.append(arr[left])\n",
    "            left += 1\n",
    "\n",
    "        # if elements on the right half are still left\n",
    "        while right <= high:\n",
    "            temp.append(arr[right])\n",
    "            right += 1\n",
    "\n",
    "        # transferring all elements from temporary to arr\n",
    "        for i in range(low, high + 1):\n",
    "            arr[i] = temp[i - low]\n",
    "\n",
    "def countPairs(arr, low, mid, high):\n",
    "    right = mid + 1\n",
    "    cnt = 0\n",
    "    for i in range(low, mid + 1):\n",
    "        while right <= high and arr[i] > 2 * arr[right]:\n",
    "            right += 1\n",
    "        cnt += (right - (mid + 1))\n",
    "    return cnt\n",
    "\n",
    "def mergeSort(arr, low, high):\n",
    "    cnt = 0\n",
    "    if low >= high:\n",
    "        return cnt\n",
    "    mid = (low + high) // 2\n",
    "    cnt += mergeSort(arr, low, mid)  # left half\n",
    "    cnt += mergeSort(arr, mid + 1, high)  # right half\n",
    "    cnt += countPairs(arr, low, mid, high)  # Modification\n",
    "    merge(arr, low, mid, high)  # merging sorted halves\n",
    "    return cnt\n",
    "def reversePairs(nums):\n",
    "    return mergeSort(nums, 0, len(nums)-1)\n",
    "\n",
    "nums = [1,3,2,3,1]\n",
    "print(reversePairs(nums))"
   ]
  },
  {
   "cell_type": "markdown",
   "metadata": {},
   "source": [
    "<h3>12. Maximum product subarray</h3>\n",
    "<a href=\"https://leetcode.com/problems/maximum-product-subarray/description/\">Problem Link</a>\n",
    "<p>It’s either max of prefix or suffix throughout the loop. Just reset pre and suf to 1 if it becomes 0.<br><br>\n",
    "Time complexity: O(N)<br>\n",
    "Space complexity: O(1)</p>"
   ]
  },
  {
   "cell_type": "code",
   "execution_count": 52,
   "metadata": {},
   "outputs": [
    {
     "name": "stdout",
     "output_type": "stream",
     "text": [
      "6\n"
     ]
    }
   ],
   "source": [
    "def maxProduct(nums):\n",
    "    n = len(nums)\n",
    "    pre = 1\n",
    "    suf = 1\n",
    "    ans = float('-inf')\n",
    "    for i in range(n):\n",
    "        if pre == 0:\n",
    "            pre = 1\n",
    "        if suf == 0:\n",
    "            suf = 1\n",
    "        pre *= nums[i]\n",
    "        suf *= nums[n-i-1]\n",
    "        ans = max(ans, max(pre,suf))\n",
    "    return ans\n",
    "nums = [2,3,-2,4]\n",
    "print(maxProduct(nums))"
   ]
  }
 ],
 "metadata": {
  "kernelspec": {
   "display_name": "Python 3",
   "language": "python",
   "name": "python3"
  },
  "language_info": {
   "codemirror_mode": {
    "name": "ipython",
    "version": 3
   },
   "file_extension": ".py",
   "mimetype": "text/x-python",
   "name": "python",
   "nbconvert_exporter": "python",
   "pygments_lexer": "ipython3",
   "version": "3.12.4"
  }
 },
 "nbformat": 4,
 "nbformat_minor": 2
}
